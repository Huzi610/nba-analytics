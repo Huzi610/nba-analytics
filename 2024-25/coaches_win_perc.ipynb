{
 "cells": [
  {
   "cell_type": "code",
   "execution_count": 8,
   "id": "initial_id",
   "metadata": {
    "collapsed": true,
    "ExecuteTime": {
     "end_time": "2025-04-09T15:29:38.429176Z",
     "start_time": "2025-04-09T15:29:38.418598Z"
    }
   },
   "outputs": [],
   "source": [
    "import requests\n",
    "from bs4 import BeautifulSoup, Comment\n",
    "import pandas as pd\n",
    "from tqdm import tqdm\n",
    "import time"
   ]
  },
  {
   "cell_type": "code",
   "execution_count": 28,
   "outputs": [],
   "source": [
    "def get_table_from_comments(soup, table_id):\n",
    "    \"\"\"\n",
    "    Basketball-Reference often encloses tables within comments.\n",
    "    This function looks for the table by checking within comments.\n",
    "    \"\"\"\n",
    "    comments = soup.find_all(string=lambda text: isinstance(text, Comment))\n",
    "    for comment in comments:\n",
    "        comment_soup = BeautifulSoup(comment, \"html.parser\")\n",
    "        table = comment_soup.find(\"table\", id=table_id)\n",
    "        if table:\n",
    "            return table\n",
    "    return None\n",
    "\n",
    "def get_coaches_index(index_url):\n",
    "    \"\"\"\n",
    "    Download the coaches index page and extract the coaches table.\n",
    "    \"\"\"\n",
    "    response = requests.get(index_url)\n",
    "    soup = BeautifulSoup(response.content, \"html.parser\")\n",
    "    \n",
    "    # Try to directly find the table\n",
    "    table = soup.find(\"table\", id=\"coaches\")\n",
    "    if not table:\n",
    "        # If not found, look inside comments.\n",
    "        table = get_table_from_comments(soup, \"NBA_stats\")\n",
    "    \n",
    "    if table:\n",
    "        df = pd.read_html(str(table), header=1)[0]  # Ensures first row is header\n",
    "        return df, soup\n",
    "    else:\n",
    "        raise ValueError(\"Could not find the coaches table.\")\n",
    "\n",
    "def get_coach_season_data(coach_url, coach_name):\n",
    "    \"\"\"\n",
    "    For a given coach URL, scrape and extract season-by-season data.\n",
    "    \"\"\"\n",
    "    response = requests.get(coach_url)\n",
    "    soup = BeautifulSoup(response.content, \"html.parser\")\n",
    "    # The season data might be in a table with an id like \"coaches\" or \"season\"\n",
    "    # Check direct presence first\n",
    "    table = soup.find(\"table\", id=\"coach-stats\")\n",
    "    if not table:\n",
    "        table = get_table_from_comments(soup, \"coaches\")\n",
    "    \n",
    "    if table:\n",
    "        df = pd.read_html(str(table), header=1)[0]\n",
    "        df['Coach'] = coach_name\n",
    "        # Assume that the season column is named \"Season\" and win percentage as \"W/L%\" (or similar)\n",
    "        if \"Season\" in df.columns and (\"W/L%\" in df.columns or \"Win%\" in df.columns):\n",
    "            return df\n",
    "        else:\n",
    "            return df  # you can further process if needed\n",
    "    else:\n",
    "        return None"
   ],
   "metadata": {
    "collapsed": false,
    "ExecuteTime": {
     "end_time": "2025-04-09T16:04:28.867079Z",
     "start_time": "2025-04-09T16:04:28.860802Z"
    }
   },
   "id": "b20efb245d52368a"
  },
  {
   "cell_type": "code",
   "execution_count": 18,
   "outputs": [
    {
     "name": "stdout",
     "output_type": "stream",
     "text": [
      "Coaches Index Sample:\n"
     ]
    }
   ],
   "source": [
    "# Main script:\n",
    "index_url = \"https://www.basketball-reference.com/coaches/NBA_stats.html\"\n",
    "coaches_df, index_soup = get_coaches_index(index_url)    "
   ],
   "metadata": {
    "collapsed": false,
    "ExecuteTime": {
     "end_time": "2025-04-09T15:55:21.696164Z",
     "start_time": "2025-04-09T15:55:21.333778Z"
    }
   },
   "id": "82643725102936c5"
  },
  {
   "cell_type": "code",
   "execution_count": 19,
   "outputs": [
    {
     "data": {
      "text/plain": "      Rk            Coach  From    To Yrs     G     W    L  W/L% W > .500  \\\n0      1    Rick Adelman*  1989  2014  23  1791  1042  749  .582    146.5   \n1      2   Richie Adubato  1980  1997   6   367   127  240  .346    -56.5   \n2      3      Danny Ainge  1997  2000   4   226   136   90  .602     23.0   \n3      4      Stan Albeck  1980  1986   7   574   307  267  .535     20.0   \n4      5  Curly Armstrong  1949  1949   1    54    22   32  .407     -5.0   \n..   ...              ...   ...   ...  ..   ...   ...  ...   ...      ...   \n384  351    Randy Wittman  2000  2016  10   684   278  406  .406    -64.0   \n385  352        Dave Wohl  1986  1988   3   179    65  114  .363    -24.5   \n386  353     Charles Wolf  1961  1965   5   330   143  187  .433    -22.0   \n387  354     Mike Woodson  2005  2014   9   680   315  365  .463    -25.0   \n388  355      Draff Young  1974  1974   1     4     0    4  .000     -2.0   \n\n     G.1  W.1  L.1 W/L%.1 Conf Champ  \n0    157   79   78   .503    2     0  \n1      8    2    6   .250    0     0  \n2     12    3    9   .250    0     0  \n3     44   18   26   .409    0     0  \n4    NaN  NaN  NaN    NaN    0     0  \n..   ...  ...  ...    ...  ...   ...  \n384   21   12    9   .571    0     0  \n385    3    0    3   .000    0     0  \n386   16    7    9   .438    0     0  \n387   46   18   28   .391    0     0  \n388  NaN  NaN  NaN    NaN    0     0  \n\n[389 rows x 16 columns]",
      "text/html": "<div>\n<style scoped>\n    .dataframe tbody tr th:only-of-type {\n        vertical-align: middle;\n    }\n\n    .dataframe tbody tr th {\n        vertical-align: top;\n    }\n\n    .dataframe thead th {\n        text-align: right;\n    }\n</style>\n<table border=\"1\" class=\"dataframe\">\n  <thead>\n    <tr style=\"text-align: right;\">\n      <th></th>\n      <th>Rk</th>\n      <th>Coach</th>\n      <th>From</th>\n      <th>To</th>\n      <th>Yrs</th>\n      <th>G</th>\n      <th>W</th>\n      <th>L</th>\n      <th>W/L%</th>\n      <th>W &gt; .500</th>\n      <th>G.1</th>\n      <th>W.1</th>\n      <th>L.1</th>\n      <th>W/L%.1</th>\n      <th>Conf</th>\n      <th>Champ</th>\n    </tr>\n  </thead>\n  <tbody>\n    <tr>\n      <th>0</th>\n      <td>1</td>\n      <td>Rick Adelman*</td>\n      <td>1989</td>\n      <td>2014</td>\n      <td>23</td>\n      <td>1791</td>\n      <td>1042</td>\n      <td>749</td>\n      <td>.582</td>\n      <td>146.5</td>\n      <td>157</td>\n      <td>79</td>\n      <td>78</td>\n      <td>.503</td>\n      <td>2</td>\n      <td>0</td>\n    </tr>\n    <tr>\n      <th>1</th>\n      <td>2</td>\n      <td>Richie Adubato</td>\n      <td>1980</td>\n      <td>1997</td>\n      <td>6</td>\n      <td>367</td>\n      <td>127</td>\n      <td>240</td>\n      <td>.346</td>\n      <td>-56.5</td>\n      <td>8</td>\n      <td>2</td>\n      <td>6</td>\n      <td>.250</td>\n      <td>0</td>\n      <td>0</td>\n    </tr>\n    <tr>\n      <th>2</th>\n      <td>3</td>\n      <td>Danny Ainge</td>\n      <td>1997</td>\n      <td>2000</td>\n      <td>4</td>\n      <td>226</td>\n      <td>136</td>\n      <td>90</td>\n      <td>.602</td>\n      <td>23.0</td>\n      <td>12</td>\n      <td>3</td>\n      <td>9</td>\n      <td>.250</td>\n      <td>0</td>\n      <td>0</td>\n    </tr>\n    <tr>\n      <th>3</th>\n      <td>4</td>\n      <td>Stan Albeck</td>\n      <td>1980</td>\n      <td>1986</td>\n      <td>7</td>\n      <td>574</td>\n      <td>307</td>\n      <td>267</td>\n      <td>.535</td>\n      <td>20.0</td>\n      <td>44</td>\n      <td>18</td>\n      <td>26</td>\n      <td>.409</td>\n      <td>0</td>\n      <td>0</td>\n    </tr>\n    <tr>\n      <th>4</th>\n      <td>5</td>\n      <td>Curly Armstrong</td>\n      <td>1949</td>\n      <td>1949</td>\n      <td>1</td>\n      <td>54</td>\n      <td>22</td>\n      <td>32</td>\n      <td>.407</td>\n      <td>-5.0</td>\n      <td>NaN</td>\n      <td>NaN</td>\n      <td>NaN</td>\n      <td>NaN</td>\n      <td>0</td>\n      <td>0</td>\n    </tr>\n    <tr>\n      <th>...</th>\n      <td>...</td>\n      <td>...</td>\n      <td>...</td>\n      <td>...</td>\n      <td>...</td>\n      <td>...</td>\n      <td>...</td>\n      <td>...</td>\n      <td>...</td>\n      <td>...</td>\n      <td>...</td>\n      <td>...</td>\n      <td>...</td>\n      <td>...</td>\n      <td>...</td>\n      <td>...</td>\n    </tr>\n    <tr>\n      <th>384</th>\n      <td>351</td>\n      <td>Randy Wittman</td>\n      <td>2000</td>\n      <td>2016</td>\n      <td>10</td>\n      <td>684</td>\n      <td>278</td>\n      <td>406</td>\n      <td>.406</td>\n      <td>-64.0</td>\n      <td>21</td>\n      <td>12</td>\n      <td>9</td>\n      <td>.571</td>\n      <td>0</td>\n      <td>0</td>\n    </tr>\n    <tr>\n      <th>385</th>\n      <td>352</td>\n      <td>Dave Wohl</td>\n      <td>1986</td>\n      <td>1988</td>\n      <td>3</td>\n      <td>179</td>\n      <td>65</td>\n      <td>114</td>\n      <td>.363</td>\n      <td>-24.5</td>\n      <td>3</td>\n      <td>0</td>\n      <td>3</td>\n      <td>.000</td>\n      <td>0</td>\n      <td>0</td>\n    </tr>\n    <tr>\n      <th>386</th>\n      <td>353</td>\n      <td>Charles Wolf</td>\n      <td>1961</td>\n      <td>1965</td>\n      <td>5</td>\n      <td>330</td>\n      <td>143</td>\n      <td>187</td>\n      <td>.433</td>\n      <td>-22.0</td>\n      <td>16</td>\n      <td>7</td>\n      <td>9</td>\n      <td>.438</td>\n      <td>0</td>\n      <td>0</td>\n    </tr>\n    <tr>\n      <th>387</th>\n      <td>354</td>\n      <td>Mike Woodson</td>\n      <td>2005</td>\n      <td>2014</td>\n      <td>9</td>\n      <td>680</td>\n      <td>315</td>\n      <td>365</td>\n      <td>.463</td>\n      <td>-25.0</td>\n      <td>46</td>\n      <td>18</td>\n      <td>28</td>\n      <td>.391</td>\n      <td>0</td>\n      <td>0</td>\n    </tr>\n    <tr>\n      <th>388</th>\n      <td>355</td>\n      <td>Draff Young</td>\n      <td>1974</td>\n      <td>1974</td>\n      <td>1</td>\n      <td>4</td>\n      <td>0</td>\n      <td>4</td>\n      <td>.000</td>\n      <td>-2.0</td>\n      <td>NaN</td>\n      <td>NaN</td>\n      <td>NaN</td>\n      <td>NaN</td>\n      <td>0</td>\n      <td>0</td>\n    </tr>\n  </tbody>\n</table>\n<p>389 rows × 16 columns</p>\n</div>"
     },
     "execution_count": 19,
     "metadata": {},
     "output_type": "execute_result"
    }
   ],
   "source": [
    "coaches_df"
   ],
   "metadata": {
    "collapsed": false,
    "ExecuteTime": {
     "end_time": "2025-04-09T15:55:23.261346Z",
     "start_time": "2025-04-09T15:55:23.258137Z"
    }
   },
   "id": "e12e5f78a0ba7125"
  },
  {
   "cell_type": "code",
   "execution_count": 44,
   "outputs": [
    {
     "name": "stderr",
     "output_type": "stream",
     "text": [
      "  0%|          | 0/389 [00:00<?, ?it/s]/var/folders/0l/bxmy5l011594gflgwzxxndhr0000gn/T/ipykernel_54106/3999800696.py:8: MarkupResemblesLocatorWarning: The input looks more like a filename than markup. You may want to open this file and pass the filehandle into Beautiful Soup.\n",
      "  comment_soup = BeautifulSoup(comment, \"html.parser\")\n"
     ]
    },
    {
     "name": "stdout",
     "output_type": "stream",
     "text": [
      "No season data found for this coach.\n"
     ]
    },
    {
     "name": "stderr",
     "output_type": "stream",
     "text": [
      "  0%|          | 1/389 [00:03<20:43,  3.21s/it]"
     ]
    },
    {
     "name": "stdout",
     "output_type": "stream",
     "text": [
      "No season data found for this coach.\n"
     ]
    },
    {
     "name": "stderr",
     "output_type": "stream",
     "text": [
      "  0%|          | 1/389 [00:05<35:46,  5.53s/it]\n"
     ]
    },
    {
     "ename": "KeyboardInterrupt",
     "evalue": "",
     "output_type": "error",
     "traceback": [
      "\u001B[0;31m---------------------------------------------------------------------------\u001B[0m",
      "\u001B[0;31mKeyboardInterrupt\u001B[0m                         Traceback (most recent call last)",
      "Cell \u001B[0;32mIn[44], line 32\u001B[0m\n\u001B[1;32m     30\u001B[0m \u001B[38;5;28;01mexcept\u001B[39;00m \u001B[38;5;167;01mException\u001B[39;00m \u001B[38;5;28;01mas\u001B[39;00m e:\n\u001B[1;32m     31\u001B[0m     \u001B[38;5;28mprint\u001B[39m(e, coach_name)\n\u001B[0;32m---> 32\u001B[0m \u001B[43mtime\u001B[49m\u001B[38;5;241;43m.\u001B[39;49m\u001B[43msleep\u001B[49m\u001B[43m(\u001B[49m\u001B[38;5;241;43m3\u001B[39;49m\u001B[43m)\u001B[49m\n",
      "\u001B[0;31mKeyboardInterrupt\u001B[0m: "
     ]
    }
   ],
   "source": [
    "whole_coaches_df = pd.DataFrame()\n",
    "\n",
    "# Loop over some coaches to get season data (for demonstration, limit to the first 5)\n",
    "for idx, row in tqdm(coaches_df.iterrows(), total=len(coaches_df)):\n",
    "    coach_name = row[\"Coach\"]\n",
    "    try: \n",
    "        coach_name = coach_name.replace(\"*\", \"\")\n",
    "        # Locate the coach hyperlink from the index page's soup.\n",
    "        # This assumes the text in the <a> tag exactly matches the coach's name.\n",
    "        link_tag = index_soup.find(\"a\", string=coach_name)\n",
    "        if link_tag and link_tag.get(\"href\"):\n",
    "            coach_url = \"https://www.basketball-reference.com\" + link_tag[\"href\"]\n",
    "            season_df = get_coach_season_data(coach_url, coach_name=coach_name)\n",
    "            if season_df is not None:\n",
    "                whole_coaches_df = pd.concat([whole_coaches_df, season_df], ignore_index=True)\n",
    "\n",
    "                if \"Season\" in season_df.columns and (\"W/L%\" in season_df.columns or \"Win%\" in season_df.columns):\n",
    "                    win_pct_col = \"W/L%\" if \"W/L%\" in season_df.columns else \"Win%\"\n",
    "                else:\n",
    "                    print(\"Expected columns not found in the season table.\")\n",
    "            else:\n",
    "                print(\"No season data found for this coach.\")\n",
    "        else:\n",
    "            print(f\"Link not found for coach: {coach_name}\")\n",
    "    except Exception as e:\n",
    "        print(e, coach_name)\n",
    "    time.sleep(3)"
   ],
   "metadata": {
    "collapsed": false,
    "ExecuteTime": {
     "end_time": "2025-04-09T16:19:54.486487Z",
     "start_time": "2025-04-09T16:19:48.876431Z"
    }
   },
   "id": "a049049ce8dd679a"
  },
  {
   "cell_type": "code",
   "execution_count": 45,
   "outputs": [
    {
     "data": {
      "text/plain": "Empty DataFrame\nColumns: []\nIndex: []",
      "text/html": "<div>\n<style scoped>\n    .dataframe tbody tr th:only-of-type {\n        vertical-align: middle;\n    }\n\n    .dataframe tbody tr th {\n        vertical-align: top;\n    }\n\n    .dataframe thead th {\n        text-align: right;\n    }\n</style>\n<table border=\"1\" class=\"dataframe\">\n  <thead>\n    <tr style=\"text-align: right;\">\n      <th></th>\n    </tr>\n  </thead>\n  <tbody>\n  </tbody>\n</table>\n</div>"
     },
     "execution_count": 45,
     "metadata": {},
     "output_type": "execute_result"
    }
   ],
   "source": [
    "whole_coaches_df"
   ],
   "metadata": {
    "collapsed": false,
    "ExecuteTime": {
     "end_time": "2025-04-09T16:33:03.217907Z",
     "start_time": "2025-04-09T16:33:03.212474Z"
    }
   },
   "id": "4dc7a528ad1e8cea"
  },
  {
   "cell_type": "code",
   "execution_count": null,
   "outputs": [],
   "source": [],
   "metadata": {
    "collapsed": false
   },
   "id": "278045aa9fb4bacb"
  }
 ],
 "metadata": {
  "kernelspec": {
   "display_name": "Python 3",
   "language": "python",
   "name": "python3"
  },
  "language_info": {
   "codemirror_mode": {
    "name": "ipython",
    "version": 2
   },
   "file_extension": ".py",
   "mimetype": "text/x-python",
   "name": "python",
   "nbconvert_exporter": "python",
   "pygments_lexer": "ipython2",
   "version": "2.7.6"
  }
 },
 "nbformat": 4,
 "nbformat_minor": 5
}
