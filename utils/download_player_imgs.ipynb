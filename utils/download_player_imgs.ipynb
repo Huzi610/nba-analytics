{
 "cells": [
  {
   "cell_type": "code",
   "execution_count": 2,
   "id": "472847bc-30bd-4b91-b605-7bfb4ad4b6f7",
   "metadata": {
    "tags": []
   },
   "outputs": [],
   "source": [
    "import numpy as np\n",
    "import matplotlib.pyplot as plt\n",
    "import pandas as pd\n",
    "import seaborn as sns\n",
    "from pathlib import Path\n",
    "\n",
    "from nba_api.stats.endpoints.shotchartdetail import ShotChartDetail\n",
    "import requests\n",
    "from nba_api.stats.static.players import find_players_by_full_name\n",
    "from adjustText import adjust_text\n",
    "from io import BytesIO\n",
    "import time\n",
    "import tqdm\n",
    "\n",
    "from PIL import Image\n",
    "\n",
    "from nba_api.stats.static.players import get_active_players\n",
    "from nba_api.stats.endpoints.leaguedashplayerstats import LeagueDashPlayerStats"
   ]
  },
  {
   "cell_type": "code",
   "execution_count": 3,
   "id": "2d080586-6dfc-4135-a342-b7718b9469c2",
   "metadata": {
    "tags": []
   },
   "outputs": [],
   "source": [
    "player_stats = LeagueDashPlayerStats(season='2023-24')\n",
    "stats_df = player_stats.get_data_frames()[0]"
   ]
  },
  {
   "cell_type": "code",
   "execution_count": 1,
   "id": "40c82ceb-8f57-4102-a7e5-38c1dcc100d0",
   "metadata": {
    "tags": []
   },
   "outputs": [
    {
     "ename": "NameError",
     "evalue": "name 'tqdm' is not defined",
     "output_type": "error",
     "traceback": [
      "\u001b[0;31m---------------------------------------------------------------------------\u001b[0m",
      "\u001b[0;31mNameError\u001b[0m                                 Traceback (most recent call last)",
      "Cell \u001b[0;32mIn[1], line 1\u001b[0m\n\u001b[0;32m----> 1\u001b[0m \u001b[38;5;28;01mfor\u001b[39;00m index \u001b[38;5;129;01min\u001b[39;00m \u001b[43mtqdm\u001b[49m\u001b[38;5;241m.\u001b[39mtqdm(\u001b[38;5;28mrange\u001b[39m(\u001b[38;5;28mlen\u001b[39m(stats_df))):\n\u001b[1;32m      2\u001b[0m     item \u001b[38;5;241m=\u001b[39m stats_df\u001b[38;5;241m.\u001b[39miloc[index]\n\u001b[1;32m      3\u001b[0m     team_id \u001b[38;5;241m=\u001b[39m item\u001b[38;5;241m.\u001b[39mTEAM_ID\n",
      "\u001b[0;31mNameError\u001b[0m: name 'tqdm' is not defined"
     ]
    }
   ],
   "source": [
    "for index in tqdm.tqdm(range(len(stats_df))):\n",
    "    item = stats_df.iloc[index]\n",
    "    team_id = item.TEAM_ID\n",
    "    player_id = item.PLAYER_ID\n",
    "    \n",
    "    path = Path(f'player_imgs/{player_id}.png').absolute()\n",
    "    #print(f\"Working on {player_id}\")\n",
    "    if path.exists():\n",
    "        continue\n",
    "    #img = Image.open(str(path))\n",
    "    #if img.size[0] < 400:\n",
    "    #    continue\n",
    "    \n",
    "    url = f\"https://cdn.nba.com/headshots/nba/latest/260x190/{player_id}.png\"\n",
    "    response = requests.get(url)\n",
    "    if response.status_code != 200:\n",
    "        url = f\"https://cdn.nba.com/headshots/nba/latest/260x190/{player_id}.png\"\n",
    "        response = requests.get(url)\n",
    "    if response.status_code != 200:\n",
    "        continue\n",
    "    img = Image.open(BytesIO(response.content))\n",
    "    with open(f'player_imgs/{player_id}.png', 'wb') as f:\n",
    "        f.write(response.content)\n",
    "    time.sleep(1)"
   ]
  }
 ],
 "metadata": {
  "kernelspec": {
   "display_name": "Python 3 (ipykernel)",
   "language": "python",
   "name": "python3"
  },
  "language_info": {
   "codemirror_mode": {
    "name": "ipython",
    "version": 3
   },
   "file_extension": ".py",
   "mimetype": "text/x-python",
   "name": "python",
   "nbconvert_exporter": "python",
   "pygments_lexer": "ipython3",
   "version": "3.8.7"
  }
 },
 "nbformat": 4,
 "nbformat_minor": 5
}
