{
 "cells": [
  {
   "cell_type": "code",
   "execution_count": 1,
   "id": "initial_id",
   "metadata": {
    "collapsed": true,
    "ExecuteTime": {
     "end_time": "2025-04-03T14:42:51.335297Z",
     "start_time": "2025-04-03T14:42:51.329685Z"
    }
   },
   "outputs": [],
   "source": [
    "import pandas as pd"
   ]
  },
  {
   "cell_type": "code",
   "execution_count": 62,
   "outputs": [],
   "source": [
    "estimated_wins_df_detailed = pd.read_csv('estimated_wins.csv')\n",
    "salaries_df = pd.read_csv('player_salaries.csv')\n",
    "\n",
    "salaries_24_25 = salaries_df[['Player', '2024-25']]\n",
    "estimated_wins_df = estimated_wins_df_detailed[['player_name', 'ewins']].rename(columns={'player_name': 'Player'})"
   ],
   "metadata": {
    "collapsed": false,
    "ExecuteTime": {
     "end_time": "2025-04-03T15:53:55.295807Z",
     "start_time": "2025-04-03T15:53:55.280941Z"
    }
   },
   "id": "c9f6b7ef7bcac7e7"
  },
  {
   "cell_type": "code",
   "execution_count": 63,
   "outputs": [],
   "source": [
    "combined_df = pd.merge(estimated_wins_df, salaries_24_25, on='Player', how='inner')\n",
    "combined_df['2024-25'] = combined_df['2024-25'].replace({'\\$': '', ',': ''}, regex=True).astype(int)\n",
    "\n",
    "combined_df['production_value'] = combined_df['ewins'] * 3_400_000\n",
    "combined_df['diff'] = combined_df['production_value'] - combined_df['2024-25']"
   ],
   "metadata": {
    "collapsed": false,
    "ExecuteTime": {
     "end_time": "2025-04-03T15:54:04.061752Z",
     "start_time": "2025-04-03T15:54:04.059458Z"
    }
   },
   "id": "c2cc212630ff07fd"
  },
  {
   "cell_type": "code",
   "execution_count": 64,
   "outputs": [],
   "source": [
    "combined_df.sort_values(by=['diff'], ascending=False).to_excel('production_value_difference.xlsx')"
   ],
   "metadata": {
    "collapsed": false,
    "ExecuteTime": {
     "end_time": "2025-04-03T15:54:04.958094Z",
     "start_time": "2025-04-03T15:54:04.926875Z"
    }
   },
   "id": "ceda882f28f13e00"
  },
  {
   "cell_type": "code",
   "execution_count": 66,
   "outputs": [
    {
     "name": "stdout",
     "output_type": "stream",
     "text": [
      "Players missing from salary data:\n",
      "['Collin Gillespie', 'Kai Jones', 'Jaylen Clark', 'Dru Smith', 'Tony Bradley', 'Brandon Williams', 'PJ Hall', 'Justin Champagnie', 'Kevin Knox II', 'Quenton Jackson', 'Killian Hayes', 'Jared Rhoden', 'Drew Timme', 'Monté Morris', 'Cam Spencer', 'Oscar Tshiebwe', 'Alex Reese', 'Drew Peterson', 'Elijah Harkless', 'Dominick Barlow', 'Keion Brooks Jr.', 'A.J. Lawson', 'Jeff Dowtin Jr.', 'Tosan Evbuomwan', 'Brandon Boston Jr.', 'JT Thor', 'Alex Ducas', 'Yuki Kawamura', 'Jordan Goodwin', 'Tyrese Martin', 'Keaton Wallace', 'Kylor Kelley', 'Lamar Stevens', 'Tristan Vukcevic', 'Cole Swider', 'Jazian Gortman', 'Isaiah Wong', 'Isaac Jones', 'TyTy Washington Jr.', 'Micah Potter', 'JD Davison', 'Pete Nance', 'Marcus Garrett', 'Trevelin Queen', 'Kessler Edwards', 'Christian Koloko', 'Oshae Brissett', 'Pat Spencer', 'Colin Castleton', 'Nate Williams', 'Enrique Freeman', 'Jamal Cain', 'Trey Jemison III', 'Adam Flagler', 'Marcus Bagley', 'Spencer Jones', 'Lonnie Walker IV', 'Stanley Umude', 'Liam Robbins', 'Jordan Miller', 'Luke Travers', 'Trey Alexander', 'Damion Baugh', 'Jaylen Martin', 'KJ Simpson', 'Armel Traoré', 'Reece Beekman']\n",
      "\n",
      "Players missing from estimated wins data:\n",
      "['Bojan Bogdanović', 'P.J. Tucker', 'Saddiq Bey', 'Dāvis Bertāns', 'Nikola Topić', 'Jalen McDaniels', 'Cody Zeller', 'Nassir Little', 'DaRon Holmes', 'Christian Wood', 'Dewayne Dedmon', 'Keita Bates-Diop', 'Charlie Brown Jr.', 'James Wiseman', 'JaVale McGee', 'Duane Washington Jr.', 'Monte Morris', 'James Johnson', 'Kennedy Chandler', 'Leonard Miller', 'Eric Bledsoe', 'Bobi Klintman', 'Cam Christie', 'PJ Dozier', 'Joshua Primo', 'E.J. Liddell', 'Nik Stauskas', 'Juwan Morgan', 'Malik Fitts', 'Mamadi Diakite', 'Ricky Rubio', 'Didi Louzada', 'AJ Griffin', 'Malevy Leons', 'Eugene Omoruyi', 'Daishen Nix', 'Jahlil Okafor', 'Javon Freeman-Liberty', 'Erik Stevenson', 'Javante McCoy']\n"
     ]
    }
   ],
   "source": [
    "# Perform outer merge with indicator column\n",
    "merged_df = pd.merge(estimated_wins_df, salaries_24_25, on='Player', how='outer', indicator=True)\n",
    "\n",
    "# Find players missing from salaries_24_25 (present in estimated_wins_df but not in salaries)\n",
    "missing_in_salaries = merged_df[merged_df['_merge'] == 'left_only']['Player']\n",
    "\n",
    "# Find players missing from estimated_wins_df (present in salaries but not in estimated_wins_df)\n",
    "missing_in_wins = merged_df[merged_df['_merge'] == 'right_only']['Player']\n",
    "\n",
    "# Print results\n",
    "print(\"Players missing from salary data:\")\n",
    "print(missing_in_salaries.to_list())\n",
    "\n",
    "print(\"\\nPlayers missing from estimated wins data:\")\n",
    "print(missing_in_wins.to_list())"
   ],
   "metadata": {
    "collapsed": false,
    "ExecuteTime": {
     "end_time": "2025-04-03T15:54:50.915229Z",
     "start_time": "2025-04-03T15:54:50.907921Z"
    }
   },
   "id": "482beb7b44a07966"
  },
  {
   "cell_type": "code",
   "execution_count": 67,
   "outputs": [
    {
     "name": "stdout",
     "output_type": "stream",
     "text": [
      "             Player\n",
      "0  Collin Gillespie\n",
      "1         Kai Jones\n",
      "2      Jaylen Clark\n",
      "3         Dru Smith\n",
      "4      Tony Bradley\n"
     ]
    }
   ],
   "source": [
    "# Combine both lists into one DataFrame\n",
    "missing_players_df = pd.DataFrame({'Player': pd.concat([missing_in_salaries, missing_in_wins]).unique()})\n",
    "\n",
    "# Save to CSV\n",
    "missing_players_df.to_excel('missing_players.xlsx', index=False)\n",
    "\n",
    "# Display the first few rows\n",
    "print(missing_players_df.head())"
   ],
   "metadata": {
    "collapsed": false,
    "ExecuteTime": {
     "end_time": "2025-04-03T15:54:52.605957Z",
     "start_time": "2025-04-03T15:54:52.584382Z"
    }
   },
   "id": "a1d2198ce3ba1452"
  },
  {
   "cell_type": "code",
   "execution_count": null,
   "outputs": [],
   "source": [],
   "metadata": {
    "collapsed": false
   },
   "id": "85e36a8947cb242f"
  }
 ],
 "metadata": {
  "kernelspec": {
   "display_name": "Python 3",
   "language": "python",
   "name": "python3"
  },
  "language_info": {
   "codemirror_mode": {
    "name": "ipython",
    "version": 2
   },
   "file_extension": ".py",
   "mimetype": "text/x-python",
   "name": "python",
   "nbconvert_exporter": "python",
   "pygments_lexer": "ipython2",
   "version": "2.7.6"
  }
 },
 "nbformat": 4,
 "nbformat_minor": 5
}
