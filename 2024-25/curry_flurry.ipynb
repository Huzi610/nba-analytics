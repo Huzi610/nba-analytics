{
 "cells": [
  {
   "cell_type": "code",
   "execution_count": 1,
   "id": "initial_id",
   "metadata": {
    "collapsed": true,
    "ExecuteTime": {
     "end_time": "2024-11-17T15:00:58.442734Z",
     "start_time": "2024-11-17T15:00:58.436618Z"
    }
   },
   "outputs": [],
   "source": [
    "import time\n",
    "\n",
    "import pandas as pd\n",
    "from tqdm import tqdm\n",
    "\n",
    "pd.set_option('display.max_columns', None)\n",
    "# pd.reset_option(‘max_columns’)"
   ]
  },
  {
   "cell_type": "code",
   "execution_count": 3,
   "outputs": [],
   "source": [
    "# EVENTMSGACTIONTYPE\n",
    "# ---\n",
    "# 1 - Jumpshot\n",
    "# 2 - Lost ball Turnover\n",
    "# 3 - ?\n",
    "# 4 - Traveling Turnover / Off Foul\n",
    "# 5 - Layup\n",
    "# 7 - Dunk\n",
    "# 10 - Free throw 1-1\n",
    "# 11 - Free throw 1-2\n",
    "# 12 - Free throw 2-2\n",
    "# 40 - out of bounds\n",
    "# 41 - Block/Steal\n",
    "# 42 - Driving Layup\n",
    "# 50 - Running Dunk\n",
    "# 52 - Alley Oop Dunk\n",
    "# 55 - Hook Shot\n",
    "# 57 - Driving Hook Shot\n",
    "# 58 - Turnaround hook shot\n",
    "# 66 - Jump Bank Shot\n",
    "# 71 - Finger Roll Layup\n",
    "# 72 - Putback Layup\n",
    "# 108 - Cutting Dunk Shot"
   ],
   "metadata": {
    "collapsed": false,
    "ExecuteTime": {
     "end_time": "2024-11-17T15:01:01.741792Z",
     "start_time": "2024-11-17T15:01:01.738039Z"
    }
   },
   "id": "6d952f8031ebc682"
  },
  {
   "cell_type": "code",
   "execution_count": 4,
   "outputs": [],
   "source": [
    "# EVENTMSGTYPE\n",
    "# ---\n",
    "# 1 - Make\n",
    "# 2 - Miss\n",
    "# 3 - Free Throw\n",
    "# 4 - Rebound\n",
    "# 5 - out of bounds / Turnover / Steal\n",
    "# 6 - Personal Foul\n",
    "# 7 - Violation\n",
    "# 8 - Substitution\n",
    "# 9 - Timeout\n",
    "# 10 - Jumpball\n",
    "# 12 - Start Q1?\n",
    "# 13 - Start Q2?"
   ],
   "metadata": {
    "collapsed": false,
    "ExecuteTime": {
     "end_time": "2024-11-17T15:01:02.453203Z",
     "start_time": "2024-11-17T15:01:02.450074Z"
    }
   },
   "id": "92a340b6145dead8"
  },
  {
   "cell_type": "code",
   "execution_count": 5,
   "outputs": [
    {
     "name": "stdout",
     "output_type": "stream",
     "text": [
      "2023-24\n",
      "2024-25\n",
      "2022-23\n"
     ]
    }
   ],
   "source": [
    "import glob\n",
    "\n",
    "df = pd.DataFrame()\n",
    "\n",
    "pbp_files = glob.glob('../utils/pbp_data/*.csv')\n",
    "\n",
    "for pbp_file in pbp_files:\n",
    "    season = pbp_file.split('/')[-1].split('.')[0]\n",
    "    print(season)\n",
    "    season_df = pd.read_csv(pbp_file)\n",
    "    season_df['SEASON'] = season\n",
    "    \n",
    "    df = pd.concat([df, season_df])"
   ],
   "metadata": {
    "collapsed": false,
    "ExecuteTime": {
     "end_time": "2024-11-17T15:01:05.922013Z",
     "start_time": "2024-11-17T15:01:03.026662Z"
    }
   },
   "id": "c9660b9c7e6365d8"
  },
  {
   "cell_type": "code",
   "execution_count": 6,
   "outputs": [
    {
     "data": {
      "text/plain": "         GAME_ID  EVENTNUM  EVENTMSGTYPE  EVENTMSGACTIONTYPE  PERIOD  \\\n0       22301198         2            12                   0       1   \n1       22301198         4            10                   0       1   \n2       22301198         7             1                   3       1   \n3       22301198         9             1                  80       1   \n4       22301198        10             5                   6       1   \n...          ...       ...           ...                 ...     ...   \n574413  22200001       637             5                   2       4   \n574414  22200001       639             1                  50       4   \n574415  22200001       640             2                   1       4   \n574416  22200001       641             4                   0       4   \n574417  22200001       642            13                   0       4   \n\n       WCTIMESTRING PCTIMESTRING  \\\n0           3:42 PM        12:00   \n1           3:42 PM        12:00   \n2           3:42 PM        11:39   \n3           3:42 PM        11:22   \n4           3:43 PM        11:02   \n...             ...          ...   \n574413     10:07 PM         0:32   \n574414     10:07 PM         0:29   \n574415     10:07 PM         0:06   \n574416     10:07 PM         0:04   \n574417     10:07 PM         0:00   \n\n                                          HOMEDESCRIPTION  \\\n0                                                     NaN   \n1       Jump Ball Jackson-Davis vs. Yurtseven: Tip to ...   \n2                                                     NaN   \n3       Wiggins 21' Step Back Jump Shot (2 PTS) (Paul ...   \n4                                                     NaN   \n...                                                   ...   \n574413                  Brown Lost Ball Turnover (P4.T11)   \n574414                                                NaN   \n574415                     MISS Horford 25' 3PT Jump Shot   \n574416                                                NaN   \n574417                                                NaN   \n\n                       NEUTRALDESCRIPTION  \\\n0       Start of 1st Period (3:42 PM EST)   \n1                                     NaN   \n2                                     NaN   \n3                                     NaN   \n4                                     NaN   \n...                                   ...   \n574413                                NaN   \n574414                                NaN   \n574415                                NaN   \n574416                                NaN   \n574417   End of 4th Period (10:07 PM EST)   \n\n                                      VISITORDESCRIPTION      SCORE  \\\n0                                                    NaN        NaN   \n1                                                    NaN        NaN   \n2       Yurtseven 5' Hook Shot (2 PTS) (Hendricks 1 AST)      2 - 0   \n3                                                    NaN      2 - 2   \n4              Yurtseven Double Dribble Turnover (P1.T1)        NaN   \n...                                                  ...        ...   \n574413                              Harris STEAL (3 STL)        NaN   \n574414                   Harris 1' Running Dunk (18 PTS)  117 - 126   \n574415                                               NaN        NaN   \n574416                      Harden REBOUND (Off:0 Def:8)        NaN   \n574417                                               NaN  117 - 126   \n\n       SCOREMARGIN  PERSON1TYPE  PLAYER1_ID          PLAYER1_NAME  \\\n0              NaN          0.0           0                   NaN   \n1              NaN          4.0     1631218  Trayce Jackson-Davis   \n2               -2          5.0     1630209        Omer Yurtseven   \n3              TIE          4.0      203952        Andrew Wiggins   \n4              NaN          5.0     1630209        Omer Yurtseven   \n...            ...          ...         ...                   ...   \n574413         NaN          4.0     1627759          Jaylen Brown   \n574414           9          5.0      202699         Tobias Harris   \n574415         NaN          4.0      201143            Al Horford   \n574416         NaN          5.0      201935          James Harden   \n574417           9          0.0           0                   NaN   \n\n        PLAYER1_TEAM_ID PLAYER1_TEAM_CITY PLAYER1_TEAM_NICKNAME  \\\n0                   NaN               NaN                   NaN   \n1          1.610613e+09      Golden State              Warriors   \n2          1.610613e+09              Utah                  Jazz   \n3          1.610613e+09      Golden State              Warriors   \n4          1.610613e+09              Utah                  Jazz   \n...                 ...               ...                   ...   \n574413     1.610613e+09            Boston               Celtics   \n574414     1.610613e+09      Philadelphia                 76ers   \n574415     1.610613e+09            Boston               Celtics   \n574416     1.610613e+09      Philadelphia                 76ers   \n574417              NaN               NaN                   NaN   \n\n       PLAYER1_TEAM_ABBREVIATION  PERSON2TYPE  PLAYER2_ID      PLAYER2_NAME  \\\n0                            NaN            0           0               NaN   \n1                            GSW            5     1630209    Omer Yurtseven   \n2                            UTA            5     1641707  Taylor Hendricks   \n3                            GSW            4      101108        Chris Paul   \n4                            UTA            0           0               NaN   \n...                          ...          ...         ...               ...   \n574413                       BOS            5      202699     Tobias Harris   \n574414                       PHI            0           0               NaN   \n574415                       BOS            0           0               NaN   \n574416                       PHI            0           0               NaN   \n574417                       NaN            0           0               NaN   \n\n        PLAYER2_TEAM_ID PLAYER2_TEAM_CITY PLAYER2_TEAM_NICKNAME  \\\n0                   NaN               NaN                   NaN   \n1          1.610613e+09              Utah                  Jazz   \n2          1.610613e+09              Utah                  Jazz   \n3          1.610613e+09      Golden State              Warriors   \n4                   NaN               NaN                   NaN   \n...                 ...               ...                   ...   \n574413     1.610613e+09      Philadelphia                 76ers   \n574414              NaN               NaN                   NaN   \n574415              NaN               NaN                   NaN   \n574416              NaN               NaN                   NaN   \n574417              NaN               NaN                   NaN   \n\n       PLAYER2_TEAM_ABBREVIATION  PERSON3TYPE  PLAYER3_ID   PLAYER3_NAME  \\\n0                            NaN            0           0            NaN   \n1                            UTA            5     1630548  Johnny Juzang   \n2                            UTA            0           0            NaN   \n3                            GSW            0           0            NaN   \n4                            NaN            1           0            NaN   \n...                          ...          ...         ...            ...   \n574413                       PHI            0           0            NaN   \n574414                       NaN            0           0            NaN   \n574415                       NaN            0           0            NaN   \n574416                       NaN            0           0            NaN   \n574417                       NaN            0           0            NaN   \n\n        PLAYER3_TEAM_ID PLAYER3_TEAM_CITY PLAYER3_TEAM_NICKNAME  \\\n0                   NaN               NaN                   NaN   \n1          1.610613e+09              Utah                  Jazz   \n2                   NaN               NaN                   NaN   \n3                   NaN               NaN                   NaN   \n4                   NaN               NaN                   NaN   \n...                 ...               ...                   ...   \n574413              NaN               NaN                   NaN   \n574414              NaN               NaN                   NaN   \n574415              NaN               NaN                   NaN   \n574416              NaN               NaN                   NaN   \n574417              NaN               NaN                   NaN   \n\n       PLAYER3_TEAM_ABBREVIATION  VIDEO_AVAILABLE_FLAG  PCTIMESECONDS   SEASON  \n0                            NaN                     0              0  2023-24  \n1                            UTA                     1              0  2023-24  \n2                            NaN                     1             21  2023-24  \n3                            NaN                     1             38  2023-24  \n4                            NaN                     1             58  2023-24  \n...                          ...                   ...            ...      ...  \n574413                       NaN                     1            688  2022-23  \n574414                       NaN                     1            691  2022-23  \n574415                       NaN                     1            714  2022-23  \n574416                       NaN                     1            716  2022-23  \n574417                       NaN                     1            720  2022-23  \n\n[1231313 rows x 36 columns]",
      "text/html": "<div>\n<style scoped>\n    .dataframe tbody tr th:only-of-type {\n        vertical-align: middle;\n    }\n\n    .dataframe tbody tr th {\n        vertical-align: top;\n    }\n\n    .dataframe thead th {\n        text-align: right;\n    }\n</style>\n<table border=\"1\" class=\"dataframe\">\n  <thead>\n    <tr style=\"text-align: right;\">\n      <th></th>\n      <th>GAME_ID</th>\n      <th>EVENTNUM</th>\n      <th>EVENTMSGTYPE</th>\n      <th>EVENTMSGACTIONTYPE</th>\n      <th>PERIOD</th>\n      <th>WCTIMESTRING</th>\n      <th>PCTIMESTRING</th>\n      <th>HOMEDESCRIPTION</th>\n      <th>NEUTRALDESCRIPTION</th>\n      <th>VISITORDESCRIPTION</th>\n      <th>SCORE</th>\n      <th>SCOREMARGIN</th>\n      <th>PERSON1TYPE</th>\n      <th>PLAYER1_ID</th>\n      <th>PLAYER1_NAME</th>\n      <th>PLAYER1_TEAM_ID</th>\n      <th>PLAYER1_TEAM_CITY</th>\n      <th>PLAYER1_TEAM_NICKNAME</th>\n      <th>PLAYER1_TEAM_ABBREVIATION</th>\n      <th>PERSON2TYPE</th>\n      <th>PLAYER2_ID</th>\n      <th>PLAYER2_NAME</th>\n      <th>PLAYER2_TEAM_ID</th>\n      <th>PLAYER2_TEAM_CITY</th>\n      <th>PLAYER2_TEAM_NICKNAME</th>\n      <th>PLAYER2_TEAM_ABBREVIATION</th>\n      <th>PERSON3TYPE</th>\n      <th>PLAYER3_ID</th>\n      <th>PLAYER3_NAME</th>\n      <th>PLAYER3_TEAM_ID</th>\n      <th>PLAYER3_TEAM_CITY</th>\n      <th>PLAYER3_TEAM_NICKNAME</th>\n      <th>PLAYER3_TEAM_ABBREVIATION</th>\n      <th>VIDEO_AVAILABLE_FLAG</th>\n      <th>PCTIMESECONDS</th>\n      <th>SEASON</th>\n    </tr>\n  </thead>\n  <tbody>\n    <tr>\n      <th>0</th>\n      <td>22301198</td>\n      <td>2</td>\n      <td>12</td>\n      <td>0</td>\n      <td>1</td>\n      <td>3:42 PM</td>\n      <td>12:00</td>\n      <td>NaN</td>\n      <td>Start of 1st Period (3:42 PM EST)</td>\n      <td>NaN</td>\n      <td>NaN</td>\n      <td>NaN</td>\n      <td>0.0</td>\n      <td>0</td>\n      <td>NaN</td>\n      <td>NaN</td>\n      <td>NaN</td>\n      <td>NaN</td>\n      <td>NaN</td>\n      <td>0</td>\n      <td>0</td>\n      <td>NaN</td>\n      <td>NaN</td>\n      <td>NaN</td>\n      <td>NaN</td>\n      <td>NaN</td>\n      <td>0</td>\n      <td>0</td>\n      <td>NaN</td>\n      <td>NaN</td>\n      <td>NaN</td>\n      <td>NaN</td>\n      <td>NaN</td>\n      <td>0</td>\n      <td>0</td>\n      <td>2023-24</td>\n    </tr>\n    <tr>\n      <th>1</th>\n      <td>22301198</td>\n      <td>4</td>\n      <td>10</td>\n      <td>0</td>\n      <td>1</td>\n      <td>3:42 PM</td>\n      <td>12:00</td>\n      <td>Jump Ball Jackson-Davis vs. Yurtseven: Tip to ...</td>\n      <td>NaN</td>\n      <td>NaN</td>\n      <td>NaN</td>\n      <td>NaN</td>\n      <td>4.0</td>\n      <td>1631218</td>\n      <td>Trayce Jackson-Davis</td>\n      <td>1.610613e+09</td>\n      <td>Golden State</td>\n      <td>Warriors</td>\n      <td>GSW</td>\n      <td>5</td>\n      <td>1630209</td>\n      <td>Omer Yurtseven</td>\n      <td>1.610613e+09</td>\n      <td>Utah</td>\n      <td>Jazz</td>\n      <td>UTA</td>\n      <td>5</td>\n      <td>1630548</td>\n      <td>Johnny Juzang</td>\n      <td>1.610613e+09</td>\n      <td>Utah</td>\n      <td>Jazz</td>\n      <td>UTA</td>\n      <td>1</td>\n      <td>0</td>\n      <td>2023-24</td>\n    </tr>\n    <tr>\n      <th>2</th>\n      <td>22301198</td>\n      <td>7</td>\n      <td>1</td>\n      <td>3</td>\n      <td>1</td>\n      <td>3:42 PM</td>\n      <td>11:39</td>\n      <td>NaN</td>\n      <td>NaN</td>\n      <td>Yurtseven 5' Hook Shot (2 PTS) (Hendricks 1 AST)</td>\n      <td>2 - 0</td>\n      <td>-2</td>\n      <td>5.0</td>\n      <td>1630209</td>\n      <td>Omer Yurtseven</td>\n      <td>1.610613e+09</td>\n      <td>Utah</td>\n      <td>Jazz</td>\n      <td>UTA</td>\n      <td>5</td>\n      <td>1641707</td>\n      <td>Taylor Hendricks</td>\n      <td>1.610613e+09</td>\n      <td>Utah</td>\n      <td>Jazz</td>\n      <td>UTA</td>\n      <td>0</td>\n      <td>0</td>\n      <td>NaN</td>\n      <td>NaN</td>\n      <td>NaN</td>\n      <td>NaN</td>\n      <td>NaN</td>\n      <td>1</td>\n      <td>21</td>\n      <td>2023-24</td>\n    </tr>\n    <tr>\n      <th>3</th>\n      <td>22301198</td>\n      <td>9</td>\n      <td>1</td>\n      <td>80</td>\n      <td>1</td>\n      <td>3:42 PM</td>\n      <td>11:22</td>\n      <td>Wiggins 21' Step Back Jump Shot (2 PTS) (Paul ...</td>\n      <td>NaN</td>\n      <td>NaN</td>\n      <td>2 - 2</td>\n      <td>TIE</td>\n      <td>4.0</td>\n      <td>203952</td>\n      <td>Andrew Wiggins</td>\n      <td>1.610613e+09</td>\n      <td>Golden State</td>\n      <td>Warriors</td>\n      <td>GSW</td>\n      <td>4</td>\n      <td>101108</td>\n      <td>Chris Paul</td>\n      <td>1.610613e+09</td>\n      <td>Golden State</td>\n      <td>Warriors</td>\n      <td>GSW</td>\n      <td>0</td>\n      <td>0</td>\n      <td>NaN</td>\n      <td>NaN</td>\n      <td>NaN</td>\n      <td>NaN</td>\n      <td>NaN</td>\n      <td>1</td>\n      <td>38</td>\n      <td>2023-24</td>\n    </tr>\n    <tr>\n      <th>4</th>\n      <td>22301198</td>\n      <td>10</td>\n      <td>5</td>\n      <td>6</td>\n      <td>1</td>\n      <td>3:43 PM</td>\n      <td>11:02</td>\n      <td>NaN</td>\n      <td>NaN</td>\n      <td>Yurtseven Double Dribble Turnover (P1.T1)</td>\n      <td>NaN</td>\n      <td>NaN</td>\n      <td>5.0</td>\n      <td>1630209</td>\n      <td>Omer Yurtseven</td>\n      <td>1.610613e+09</td>\n      <td>Utah</td>\n      <td>Jazz</td>\n      <td>UTA</td>\n      <td>0</td>\n      <td>0</td>\n      <td>NaN</td>\n      <td>NaN</td>\n      <td>NaN</td>\n      <td>NaN</td>\n      <td>NaN</td>\n      <td>1</td>\n      <td>0</td>\n      <td>NaN</td>\n      <td>NaN</td>\n      <td>NaN</td>\n      <td>NaN</td>\n      <td>NaN</td>\n      <td>1</td>\n      <td>58</td>\n      <td>2023-24</td>\n    </tr>\n    <tr>\n      <th>...</th>\n      <td>...</td>\n      <td>...</td>\n      <td>...</td>\n      <td>...</td>\n      <td>...</td>\n      <td>...</td>\n      <td>...</td>\n      <td>...</td>\n      <td>...</td>\n      <td>...</td>\n      <td>...</td>\n      <td>...</td>\n      <td>...</td>\n      <td>...</td>\n      <td>...</td>\n      <td>...</td>\n      <td>...</td>\n      <td>...</td>\n      <td>...</td>\n      <td>...</td>\n      <td>...</td>\n      <td>...</td>\n      <td>...</td>\n      <td>...</td>\n      <td>...</td>\n      <td>...</td>\n      <td>...</td>\n      <td>...</td>\n      <td>...</td>\n      <td>...</td>\n      <td>...</td>\n      <td>...</td>\n      <td>...</td>\n      <td>...</td>\n      <td>...</td>\n      <td>...</td>\n    </tr>\n    <tr>\n      <th>574413</th>\n      <td>22200001</td>\n      <td>637</td>\n      <td>5</td>\n      <td>2</td>\n      <td>4</td>\n      <td>10:07 PM</td>\n      <td>0:32</td>\n      <td>Brown Lost Ball Turnover (P4.T11)</td>\n      <td>NaN</td>\n      <td>Harris STEAL (3 STL)</td>\n      <td>NaN</td>\n      <td>NaN</td>\n      <td>4.0</td>\n      <td>1627759</td>\n      <td>Jaylen Brown</td>\n      <td>1.610613e+09</td>\n      <td>Boston</td>\n      <td>Celtics</td>\n      <td>BOS</td>\n      <td>5</td>\n      <td>202699</td>\n      <td>Tobias Harris</td>\n      <td>1.610613e+09</td>\n      <td>Philadelphia</td>\n      <td>76ers</td>\n      <td>PHI</td>\n      <td>0</td>\n      <td>0</td>\n      <td>NaN</td>\n      <td>NaN</td>\n      <td>NaN</td>\n      <td>NaN</td>\n      <td>NaN</td>\n      <td>1</td>\n      <td>688</td>\n      <td>2022-23</td>\n    </tr>\n    <tr>\n      <th>574414</th>\n      <td>22200001</td>\n      <td>639</td>\n      <td>1</td>\n      <td>50</td>\n      <td>4</td>\n      <td>10:07 PM</td>\n      <td>0:29</td>\n      <td>NaN</td>\n      <td>NaN</td>\n      <td>Harris 1' Running Dunk (18 PTS)</td>\n      <td>117 - 126</td>\n      <td>9</td>\n      <td>5.0</td>\n      <td>202699</td>\n      <td>Tobias Harris</td>\n      <td>1.610613e+09</td>\n      <td>Philadelphia</td>\n      <td>76ers</td>\n      <td>PHI</td>\n      <td>0</td>\n      <td>0</td>\n      <td>NaN</td>\n      <td>NaN</td>\n      <td>NaN</td>\n      <td>NaN</td>\n      <td>NaN</td>\n      <td>0</td>\n      <td>0</td>\n      <td>NaN</td>\n      <td>NaN</td>\n      <td>NaN</td>\n      <td>NaN</td>\n      <td>NaN</td>\n      <td>1</td>\n      <td>691</td>\n      <td>2022-23</td>\n    </tr>\n    <tr>\n      <th>574415</th>\n      <td>22200001</td>\n      <td>640</td>\n      <td>2</td>\n      <td>1</td>\n      <td>4</td>\n      <td>10:07 PM</td>\n      <td>0:06</td>\n      <td>MISS Horford 25' 3PT Jump Shot</td>\n      <td>NaN</td>\n      <td>NaN</td>\n      <td>NaN</td>\n      <td>NaN</td>\n      <td>4.0</td>\n      <td>201143</td>\n      <td>Al Horford</td>\n      <td>1.610613e+09</td>\n      <td>Boston</td>\n      <td>Celtics</td>\n      <td>BOS</td>\n      <td>0</td>\n      <td>0</td>\n      <td>NaN</td>\n      <td>NaN</td>\n      <td>NaN</td>\n      <td>NaN</td>\n      <td>NaN</td>\n      <td>0</td>\n      <td>0</td>\n      <td>NaN</td>\n      <td>NaN</td>\n      <td>NaN</td>\n      <td>NaN</td>\n      <td>NaN</td>\n      <td>1</td>\n      <td>714</td>\n      <td>2022-23</td>\n    </tr>\n    <tr>\n      <th>574416</th>\n      <td>22200001</td>\n      <td>641</td>\n      <td>4</td>\n      <td>0</td>\n      <td>4</td>\n      <td>10:07 PM</td>\n      <td>0:04</td>\n      <td>NaN</td>\n      <td>NaN</td>\n      <td>Harden REBOUND (Off:0 Def:8)</td>\n      <td>NaN</td>\n      <td>NaN</td>\n      <td>5.0</td>\n      <td>201935</td>\n      <td>James Harden</td>\n      <td>1.610613e+09</td>\n      <td>Philadelphia</td>\n      <td>76ers</td>\n      <td>PHI</td>\n      <td>0</td>\n      <td>0</td>\n      <td>NaN</td>\n      <td>NaN</td>\n      <td>NaN</td>\n      <td>NaN</td>\n      <td>NaN</td>\n      <td>0</td>\n      <td>0</td>\n      <td>NaN</td>\n      <td>NaN</td>\n      <td>NaN</td>\n      <td>NaN</td>\n      <td>NaN</td>\n      <td>1</td>\n      <td>716</td>\n      <td>2022-23</td>\n    </tr>\n    <tr>\n      <th>574417</th>\n      <td>22200001</td>\n      <td>642</td>\n      <td>13</td>\n      <td>0</td>\n      <td>4</td>\n      <td>10:07 PM</td>\n      <td>0:00</td>\n      <td>NaN</td>\n      <td>End of 4th Period (10:07 PM EST)</td>\n      <td>NaN</td>\n      <td>117 - 126</td>\n      <td>9</td>\n      <td>0.0</td>\n      <td>0</td>\n      <td>NaN</td>\n      <td>NaN</td>\n      <td>NaN</td>\n      <td>NaN</td>\n      <td>NaN</td>\n      <td>0</td>\n      <td>0</td>\n      <td>NaN</td>\n      <td>NaN</td>\n      <td>NaN</td>\n      <td>NaN</td>\n      <td>NaN</td>\n      <td>0</td>\n      <td>0</td>\n      <td>NaN</td>\n      <td>NaN</td>\n      <td>NaN</td>\n      <td>NaN</td>\n      <td>NaN</td>\n      <td>1</td>\n      <td>720</td>\n      <td>2022-23</td>\n    </tr>\n  </tbody>\n</table>\n<p>1231313 rows × 36 columns</p>\n</div>"
     },
     "execution_count": 6,
     "metadata": {},
     "output_type": "execute_result"
    }
   ],
   "source": [
    "df"
   ],
   "metadata": {
    "collapsed": false,
    "ExecuteTime": {
     "end_time": "2024-11-17T15:01:06.931621Z",
     "start_time": "2024-11-17T15:01:06.922299Z"
    }
   },
   "id": "2e0350b1db68908c"
  },
  {
   "cell_type": "code",
   "execution_count": 7,
   "outputs": [],
   "source": [
    "def get_description(row):\n",
    "    if pd.isna(row.HOMEDESCRIPTION):\n",
    "        return row.VISITORDESCRIPTION\n",
    "    else:\n",
    "        return row.HOMEDESCRIPTION"
   ],
   "metadata": {
    "collapsed": false,
    "ExecuteTime": {
     "end_time": "2024-11-17T15:01:10.085488Z",
     "start_time": "2024-11-17T15:01:10.078227Z"
    }
   },
   "id": "229d69dadff26d47"
  },
  {
   "cell_type": "code",
   "execution_count": 8,
   "outputs": [],
   "source": [
    "import pandas as pd\n",
    "import re\n",
    "\n",
    "# Function to identify if the play is a 3-point shot\n",
    "def parse_shot_description(text):\n",
    "    if pd.isnull(text):  # Check for NaN values\n",
    "        return None\n",
    "    pattern = r\"\\b3PT\\b\"\n",
    "    if re.search(pattern, text):\n",
    "        return '3P'\n",
    "    else:\n",
    "        return '2P'"
   ],
   "metadata": {
    "collapsed": false,
    "ExecuteTime": {
     "end_time": "2024-11-17T15:01:10.791062Z",
     "start_time": "2024-11-17T15:01:10.789257Z"
    }
   },
   "id": "d10e15d4cda8fdb6"
  },
  {
   "cell_type": "code",
   "execution_count": 9,
   "outputs": [
    {
     "name": "stderr",
     "output_type": "stream",
     "text": [
      "100%|██████████| 176/176 [00:02<00:00, 86.58it/s]\n"
     ]
    }
   ],
   "source": [
    "streaks_df = pd.DataFrame()\n",
    "nan_added = False  # Flag to track if a NaN row has been added\n",
    "player_id = 201939\n",
    "\n",
    "df['SHOT_TYPE'] = df['HOMEDESCRIPTION'].combine_first(df['VISITORDESCRIPTION']).apply(parse_shot_description)\n",
    "df['is_three_pointer'] = (df['SHOT_TYPE'] == '3P')\n",
    "\n",
    "\n",
    "gsw_games = df[(df.PLAYER1_TEAM_ABBREVIATION == 'GSW') | (df.PLAYER2_TEAM_ABBREVIATION == 'GSW')]\n",
    "\n",
    "\n",
    "for game_id, game_df in tqdm(gsw_games.groupby('GAME_ID')):\n",
    "    for _, row in game_df.iterrows():\n",
    "        # check if there is a shot made in the row\n",
    "        if row.EVENTMSGTYPE == 1:\n",
    "            # if there was check did Steph score a 3\n",
    "            if row.PLAYER1_ID == player_id and row.is_three_pointer:\n",
    "                # if he did increase the streak by 1\n",
    "                streaks_df = pd.concat([streaks_df, pd.DataFrame([row])], ignore_index=True)\n",
    "                nan_added = False  # Reset flag since a streak continues\n",
    "            # if a teammate scored reset the streak (teammate has the same PLAYER1_TEAM_ID)\n",
    "            elif row.PLAYER1_ID != player_id and row.PLAYER1_TEAM_ABBREVIATION == 'GSW':\n",
    "                # Add a single NaN row if it hasn't been added yet\n",
    "                if not nan_added:\n",
    "                    streaks_df = pd.concat([streaks_df, pd.DataFrame([pd.Series(dtype='object', index=streaks_df.columns)])], ignore_index=True)\n",
    "                    nan_added = True  # Mark that a NaN has been added\n",
    "            # if opponent scored continue\n",
    "            elif row.PLAYER1_TEAM_ABBREVIATION != 'GSW':\n",
    "                continue"
   ],
   "metadata": {
    "collapsed": false,
    "ExecuteTime": {
     "end_time": "2024-11-17T15:01:17.523732Z",
     "start_time": "2024-11-17T15:01:14.491996Z"
    }
   },
   "id": "784c36efbc8a385c"
  },
  {
   "cell_type": "code",
   "execution_count": 10,
   "outputs": [
    {
     "data": {
      "text/plain": "         GAME_ID  EVENTNUM  EVENTMSGTYPE  EVENTMSGACTIONTYPE  PERIOD  \\\n0            NaN       NaN           NaN                 NaN     NaN   \n1     22200002.0     525.0           1.0                 2.0     3.0   \n2     22200002.0     535.0           1.0                79.0     3.0   \n3            NaN       NaN           NaN                 NaN     NaN   \n4     22200002.0     721.0           1.0                79.0     4.0   \n...          ...       ...           ...                 ...     ...   \n1213         NaN       NaN           NaN                 NaN     NaN   \n1214  22400207.0     460.0           1.0                79.0     3.0   \n1215         NaN       NaN           NaN                 NaN     NaN   \n1216  22400207.0     650.0           1.0                 1.0     4.0   \n1217  22400207.0     680.0           1.0                80.0     4.0   \n\n     WCTIMESTRING PCTIMESTRING  \\\n0             NaN          NaN   \n1        12:26 AM         5:27   \n2        12:28 AM         4:51   \n3             NaN          NaN   \n4         1:04 AM         4:01   \n...           ...          ...   \n1213          NaN          NaN   \n1214      8:42 PM         4:28   \n1215          NaN          NaN   \n1216      9:21 PM         3:23   \n1217      9:26 PM         1:13   \n\n                                        HOMEDESCRIPTION  NEUTRALDESCRIPTION  \\\n0                                                   NaN                 NaN   \n1     Curry 24' 3PT Running Jump Shot (21 PTS) (Wigg...                 NaN   \n2               Curry 28' 3PT Pullup Jump Shot (24 PTS)                 NaN   \n3                                                   NaN                 NaN   \n4     Curry 25' 3PT Pullup Jump Shot (27 PTS) (DiVin...                 NaN   \n...                                                 ...                 ...   \n1213                                                NaN                 NaN   \n1214                                                NaN                 NaN   \n1215                                                NaN                 NaN   \n1216                                                NaN                 NaN   \n1217                                                NaN                 NaN   \n\n                                     VISITORDESCRIPTION      SCORE  \\\n0                                                   NaN        NaN   \n1                                                   NaN    64 - 84   \n2                                                   NaN    64 - 87   \n3                                                   NaN        NaN   \n4                                                   NaN   93 - 109   \n...                                                 ...        ...   \n1213                                                NaN        NaN   \n1214            Curry 28' 3PT Pullup Jump Shot (28 PTS)    95 - 73   \n1215                                                NaN        NaN   \n1216    Curry 26' 3PT Jump Shot (31 PTS) (Green 11 AST)  119 - 108   \n1217  Curry 25' 3PT Step Back Jump Shot (34 PTS) (Wi...  122 - 112   \n\n     SCOREMARGIN  PERSON1TYPE  PLAYER1_ID   PLAYER1_NAME  PLAYER1_TEAM_ID  \\\n0            NaN          NaN         NaN            NaN              NaN   \n1             20          4.0    201939.0  Stephen Curry     1.610613e+09   \n2             23          4.0    201939.0  Stephen Curry     1.610613e+09   \n3            NaN          NaN         NaN            NaN              NaN   \n4             16          4.0    201939.0  Stephen Curry     1.610613e+09   \n...          ...          ...         ...            ...              ...   \n1213         NaN          NaN         NaN            NaN              NaN   \n1214         -22          5.0    201939.0  Stephen Curry     1.610613e+09   \n1215         NaN          NaN         NaN            NaN              NaN   \n1216         -11          5.0    201939.0  Stephen Curry     1.610613e+09   \n1217         -10          5.0    201939.0  Stephen Curry     1.610613e+09   \n\n     PLAYER1_TEAM_CITY PLAYER1_TEAM_NICKNAME PLAYER1_TEAM_ABBREVIATION  \\\n0                  NaN                   NaN                       NaN   \n1         Golden State              Warriors                       GSW   \n2         Golden State              Warriors                       GSW   \n3                  NaN                   NaN                       NaN   \n4         Golden State              Warriors                       GSW   \n...                ...                   ...                       ...   \n1213               NaN                   NaN                       NaN   \n1214      Golden State              Warriors                       GSW   \n1215               NaN                   NaN                       NaN   \n1216      Golden State              Warriors                       GSW   \n1217      Golden State              Warriors                       GSW   \n\n      PERSON2TYPE  PLAYER2_ID      PLAYER2_NAME  PLAYER2_TEAM_ID  \\\n0             NaN         NaN               NaN              NaN   \n1             4.0    203952.0    Andrew Wiggins     1.610613e+09   \n2             0.0         0.0               NaN              NaN   \n3             NaN         NaN               NaN              NaN   \n4             4.0   1628978.0  Donte DiVincenzo     1.610613e+09   \n...           ...         ...               ...              ...   \n1213          NaN         NaN               NaN              NaN   \n1214          0.0         0.0               NaN              NaN   \n1215          NaN         NaN               NaN              NaN   \n1216          5.0    203110.0    Draymond Green     1.610613e+09   \n1217          5.0    203952.0    Andrew Wiggins     1.610613e+09   \n\n     PLAYER2_TEAM_CITY PLAYER2_TEAM_NICKNAME PLAYER2_TEAM_ABBREVIATION  \\\n0                  NaN                   NaN                       NaN   \n1         Golden State              Warriors                       GSW   \n2                  NaN                   NaN                       NaN   \n3                  NaN                   NaN                       NaN   \n4         Golden State              Warriors                       GSW   \n...                ...                   ...                       ...   \n1213               NaN                   NaN                       NaN   \n1214               NaN                   NaN                       NaN   \n1215               NaN                   NaN                       NaN   \n1216      Golden State              Warriors                       GSW   \n1217      Golden State              Warriors                       GSW   \n\n      PERSON3TYPE  PLAYER3_ID  PLAYER3_NAME  PLAYER3_TEAM_ID  \\\n0             NaN         NaN           NaN              NaN   \n1             0.0         0.0           NaN              NaN   \n2             0.0         0.0           NaN              NaN   \n3             NaN         NaN           NaN              NaN   \n4             0.0         0.0           NaN              NaN   \n...           ...         ...           ...              ...   \n1213          NaN         NaN           NaN              NaN   \n1214          0.0         0.0           NaN              NaN   \n1215          NaN         NaN           NaN              NaN   \n1216          0.0         0.0           NaN              NaN   \n1217          0.0         0.0           NaN              NaN   \n\n      PLAYER3_TEAM_CITY  PLAYER3_TEAM_NICKNAME  PLAYER3_TEAM_ABBREVIATION  \\\n0                   NaN                    NaN                        NaN   \n1                   NaN                    NaN                        NaN   \n2                   NaN                    NaN                        NaN   \n3                   NaN                    NaN                        NaN   \n4                   NaN                    NaN                        NaN   \n...                 ...                    ...                        ...   \n1213                NaN                    NaN                        NaN   \n1214                NaN                    NaN                        NaN   \n1215                NaN                    NaN                        NaN   \n1216                NaN                    NaN                        NaN   \n1217                NaN                    NaN                        NaN   \n\n      VIDEO_AVAILABLE_FLAG  PCTIMESECONDS   SEASON SHOT_TYPE is_three_pointer  \n0                      NaN            NaN      NaN       NaN              NaN  \n1                      1.0          393.0  2022-23        3P             True  \n2                      1.0          429.0  2022-23        3P             True  \n3                      NaN            NaN      NaN       NaN              NaN  \n4                      1.0          479.0  2022-23        3P             True  \n...                    ...            ...      ...       ...              ...  \n1213                   NaN            NaN      NaN       NaN              NaN  \n1214                   1.0          452.0  2024-25        3P             True  \n1215                   NaN            NaN      NaN       NaN              NaN  \n1216                   1.0          517.0  2024-25        3P             True  \n1217                   1.0          647.0  2024-25        3P             True  \n\n[1218 rows x 38 columns]",
      "text/html": "<div>\n<style scoped>\n    .dataframe tbody tr th:only-of-type {\n        vertical-align: middle;\n    }\n\n    .dataframe tbody tr th {\n        vertical-align: top;\n    }\n\n    .dataframe thead th {\n        text-align: right;\n    }\n</style>\n<table border=\"1\" class=\"dataframe\">\n  <thead>\n    <tr style=\"text-align: right;\">\n      <th></th>\n      <th>GAME_ID</th>\n      <th>EVENTNUM</th>\n      <th>EVENTMSGTYPE</th>\n      <th>EVENTMSGACTIONTYPE</th>\n      <th>PERIOD</th>\n      <th>WCTIMESTRING</th>\n      <th>PCTIMESTRING</th>\n      <th>HOMEDESCRIPTION</th>\n      <th>NEUTRALDESCRIPTION</th>\n      <th>VISITORDESCRIPTION</th>\n      <th>SCORE</th>\n      <th>SCOREMARGIN</th>\n      <th>PERSON1TYPE</th>\n      <th>PLAYER1_ID</th>\n      <th>PLAYER1_NAME</th>\n      <th>PLAYER1_TEAM_ID</th>\n      <th>PLAYER1_TEAM_CITY</th>\n      <th>PLAYER1_TEAM_NICKNAME</th>\n      <th>PLAYER1_TEAM_ABBREVIATION</th>\n      <th>PERSON2TYPE</th>\n      <th>PLAYER2_ID</th>\n      <th>PLAYER2_NAME</th>\n      <th>PLAYER2_TEAM_ID</th>\n      <th>PLAYER2_TEAM_CITY</th>\n      <th>PLAYER2_TEAM_NICKNAME</th>\n      <th>PLAYER2_TEAM_ABBREVIATION</th>\n      <th>PERSON3TYPE</th>\n      <th>PLAYER3_ID</th>\n      <th>PLAYER3_NAME</th>\n      <th>PLAYER3_TEAM_ID</th>\n      <th>PLAYER3_TEAM_CITY</th>\n      <th>PLAYER3_TEAM_NICKNAME</th>\n      <th>PLAYER3_TEAM_ABBREVIATION</th>\n      <th>VIDEO_AVAILABLE_FLAG</th>\n      <th>PCTIMESECONDS</th>\n      <th>SEASON</th>\n      <th>SHOT_TYPE</th>\n      <th>is_three_pointer</th>\n    </tr>\n  </thead>\n  <tbody>\n    <tr>\n      <th>0</th>\n      <td>NaN</td>\n      <td>NaN</td>\n      <td>NaN</td>\n      <td>NaN</td>\n      <td>NaN</td>\n      <td>NaN</td>\n      <td>NaN</td>\n      <td>NaN</td>\n      <td>NaN</td>\n      <td>NaN</td>\n      <td>NaN</td>\n      <td>NaN</td>\n      <td>NaN</td>\n      <td>NaN</td>\n      <td>NaN</td>\n      <td>NaN</td>\n      <td>NaN</td>\n      <td>NaN</td>\n      <td>NaN</td>\n      <td>NaN</td>\n      <td>NaN</td>\n      <td>NaN</td>\n      <td>NaN</td>\n      <td>NaN</td>\n      <td>NaN</td>\n      <td>NaN</td>\n      <td>NaN</td>\n      <td>NaN</td>\n      <td>NaN</td>\n      <td>NaN</td>\n      <td>NaN</td>\n      <td>NaN</td>\n      <td>NaN</td>\n      <td>NaN</td>\n      <td>NaN</td>\n      <td>NaN</td>\n      <td>NaN</td>\n      <td>NaN</td>\n    </tr>\n    <tr>\n      <th>1</th>\n      <td>22200002.0</td>\n      <td>525.0</td>\n      <td>1.0</td>\n      <td>2.0</td>\n      <td>3.0</td>\n      <td>12:26 AM</td>\n      <td>5:27</td>\n      <td>Curry 24' 3PT Running Jump Shot (21 PTS) (Wigg...</td>\n      <td>NaN</td>\n      <td>NaN</td>\n      <td>64 - 84</td>\n      <td>20</td>\n      <td>4.0</td>\n      <td>201939.0</td>\n      <td>Stephen Curry</td>\n      <td>1.610613e+09</td>\n      <td>Golden State</td>\n      <td>Warriors</td>\n      <td>GSW</td>\n      <td>4.0</td>\n      <td>203952.0</td>\n      <td>Andrew Wiggins</td>\n      <td>1.610613e+09</td>\n      <td>Golden State</td>\n      <td>Warriors</td>\n      <td>GSW</td>\n      <td>0.0</td>\n      <td>0.0</td>\n      <td>NaN</td>\n      <td>NaN</td>\n      <td>NaN</td>\n      <td>NaN</td>\n      <td>NaN</td>\n      <td>1.0</td>\n      <td>393.0</td>\n      <td>2022-23</td>\n      <td>3P</td>\n      <td>True</td>\n    </tr>\n    <tr>\n      <th>2</th>\n      <td>22200002.0</td>\n      <td>535.0</td>\n      <td>1.0</td>\n      <td>79.0</td>\n      <td>3.0</td>\n      <td>12:28 AM</td>\n      <td>4:51</td>\n      <td>Curry 28' 3PT Pullup Jump Shot (24 PTS)</td>\n      <td>NaN</td>\n      <td>NaN</td>\n      <td>64 - 87</td>\n      <td>23</td>\n      <td>4.0</td>\n      <td>201939.0</td>\n      <td>Stephen Curry</td>\n      <td>1.610613e+09</td>\n      <td>Golden State</td>\n      <td>Warriors</td>\n      <td>GSW</td>\n      <td>0.0</td>\n      <td>0.0</td>\n      <td>NaN</td>\n      <td>NaN</td>\n      <td>NaN</td>\n      <td>NaN</td>\n      <td>NaN</td>\n      <td>0.0</td>\n      <td>0.0</td>\n      <td>NaN</td>\n      <td>NaN</td>\n      <td>NaN</td>\n      <td>NaN</td>\n      <td>NaN</td>\n      <td>1.0</td>\n      <td>429.0</td>\n      <td>2022-23</td>\n      <td>3P</td>\n      <td>True</td>\n    </tr>\n    <tr>\n      <th>3</th>\n      <td>NaN</td>\n      <td>NaN</td>\n      <td>NaN</td>\n      <td>NaN</td>\n      <td>NaN</td>\n      <td>NaN</td>\n      <td>NaN</td>\n      <td>NaN</td>\n      <td>NaN</td>\n      <td>NaN</td>\n      <td>NaN</td>\n      <td>NaN</td>\n      <td>NaN</td>\n      <td>NaN</td>\n      <td>NaN</td>\n      <td>NaN</td>\n      <td>NaN</td>\n      <td>NaN</td>\n      <td>NaN</td>\n      <td>NaN</td>\n      <td>NaN</td>\n      <td>NaN</td>\n      <td>NaN</td>\n      <td>NaN</td>\n      <td>NaN</td>\n      <td>NaN</td>\n      <td>NaN</td>\n      <td>NaN</td>\n      <td>NaN</td>\n      <td>NaN</td>\n      <td>NaN</td>\n      <td>NaN</td>\n      <td>NaN</td>\n      <td>NaN</td>\n      <td>NaN</td>\n      <td>NaN</td>\n      <td>NaN</td>\n      <td>NaN</td>\n    </tr>\n    <tr>\n      <th>4</th>\n      <td>22200002.0</td>\n      <td>721.0</td>\n      <td>1.0</td>\n      <td>79.0</td>\n      <td>4.0</td>\n      <td>1:04 AM</td>\n      <td>4:01</td>\n      <td>Curry 25' 3PT Pullup Jump Shot (27 PTS) (DiVin...</td>\n      <td>NaN</td>\n      <td>NaN</td>\n      <td>93 - 109</td>\n      <td>16</td>\n      <td>4.0</td>\n      <td>201939.0</td>\n      <td>Stephen Curry</td>\n      <td>1.610613e+09</td>\n      <td>Golden State</td>\n      <td>Warriors</td>\n      <td>GSW</td>\n      <td>4.0</td>\n      <td>1628978.0</td>\n      <td>Donte DiVincenzo</td>\n      <td>1.610613e+09</td>\n      <td>Golden State</td>\n      <td>Warriors</td>\n      <td>GSW</td>\n      <td>0.0</td>\n      <td>0.0</td>\n      <td>NaN</td>\n      <td>NaN</td>\n      <td>NaN</td>\n      <td>NaN</td>\n      <td>NaN</td>\n      <td>1.0</td>\n      <td>479.0</td>\n      <td>2022-23</td>\n      <td>3P</td>\n      <td>True</td>\n    </tr>\n    <tr>\n      <th>...</th>\n      <td>...</td>\n      <td>...</td>\n      <td>...</td>\n      <td>...</td>\n      <td>...</td>\n      <td>...</td>\n      <td>...</td>\n      <td>...</td>\n      <td>...</td>\n      <td>...</td>\n      <td>...</td>\n      <td>...</td>\n      <td>...</td>\n      <td>...</td>\n      <td>...</td>\n      <td>...</td>\n      <td>...</td>\n      <td>...</td>\n      <td>...</td>\n      <td>...</td>\n      <td>...</td>\n      <td>...</td>\n      <td>...</td>\n      <td>...</td>\n      <td>...</td>\n      <td>...</td>\n      <td>...</td>\n      <td>...</td>\n      <td>...</td>\n      <td>...</td>\n      <td>...</td>\n      <td>...</td>\n      <td>...</td>\n      <td>...</td>\n      <td>...</td>\n      <td>...</td>\n      <td>...</td>\n      <td>...</td>\n    </tr>\n    <tr>\n      <th>1213</th>\n      <td>NaN</td>\n      <td>NaN</td>\n      <td>NaN</td>\n      <td>NaN</td>\n      <td>NaN</td>\n      <td>NaN</td>\n      <td>NaN</td>\n      <td>NaN</td>\n      <td>NaN</td>\n      <td>NaN</td>\n      <td>NaN</td>\n      <td>NaN</td>\n      <td>NaN</td>\n      <td>NaN</td>\n      <td>NaN</td>\n      <td>NaN</td>\n      <td>NaN</td>\n      <td>NaN</td>\n      <td>NaN</td>\n      <td>NaN</td>\n      <td>NaN</td>\n      <td>NaN</td>\n      <td>NaN</td>\n      <td>NaN</td>\n      <td>NaN</td>\n      <td>NaN</td>\n      <td>NaN</td>\n      <td>NaN</td>\n      <td>NaN</td>\n      <td>NaN</td>\n      <td>NaN</td>\n      <td>NaN</td>\n      <td>NaN</td>\n      <td>NaN</td>\n      <td>NaN</td>\n      <td>NaN</td>\n      <td>NaN</td>\n      <td>NaN</td>\n    </tr>\n    <tr>\n      <th>1214</th>\n      <td>22400207.0</td>\n      <td>460.0</td>\n      <td>1.0</td>\n      <td>79.0</td>\n      <td>3.0</td>\n      <td>8:42 PM</td>\n      <td>4:28</td>\n      <td>NaN</td>\n      <td>NaN</td>\n      <td>Curry 28' 3PT Pullup Jump Shot (28 PTS)</td>\n      <td>95 - 73</td>\n      <td>-22</td>\n      <td>5.0</td>\n      <td>201939.0</td>\n      <td>Stephen Curry</td>\n      <td>1.610613e+09</td>\n      <td>Golden State</td>\n      <td>Warriors</td>\n      <td>GSW</td>\n      <td>0.0</td>\n      <td>0.0</td>\n      <td>NaN</td>\n      <td>NaN</td>\n      <td>NaN</td>\n      <td>NaN</td>\n      <td>NaN</td>\n      <td>0.0</td>\n      <td>0.0</td>\n      <td>NaN</td>\n      <td>NaN</td>\n      <td>NaN</td>\n      <td>NaN</td>\n      <td>NaN</td>\n      <td>1.0</td>\n      <td>452.0</td>\n      <td>2024-25</td>\n      <td>3P</td>\n      <td>True</td>\n    </tr>\n    <tr>\n      <th>1215</th>\n      <td>NaN</td>\n      <td>NaN</td>\n      <td>NaN</td>\n      <td>NaN</td>\n      <td>NaN</td>\n      <td>NaN</td>\n      <td>NaN</td>\n      <td>NaN</td>\n      <td>NaN</td>\n      <td>NaN</td>\n      <td>NaN</td>\n      <td>NaN</td>\n      <td>NaN</td>\n      <td>NaN</td>\n      <td>NaN</td>\n      <td>NaN</td>\n      <td>NaN</td>\n      <td>NaN</td>\n      <td>NaN</td>\n      <td>NaN</td>\n      <td>NaN</td>\n      <td>NaN</td>\n      <td>NaN</td>\n      <td>NaN</td>\n      <td>NaN</td>\n      <td>NaN</td>\n      <td>NaN</td>\n      <td>NaN</td>\n      <td>NaN</td>\n      <td>NaN</td>\n      <td>NaN</td>\n      <td>NaN</td>\n      <td>NaN</td>\n      <td>NaN</td>\n      <td>NaN</td>\n      <td>NaN</td>\n      <td>NaN</td>\n      <td>NaN</td>\n    </tr>\n    <tr>\n      <th>1216</th>\n      <td>22400207.0</td>\n      <td>650.0</td>\n      <td>1.0</td>\n      <td>1.0</td>\n      <td>4.0</td>\n      <td>9:21 PM</td>\n      <td>3:23</td>\n      <td>NaN</td>\n      <td>NaN</td>\n      <td>Curry 26' 3PT Jump Shot (31 PTS) (Green 11 AST)</td>\n      <td>119 - 108</td>\n      <td>-11</td>\n      <td>5.0</td>\n      <td>201939.0</td>\n      <td>Stephen Curry</td>\n      <td>1.610613e+09</td>\n      <td>Golden State</td>\n      <td>Warriors</td>\n      <td>GSW</td>\n      <td>5.0</td>\n      <td>203110.0</td>\n      <td>Draymond Green</td>\n      <td>1.610613e+09</td>\n      <td>Golden State</td>\n      <td>Warriors</td>\n      <td>GSW</td>\n      <td>0.0</td>\n      <td>0.0</td>\n      <td>NaN</td>\n      <td>NaN</td>\n      <td>NaN</td>\n      <td>NaN</td>\n      <td>NaN</td>\n      <td>1.0</td>\n      <td>517.0</td>\n      <td>2024-25</td>\n      <td>3P</td>\n      <td>True</td>\n    </tr>\n    <tr>\n      <th>1217</th>\n      <td>22400207.0</td>\n      <td>680.0</td>\n      <td>1.0</td>\n      <td>80.0</td>\n      <td>4.0</td>\n      <td>9:26 PM</td>\n      <td>1:13</td>\n      <td>NaN</td>\n      <td>NaN</td>\n      <td>Curry 25' 3PT Step Back Jump Shot (34 PTS) (Wi...</td>\n      <td>122 - 112</td>\n      <td>-10</td>\n      <td>5.0</td>\n      <td>201939.0</td>\n      <td>Stephen Curry</td>\n      <td>1.610613e+09</td>\n      <td>Golden State</td>\n      <td>Warriors</td>\n      <td>GSW</td>\n      <td>5.0</td>\n      <td>203952.0</td>\n      <td>Andrew Wiggins</td>\n      <td>1.610613e+09</td>\n      <td>Golden State</td>\n      <td>Warriors</td>\n      <td>GSW</td>\n      <td>0.0</td>\n      <td>0.0</td>\n      <td>NaN</td>\n      <td>NaN</td>\n      <td>NaN</td>\n      <td>NaN</td>\n      <td>NaN</td>\n      <td>1.0</td>\n      <td>647.0</td>\n      <td>2024-25</td>\n      <td>3P</td>\n      <td>True</td>\n    </tr>\n  </tbody>\n</table>\n<p>1218 rows × 38 columns</p>\n</div>"
     },
     "execution_count": 10,
     "metadata": {},
     "output_type": "execute_result"
    }
   ],
   "source": [
    "streaks_df"
   ],
   "metadata": {
    "collapsed": false,
    "ExecuteTime": {
     "end_time": "2024-11-17T15:01:19.405284Z",
     "start_time": "2024-11-17T15:01:19.400546Z"
    }
   },
   "id": "92e99e527336b5c7"
  },
  {
   "cell_type": "code",
   "execution_count": 26,
   "outputs": [
    {
     "data": {
      "text/plain": "array([ 1.,  2.,  3.,  4.,  5.,  6., nan])"
     },
     "execution_count": 26,
     "metadata": {},
     "output_type": "execute_result"
    }
   ],
   "source": [
    "np.unique(streaks_df.PERIOD)"
   ],
   "metadata": {
    "collapsed": false,
    "ExecuteTime": {
     "end_time": "2024-11-18T10:18:57.381947Z",
     "start_time": "2024-11-18T10:18:57.373080Z"
    }
   },
   "id": "539639bb55e57691"
  },
  {
   "cell_type": "code",
   "execution_count": 11,
   "outputs": [
    {
     "name": "stdout",
     "output_type": "stream",
     "text": [
      "Number of streaks longer than 4: 1\n"
     ]
    }
   ],
   "source": [
    "# Replace NaN rows with a unique marker (for example, 'NaN' string or a number)\n",
    "streaks_df['streak_marker'] = streaks_df['PLAYER1_ID'].isna()\n",
    "\n",
    "# Create a 'streak_id' column to identify the streak group\n",
    "streaks_df['streak_id'] = streaks_df['streak_marker'].cumsum()\n",
    "\n",
    "# Remove the NaN rows (streak separators) from the DataFrame\n",
    "streaks_without_nans = streaks_df.dropna(subset=['PLAYER1_ID'])\n",
    "\n",
    "# Count the lengths of each streak\n",
    "streak_lengths = streaks_without_nans.groupby('streak_id').size()\n",
    "\n",
    "# Filter streaks that are longer than X\n",
    "X = 4 # Example streak length threshold\n",
    "long_streaks_count = streak_lengths[streak_lengths > X].count()\n",
    "\n",
    "# Output the count of long streaks\n",
    "print(f\"Number of streaks longer than {X}: {long_streaks_count}\")"
   ],
   "metadata": {
    "collapsed": false,
    "ExecuteTime": {
     "end_time": "2024-11-17T15:01:21.922137Z",
     "start_time": "2024-11-17T15:01:21.917859Z"
    }
   },
   "id": "2c320b92fdf4ec12"
  },
  {
   "cell_type": "code",
   "execution_count": 12,
   "outputs": [],
   "source": [
    "def streak_effect(start_margin, end_margin):\n",
    "    # Ensure both start_margin and end_margin are integers\n",
    "    if not (isinstance(start_margin, int) and isinstance(end_margin, int)):\n",
    "        raise ValueError(\"Both start_margin and end_margin must be integers.\")\n",
    "\n",
    "    # Compare when both margins are integers\n",
    "    if start_margin > 0 and end_margin > 0:\n",
    "        return \"Continued leading\" if end_margin > start_margin else \"Narrowed lead\"\n",
    "    elif start_margin < 0 and end_margin < 0:\n",
    "        return \"Continued losing\" if end_margin < start_margin else \"Narrowed deficit\"\n",
    "    elif start_margin > 0 and end_margin < 0:\n",
    "        return \"From leading to losing\"\n",
    "    elif start_margin < 0 and end_margin > 0:\n",
    "        return \"From losing to leading\"\n",
    "    elif start_margin == 0 and end_margin != 0:\n",
    "        return \"Went from tie to leading\" if end_margin > 0 else \"Went from tie to losing\"\n",
    "    elif start_margin != 0 and end_margin == 0:\n",
    "        return \"Went from leading to tie\" if start_margin > 0 else \"Went from losing to tie\"\n",
    "\n",
    "    return \"Stayed tied\"  # When start_margin == 0 and end_margin == 0\n",
    "    \n",
    "    return \"Unknown transition\""
   ],
   "metadata": {
    "collapsed": false,
    "ExecuteTime": {
     "end_time": "2024-11-17T15:01:24.518216Z",
     "start_time": "2024-11-17T15:01:24.514767Z"
    }
   },
   "id": "1b3cbb25e6b6e336"
  },
  {
   "cell_type": "code",
   "execution_count": 27,
   "outputs": [
    {
     "data": {
      "text/plain": "     length_of_streak list_of_games  start_margin  end_margin  period  \\\n0                   2  [22200002.0]            20          23     3.0   \n1                   2  [22200002.0]            16          16     4.0   \n4                   3  [22200026.0]            -6          -7     4.0   \n6                   2  [22200042.0]             4           7     2.0   \n17                  2  [22200068.0]             4           0     3.0   \n..                ...           ...           ...         ...     ...   \n513                 2  [22301214.0]            -7          -7     3.0   \n519                 2  [22301222.0]            -3           2     5.0   \n524                 2  [22400007.0]            -1           4     4.0   \n525                 2  [22400019.0]             9          12     3.0   \n552                 2  [22400207.0]           -11         -10     4.0   \n\n                       effect  \n0           Continued leading  \n1               Narrowed lead  \n4            Continued losing  \n6           Continued leading  \n17   Went from leading to tie  \n..                        ...  \n513          Narrowed deficit  \n519    From losing to leading  \n524    From losing to leading  \n525         Continued leading  \n552          Narrowed deficit  \n\n[92 rows x 6 columns]",
      "text/html": "<div>\n<style scoped>\n    .dataframe tbody tr th:only-of-type {\n        vertical-align: middle;\n    }\n\n    .dataframe tbody tr th {\n        vertical-align: top;\n    }\n\n    .dataframe thead th {\n        text-align: right;\n    }\n</style>\n<table border=\"1\" class=\"dataframe\">\n  <thead>\n    <tr style=\"text-align: right;\">\n      <th></th>\n      <th>length_of_streak</th>\n      <th>list_of_games</th>\n      <th>start_margin</th>\n      <th>end_margin</th>\n      <th>period</th>\n      <th>effect</th>\n    </tr>\n  </thead>\n  <tbody>\n    <tr>\n      <th>0</th>\n      <td>2</td>\n      <td>[22200002.0]</td>\n      <td>20</td>\n      <td>23</td>\n      <td>3.0</td>\n      <td>Continued leading</td>\n    </tr>\n    <tr>\n      <th>1</th>\n      <td>2</td>\n      <td>[22200002.0]</td>\n      <td>16</td>\n      <td>16</td>\n      <td>4.0</td>\n      <td>Narrowed lead</td>\n    </tr>\n    <tr>\n      <th>4</th>\n      <td>3</td>\n      <td>[22200026.0]</td>\n      <td>-6</td>\n      <td>-7</td>\n      <td>4.0</td>\n      <td>Continued losing</td>\n    </tr>\n    <tr>\n      <th>6</th>\n      <td>2</td>\n      <td>[22200042.0]</td>\n      <td>4</td>\n      <td>7</td>\n      <td>2.0</td>\n      <td>Continued leading</td>\n    </tr>\n    <tr>\n      <th>17</th>\n      <td>2</td>\n      <td>[22200068.0]</td>\n      <td>4</td>\n      <td>0</td>\n      <td>3.0</td>\n      <td>Went from leading to tie</td>\n    </tr>\n    <tr>\n      <th>...</th>\n      <td>...</td>\n      <td>...</td>\n      <td>...</td>\n      <td>...</td>\n      <td>...</td>\n      <td>...</td>\n    </tr>\n    <tr>\n      <th>513</th>\n      <td>2</td>\n      <td>[22301214.0]</td>\n      <td>-7</td>\n      <td>-7</td>\n      <td>3.0</td>\n      <td>Narrowed deficit</td>\n    </tr>\n    <tr>\n      <th>519</th>\n      <td>2</td>\n      <td>[22301222.0]</td>\n      <td>-3</td>\n      <td>2</td>\n      <td>5.0</td>\n      <td>From losing to leading</td>\n    </tr>\n    <tr>\n      <th>524</th>\n      <td>2</td>\n      <td>[22400007.0]</td>\n      <td>-1</td>\n      <td>4</td>\n      <td>4.0</td>\n      <td>From losing to leading</td>\n    </tr>\n    <tr>\n      <th>525</th>\n      <td>2</td>\n      <td>[22400019.0]</td>\n      <td>9</td>\n      <td>12</td>\n      <td>3.0</td>\n      <td>Continued leading</td>\n    </tr>\n    <tr>\n      <th>552</th>\n      <td>2</td>\n      <td>[22400207.0]</td>\n      <td>-11</td>\n      <td>-10</td>\n      <td>4.0</td>\n      <td>Narrowed deficit</td>\n    </tr>\n  </tbody>\n</table>\n<p>92 rows × 6 columns</p>\n</div>"
     },
     "execution_count": 27,
     "metadata": {},
     "output_type": "execute_result"
    }
   ],
   "source": [
    "# Replace NaN rows with a unique marker\n",
    "streaks_df['streak_marker'] = streaks_df['PLAYER1_ID'].isna()\n",
    "\n",
    "# Create a 'streak_id' column to identify the streak group\n",
    "streaks_df['streak_id'] = streaks_df['streak_marker'].cumsum()\n",
    "\n",
    "# Remove the NaN rows (streak separators) from the DataFrame\n",
    "streaks_without_nans = streaks_df.dropna(subset=['PLAYER1_ID'])\n",
    "\n",
    "# Group by 'streak_id' and aggregate the length, list of games, and period\n",
    "streak_summary = streaks_without_nans.groupby('streak_id').agg(\n",
    "    length_of_streak=('PLAYER1_ID', 'size'),  # Count the length of each streak\n",
    "    list_of_games=('GAME_ID', lambda x: x.unique().tolist()),  # Get the unique list of games for each streak\n",
    "    start_margin=('SCOREMARGIN', 'first'),  # Get the starting score margin\n",
    "    end_margin=('SCOREMARGIN', 'last'),  # Get the ending score margin\n",
    "    period=('PERIOD', lambda x: x.iloc[-1])  # Get the last period before the streak ends\n",
    ").reset_index(drop=True)\n",
    "\n",
    "streak_summary['start_margin'] = streak_summary['start_margin'].replace('TIE', 0).astype(int)\n",
    "streak_summary['end_margin'] = streak_summary['end_margin'].replace('TIE', 0).astype(int)\n",
    "\n",
    "# Apply the effect function to the streak summary\n",
    "streak_summary['effect'] = streak_summary.apply(\n",
    "    lambda row: streak_effect(row['start_margin'], row['end_margin']), axis=1\n",
    ")\n",
    "\n",
    "# Filter to only include streaks with a length of 2 or greater\n",
    "streak_summary = streak_summary[streak_summary['length_of_streak'] >= 2]\n",
    "\n",
    "# Display the DataFrame\n",
    "streak_summary"
   ],
   "metadata": {
    "collapsed": false,
    "ExecuteTime": {
     "end_time": "2024-11-18T10:24:39.561161Z",
     "start_time": "2024-11-18T10:24:39.520744Z"
    }
   },
   "id": "d7304cac1a6f59ff"
  },
  {
   "cell_type": "code",
   "execution_count": 15,
   "outputs": [
    {
     "data": {
      "text/plain": "     length_of_streak list_of_games  start_margin  end_margin  \\\n0                   2  [22200002.0]            20          23   \n1                   2  [22200002.0]            16          16   \n4                   3  [22200026.0]            -6          -7   \n6                   2  [22200042.0]             4           7   \n17                  2  [22200068.0]             4           0   \n..                ...           ...           ...         ...   \n513                 2  [22301214.0]            -7          -7   \n519                 2  [22301222.0]            -3           2   \n524                 2  [22400007.0]            -1           4   \n525                 2  [22400019.0]             9          12   \n552                 2  [22400207.0]           -11         -10   \n\n                       effect  \n0           Continued leading  \n1               Narrowed lead  \n4            Continued losing  \n6           Continued leading  \n17   Went from leading to tie  \n..                        ...  \n513          Narrowed deficit  \n519    From losing to leading  \n524    From losing to leading  \n525         Continued leading  \n552          Narrowed deficit  \n\n[92 rows x 5 columns]",
      "text/html": "<div>\n<style scoped>\n    .dataframe tbody tr th:only-of-type {\n        vertical-align: middle;\n    }\n\n    .dataframe tbody tr th {\n        vertical-align: top;\n    }\n\n    .dataframe thead th {\n        text-align: right;\n    }\n</style>\n<table border=\"1\" class=\"dataframe\">\n  <thead>\n    <tr style=\"text-align: right;\">\n      <th></th>\n      <th>length_of_streak</th>\n      <th>list_of_games</th>\n      <th>start_margin</th>\n      <th>end_margin</th>\n      <th>effect</th>\n    </tr>\n  </thead>\n  <tbody>\n    <tr>\n      <th>0</th>\n      <td>2</td>\n      <td>[22200002.0]</td>\n      <td>20</td>\n      <td>23</td>\n      <td>Continued leading</td>\n    </tr>\n    <tr>\n      <th>1</th>\n      <td>2</td>\n      <td>[22200002.0]</td>\n      <td>16</td>\n      <td>16</td>\n      <td>Narrowed lead</td>\n    </tr>\n    <tr>\n      <th>4</th>\n      <td>3</td>\n      <td>[22200026.0]</td>\n      <td>-6</td>\n      <td>-7</td>\n      <td>Continued losing</td>\n    </tr>\n    <tr>\n      <th>6</th>\n      <td>2</td>\n      <td>[22200042.0]</td>\n      <td>4</td>\n      <td>7</td>\n      <td>Continued leading</td>\n    </tr>\n    <tr>\n      <th>17</th>\n      <td>2</td>\n      <td>[22200068.0]</td>\n      <td>4</td>\n      <td>0</td>\n      <td>Went from leading to tie</td>\n    </tr>\n    <tr>\n      <th>...</th>\n      <td>...</td>\n      <td>...</td>\n      <td>...</td>\n      <td>...</td>\n      <td>...</td>\n    </tr>\n    <tr>\n      <th>513</th>\n      <td>2</td>\n      <td>[22301214.0]</td>\n      <td>-7</td>\n      <td>-7</td>\n      <td>Narrowed deficit</td>\n    </tr>\n    <tr>\n      <th>519</th>\n      <td>2</td>\n      <td>[22301222.0]</td>\n      <td>-3</td>\n      <td>2</td>\n      <td>From losing to leading</td>\n    </tr>\n    <tr>\n      <th>524</th>\n      <td>2</td>\n      <td>[22400007.0]</td>\n      <td>-1</td>\n      <td>4</td>\n      <td>From losing to leading</td>\n    </tr>\n    <tr>\n      <th>525</th>\n      <td>2</td>\n      <td>[22400019.0]</td>\n      <td>9</td>\n      <td>12</td>\n      <td>Continued leading</td>\n    </tr>\n    <tr>\n      <th>552</th>\n      <td>2</td>\n      <td>[22400207.0]</td>\n      <td>-11</td>\n      <td>-10</td>\n      <td>Narrowed deficit</td>\n    </tr>\n  </tbody>\n</table>\n<p>92 rows × 5 columns</p>\n</div>"
     },
     "execution_count": 15,
     "metadata": {},
     "output_type": "execute_result"
    }
   ],
   "source": [
    "streak_summary.sort_values(by=['list_of_games'])"
   ],
   "metadata": {
    "collapsed": false,
    "ExecuteTime": {
     "end_time": "2024-11-17T15:02:05.717186Z",
     "start_time": "2024-11-17T15:02:05.713236Z"
    }
   },
   "id": "93bcd731397bcc49"
  },
  {
   "cell_type": "markdown",
   "source": [],
   "metadata": {
    "collapsed": false
   },
   "id": "6c2296651a19889a"
  },
  {
   "cell_type": "code",
   "execution_count": 28,
   "outputs": [
    {
     "name": "stderr",
     "output_type": "stream",
     "text": [
      "100%|██████████| 92/92 [03:21<00:00,  2.19s/it]\n"
     ]
    }
   ],
   "source": [
    "from nba_api.stats.endpoints.boxscoretraditionalv2 import BoxScoreTraditionalV2\n",
    "\n",
    "steph_stats = pd.DataFrame()\n",
    "games_stats = pd.DataFrame()\n",
    "\n",
    "streak_summary = streak_summary.sort_values(by=['list_of_games'])\n",
    "\n",
    "for _, row in tqdm(streak_summary.iterrows(), total=len(streak_summary)):\n",
    "    games = row.list_of_games\n",
    "    length_of_streak = row.length_of_streak\n",
    "    effect = row.effect\n",
    "    period = row.period\n",
    "\n",
    "    for game in games:\n",
    "        game_id = f\"{int(game):010}\"\n",
    "\n",
    "        # Check if 'GAME_ID' column exists before accessing it\n",
    "        if 'GAME_ID' in steph_stats.columns:\n",
    "            # Check if the game already exists in the DataFrame\n",
    "            if game_id in steph_stats['GAME_ID'].values:\n",
    "                # Append the length of the streak to the existing list\n",
    "                steph_stats.loc[steph_stats['GAME_ID'] == game_id, 'LENGTH_OF_STREAK'].apply(lambda x: x.append(length_of_streak))\n",
    "                steph_stats.loc[steph_stats['GAME_ID'] == game_id, 'PERIOD'].apply(lambda x: x.append(period))\n",
    "\n",
    "                continue  # Skip to the next game after appending\n",
    "\n",
    "        boxscore = BoxScoreTraditionalV2(game_id=game_id, timeout=60).get_data_frames()\n",
    "        time.sleep(0.5)\n",
    "\n",
    "        basic_boxscore = boxscore[0]\n",
    "        team_boxscore = boxscore[1]\n",
    "\n",
    "        gsw_points = team_boxscore[team_boxscore.TEAM_ABBREVIATION == 'GSW'].PTS.values[0]\n",
    "        opponent_points = team_boxscore[team_boxscore.TEAM_ABBREVIATION != 'GSW'].PTS.values[0]\n",
    "        gsw_win = gsw_points > opponent_points\n",
    "\n",
    "        new_row = basic_boxscore[basic_boxscore.PLAYER_ID == player_id].copy()\n",
    "        new_row['LENGTH_OF_STREAK'] = [[length_of_streak]]\n",
    "        new_row['PERIOD'] = [[period]]\n",
    "\n",
    "        new_row['GAME_WON'] = gsw_win\n",
    "        new_row['EFFECT'] = effect\n",
    "\n",
    "        steph_stats = pd.concat([steph_stats, new_row], ignore_index=True)\n",
    "\n",
    "    time.sleep(0.5)"
   ],
   "metadata": {
    "collapsed": false,
    "ExecuteTime": {
     "end_time": "2024-11-18T10:29:39.848920Z",
     "start_time": "2024-11-18T10:26:17.959517Z"
    }
   },
   "id": "bba92af09d4e8da7"
  },
  {
   "cell_type": "code",
   "execution_count": 42,
   "outputs": [
    {
     "data": {
      "text/plain": "       GAME_ID     TEAM_ID TEAM_ABBREVIATION     TEAM_CITY  PLAYER_ID  \\\n0   0022200002  1610612744               GSW  Golden State     201939   \n1   0022200026  1610612744               GSW  Golden State     201939   \n2   0022200042  1610612744               GSW  Golden State     201939   \n3   0022200068  1610612744               GSW  Golden State     201939   \n4   0022200118  1610612744               GSW  Golden State     201939   \n..         ...         ...               ...           ...        ...   \n67  0022301214  1610612744               GSW  Golden State     201939   \n68  0022301222  1610612744               GSW  Golden State     201939   \n69  0022400007  1610612744               GSW  Golden State     201939   \n70  0022400019  1610612744               GSW  Golden State     201939   \n71  0022400207  1610612744               GSW  Golden State     201939   \n\n      PLAYER_NAME NICKNAME START_POSITION COMMENT           MIN   FGM   FGA  \\\n0   Stephen Curry  Stephen              G          32.000000:48  10.0  22.0   \n1   Stephen Curry  Stephen              G          35.000000:55  10.0  22.0   \n2   Stephen Curry  Stephen              G          31.000000:21  11.0  22.0   \n3   Stephen Curry  Stephen              G          36.000000:56  13.0  22.0   \n4   Stephen Curry  Stephen              G          38.000000:21  13.0  22.0   \n..            ...      ...            ...     ...           ...   ...   ...   \n67  Stephen Curry  Stephen              G          34.000000:29   8.0  18.0   \n68  Stephen Curry  Stephen              G          40.000000:22  10.0  20.0   \n69  Stephen Curry  Stephen              G          34.000000:52  14.0  27.0   \n70  Stephen Curry  Stephen              G          26.000000:01   4.0   9.0   \n71  Stephen Curry  Stephen              G          36.000000:30  13.0  23.0   \n\n    FG_PCT  FG3M  FG3A  FG3_PCT   FTM   FTA  FT_PCT  OREB  DREB  REB  AST  \\\n0    0.455   4.0  13.0    0.308   9.0   9.0   1.000   1.0   5.0  6.0  7.0   \n1    0.455   5.0  11.0    0.455   9.0   9.0   1.000   1.0   4.0  5.0  4.0   \n2    0.500   7.0  12.0    0.583   4.0   4.0   1.000   0.0   5.0  5.0  2.0   \n3    0.591   7.0  14.0    0.500   0.0   0.0   0.000   1.0   6.0  7.0  9.0   \n4    0.591   8.0  15.0    0.533   5.0   5.0   1.000   1.0   2.0  3.0  9.0   \n..     ...   ...   ...      ...   ...   ...     ...   ...   ...  ...  ...   \n67   0.444   5.0  13.0    0.385  10.0  11.0   0.909   0.0   5.0  5.0  1.0   \n68   0.500   6.0  12.0    0.500   8.0   8.0   1.000   0.0   6.0  6.0  3.0   \n69   0.519   5.0  12.0    0.417   4.0   5.0   0.800   0.0   6.0  6.0  9.0   \n70   0.444   3.0   7.0    0.429   2.0   2.0   1.000   1.0   7.0  8.0  5.0   \n71   0.565   7.0  13.0    0.538   3.0   4.0   0.750   1.0   4.0  5.0  7.0   \n\n    STL  BLK   TO   PF   PTS  PLUS_MINUS LENGTH_OF_STREAK      PERIOD  \\\n0   4.0  1.0  4.0  1.0  33.0        20.0           [2, 2]  [3.0, 4.0]   \n1   0.0  0.0  3.0  2.0  34.0         9.0              [3]       [4.0]   \n2   1.0  0.0  2.0  3.0  33.0        19.0              [2]       [2.0]   \n3   1.0  0.0  3.0  0.0  33.0        13.0              [2]       [3.0]   \n4   0.0  0.0  5.0  3.0  39.0         4.0           [2, 2]  [2.0, 3.0]   \n..  ...  ...  ...  ...   ...         ...              ...         ...   \n67  0.0  0.0  4.0  2.0  31.0         4.0              [2]       [3.0]   \n68  1.0  0.0  3.0  0.0  34.0        -5.0              [2]       [5.0]   \n69  1.0  2.0  4.0  2.0  37.0        24.0              [2]       [4.0]   \n70  4.0  0.0  3.0  2.0  13.0         9.0              [2]       [3.0]   \n71  1.0  1.0  3.0  2.0  36.0        21.0              [2]       [4.0]   \n\n    GAME_WON                    EFFECT  \n0       True         Continued leading  \n1      False          Continued losing  \n2       True         Continued leading  \n3       True  Went from leading to tie  \n4      False          Continued losing  \n..       ...                       ...  \n67      True          Narrowed deficit  \n68     False    From losing to leading  \n69      True    From losing to leading  \n70      True         Continued leading  \n71      True          Narrowed deficit  \n\n[72 rows x 33 columns]",
      "text/html": "<div>\n<style scoped>\n    .dataframe tbody tr th:only-of-type {\n        vertical-align: middle;\n    }\n\n    .dataframe tbody tr th {\n        vertical-align: top;\n    }\n\n    .dataframe thead th {\n        text-align: right;\n    }\n</style>\n<table border=\"1\" class=\"dataframe\">\n  <thead>\n    <tr style=\"text-align: right;\">\n      <th></th>\n      <th>GAME_ID</th>\n      <th>TEAM_ID</th>\n      <th>TEAM_ABBREVIATION</th>\n      <th>TEAM_CITY</th>\n      <th>PLAYER_ID</th>\n      <th>PLAYER_NAME</th>\n      <th>NICKNAME</th>\n      <th>START_POSITION</th>\n      <th>COMMENT</th>\n      <th>MIN</th>\n      <th>FGM</th>\n      <th>FGA</th>\n      <th>FG_PCT</th>\n      <th>FG3M</th>\n      <th>FG3A</th>\n      <th>FG3_PCT</th>\n      <th>FTM</th>\n      <th>FTA</th>\n      <th>FT_PCT</th>\n      <th>OREB</th>\n      <th>DREB</th>\n      <th>REB</th>\n      <th>AST</th>\n      <th>STL</th>\n      <th>BLK</th>\n      <th>TO</th>\n      <th>PF</th>\n      <th>PTS</th>\n      <th>PLUS_MINUS</th>\n      <th>LENGTH_OF_STREAK</th>\n      <th>PERIOD</th>\n      <th>GAME_WON</th>\n      <th>EFFECT</th>\n    </tr>\n  </thead>\n  <tbody>\n    <tr>\n      <th>0</th>\n      <td>0022200002</td>\n      <td>1610612744</td>\n      <td>GSW</td>\n      <td>Golden State</td>\n      <td>201939</td>\n      <td>Stephen Curry</td>\n      <td>Stephen</td>\n      <td>G</td>\n      <td></td>\n      <td>32.000000:48</td>\n      <td>10.0</td>\n      <td>22.0</td>\n      <td>0.455</td>\n      <td>4.0</td>\n      <td>13.0</td>\n      <td>0.308</td>\n      <td>9.0</td>\n      <td>9.0</td>\n      <td>1.000</td>\n      <td>1.0</td>\n      <td>5.0</td>\n      <td>6.0</td>\n      <td>7.0</td>\n      <td>4.0</td>\n      <td>1.0</td>\n      <td>4.0</td>\n      <td>1.0</td>\n      <td>33.0</td>\n      <td>20.0</td>\n      <td>[2, 2]</td>\n      <td>[3.0, 4.0]</td>\n      <td>True</td>\n      <td>Continued leading</td>\n    </tr>\n    <tr>\n      <th>1</th>\n      <td>0022200026</td>\n      <td>1610612744</td>\n      <td>GSW</td>\n      <td>Golden State</td>\n      <td>201939</td>\n      <td>Stephen Curry</td>\n      <td>Stephen</td>\n      <td>G</td>\n      <td></td>\n      <td>35.000000:55</td>\n      <td>10.0</td>\n      <td>22.0</td>\n      <td>0.455</td>\n      <td>5.0</td>\n      <td>11.0</td>\n      <td>0.455</td>\n      <td>9.0</td>\n      <td>9.0</td>\n      <td>1.000</td>\n      <td>1.0</td>\n      <td>4.0</td>\n      <td>5.0</td>\n      <td>4.0</td>\n      <td>0.0</td>\n      <td>0.0</td>\n      <td>3.0</td>\n      <td>2.0</td>\n      <td>34.0</td>\n      <td>9.0</td>\n      <td>[3]</td>\n      <td>[4.0]</td>\n      <td>False</td>\n      <td>Continued losing</td>\n    </tr>\n    <tr>\n      <th>2</th>\n      <td>0022200042</td>\n      <td>1610612744</td>\n      <td>GSW</td>\n      <td>Golden State</td>\n      <td>201939</td>\n      <td>Stephen Curry</td>\n      <td>Stephen</td>\n      <td>G</td>\n      <td></td>\n      <td>31.000000:21</td>\n      <td>11.0</td>\n      <td>22.0</td>\n      <td>0.500</td>\n      <td>7.0</td>\n      <td>12.0</td>\n      <td>0.583</td>\n      <td>4.0</td>\n      <td>4.0</td>\n      <td>1.000</td>\n      <td>0.0</td>\n      <td>5.0</td>\n      <td>5.0</td>\n      <td>2.0</td>\n      <td>1.0</td>\n      <td>0.0</td>\n      <td>2.0</td>\n      <td>3.0</td>\n      <td>33.0</td>\n      <td>19.0</td>\n      <td>[2]</td>\n      <td>[2.0]</td>\n      <td>True</td>\n      <td>Continued leading</td>\n    </tr>\n    <tr>\n      <th>3</th>\n      <td>0022200068</td>\n      <td>1610612744</td>\n      <td>GSW</td>\n      <td>Golden State</td>\n      <td>201939</td>\n      <td>Stephen Curry</td>\n      <td>Stephen</td>\n      <td>G</td>\n      <td></td>\n      <td>36.000000:56</td>\n      <td>13.0</td>\n      <td>22.0</td>\n      <td>0.591</td>\n      <td>7.0</td>\n      <td>14.0</td>\n      <td>0.500</td>\n      <td>0.0</td>\n      <td>0.0</td>\n      <td>0.000</td>\n      <td>1.0</td>\n      <td>6.0</td>\n      <td>7.0</td>\n      <td>9.0</td>\n      <td>1.0</td>\n      <td>0.0</td>\n      <td>3.0</td>\n      <td>0.0</td>\n      <td>33.0</td>\n      <td>13.0</td>\n      <td>[2]</td>\n      <td>[3.0]</td>\n      <td>True</td>\n      <td>Went from leading to tie</td>\n    </tr>\n    <tr>\n      <th>4</th>\n      <td>0022200118</td>\n      <td>1610612744</td>\n      <td>GSW</td>\n      <td>Golden State</td>\n      <td>201939</td>\n      <td>Stephen Curry</td>\n      <td>Stephen</td>\n      <td>G</td>\n      <td></td>\n      <td>38.000000:21</td>\n      <td>13.0</td>\n      <td>22.0</td>\n      <td>0.591</td>\n      <td>8.0</td>\n      <td>15.0</td>\n      <td>0.533</td>\n      <td>5.0</td>\n      <td>5.0</td>\n      <td>1.000</td>\n      <td>1.0</td>\n      <td>2.0</td>\n      <td>3.0</td>\n      <td>9.0</td>\n      <td>0.0</td>\n      <td>0.0</td>\n      <td>5.0</td>\n      <td>3.0</td>\n      <td>39.0</td>\n      <td>4.0</td>\n      <td>[2, 2]</td>\n      <td>[2.0, 3.0]</td>\n      <td>False</td>\n      <td>Continued losing</td>\n    </tr>\n    <tr>\n      <th>...</th>\n      <td>...</td>\n      <td>...</td>\n      <td>...</td>\n      <td>...</td>\n      <td>...</td>\n      <td>...</td>\n      <td>...</td>\n      <td>...</td>\n      <td>...</td>\n      <td>...</td>\n      <td>...</td>\n      <td>...</td>\n      <td>...</td>\n      <td>...</td>\n      <td>...</td>\n      <td>...</td>\n      <td>...</td>\n      <td>...</td>\n      <td>...</td>\n      <td>...</td>\n      <td>...</td>\n      <td>...</td>\n      <td>...</td>\n      <td>...</td>\n      <td>...</td>\n      <td>...</td>\n      <td>...</td>\n      <td>...</td>\n      <td>...</td>\n      <td>...</td>\n      <td>...</td>\n      <td>...</td>\n      <td>...</td>\n    </tr>\n    <tr>\n      <th>67</th>\n      <td>0022301214</td>\n      <td>1610612744</td>\n      <td>GSW</td>\n      <td>Golden State</td>\n      <td>201939</td>\n      <td>Stephen Curry</td>\n      <td>Stephen</td>\n      <td>G</td>\n      <td></td>\n      <td>34.000000:29</td>\n      <td>8.0</td>\n      <td>18.0</td>\n      <td>0.444</td>\n      <td>5.0</td>\n      <td>13.0</td>\n      <td>0.385</td>\n      <td>10.0</td>\n      <td>11.0</td>\n      <td>0.909</td>\n      <td>0.0</td>\n      <td>5.0</td>\n      <td>5.0</td>\n      <td>1.0</td>\n      <td>0.0</td>\n      <td>0.0</td>\n      <td>4.0</td>\n      <td>2.0</td>\n      <td>31.0</td>\n      <td>4.0</td>\n      <td>[2]</td>\n      <td>[3.0]</td>\n      <td>True</td>\n      <td>Narrowed deficit</td>\n    </tr>\n    <tr>\n      <th>68</th>\n      <td>0022301222</td>\n      <td>1610612744</td>\n      <td>GSW</td>\n      <td>Golden State</td>\n      <td>201939</td>\n      <td>Stephen Curry</td>\n      <td>Stephen</td>\n      <td>G</td>\n      <td></td>\n      <td>40.000000:22</td>\n      <td>10.0</td>\n      <td>20.0</td>\n      <td>0.500</td>\n      <td>6.0</td>\n      <td>12.0</td>\n      <td>0.500</td>\n      <td>8.0</td>\n      <td>8.0</td>\n      <td>1.000</td>\n      <td>0.0</td>\n      <td>6.0</td>\n      <td>6.0</td>\n      <td>3.0</td>\n      <td>1.0</td>\n      <td>0.0</td>\n      <td>3.0</td>\n      <td>0.0</td>\n      <td>34.0</td>\n      <td>-5.0</td>\n      <td>[2]</td>\n      <td>[5.0]</td>\n      <td>False</td>\n      <td>From losing to leading</td>\n    </tr>\n    <tr>\n      <th>69</th>\n      <td>0022400007</td>\n      <td>1610612744</td>\n      <td>GSW</td>\n      <td>Golden State</td>\n      <td>201939</td>\n      <td>Stephen Curry</td>\n      <td>Stephen</td>\n      <td>G</td>\n      <td></td>\n      <td>34.000000:52</td>\n      <td>14.0</td>\n      <td>27.0</td>\n      <td>0.519</td>\n      <td>5.0</td>\n      <td>12.0</td>\n      <td>0.417</td>\n      <td>4.0</td>\n      <td>5.0</td>\n      <td>0.800</td>\n      <td>0.0</td>\n      <td>6.0</td>\n      <td>6.0</td>\n      <td>9.0</td>\n      <td>1.0</td>\n      <td>2.0</td>\n      <td>4.0</td>\n      <td>2.0</td>\n      <td>37.0</td>\n      <td>24.0</td>\n      <td>[2]</td>\n      <td>[4.0]</td>\n      <td>True</td>\n      <td>From losing to leading</td>\n    </tr>\n    <tr>\n      <th>70</th>\n      <td>0022400019</td>\n      <td>1610612744</td>\n      <td>GSW</td>\n      <td>Golden State</td>\n      <td>201939</td>\n      <td>Stephen Curry</td>\n      <td>Stephen</td>\n      <td>G</td>\n      <td></td>\n      <td>26.000000:01</td>\n      <td>4.0</td>\n      <td>9.0</td>\n      <td>0.444</td>\n      <td>3.0</td>\n      <td>7.0</td>\n      <td>0.429</td>\n      <td>2.0</td>\n      <td>2.0</td>\n      <td>1.000</td>\n      <td>1.0</td>\n      <td>7.0</td>\n      <td>8.0</td>\n      <td>5.0</td>\n      <td>4.0</td>\n      <td>0.0</td>\n      <td>3.0</td>\n      <td>2.0</td>\n      <td>13.0</td>\n      <td>9.0</td>\n      <td>[2]</td>\n      <td>[3.0]</td>\n      <td>True</td>\n      <td>Continued leading</td>\n    </tr>\n    <tr>\n      <th>71</th>\n      <td>0022400207</td>\n      <td>1610612744</td>\n      <td>GSW</td>\n      <td>Golden State</td>\n      <td>201939</td>\n      <td>Stephen Curry</td>\n      <td>Stephen</td>\n      <td>G</td>\n      <td></td>\n      <td>36.000000:30</td>\n      <td>13.0</td>\n      <td>23.0</td>\n      <td>0.565</td>\n      <td>7.0</td>\n      <td>13.0</td>\n      <td>0.538</td>\n      <td>3.0</td>\n      <td>4.0</td>\n      <td>0.750</td>\n      <td>1.0</td>\n      <td>4.0</td>\n      <td>5.0</td>\n      <td>7.0</td>\n      <td>1.0</td>\n      <td>1.0</td>\n      <td>3.0</td>\n      <td>2.0</td>\n      <td>36.0</td>\n      <td>21.0</td>\n      <td>[2]</td>\n      <td>[4.0]</td>\n      <td>True</td>\n      <td>Narrowed deficit</td>\n    </tr>\n  </tbody>\n</table>\n<p>72 rows × 33 columns</p>\n</div>"
     },
     "execution_count": 42,
     "metadata": {},
     "output_type": "execute_result"
    }
   ],
   "source": [
    "steph_stats"
   ],
   "metadata": {
    "collapsed": false,
    "ExecuteTime": {
     "end_time": "2024-11-18T10:59:53.048068Z",
     "start_time": "2024-11-18T10:59:53.039963Z"
    }
   },
   "id": "399973331aab262f"
  },
  {
   "cell_type": "code",
   "execution_count": null,
   "outputs": [],
   "source": [
    "steph_stats = pd.DataFrame()\n",
    "games_stats = pd.DataFrame()\n",
    "\n",
    "streak_summary = streak_summary.sort_values(by=['list_of_games'])\n",
    "\n",
    "for _, row in tqdm(streak_summary.iterrows(), total=len(streak_summary)):\n",
    "    games = row.list_of_games\n",
    "    length_of_streak = row.length_of_streak\n",
    "    effect = row.effect\n",
    "    period = row.period\n",
    "\n",
    "    for game in games:\n",
    "        game_id = f\"{int(game):010}\"\n",
    "\n",
    "        # Check if 'GAME_ID' column exists before accessing it\n",
    "        if 'GAME_ID' in steph_stats.columns:\n",
    "            # Check if the game already exists in the DataFrame\n",
    "            if game_id in steph_stats['GAME_ID'].values:\n",
    "                # Append the length of the streak to the existing list\n",
    "                steph_stats.loc[steph_stats['GAME_ID'] == game_id, 'LENGTH_OF_STREAK'].apply(lambda x: x.append(length_of_streak))\n",
    "                steph_stats.loc[steph_stats['GAME_ID'] == game_id, 'PERIOD'].apply(lambda x: x.append(period))\n",
    "\n",
    "                continue  # Skip to the next game after appending\n",
    "\n",
    "        boxscore = BoxScoreTraditionalV2(game_id=game_id, timeout=60).get_data_frames()\n",
    "        time.sleep(0.5)\n",
    "\n",
    "        basic_boxscore = boxscore[0]\n",
    "        team_boxscore = boxscore[1]\n",
    "\n",
    "        gsw_points = team_boxscore[team_boxscore.TEAM_ABBREVIATION == 'GSW'].PTS.values[0]\n",
    "        opponent_points = team_boxscore[team_boxscore.TEAM_ABBREVIATION != 'GSW'].PTS.values[0]\n",
    "        gsw_win = gsw_points > opponent_points\n",
    "\n",
    "        new_row = basic_boxscore[basic_boxscore.PLAYER_ID == player_id].copy()\n",
    "        new_row['LENGTH_OF_STREAK'] = [[length_of_streak]]\n",
    "        new_row['PERIOD'] = [[period]]\n",
    "\n",
    "        new_row['GAME_WON'] = gsw_win\n",
    "        new_row['EFFECT'] = effect\n",
    "\n",
    "        steph_stats = pd.concat([steph_stats, new_row], ignore_index=True)\n",
    "\n",
    "    time.sleep(0.5)"
   ],
   "metadata": {
    "collapsed": false
   },
   "id": "dd8ba07e62840f84"
  },
  {
   "cell_type": "code",
   "execution_count": 75,
   "outputs": [
    {
     "name": "stdout",
     "output_type": "stream",
     "text": [
      "GAMES - 72\n",
      "PTS: 31.25\n",
      "REB: 5.32\n",
      "AST: 5.96\n",
      "FG%: 50.53%\n",
      "3P%: 47.14%\n",
      "Win%: 65.28%\n",
      "PM: 6.96\n"
     ]
    }
   ],
   "source": [
    "import numpy as np\n",
    "\n",
    "avg_points = np.mean(steph_stats.PTS)\n",
    "avg_reb = np.mean(steph_stats.REB)\n",
    "avg_ast = np.mean(steph_stats.AST)\n",
    "\n",
    "avg_fg_perc = np.sum(steph_stats.FGM) / np.sum(steph_stats.FGA)\n",
    "avg_3p_perc = np.sum(steph_stats.FG3M) / np.sum(steph_stats.FG3A)\n",
    "\n",
    "avg_pm = np.mean(steph_stats.PLUS_MINUS)\n",
    "win_percentage = (np.sum(steph_stats.GAME_WON) / len(steph_stats.GAME_WON)) * 100\n",
    "\n",
    "print(f'GAMES - {len(steph_stats)}')\n",
    "print(f'PTS: {avg_points:.2f}')\n",
    "print(f'REB: {avg_reb:.2f}')\n",
    "print(f'AST: {avg_ast:.2f}')\n",
    "print(f'FG%: {avg_fg_perc*100:.2f}%')\n",
    "print(f'3P%: {avg_3p_perc*100:.2f}%')\n",
    "print(f'Win%: {win_percentage:.2f}%')\n",
    "print(f'PM: {avg_pm:.2f}')"
   ],
   "metadata": {
    "collapsed": false,
    "ExecuteTime": {
     "end_time": "2024-11-18T11:56:53.696553Z",
     "start_time": "2024-11-18T11:56:53.687622Z"
    }
   },
   "id": "d165cdab5d7d8593"
  },
  {
   "cell_type": "code",
   "execution_count": 45,
   "outputs": [],
   "source": [
    "def get_quarter_times(quarter):\n",
    "    quarter_times = {\n",
    "        1: [0, 7200],              # Q1: Start at 0, end at 7200\n",
    "        2: [7205, 14405],          # Q2: Start at 7205, end at 14405\n",
    "        3: [14410, 21610],         # Q3: Start at 14410, end at 21610\n",
    "        4: [21615, 28815],         # Q4: Start at 21615, end at 28815\n",
    "        5: [28820, 31820],         # OT1: Start at 28820, end at 31820 (5-minute OT)\n",
    "        6: [31825, 34825]          # OT2: Start at 31825, end at 34825 (5-minute OT)\n",
    "    }\n",
    "    \n",
    "    return tuple(quarter_times.get(quarter, (None, None)))"
   ],
   "metadata": {
    "collapsed": false,
    "ExecuteTime": {
     "end_time": "2024-11-18T11:14:36.247358Z",
     "start_time": "2024-11-18T11:14:36.231692Z"
    }
   },
   "id": "2cd489f0e2673669"
  },
  {
   "cell_type": "code",
   "execution_count": 62,
   "outputs": [
    {
     "name": "stderr",
     "output_type": "stream",
     "text": [
      "100%|██████████| 72/72 [01:35<00:00,  1.32s/it]\n"
     ]
    }
   ],
   "source": [
    "# Initialize an empty DataFrame for the new detailed quarterly stats\n",
    "quarterly_stats = pd.DataFrame()\n",
    "\n",
    "# Iterate over each row in the steph_stats DataFrame\n",
    "for _, row in tqdm(steph_stats.iterrows(), total=len(steph_stats)):\n",
    "    game_id = row['GAME_ID']\n",
    "    player_id = row['PLAYER_ID']\n",
    "    length_of_streak_list = row['LENGTH_OF_STREAK']  # List of streak lengths\n",
    "    periods_list = row['PERIOD']  # List of quarters where the streak occurred\n",
    "    gsw_win = row['GAME_WON']\n",
    "    effect = row['EFFECT']\n",
    "    \n",
    "\n",
    "    # Get the box score for the game for each period\n",
    "    for i, period in enumerate(periods_list):\n",
    "        # Get the start and end times for the given period\n",
    "        start, end = get_quarter_times(period)\n",
    "\n",
    "        # Fetch the boxscore for the specific quarter\n",
    "        boxscore = BoxScoreTraditionalV2(game_id=game_id,\n",
    "                                         start_range=start,\n",
    "                                         end_range=end,\n",
    "                                         range_type=2,\n",
    "                                         timeout=60\n",
    "                                         ).get_data_frames()\n",
    "        time.sleep(0.5)\n",
    "\n",
    "        # Extract the detailed box score for all players\n",
    "        basic_boxscore = boxscore[0]\n",
    "\n",
    "        # Filter for the player of interest (Steph Curry)\n",
    "        player_boxscore = basic_boxscore[basic_boxscore['PLAYER_ID'] == player_id].copy()  # Make a copy\n",
    "\n",
    "        # Safely modify the 'PERIOD' and 'LENGTH_OF_STREAK' columns\n",
    "        player_boxscore.loc[:, 'PERIOD'] = period\n",
    "        player_boxscore.loc[:, 'LENGTH_OF_STREAK'] = length_of_streak_list[i]\n",
    "        player_boxscore.loc[:, 'GAME_WON'] = gsw_win\n",
    "        player_boxscore.loc[:, 'EFFECT'] = effect\n",
    "\n",
    "\n",
    "        # Append this row to the new DataFrame\n",
    "        quarterly_stats = pd.concat([quarterly_stats, player_boxscore], ignore_index=True)\n",
    "    time.sleep(0.5)\n"
   ],
   "metadata": {
    "collapsed": false,
    "ExecuteTime": {
     "end_time": "2024-11-18T11:44:52.990508Z",
     "start_time": "2024-11-18T11:43:17.686915Z"
    }
   },
   "id": "9be7b9278fd518e8"
  },
  {
   "cell_type": "code",
   "execution_count": 69,
   "outputs": [
    {
     "name": "stdout",
     "output_type": "stream",
     "text": [
      "{1.0, 2.0, 3.0, 4.0, 5.0, 6.0}\n"
     ]
    }
   ],
   "source": [
    "print(set(sorted(quarterly_stats.PERIOD.to_list())))"
   ],
   "metadata": {
    "collapsed": false,
    "ExecuteTime": {
     "end_time": "2024-11-18T11:46:09.775400Z",
     "start_time": "2024-11-18T11:46:09.768763Z"
    }
   },
   "id": "74290a6ac97b9b82"
  },
  {
   "cell_type": "code",
   "execution_count": 74,
   "outputs": [
    {
     "name": "stdout",
     "output_type": "stream",
     "text": [
      "Q1\n",
      "NUMBER OF GAMES: 21\n",
      "\tPTS: 11.1\n",
      "\tREB: 2.1\n",
      "\tAST: 1.7\n",
      "\tFG%: 64.8%\n",
      "\t3P%: 68.2%\n",
      "\tPM: 6.3\n",
      "\tWin%: 71.4%\n",
      "\tEffect:\n",
      "\t\tContinued leading: 7 times\n",
      "\t\tNarrowed lead: 3 times\n",
      "\t\tNarrowed deficit: 3 times\n",
      "\t\tContinued losing: 3 times\n",
      "\t\tFrom losing to leading: 3 times\n",
      "\t\tStayed tied: 2 times\n",
      "\tStreak lengths in Q1:\n",
      "\t\tStreak Length 2: 17 times\n",
      "\t\tStreak Length 3: 4 times\n",
      "\n",
      "Q2\n",
      "NUMBER OF GAMES: 16\n",
      "\tPTS: 10.8\n",
      "\tREB: 1.4\n",
      "\tAST: 1.0\n",
      "\tFG%: 64.8%\n",
      "\t3P%: 70.2%\n",
      "\tPM: 1.3\n",
      "\tWin%: 50.0%\n",
      "\tEffect:\n",
      "\t\tContinued losing: 4 times\n",
      "\t\tNarrowed deficit: 4 times\n",
      "\t\tContinued leading: 3 times\n",
      "\t\tNarrowed lead: 3 times\n",
      "\t\tWent from tie to leading: 1 times\n",
      "\t\tFrom losing to leading: 1 times\n",
      "\tStreak lengths in Q2:\n",
      "\t\tStreak Length 2: 13 times\n",
      "\t\tStreak Length 3: 3 times\n",
      "\n",
      "Q3\n",
      "NUMBER OF GAMES: 29\n",
      "\tPTS: 11.7\n",
      "\tREB: 1.8\n",
      "\tAST: 1.5\n",
      "\tFG%: 57.1%\n",
      "\t3P%: 55.2%\n",
      "\tPM: 2.2\n",
      "\tWin%: 65.5%\n",
      "\tEffect:\n",
      "\t\tContinued leading: 9 times\n",
      "\t\tNarrowed deficit: 7 times\n",
      "\t\tNarrowed lead: 5 times\n",
      "\t\tContinued losing: 3 times\n",
      "\t\tWent from leading to tie: 2 times\n",
      "\t\tFrom leading to losing: 2 times\n",
      "\t\tWent from tie to leading: 1 times\n",
      "\tStreak lengths in Q3:\n",
      "\t\tStreak Length 2: 27 times\n",
      "\t\tStreak Length 3: 2 times\n",
      "\n",
      "Q4\n",
      "NUMBER OF GAMES: 24\n",
      "\tPTS: 12.0\n",
      "\tREB: 0.8\n",
      "\tAST: 0.8\n",
      "\tFG%: 61.3%\n",
      "\t3P%: 58.3%\n",
      "\tPM: 2.0\n",
      "\tWin%: 75.0%\n",
      "\tEffect:\n",
      "\t\tContinued leading: 7 times\n",
      "\t\tContinued losing: 6 times\n",
      "\t\tNarrowed deficit: 6 times\n",
      "\t\tNarrowed lead: 3 times\n",
      "\t\tWent from losing to tie: 1 times\n",
      "\t\tFrom losing to leading: 1 times\n",
      "\tStreak lengths in Q4:\n",
      "\t\tStreak Length 2: 17 times\n",
      "\t\tStreak Length 3: 6 times\n",
      "\t\tStreak Length 4: 1 times\n",
      "\n",
      "FIRST OVERTIME\n",
      "NUMBER OF GAMES: 2\n",
      "\tPTS: 9.0\n",
      "\tREB: 0.5\n",
      "\tAST: 0.0\n",
      "\tFG%: 75.0%\n",
      "\t3P%: 66.7%\n",
      "\tPM: -4.5\n",
      "\tWin%: 0.0%\n",
      "\tEffect:\n",
      "\t\tWent from tie to leading: 1 times\n",
      "\t\tFrom losing to leading: 1 times\n",
      "\tStreak lengths in FIRST OVERTIME:\n",
      "\t\tStreak Length 2: 1 times\n",
      "\t\tStreak Length 5: 1 times\n",
      "\n",
      "SECOND OVERTIME\n",
      "NUMBER OF GAMES: 1\n",
      "\tPTS: 10.0\n",
      "\tREB: 0.0\n",
      "\tAST: 0.0\n",
      "\tFG%: 60.0%\n",
      "\t3P%: 66.7%\n",
      "\tPM: -1.0\n",
      "\tWin%: 0.0%\n",
      "\tEffect:\n",
      "\t\tContinued leading: 1 times\n",
      "\tStreak lengths in SECOND OVERTIME:\n",
      "\t\tStreak Length 2: 1 times\n"
     ]
    }
   ],
   "source": [
    "periods = quarterly_stats.PERIOD.to_list()\n",
    "\n",
    "for period in set(sorted(quarterly_stats.PERIOD.to_list())):\n",
    "    # Filter rows where the streaks occurred in the current period\n",
    "    period_stat = quarterly_stats[quarterly_stats['PERIOD'] == period]\n",
    "\n",
    "    if not period_stat.empty:\n",
    "        # Calculate average stats for the specific period\n",
    "        avg_points = np.mean(period_stat.PTS)\n",
    "        avg_reb = np.mean(period_stat.REB)\n",
    "        avg_ast = np.mean(period_stat.AST)\n",
    "\n",
    "        avg_fg_perc = np.sum(period_stat.FGM) / np.sum(period_stat.FGA)\n",
    "        avg_3p_perc = np.sum(period_stat.FG3M) / np.sum(period_stat.FG3A)\n",
    "\n",
    "        avg_pm = np.mean(period_stat.PLUS_MINUS)\n",
    "        win_percentage = (np.sum(period_stat.GAME_WON) / len(period_stat.GAME_WON)) * 100\n",
    "        effect_counts = period_stat['EFFECT'].value_counts()\n",
    "\n",
    "        # Count the streaks of each length that occurred in this period\n",
    "        streak_lengths_in_period = period_stat['LENGTH_OF_STREAK'].explode().value_counts().sort_index()\n",
    "        if period == 5:\n",
    "            text = 'FIRST OVERTIME'\n",
    "        elif period == 6:\n",
    "            text = 'SECOND OVERTIME'\n",
    "        else:\n",
    "            text = f'Q{int(period)}'\n",
    "        print(text)\n",
    "        print(f'NUMBER OF GAMES: {len(period_stat)}')\n",
    "        print(f'\tPTS: {avg_points:.1f}')\n",
    "        print(f'\tREB: {avg_reb:.1f}')\n",
    "        print(f'\tAST: {avg_ast:.1f}')\n",
    "        print(f'\tFG%: {avg_fg_perc*100:.1f}%')\n",
    "        print(f'\t3P%: {avg_3p_perc*100:.1f}%')\n",
    "        print(f'\tPM: {avg_pm:.1f}')\n",
    "        print(f'\tWin%: {win_percentage:.1f}%')\n",
    "        print(f'\tEffect:')\n",
    "        for effect, count in effect_counts.items():\n",
    "            print(f'\t\t{effect}: {count} times')\n",
    "\n",
    "        # Output streak lengths in this period\n",
    "        print(f'\tStreak lengths in {text}:')\n",
    "        for streak_length, count in streak_lengths_in_period.items():\n",
    "            print(f'\t\tStreak Length {streak_length}: {count} times')\n",
    "        print()"
   ],
   "metadata": {
    "collapsed": false,
    "ExecuteTime": {
     "end_time": "2024-11-18T11:49:53.548405Z",
     "start_time": "2024-11-18T11:49:53.540964Z"
    }
   },
   "id": "fb217504ccb0a039"
  },
  {
   "cell_type": "code",
   "execution_count": 32,
   "outputs": [
    {
     "name": "stdout",
     "output_type": "stream",
     "text": [
      "STREAK LENGTH : 2\n",
      "NUMBER OF STREAKS: 75\n",
      "NUMBER OF GAMES: 58\n",
      "\tPTS: 30.7\n",
      "\tREB: 5.3\n",
      "\tAST: 6.2\n",
      "\tFG%: 51.4%\n",
      "\t3P%: 48.0%\n",
      "\tPM: 8.5\n",
      "\tWin%: 67.2%\n",
      "\tEffect:\n",
      "\t\tContinued leading: 17 times\n",
      "\t\tContinued losing: 10 times\n",
      "\t\tNarrowed deficit: 10 times\n",
      "\t\tNarrowed lead: 9 times\n",
      "\t\tFrom losing to leading: 5 times\n",
      "\t\tWent from leading to tie: 2 times\n",
      "\t\tFrom leading to losing: 2 times\n",
      "\t\tWent from tie to leading: 2 times\n",
      "\t\tStayed tied: 1 times\n",
      "\tPeriods where streaks occurred:\n",
      "\t\tPeriod 1.0: 18 times\n",
      "\t\tPeriod 2.0: 14 times\n",
      "\t\tPeriod 3.0: 28 times\n",
      "\t\tPeriod 4.0: 17 times\n",
      "\t\tPeriod 5.0: 1 times\n",
      "\t\tPeriod 6.0: 1 times\n",
      "\n",
      "STREAK LENGTH : 3\n",
      "NUMBER OF STREAKS: 15\n",
      "NUMBER OF GAMES: 15\n",
      "\tPTS: 33.0\n",
      "\tREB: 5.3\n",
      "\tAST: 5.1\n",
      "\tFG%: 48.4%\n",
      "\t3P%: 46.1%\n",
      "\tPM: -0.3\n",
      "\tWin%: 53.3%\n",
      "\tEffect:\n",
      "\t\tNarrowed deficit: 6 times\n",
      "\t\tContinued losing: 3 times\n",
      "\t\tNarrowed lead: 2 times\n",
      "\t\tContinued leading: 2 times\n",
      "\t\tWent from losing to tie: 1 times\n",
      "\t\tStayed tied: 1 times\n",
      "\tPeriods where streaks occurred:\n",
      "\t\tPeriod 1.0: 5 times\n",
      "\t\tPeriod 2.0: 4 times\n",
      "\t\tPeriod 3.0: 4 times\n",
      "\t\tPeriod 4.0: 6 times\n",
      "\n",
      "STREAK LENGTH : 4\n",
      "NUMBER OF STREAKS: 1\n",
      "NUMBER OF GAMES: 1\n",
      "\tPTS: 24.0\n",
      "\tREB: 7.0\n",
      "\tAST: 6.0\n",
      "\tFG%: 37.5%\n",
      "\t3P%: 42.9%\n",
      "\tPM: -2.0\n",
      "\tWin%: 100.0%\n",
      "\tEffect:\n",
      "\t\tContinued losing: 1 times\n",
      "\tPeriods where streaks occurred:\n",
      "\t\tPeriod 4.0: 1 times\n",
      "\n",
      "STREAK LENGTH : 5\n",
      "NUMBER OF STREAKS: 1\n",
      "NUMBER OF GAMES: 1\n",
      "\tPTS: 60.0\n",
      "\tREB: 6.0\n",
      "\tAST: 4.0\n",
      "\tFG%: 57.9%\n",
      "\t3P%: 43.5%\n",
      "\tPM: -1.0\n",
      "\tWin%: 0.0%\n",
      "\tEffect:\n",
      "\t\tWent from tie to leading: 1 times\n",
      "\tPeriods where streaks occurred:\n",
      "\t\tPeriod 5.0: 1 times\n"
     ]
    }
   ],
   "source": [
    "# Assuming steph_stats['LENGTH_OF_STREAK'] now contains lists of streaks, e.g., [2, 3]\n",
    "# Iterate through each unique streak length (2 to 5)\n",
    "for streak_length in range(2, 6):\n",
    "    # Filter rows where the streak list contains the current streak length\n",
    "    streak_stat = steph_stats[steph_stats['LENGTH_OF_STREAK'].apply(lambda x: streak_length in x)]\n",
    "\n",
    "    if not streak_stat.empty:\n",
    "        avg_points = np.mean(streak_stat.PTS)\n",
    "        avg_reb = np.mean(streak_stat.REB)\n",
    "        avg_ast = np.mean(streak_stat.AST)\n",
    "\n",
    "        avg_fg_perc = np.sum(streak_stat.FGM) / np.sum(streak_stat.FGA)\n",
    "        avg_3p_perc = np.sum(streak_stat.FG3M) / np.sum(streak_stat.FG3A)\n",
    "\n",
    "        avg_pm = np.mean(streak_stat.PLUS_MINUS)\n",
    "        win_percentage = (np.sum(streak_stat.GAME_WON) / len(streak_stat.GAME_WON)) * 100\n",
    "        effect_counts = streak_stat['EFFECT'].value_counts()\n",
    "\n",
    "        # Identify the periods in which the streak occurred\n",
    "        periods_in_streak = streak_stat['PERIOD'].explode().value_counts().sort_index()\n",
    "\n",
    "        print(f'STREAK LENGTH : {streak_length}')\n",
    "        print(f'NUMBER OF STREAKS: {len(streak_summary[streak_summary.length_of_streak == streak_length])}')\n",
    "        print(f'NUMBER OF GAMES: {len(streak_stat)}')\n",
    "        print(f'\tPTS: {avg_points:.1f}')\n",
    "        print(f'\tREB: {avg_reb:.1f}')\n",
    "        print(f'\tAST: {avg_ast:.1f}')\n",
    "        print(f'\tFG%: {avg_fg_perc*100:.1f}%')\n",
    "        print(f'\t3P%: {avg_3p_perc*100:.1f}%')\n",
    "        print(f'\tPM: {avg_pm:.1f}')\n",
    "        print(f'\tWin%: {win_percentage:.1f}%')\n",
    "        print(f'\tEffect:')\n",
    "        for effect, count in effect_counts.items():\n",
    "            print(f'\t\t{effect}: {count} times')\n",
    "        print(f'\tPeriods where streaks occurred:')\n",
    "        for period, count in periods_in_streak.items():\n",
    "            print(f'\t\tPeriod {period}: {count} times')\n",
    "        print()"
   ],
   "metadata": {
    "collapsed": false,
    "ExecuteTime": {
     "end_time": "2024-11-18T10:40:20.489506Z",
     "start_time": "2024-11-18T10:40:20.480811Z"
    }
   },
   "id": "b4e0ee0c08323b41"
  },
  {
   "cell_type": "code",
   "execution_count": 25,
   "outputs": [
    {
     "data": {
      "text/plain": "       GAME_ID     TEAM_ID TEAM_ABBREVIATION     TEAM_CITY  PLAYER_ID  \\\n0   0022200002  1610612744               GSW  Golden State     201939   \n2   0022200042  1610612744               GSW  Golden State     201939   \n3   0022200068  1610612744               GSW  Golden State     201939   \n4   0022200118  1610612744               GSW  Golden State     201939   \n5   0022200156  1610612744               GSW  Golden State     201939   \n6   0022200182  1610612744               GSW  Golden State     201939   \n7   0022200233  1610612744               GSW  Golden State     201939   \n8   0022200245  1610612744               GSW  Golden State     201939   \n9   0022200271  1610612744               GSW  Golden State     201939   \n10  0022200284  1610612744               GSW  Golden State     201939   \n11  0022200310  1610612744               GSW  Golden State     201939   \n12  0022200342  1610612744               GSW  Golden State     201939   \n13  0022200392  1610612744               GSW  Golden State     201939   \n14  0022200415  1610612744               GSW  Golden State     201939   \n16  0022200704  1610612744               GSW  Golden State     201939   \n17  0022200759  1610612744               GSW  Golden State     201939   \n18  0022200774  1610612744               GSW  Golden State     201939   \n19  0022200783  1610612744               GSW  Golden State     201939   \n20  0022200964  1610612744               GSW  Golden State     201939   \n21  0022200982  1610612744               GSW  Golden State     201939   \n23  0022201025  1610612744               GSW  Golden State     201939   \n24  0022201041  1610612744               GSW  Golden State     201939   \n25  0022201121  1610612744               GSW  Golden State     201939   \n29  0022201211  1610612744               GSW  Golden State     201939   \n30  0022201230  1610612744               GSW  Golden State     201939   \n31  0022300005  1610612744               GSW  Golden State     201939   \n32  0022300051  1610612744               GSW  Golden State     201939   \n33  0022300087  1610612744               GSW  Golden State     201939   \n36  0022300142  1610612744               GSW  Golden State     201939   \n37  0022300145  1610612744               GSW  Golden State     201939   \n38  0022300176  1610612744               GSW  Golden State     201939   \n39  0022300273  1610612744               GSW  Golden State     201939   \n40  0022300280  1610612744               GSW  Golden State     201939   \n41  0022300339  1610612744               GSW  Golden State     201939   \n42  0022300386  1610612744               GSW  Golden State     201939   \n45  0022300589  1610612744               GSW  Golden State     201939   \n47  0022300650  1610612744               GSW  Golden State     201939   \n48  0022300673  1610612744               GSW  Golden State     201939   \n50  0022300733  1610612744               GSW  Golden State     201939   \n51  0022300757  1610612744               GSW  Golden State     201939   \n52  0022300769  1610612744               GSW  Golden State     201939   \n53  0022300802  1610612744               GSW  Golden State     201939   \n54  0022300852  1610612744               GSW  Golden State     201939   \n55  0022300860  1610612744               GSW  Golden State     201939   \n56  0022300899  1610612744               GSW  Golden State     201939   \n57  0022300907  1610612744               GSW  Golden State     201939   \n58  0022300973  1610612744               GSW  Golden State     201939   \n59  0022300988  1610612744               GSW  Golden State     201939   \n61  0022301031  1610612744               GSW  Golden State     201939   \n62  0022301044  1610612744               GSW  Golden State     201939   \n63  0022301085  1610612744               GSW  Golden State     201939   \n64  0022301097  1610612744               GSW  Golden State     201939   \n65  0022301155  1610612744               GSW  Golden State     201939   \n67  0022301214  1610612744               GSW  Golden State     201939   \n68  0022301222  1610612744               GSW  Golden State     201939   \n69  0022400007  1610612744               GSW  Golden State     201939   \n70  0022400019  1610612744               GSW  Golden State     201939   \n71  0022400207  1610612744               GSW  Golden State     201939   \n\n      PLAYER_NAME NICKNAME START_POSITION COMMENT           MIN   FGM   FGA  \\\n0   Stephen Curry  Stephen              G          32.000000:48  10.0  22.0   \n2   Stephen Curry  Stephen              G          31.000000:21  11.0  22.0   \n3   Stephen Curry  Stephen              G          36.000000:56  13.0  22.0   \n4   Stephen Curry  Stephen              G          38.000000:21  13.0  22.0   \n5   Stephen Curry  Stephen              G          37.000000:43  17.0  24.0   \n6   Stephen Curry  Stephen              G          34.000000:00  15.0  23.0   \n7   Stephen Curry  Stephen              G          33.000000:50   9.0  19.0   \n8   Stephen Curry  Stephen              G          36.000000:60  11.0  20.0   \n9   Stephen Curry  Stephen              G          31.000000:41   9.0  20.0   \n10  Stephen Curry  Stephen              G          35.000000:43  13.0  23.0   \n11  Stephen Curry  Stephen              G          37.000000:48  11.0  24.0   \n12  Stephen Curry  Stephen              G          34.000000:32  10.0  21.0   \n13  Stephen Curry  Stephen              G          37.000000:26  12.0  21.0   \n14  Stephen Curry  Stephen              G          29.000000:33  11.0  19.0   \n16  Stephen Curry  Stephen              G          37.000000:35   7.0  16.0   \n17  Stephen Curry  Stephen              G          36.000000:37  12.0  20.0   \n18  Stephen Curry  Stephen              G          42.000000:22   8.0  21.0   \n19  Stephen Curry  Stephen              G          33.000000:11  10.0  17.0   \n20  Stephen Curry  Stephen              G          32.000000:02   8.0  20.0   \n21  Stephen Curry  Stephen              G          35.000000:28  14.0  23.0   \n23  Stephen Curry  Stephen              G          33.000000:27   7.0  13.0   \n24  Stephen Curry  Stephen              G          38.000000:32  20.0  28.0   \n25  Stephen Curry  Stephen              G          36.000000:13   8.0  23.0   \n29  Stephen Curry  Stephen              G          32.000000:41   8.0  14.0   \n30  Stephen Curry  Stephen              G          22.000000:27   9.0  15.0   \n31  Stephen Curry  Stephen              G          31.000000:23   9.0  15.0   \n32  Stephen Curry  Stephen              G          34.000000:49  11.0  20.0   \n33  Stephen Curry  Stephen              G          34.000000:50  14.0  19.0   \n36  Stephen Curry  Stephen              G          30.000000:49   8.0  16.0   \n37  Stephen Curry  Stephen              G          32.000000:38  12.0  26.0   \n38  Stephen Curry  Stephen              G          32.000000:33   9.0  24.0   \n39  Stephen Curry  Stephen              G          33.000000:00   8.0  15.0   \n40  Stephen Curry  Stephen              G          36.000000:36   7.0  18.0   \n41  Stephen Curry  Stephen              G          35.000000:02  14.0  22.0   \n42  Stephen Curry  Stephen              G          26.000000:54   9.0  18.0   \n45  Stephen Curry  Stephen              G          31.000000:35   5.0  18.0   \n47  Stephen Curry  Stephen              G          43.000000:24  17.0  35.0   \n48  Stephen Curry  Stephen              G          35.000000:13  12.0  17.0   \n50  Stephen Curry  Stephen              G          30.000000:06  15.0  22.0   \n51  Stephen Curry  Stephen              G          33.000000:51  10.0  22.0   \n52  Stephen Curry  Stephen              G          32.000000:05   9.0  19.0   \n53  Stephen Curry  Stephen              G          31.000000:48  12.0  24.0   \n54  Stephen Curry  Stephen              G          31.000000:35  11.0  26.0   \n55  Stephen Curry  Stephen              G          30.000000:06   9.0  22.0   \n56  Stephen Curry  Stephen              G          30.000000:45  10.0  18.0   \n57  Stephen Curry  Stephen              G          28.000000:42   5.0  18.0   \n58  Stephen Curry  Stephen              G          33.000000:52  12.0  24.0   \n59  Stephen Curry  Stephen              G          33.000000:19   8.0  20.0   \n61  Stephen Curry  Stephen              G          29.000000:50   9.0  21.0   \n62  Stephen Curry  Stephen              G          31.000000:01   7.0  15.0   \n63  Stephen Curry  Stephen              G          32.000000:32  12.0  23.0   \n64  Stephen Curry  Stephen              G          35.000000:26   9.0  23.0   \n65  Stephen Curry  Stephen              G          32.000000:19   7.0   9.0   \n67  Stephen Curry  Stephen              G          34.000000:29   8.0  18.0   \n68  Stephen Curry  Stephen              G          40.000000:22  10.0  20.0   \n69  Stephen Curry  Stephen              G          34.000000:52  14.0  27.0   \n70  Stephen Curry  Stephen              G          26.000000:01   4.0   9.0   \n71  Stephen Curry  Stephen              G          36.000000:30  13.0  23.0   \n\n    FG_PCT  FG3M  FG3A  FG3_PCT   FTM   FTA  FT_PCT  OREB  DREB   REB   AST  \\\n0    0.455   4.0  13.0    0.308   9.0   9.0   1.000   1.0   5.0   6.0   7.0   \n2    0.500   7.0  12.0    0.583   4.0   4.0   1.000   0.0   5.0   5.0   2.0   \n3    0.591   7.0  14.0    0.500   0.0   0.0   0.000   1.0   6.0   7.0   9.0   \n4    0.591   8.0  15.0    0.533   5.0   5.0   1.000   1.0   2.0   3.0   9.0   \n5    0.708   7.0  12.0    0.583   6.0   7.0   0.857   0.0   8.0   8.0   8.0   \n6    0.652   6.0  11.0    0.545   4.0   6.0   0.667   0.0   4.0   4.0   5.0   \n7    0.474   5.0  13.0    0.385   1.0   3.0   0.333   0.0   6.0   6.0  10.0   \n8    0.550   7.0  14.0    0.500   4.0   5.0   0.800   0.0   6.0   6.0  15.0   \n9    0.450   4.0  10.0    0.400   0.0   0.0   0.000   1.0   5.0   6.0   9.0   \n10   0.565   6.0  13.0    0.462   1.0   1.0   1.000   0.0   5.0   5.0   4.0   \n11   0.458   5.0  14.0    0.357   5.0   6.0   0.833   1.0   4.0   5.0   5.0   \n12   0.476   8.0  17.0    0.471   2.0   3.0   0.667   0.0   3.0   3.0  10.0   \n13   0.571   6.0  11.0    0.545   2.0   2.0   1.000   1.0   5.0   6.0   7.0   \n14   0.579   5.0  10.0    0.500  11.0  11.0   1.000   1.0   6.0   7.0   7.0   \n16   0.438   4.0   8.0    0.500   8.0   8.0   1.000   1.0   5.0   6.0   7.0   \n17   0.600   8.0  14.0    0.571   6.0   6.0   1.000   1.0   7.0   8.0  12.0   \n18   0.381   5.0  12.0    0.417   8.0   9.0   0.889   0.0  10.0  10.0   3.0   \n19   0.588   5.0  10.0    0.500   3.0   3.0   1.000   2.0   3.0   5.0   5.0   \n20   0.400   5.0  13.0    0.385   6.0   6.0   1.000   0.0   2.0   2.0   6.0   \n21   0.609  10.0  16.0    0.625   2.0   2.0   1.000   1.0   5.0   6.0   7.0   \n23   0.538   4.0   6.0    0.667   5.0   6.0   0.833   2.0   5.0   7.0   5.0   \n24   0.714   8.0  14.0    0.571   2.0   4.0   0.500   0.0   2.0   2.0   6.0   \n25   0.348   4.0  13.0    0.308   0.0   0.0   0.000   0.0   6.0   6.0   9.0   \n29   0.571   3.0   7.0    0.429   6.0   7.0   0.857   1.0   6.0   7.0   6.0   \n30   0.600   5.0  10.0    0.500   3.0   3.0   1.000   0.0   5.0   5.0   7.0   \n31   0.600   5.0  10.0    0.500   7.0   7.0   1.000   3.0   5.0   8.0   7.0   \n32   0.550   7.0  14.0    0.500   6.0   6.0   1.000   0.0   3.0   3.0   6.0   \n33   0.737   7.0  10.0    0.700   6.0   6.0   1.000   1.0   3.0   4.0   4.0   \n36   0.500   7.0  11.0    0.636   5.0   6.0   0.833   0.0   2.0   2.0   4.0   \n37   0.462   7.0  17.0    0.412   3.0   4.0   0.750   0.0   2.0   2.0   4.0   \n38   0.375   4.0  14.0    0.286   8.0   8.0   1.000   1.0   2.0   3.0   2.0   \n39   0.533   3.0   9.0    0.333   7.0   9.0   0.778   0.0   7.0   7.0   8.0   \n40   0.389   4.0   9.0    0.444   4.0   4.0   1.000   1.0   3.0   4.0  11.0   \n41   0.636   6.0   8.0    0.750   3.0   3.0   1.000   0.0   3.0   3.0   1.0   \n42   0.500   8.0  13.0    0.615   4.0   5.0   0.800   0.0   4.0   4.0   7.0   \n45   0.278   3.0   5.0    0.600   0.0   0.0   0.000   0.0   7.0   7.0   7.0   \n47   0.486   9.0  21.0    0.429   3.0   3.0   1.000   0.0   3.0   3.0   7.0   \n48   0.706   8.0  13.0    0.615   5.0   5.0   1.000   1.0   7.0   8.0   7.0   \n50   0.682  11.0  16.0    0.688   1.0   2.0   0.500   0.0   2.0   2.0   2.0   \n51   0.455   9.0  16.0    0.563   1.0   2.0   0.500   1.0   8.0   9.0   6.0   \n52   0.474   7.0  16.0    0.438   0.0   0.0   0.000   0.0   6.0   6.0  10.0   \n53   0.500   6.0  13.0    0.462   2.0   2.0   1.000   0.0   1.0   1.0   8.0   \n54   0.423   8.0  18.0    0.444   1.0   1.0   1.000   2.0   9.0  11.0   1.0   \n55   0.409   7.0  15.0    0.467   0.0   0.0   0.000   2.0   4.0   6.0   6.0   \n56   0.556   6.0  10.0    0.600   3.0   4.0   0.750   2.0   6.0   8.0   5.0   \n57   0.278   3.0  12.0    0.250   2.0   2.0   1.000   0.0   3.0   3.0   1.0   \n58   0.500   3.0  10.0    0.300   4.0   5.0   0.800   1.0   5.0   6.0   5.0   \n59   0.400   4.0  13.0    0.308   7.0   7.0   1.000   0.0   5.0   5.0   5.0   \n61   0.429   5.0  11.0    0.455   8.0   8.0   1.000   0.0   4.0   4.0   3.0   \n62   0.467   3.0  10.0    0.300   0.0   0.0   0.000   1.0   1.0   2.0   6.0   \n63   0.522   7.0  15.0    0.467   2.0   2.0   1.000   0.0   1.0   1.0   8.0   \n64   0.391   5.0  14.0    0.357   5.0   6.0   0.833   1.0   5.0   6.0   5.0   \n65   0.778   6.0   6.0    1.000   3.0   4.0   0.750   0.0   7.0   7.0   8.0   \n67   0.444   5.0  13.0    0.385  10.0  11.0   0.909   0.0   5.0   5.0   1.0   \n68   0.500   6.0  12.0    0.500   8.0   8.0   1.000   0.0   6.0   6.0   3.0   \n69   0.519   5.0  12.0    0.417   4.0   5.0   0.800   0.0   6.0   6.0   9.0   \n70   0.444   3.0   7.0    0.429   2.0   2.0   1.000   1.0   7.0   8.0   5.0   \n71   0.565   7.0  13.0    0.538   3.0   4.0   0.750   1.0   4.0   5.0   7.0   \n\n    STL  BLK   TO   PF   PTS  PLUS_MINUS LENGTH_OF_STREAK  GAME_WON  \\\n0   4.0  1.0  4.0  1.0  33.0        20.0           [2, 2]      True   \n2   1.0  0.0  2.0  3.0  33.0        19.0              [2]      True   \n3   1.0  0.0  3.0  0.0  33.0        13.0              [2]      True   \n4   0.0  0.0  5.0  3.0  39.0         4.0           [2, 2]     False   \n5   0.0  0.0  0.0  2.0  47.0        20.0              [2]      True   \n6   1.0  0.0  2.0  4.0  40.0         7.0           [2, 2]      True   \n7   2.0  0.0  5.0  2.0  24.0        18.0              [2]      True   \n8   3.0  2.0  1.0  3.0  33.0        22.0              [2]      True   \n9   0.0  0.0  1.0  0.0  22.0        18.0              [2]      True   \n10  2.0  0.0  5.0  4.0  33.0        19.0              [2]      True   \n11  0.0  0.0  4.0  4.0  32.0       -12.0              [2]     False   \n12  1.0  1.0  4.0  0.0  30.0        19.0              [2]      True   \n13  0.0  1.0  4.0  3.0  32.0        20.0           [2, 2]      True   \n14  2.0  1.0  3.0  2.0  38.0        -6.0              [2]     False   \n16  1.0  0.0  5.0  2.0  26.0        -8.0              [2]     False   \n17  0.0  1.0  4.0  0.0  38.0        17.0           [2, 2]      True   \n18  1.0  1.0  4.0  5.0  29.0        -5.0           [3, 2]     False   \n19  0.0  0.0  6.0  4.0  28.0       -16.0              [2]     False   \n20  1.0  0.0  2.0  3.0  27.0       -12.0              [2]     False   \n21  0.0  0.0  6.0  4.0  40.0        -2.0        [2, 2, 2]     False   \n23  0.0  0.0  5.0  4.0  23.0        14.0              [2]      True   \n24  2.0  0.0  2.0  1.0  50.0       -11.0        [2, 3, 2]     False   \n25  1.0  0.0  3.0  3.0  20.0         2.0              [2]     False   \n29  2.0  1.0  5.0  1.0  25.0        33.0              [2]      True   \n30  0.0  0.0  1.0  0.0  26.0        26.0              [2]      True   \n31  2.0  0.0  3.0  1.0  30.0         5.0              [2]      True   \n32  1.0  0.0  6.0  2.0  35.0         4.0           [2, 2]      True   \n33  2.0  0.0  4.0  0.0  41.0        10.0              [2]      True   \n36  1.0  0.0  6.0  0.0  28.0        -6.0              [2]     False   \n37  0.0  0.0  3.0  1.0  34.0        17.0           [2, 2]      True   \n38  1.0  1.0  4.0  1.0  30.0        -8.0              [2]     False   \n39  1.0  1.0  2.0  2.0  26.0        -4.0              [2]      True   \n40  0.0  0.0  2.0  0.0  22.0         2.0              [2]     False   \n41  0.0  3.0  3.0  1.0  37.0         7.0              [2]      True   \n42  0.0  1.0  2.0  0.0  30.0        -1.0           [3, 2]      True   \n45  1.0  2.0  4.0  1.0  13.0        -4.0              [2]      True   \n47  1.0  0.0  4.0  4.0  46.0        -2.0           [2, 2]     False   \n48  0.0  1.0  5.0  2.0  37.0        26.0           [2, 2]      True   \n50  0.0  1.0  2.0  2.0  42.0        13.0              [2]      True   \n51  1.0  0.0  3.0  0.0  30.0        10.0              [2]      True   \n52  3.0  1.0  1.0  1.0  25.0        30.0           [2, 2]      True   \n53  3.0  0.0  1.0  1.0  32.0        25.0              [2]      True   \n54  1.0  0.0  3.0  0.0  31.0        20.0           [2, 2]      True   \n55  0.0  0.0  4.0  2.0  25.0        12.0           [2, 2]      True   \n56  0.0  0.0  2.0  1.0  29.0        15.0        [2, 2, 2]      True   \n57  0.0  0.0  2.0  1.0  15.0         9.0              [2]     False   \n58  2.0  0.0  1.0  0.0  31.0         4.0              [2]      True   \n59  0.0  0.0  2.0  1.0  27.0        -9.0              [2]     False   \n61  0.0  0.0  2.0  1.0  31.0         6.0           [2, 2]     False   \n62  0.0  0.0  1.0  1.0  17.0        19.0              [2]      True   \n63  0.0  0.0  4.0  1.0  33.0        12.0              [2]      True   \n64  1.0  0.0  2.0  2.0  28.0        -5.0              [2]     False   \n65  1.0  2.0  1.0  2.0  23.0        13.0              [2]      True   \n67  0.0  0.0  4.0  2.0  31.0         4.0              [2]      True   \n68  1.0  0.0  3.0  0.0  34.0        -5.0              [2]     False   \n69  1.0  2.0  4.0  2.0  37.0        24.0              [2]      True   \n70  4.0  0.0  3.0  2.0  13.0         9.0              [2]      True   \n71  1.0  1.0  3.0  2.0  36.0        21.0              [2]      True   \n\n                      EFFECT  \n0          Continued leading  \n2          Continued leading  \n3   Went from leading to tie  \n4           Continued losing  \n5           Narrowed deficit  \n6           Narrowed deficit  \n7          Continued leading  \n8     From leading to losing  \n9          Continued leading  \n10         Continued leading  \n11  Went from tie to leading  \n12             Narrowed lead  \n13         Continued leading  \n14             Narrowed lead  \n16             Narrowed lead  \n17          Continued losing  \n18          Continued losing  \n19             Narrowed lead  \n20             Narrowed lead  \n21             Narrowed lead  \n23         Continued leading  \n24  Went from tie to leading  \n25  Went from tie to leading  \n29          Continued losing  \n30          Continued losing  \n31  Went from leading to tie  \n32         Continued leading  \n33          Narrowed deficit  \n36             Narrowed lead  \n37    From losing to leading  \n38          Narrowed deficit  \n39    From losing to leading  \n40          Continued losing  \n41         Continued leading  \n42         Continued leading  \n45         Continued leading  \n47         Continued leading  \n48         Continued leading  \n50          Continued losing  \n51    From leading to losing  \n52          Continued losing  \n53         Continued leading  \n54          Continued losing  \n55         Continued leading  \n56         Continued leading  \n57             Narrowed lead  \n58          Continued losing  \n59          Continued losing  \n61          Narrowed deficit  \n62               Stayed tied  \n63          Continued losing  \n64    From losing to leading  \n65          Narrowed deficit  \n67          Narrowed deficit  \n68    From losing to leading  \n69    From losing to leading  \n70         Continued leading  \n71          Narrowed deficit  ",
      "text/html": "<div>\n<style scoped>\n    .dataframe tbody tr th:only-of-type {\n        vertical-align: middle;\n    }\n\n    .dataframe tbody tr th {\n        vertical-align: top;\n    }\n\n    .dataframe thead th {\n        text-align: right;\n    }\n</style>\n<table border=\"1\" class=\"dataframe\">\n  <thead>\n    <tr style=\"text-align: right;\">\n      <th></th>\n      <th>GAME_ID</th>\n      <th>TEAM_ID</th>\n      <th>TEAM_ABBREVIATION</th>\n      <th>TEAM_CITY</th>\n      <th>PLAYER_ID</th>\n      <th>PLAYER_NAME</th>\n      <th>NICKNAME</th>\n      <th>START_POSITION</th>\n      <th>COMMENT</th>\n      <th>MIN</th>\n      <th>FGM</th>\n      <th>FGA</th>\n      <th>FG_PCT</th>\n      <th>FG3M</th>\n      <th>FG3A</th>\n      <th>FG3_PCT</th>\n      <th>FTM</th>\n      <th>FTA</th>\n      <th>FT_PCT</th>\n      <th>OREB</th>\n      <th>DREB</th>\n      <th>REB</th>\n      <th>AST</th>\n      <th>STL</th>\n      <th>BLK</th>\n      <th>TO</th>\n      <th>PF</th>\n      <th>PTS</th>\n      <th>PLUS_MINUS</th>\n      <th>LENGTH_OF_STREAK</th>\n      <th>GAME_WON</th>\n      <th>EFFECT</th>\n    </tr>\n  </thead>\n  <tbody>\n    <tr>\n      <th>0</th>\n      <td>0022200002</td>\n      <td>1610612744</td>\n      <td>GSW</td>\n      <td>Golden State</td>\n      <td>201939</td>\n      <td>Stephen Curry</td>\n      <td>Stephen</td>\n      <td>G</td>\n      <td></td>\n      <td>32.000000:48</td>\n      <td>10.0</td>\n      <td>22.0</td>\n      <td>0.455</td>\n      <td>4.0</td>\n      <td>13.0</td>\n      <td>0.308</td>\n      <td>9.0</td>\n      <td>9.0</td>\n      <td>1.000</td>\n      <td>1.0</td>\n      <td>5.0</td>\n      <td>6.0</td>\n      <td>7.0</td>\n      <td>4.0</td>\n      <td>1.0</td>\n      <td>4.0</td>\n      <td>1.0</td>\n      <td>33.0</td>\n      <td>20.0</td>\n      <td>[2, 2]</td>\n      <td>True</td>\n      <td>Continued leading</td>\n    </tr>\n    <tr>\n      <th>2</th>\n      <td>0022200042</td>\n      <td>1610612744</td>\n      <td>GSW</td>\n      <td>Golden State</td>\n      <td>201939</td>\n      <td>Stephen Curry</td>\n      <td>Stephen</td>\n      <td>G</td>\n      <td></td>\n      <td>31.000000:21</td>\n      <td>11.0</td>\n      <td>22.0</td>\n      <td>0.500</td>\n      <td>7.0</td>\n      <td>12.0</td>\n      <td>0.583</td>\n      <td>4.0</td>\n      <td>4.0</td>\n      <td>1.000</td>\n      <td>0.0</td>\n      <td>5.0</td>\n      <td>5.0</td>\n      <td>2.0</td>\n      <td>1.0</td>\n      <td>0.0</td>\n      <td>2.0</td>\n      <td>3.0</td>\n      <td>33.0</td>\n      <td>19.0</td>\n      <td>[2]</td>\n      <td>True</td>\n      <td>Continued leading</td>\n    </tr>\n    <tr>\n      <th>3</th>\n      <td>0022200068</td>\n      <td>1610612744</td>\n      <td>GSW</td>\n      <td>Golden State</td>\n      <td>201939</td>\n      <td>Stephen Curry</td>\n      <td>Stephen</td>\n      <td>G</td>\n      <td></td>\n      <td>36.000000:56</td>\n      <td>13.0</td>\n      <td>22.0</td>\n      <td>0.591</td>\n      <td>7.0</td>\n      <td>14.0</td>\n      <td>0.500</td>\n      <td>0.0</td>\n      <td>0.0</td>\n      <td>0.000</td>\n      <td>1.0</td>\n      <td>6.0</td>\n      <td>7.0</td>\n      <td>9.0</td>\n      <td>1.0</td>\n      <td>0.0</td>\n      <td>3.0</td>\n      <td>0.0</td>\n      <td>33.0</td>\n      <td>13.0</td>\n      <td>[2]</td>\n      <td>True</td>\n      <td>Went from leading to tie</td>\n    </tr>\n    <tr>\n      <th>4</th>\n      <td>0022200118</td>\n      <td>1610612744</td>\n      <td>GSW</td>\n      <td>Golden State</td>\n      <td>201939</td>\n      <td>Stephen Curry</td>\n      <td>Stephen</td>\n      <td>G</td>\n      <td></td>\n      <td>38.000000:21</td>\n      <td>13.0</td>\n      <td>22.0</td>\n      <td>0.591</td>\n      <td>8.0</td>\n      <td>15.0</td>\n      <td>0.533</td>\n      <td>5.0</td>\n      <td>5.0</td>\n      <td>1.000</td>\n      <td>1.0</td>\n      <td>2.0</td>\n      <td>3.0</td>\n      <td>9.0</td>\n      <td>0.0</td>\n      <td>0.0</td>\n      <td>5.0</td>\n      <td>3.0</td>\n      <td>39.0</td>\n      <td>4.0</td>\n      <td>[2, 2]</td>\n      <td>False</td>\n      <td>Continued losing</td>\n    </tr>\n    <tr>\n      <th>5</th>\n      <td>0022200156</td>\n      <td>1610612744</td>\n      <td>GSW</td>\n      <td>Golden State</td>\n      <td>201939</td>\n      <td>Stephen Curry</td>\n      <td>Stephen</td>\n      <td>G</td>\n      <td></td>\n      <td>37.000000:43</td>\n      <td>17.0</td>\n      <td>24.0</td>\n      <td>0.708</td>\n      <td>7.0</td>\n      <td>12.0</td>\n      <td>0.583</td>\n      <td>6.0</td>\n      <td>7.0</td>\n      <td>0.857</td>\n      <td>0.0</td>\n      <td>8.0</td>\n      <td>8.0</td>\n      <td>8.0</td>\n      <td>0.0</td>\n      <td>0.0</td>\n      <td>0.0</td>\n      <td>2.0</td>\n      <td>47.0</td>\n      <td>20.0</td>\n      <td>[2]</td>\n      <td>True</td>\n      <td>Narrowed deficit</td>\n    </tr>\n    <tr>\n      <th>6</th>\n      <td>0022200182</td>\n      <td>1610612744</td>\n      <td>GSW</td>\n      <td>Golden State</td>\n      <td>201939</td>\n      <td>Stephen Curry</td>\n      <td>Stephen</td>\n      <td>G</td>\n      <td></td>\n      <td>34.000000:00</td>\n      <td>15.0</td>\n      <td>23.0</td>\n      <td>0.652</td>\n      <td>6.0</td>\n      <td>11.0</td>\n      <td>0.545</td>\n      <td>4.0</td>\n      <td>6.0</td>\n      <td>0.667</td>\n      <td>0.0</td>\n      <td>4.0</td>\n      <td>4.0</td>\n      <td>5.0</td>\n      <td>1.0</td>\n      <td>0.0</td>\n      <td>2.0</td>\n      <td>4.0</td>\n      <td>40.0</td>\n      <td>7.0</td>\n      <td>[2, 2]</td>\n      <td>True</td>\n      <td>Narrowed deficit</td>\n    </tr>\n    <tr>\n      <th>7</th>\n      <td>0022200233</td>\n      <td>1610612744</td>\n      <td>GSW</td>\n      <td>Golden State</td>\n      <td>201939</td>\n      <td>Stephen Curry</td>\n      <td>Stephen</td>\n      <td>G</td>\n      <td></td>\n      <td>33.000000:50</td>\n      <td>9.0</td>\n      <td>19.0</td>\n      <td>0.474</td>\n      <td>5.0</td>\n      <td>13.0</td>\n      <td>0.385</td>\n      <td>1.0</td>\n      <td>3.0</td>\n      <td>0.333</td>\n      <td>0.0</td>\n      <td>6.0</td>\n      <td>6.0</td>\n      <td>10.0</td>\n      <td>2.0</td>\n      <td>0.0</td>\n      <td>5.0</td>\n      <td>2.0</td>\n      <td>24.0</td>\n      <td>18.0</td>\n      <td>[2]</td>\n      <td>True</td>\n      <td>Continued leading</td>\n    </tr>\n    <tr>\n      <th>8</th>\n      <td>0022200245</td>\n      <td>1610612744</td>\n      <td>GSW</td>\n      <td>Golden State</td>\n      <td>201939</td>\n      <td>Stephen Curry</td>\n      <td>Stephen</td>\n      <td>G</td>\n      <td></td>\n      <td>36.000000:60</td>\n      <td>11.0</td>\n      <td>20.0</td>\n      <td>0.550</td>\n      <td>7.0</td>\n      <td>14.0</td>\n      <td>0.500</td>\n      <td>4.0</td>\n      <td>5.0</td>\n      <td>0.800</td>\n      <td>0.0</td>\n      <td>6.0</td>\n      <td>6.0</td>\n      <td>15.0</td>\n      <td>3.0</td>\n      <td>2.0</td>\n      <td>1.0</td>\n      <td>3.0</td>\n      <td>33.0</td>\n      <td>22.0</td>\n      <td>[2]</td>\n      <td>True</td>\n      <td>From leading to losing</td>\n    </tr>\n    <tr>\n      <th>9</th>\n      <td>0022200271</td>\n      <td>1610612744</td>\n      <td>GSW</td>\n      <td>Golden State</td>\n      <td>201939</td>\n      <td>Stephen Curry</td>\n      <td>Stephen</td>\n      <td>G</td>\n      <td></td>\n      <td>31.000000:41</td>\n      <td>9.0</td>\n      <td>20.0</td>\n      <td>0.450</td>\n      <td>4.0</td>\n      <td>10.0</td>\n      <td>0.400</td>\n      <td>0.0</td>\n      <td>0.0</td>\n      <td>0.000</td>\n      <td>1.0</td>\n      <td>5.0</td>\n      <td>6.0</td>\n      <td>9.0</td>\n      <td>0.0</td>\n      <td>0.0</td>\n      <td>1.0</td>\n      <td>0.0</td>\n      <td>22.0</td>\n      <td>18.0</td>\n      <td>[2]</td>\n      <td>True</td>\n      <td>Continued leading</td>\n    </tr>\n    <tr>\n      <th>10</th>\n      <td>0022200284</td>\n      <td>1610612744</td>\n      <td>GSW</td>\n      <td>Golden State</td>\n      <td>201939</td>\n      <td>Stephen Curry</td>\n      <td>Stephen</td>\n      <td>G</td>\n      <td></td>\n      <td>35.000000:43</td>\n      <td>13.0</td>\n      <td>23.0</td>\n      <td>0.565</td>\n      <td>6.0</td>\n      <td>13.0</td>\n      <td>0.462</td>\n      <td>1.0</td>\n      <td>1.0</td>\n      <td>1.000</td>\n      <td>0.0</td>\n      <td>5.0</td>\n      <td>5.0</td>\n      <td>4.0</td>\n      <td>2.0</td>\n      <td>0.0</td>\n      <td>5.0</td>\n      <td>4.0</td>\n      <td>33.0</td>\n      <td>19.0</td>\n      <td>[2]</td>\n      <td>True</td>\n      <td>Continued leading</td>\n    </tr>\n    <tr>\n      <th>11</th>\n      <td>0022200310</td>\n      <td>1610612744</td>\n      <td>GSW</td>\n      <td>Golden State</td>\n      <td>201939</td>\n      <td>Stephen Curry</td>\n      <td>Stephen</td>\n      <td>G</td>\n      <td></td>\n      <td>37.000000:48</td>\n      <td>11.0</td>\n      <td>24.0</td>\n      <td>0.458</td>\n      <td>5.0</td>\n      <td>14.0</td>\n      <td>0.357</td>\n      <td>5.0</td>\n      <td>6.0</td>\n      <td>0.833</td>\n      <td>1.0</td>\n      <td>4.0</td>\n      <td>5.0</td>\n      <td>5.0</td>\n      <td>0.0</td>\n      <td>0.0</td>\n      <td>4.0</td>\n      <td>4.0</td>\n      <td>32.0</td>\n      <td>-12.0</td>\n      <td>[2]</td>\n      <td>False</td>\n      <td>Went from tie to leading</td>\n    </tr>\n    <tr>\n      <th>12</th>\n      <td>0022200342</td>\n      <td>1610612744</td>\n      <td>GSW</td>\n      <td>Golden State</td>\n      <td>201939</td>\n      <td>Stephen Curry</td>\n      <td>Stephen</td>\n      <td>G</td>\n      <td></td>\n      <td>34.000000:32</td>\n      <td>10.0</td>\n      <td>21.0</td>\n      <td>0.476</td>\n      <td>8.0</td>\n      <td>17.0</td>\n      <td>0.471</td>\n      <td>2.0</td>\n      <td>3.0</td>\n      <td>0.667</td>\n      <td>0.0</td>\n      <td>3.0</td>\n      <td>3.0</td>\n      <td>10.0</td>\n      <td>1.0</td>\n      <td>1.0</td>\n      <td>4.0</td>\n      <td>0.0</td>\n      <td>30.0</td>\n      <td>19.0</td>\n      <td>[2]</td>\n      <td>True</td>\n      <td>Narrowed lead</td>\n    </tr>\n    <tr>\n      <th>13</th>\n      <td>0022200392</td>\n      <td>1610612744</td>\n      <td>GSW</td>\n      <td>Golden State</td>\n      <td>201939</td>\n      <td>Stephen Curry</td>\n      <td>Stephen</td>\n      <td>G</td>\n      <td></td>\n      <td>37.000000:26</td>\n      <td>12.0</td>\n      <td>21.0</td>\n      <td>0.571</td>\n      <td>6.0</td>\n      <td>11.0</td>\n      <td>0.545</td>\n      <td>2.0</td>\n      <td>2.0</td>\n      <td>1.000</td>\n      <td>1.0</td>\n      <td>5.0</td>\n      <td>6.0</td>\n      <td>7.0</td>\n      <td>0.0</td>\n      <td>1.0</td>\n      <td>4.0</td>\n      <td>3.0</td>\n      <td>32.0</td>\n      <td>20.0</td>\n      <td>[2, 2]</td>\n      <td>True</td>\n      <td>Continued leading</td>\n    </tr>\n    <tr>\n      <th>14</th>\n      <td>0022200415</td>\n      <td>1610612744</td>\n      <td>GSW</td>\n      <td>Golden State</td>\n      <td>201939</td>\n      <td>Stephen Curry</td>\n      <td>Stephen</td>\n      <td>G</td>\n      <td></td>\n      <td>29.000000:33</td>\n      <td>11.0</td>\n      <td>19.0</td>\n      <td>0.579</td>\n      <td>5.0</td>\n      <td>10.0</td>\n      <td>0.500</td>\n      <td>11.0</td>\n      <td>11.0</td>\n      <td>1.000</td>\n      <td>1.0</td>\n      <td>6.0</td>\n      <td>7.0</td>\n      <td>7.0</td>\n      <td>2.0</td>\n      <td>1.0</td>\n      <td>3.0</td>\n      <td>2.0</td>\n      <td>38.0</td>\n      <td>-6.0</td>\n      <td>[2]</td>\n      <td>False</td>\n      <td>Narrowed lead</td>\n    </tr>\n    <tr>\n      <th>16</th>\n      <td>0022200704</td>\n      <td>1610612744</td>\n      <td>GSW</td>\n      <td>Golden State</td>\n      <td>201939</td>\n      <td>Stephen Curry</td>\n      <td>Stephen</td>\n      <td>G</td>\n      <td></td>\n      <td>37.000000:35</td>\n      <td>7.0</td>\n      <td>16.0</td>\n      <td>0.438</td>\n      <td>4.0</td>\n      <td>8.0</td>\n      <td>0.500</td>\n      <td>8.0</td>\n      <td>8.0</td>\n      <td>1.000</td>\n      <td>1.0</td>\n      <td>5.0</td>\n      <td>6.0</td>\n      <td>7.0</td>\n      <td>1.0</td>\n      <td>0.0</td>\n      <td>5.0</td>\n      <td>2.0</td>\n      <td>26.0</td>\n      <td>-8.0</td>\n      <td>[2]</td>\n      <td>False</td>\n      <td>Narrowed lead</td>\n    </tr>\n    <tr>\n      <th>17</th>\n      <td>0022200759</td>\n      <td>1610612744</td>\n      <td>GSW</td>\n      <td>Golden State</td>\n      <td>201939</td>\n      <td>Stephen Curry</td>\n      <td>Stephen</td>\n      <td>G</td>\n      <td></td>\n      <td>36.000000:37</td>\n      <td>12.0</td>\n      <td>20.0</td>\n      <td>0.600</td>\n      <td>8.0</td>\n      <td>14.0</td>\n      <td>0.571</td>\n      <td>6.0</td>\n      <td>6.0</td>\n      <td>1.000</td>\n      <td>1.0</td>\n      <td>7.0</td>\n      <td>8.0</td>\n      <td>12.0</td>\n      <td>0.0</td>\n      <td>1.0</td>\n      <td>4.0</td>\n      <td>0.0</td>\n      <td>38.0</td>\n      <td>17.0</td>\n      <td>[2, 2]</td>\n      <td>True</td>\n      <td>Continued losing</td>\n    </tr>\n    <tr>\n      <th>18</th>\n      <td>0022200774</td>\n      <td>1610612744</td>\n      <td>GSW</td>\n      <td>Golden State</td>\n      <td>201939</td>\n      <td>Stephen Curry</td>\n      <td>Stephen</td>\n      <td>G</td>\n      <td></td>\n      <td>42.000000:22</td>\n      <td>8.0</td>\n      <td>21.0</td>\n      <td>0.381</td>\n      <td>5.0</td>\n      <td>12.0</td>\n      <td>0.417</td>\n      <td>8.0</td>\n      <td>9.0</td>\n      <td>0.889</td>\n      <td>0.0</td>\n      <td>10.0</td>\n      <td>10.0</td>\n      <td>3.0</td>\n      <td>1.0</td>\n      <td>1.0</td>\n      <td>4.0</td>\n      <td>5.0</td>\n      <td>29.0</td>\n      <td>-5.0</td>\n      <td>[3, 2]</td>\n      <td>False</td>\n      <td>Continued losing</td>\n    </tr>\n    <tr>\n      <th>19</th>\n      <td>0022200783</td>\n      <td>1610612744</td>\n      <td>GSW</td>\n      <td>Golden State</td>\n      <td>201939</td>\n      <td>Stephen Curry</td>\n      <td>Stephen</td>\n      <td>G</td>\n      <td></td>\n      <td>33.000000:11</td>\n      <td>10.0</td>\n      <td>17.0</td>\n      <td>0.588</td>\n      <td>5.0</td>\n      <td>10.0</td>\n      <td>0.500</td>\n      <td>3.0</td>\n      <td>3.0</td>\n      <td>1.000</td>\n      <td>2.0</td>\n      <td>3.0</td>\n      <td>5.0</td>\n      <td>5.0</td>\n      <td>0.0</td>\n      <td>0.0</td>\n      <td>6.0</td>\n      <td>4.0</td>\n      <td>28.0</td>\n      <td>-16.0</td>\n      <td>[2]</td>\n      <td>False</td>\n      <td>Narrowed lead</td>\n    </tr>\n    <tr>\n      <th>20</th>\n      <td>0022200964</td>\n      <td>1610612744</td>\n      <td>GSW</td>\n      <td>Golden State</td>\n      <td>201939</td>\n      <td>Stephen Curry</td>\n      <td>Stephen</td>\n      <td>G</td>\n      <td></td>\n      <td>32.000000:02</td>\n      <td>8.0</td>\n      <td>20.0</td>\n      <td>0.400</td>\n      <td>5.0</td>\n      <td>13.0</td>\n      <td>0.385</td>\n      <td>6.0</td>\n      <td>6.0</td>\n      <td>1.000</td>\n      <td>0.0</td>\n      <td>2.0</td>\n      <td>2.0</td>\n      <td>6.0</td>\n      <td>1.0</td>\n      <td>0.0</td>\n      <td>2.0</td>\n      <td>3.0</td>\n      <td>27.0</td>\n      <td>-12.0</td>\n      <td>[2]</td>\n      <td>False</td>\n      <td>Narrowed lead</td>\n    </tr>\n    <tr>\n      <th>21</th>\n      <td>0022200982</td>\n      <td>1610612744</td>\n      <td>GSW</td>\n      <td>Golden State</td>\n      <td>201939</td>\n      <td>Stephen Curry</td>\n      <td>Stephen</td>\n      <td>G</td>\n      <td></td>\n      <td>35.000000:28</td>\n      <td>14.0</td>\n      <td>23.0</td>\n      <td>0.609</td>\n      <td>10.0</td>\n      <td>16.0</td>\n      <td>0.625</td>\n      <td>2.0</td>\n      <td>2.0</td>\n      <td>1.000</td>\n      <td>1.0</td>\n      <td>5.0</td>\n      <td>6.0</td>\n      <td>7.0</td>\n      <td>0.0</td>\n      <td>0.0</td>\n      <td>6.0</td>\n      <td>4.0</td>\n      <td>40.0</td>\n      <td>-2.0</td>\n      <td>[2, 2, 2]</td>\n      <td>False</td>\n      <td>Narrowed lead</td>\n    </tr>\n    <tr>\n      <th>23</th>\n      <td>0022201025</td>\n      <td>1610612744</td>\n      <td>GSW</td>\n      <td>Golden State</td>\n      <td>201939</td>\n      <td>Stephen Curry</td>\n      <td>Stephen</td>\n      <td>G</td>\n      <td></td>\n      <td>33.000000:27</td>\n      <td>7.0</td>\n      <td>13.0</td>\n      <td>0.538</td>\n      <td>4.0</td>\n      <td>6.0</td>\n      <td>0.667</td>\n      <td>5.0</td>\n      <td>6.0</td>\n      <td>0.833</td>\n      <td>2.0</td>\n      <td>5.0</td>\n      <td>7.0</td>\n      <td>5.0</td>\n      <td>0.0</td>\n      <td>0.0</td>\n      <td>5.0</td>\n      <td>4.0</td>\n      <td>23.0</td>\n      <td>14.0</td>\n      <td>[2]</td>\n      <td>True</td>\n      <td>Continued leading</td>\n    </tr>\n    <tr>\n      <th>24</th>\n      <td>0022201041</td>\n      <td>1610612744</td>\n      <td>GSW</td>\n      <td>Golden State</td>\n      <td>201939</td>\n      <td>Stephen Curry</td>\n      <td>Stephen</td>\n      <td>G</td>\n      <td></td>\n      <td>38.000000:32</td>\n      <td>20.0</td>\n      <td>28.0</td>\n      <td>0.714</td>\n      <td>8.0</td>\n      <td>14.0</td>\n      <td>0.571</td>\n      <td>2.0</td>\n      <td>4.0</td>\n      <td>0.500</td>\n      <td>0.0</td>\n      <td>2.0</td>\n      <td>2.0</td>\n      <td>6.0</td>\n      <td>2.0</td>\n      <td>0.0</td>\n      <td>2.0</td>\n      <td>1.0</td>\n      <td>50.0</td>\n      <td>-11.0</td>\n      <td>[2, 3, 2]</td>\n      <td>False</td>\n      <td>Went from tie to leading</td>\n    </tr>\n    <tr>\n      <th>25</th>\n      <td>0022201121</td>\n      <td>1610612744</td>\n      <td>GSW</td>\n      <td>Golden State</td>\n      <td>201939</td>\n      <td>Stephen Curry</td>\n      <td>Stephen</td>\n      <td>G</td>\n      <td></td>\n      <td>36.000000:13</td>\n      <td>8.0</td>\n      <td>23.0</td>\n      <td>0.348</td>\n      <td>4.0</td>\n      <td>13.0</td>\n      <td>0.308</td>\n      <td>0.0</td>\n      <td>0.0</td>\n      <td>0.000</td>\n      <td>0.0</td>\n      <td>6.0</td>\n      <td>6.0</td>\n      <td>9.0</td>\n      <td>1.0</td>\n      <td>0.0</td>\n      <td>3.0</td>\n      <td>3.0</td>\n      <td>20.0</td>\n      <td>2.0</td>\n      <td>[2]</td>\n      <td>False</td>\n      <td>Went from tie to leading</td>\n    </tr>\n    <tr>\n      <th>29</th>\n      <td>0022201211</td>\n      <td>1610612744</td>\n      <td>GSW</td>\n      <td>Golden State</td>\n      <td>201939</td>\n      <td>Stephen Curry</td>\n      <td>Stephen</td>\n      <td>G</td>\n      <td></td>\n      <td>32.000000:41</td>\n      <td>8.0</td>\n      <td>14.0</td>\n      <td>0.571</td>\n      <td>3.0</td>\n      <td>7.0</td>\n      <td>0.429</td>\n      <td>6.0</td>\n      <td>7.0</td>\n      <td>0.857</td>\n      <td>1.0</td>\n      <td>6.0</td>\n      <td>7.0</td>\n      <td>6.0</td>\n      <td>2.0</td>\n      <td>1.0</td>\n      <td>5.0</td>\n      <td>1.0</td>\n      <td>25.0</td>\n      <td>33.0</td>\n      <td>[2]</td>\n      <td>True</td>\n      <td>Continued losing</td>\n    </tr>\n    <tr>\n      <th>30</th>\n      <td>0022201230</td>\n      <td>1610612744</td>\n      <td>GSW</td>\n      <td>Golden State</td>\n      <td>201939</td>\n      <td>Stephen Curry</td>\n      <td>Stephen</td>\n      <td>G</td>\n      <td></td>\n      <td>22.000000:27</td>\n      <td>9.0</td>\n      <td>15.0</td>\n      <td>0.600</td>\n      <td>5.0</td>\n      <td>10.0</td>\n      <td>0.500</td>\n      <td>3.0</td>\n      <td>3.0</td>\n      <td>1.000</td>\n      <td>0.0</td>\n      <td>5.0</td>\n      <td>5.0</td>\n      <td>7.0</td>\n      <td>0.0</td>\n      <td>0.0</td>\n      <td>1.0</td>\n      <td>0.0</td>\n      <td>26.0</td>\n      <td>26.0</td>\n      <td>[2]</td>\n      <td>True</td>\n      <td>Continued losing</td>\n    </tr>\n    <tr>\n      <th>31</th>\n      <td>0022300005</td>\n      <td>1610612744</td>\n      <td>GSW</td>\n      <td>Golden State</td>\n      <td>201939</td>\n      <td>Stephen Curry</td>\n      <td>Stephen</td>\n      <td>G</td>\n      <td></td>\n      <td>31.000000:23</td>\n      <td>9.0</td>\n      <td>15.0</td>\n      <td>0.600</td>\n      <td>5.0</td>\n      <td>10.0</td>\n      <td>0.500</td>\n      <td>7.0</td>\n      <td>7.0</td>\n      <td>1.000</td>\n      <td>3.0</td>\n      <td>5.0</td>\n      <td>8.0</td>\n      <td>7.0</td>\n      <td>2.0</td>\n      <td>0.0</td>\n      <td>3.0</td>\n      <td>1.0</td>\n      <td>30.0</td>\n      <td>5.0</td>\n      <td>[2]</td>\n      <td>True</td>\n      <td>Went from leading to tie</td>\n    </tr>\n    <tr>\n      <th>32</th>\n      <td>0022300051</td>\n      <td>1610612744</td>\n      <td>GSW</td>\n      <td>Golden State</td>\n      <td>201939</td>\n      <td>Stephen Curry</td>\n      <td>Stephen</td>\n      <td>G</td>\n      <td></td>\n      <td>34.000000:49</td>\n      <td>11.0</td>\n      <td>20.0</td>\n      <td>0.550</td>\n      <td>7.0</td>\n      <td>14.0</td>\n      <td>0.500</td>\n      <td>6.0</td>\n      <td>6.0</td>\n      <td>1.000</td>\n      <td>0.0</td>\n      <td>3.0</td>\n      <td>3.0</td>\n      <td>6.0</td>\n      <td>1.0</td>\n      <td>0.0</td>\n      <td>6.0</td>\n      <td>2.0</td>\n      <td>35.0</td>\n      <td>4.0</td>\n      <td>[2, 2]</td>\n      <td>True</td>\n      <td>Continued leading</td>\n    </tr>\n    <tr>\n      <th>33</th>\n      <td>0022300087</td>\n      <td>1610612744</td>\n      <td>GSW</td>\n      <td>Golden State</td>\n      <td>201939</td>\n      <td>Stephen Curry</td>\n      <td>Stephen</td>\n      <td>G</td>\n      <td></td>\n      <td>34.000000:50</td>\n      <td>14.0</td>\n      <td>19.0</td>\n      <td>0.737</td>\n      <td>7.0</td>\n      <td>10.0</td>\n      <td>0.700</td>\n      <td>6.0</td>\n      <td>6.0</td>\n      <td>1.000</td>\n      <td>1.0</td>\n      <td>3.0</td>\n      <td>4.0</td>\n      <td>4.0</td>\n      <td>2.0</td>\n      <td>0.0</td>\n      <td>4.0</td>\n      <td>0.0</td>\n      <td>41.0</td>\n      <td>10.0</td>\n      <td>[2]</td>\n      <td>True</td>\n      <td>Narrowed deficit</td>\n    </tr>\n    <tr>\n      <th>36</th>\n      <td>0022300142</td>\n      <td>1610612744</td>\n      <td>GSW</td>\n      <td>Golden State</td>\n      <td>201939</td>\n      <td>Stephen Curry</td>\n      <td>Stephen</td>\n      <td>G</td>\n      <td></td>\n      <td>30.000000:49</td>\n      <td>8.0</td>\n      <td>16.0</td>\n      <td>0.500</td>\n      <td>7.0</td>\n      <td>11.0</td>\n      <td>0.636</td>\n      <td>5.0</td>\n      <td>6.0</td>\n      <td>0.833</td>\n      <td>0.0</td>\n      <td>2.0</td>\n      <td>2.0</td>\n      <td>4.0</td>\n      <td>1.0</td>\n      <td>0.0</td>\n      <td>6.0</td>\n      <td>0.0</td>\n      <td>28.0</td>\n      <td>-6.0</td>\n      <td>[2]</td>\n      <td>False</td>\n      <td>Narrowed lead</td>\n    </tr>\n    <tr>\n      <th>37</th>\n      <td>0022300145</td>\n      <td>1610612744</td>\n      <td>GSW</td>\n      <td>Golden State</td>\n      <td>201939</td>\n      <td>Stephen Curry</td>\n      <td>Stephen</td>\n      <td>G</td>\n      <td></td>\n      <td>32.000000:38</td>\n      <td>12.0</td>\n      <td>26.0</td>\n      <td>0.462</td>\n      <td>7.0</td>\n      <td>17.0</td>\n      <td>0.412</td>\n      <td>3.0</td>\n      <td>4.0</td>\n      <td>0.750</td>\n      <td>0.0</td>\n      <td>2.0</td>\n      <td>2.0</td>\n      <td>4.0</td>\n      <td>0.0</td>\n      <td>0.0</td>\n      <td>3.0</td>\n      <td>1.0</td>\n      <td>34.0</td>\n      <td>17.0</td>\n      <td>[2, 2]</td>\n      <td>True</td>\n      <td>From losing to leading</td>\n    </tr>\n    <tr>\n      <th>38</th>\n      <td>0022300176</td>\n      <td>1610612744</td>\n      <td>GSW</td>\n      <td>Golden State</td>\n      <td>201939</td>\n      <td>Stephen Curry</td>\n      <td>Stephen</td>\n      <td>G</td>\n      <td></td>\n      <td>32.000000:33</td>\n      <td>9.0</td>\n      <td>24.0</td>\n      <td>0.375</td>\n      <td>4.0</td>\n      <td>14.0</td>\n      <td>0.286</td>\n      <td>8.0</td>\n      <td>8.0</td>\n      <td>1.000</td>\n      <td>1.0</td>\n      <td>2.0</td>\n      <td>3.0</td>\n      <td>2.0</td>\n      <td>1.0</td>\n      <td>1.0</td>\n      <td>4.0</td>\n      <td>1.0</td>\n      <td>30.0</td>\n      <td>-8.0</td>\n      <td>[2]</td>\n      <td>False</td>\n      <td>Narrowed deficit</td>\n    </tr>\n    <tr>\n      <th>39</th>\n      <td>0022300273</td>\n      <td>1610612744</td>\n      <td>GSW</td>\n      <td>Golden State</td>\n      <td>201939</td>\n      <td>Stephen Curry</td>\n      <td>Stephen</td>\n      <td>G</td>\n      <td></td>\n      <td>33.000000:00</td>\n      <td>8.0</td>\n      <td>15.0</td>\n      <td>0.533</td>\n      <td>3.0</td>\n      <td>9.0</td>\n      <td>0.333</td>\n      <td>7.0</td>\n      <td>9.0</td>\n      <td>0.778</td>\n      <td>0.0</td>\n      <td>7.0</td>\n      <td>7.0</td>\n      <td>8.0</td>\n      <td>1.0</td>\n      <td>1.0</td>\n      <td>2.0</td>\n      <td>2.0</td>\n      <td>26.0</td>\n      <td>-4.0</td>\n      <td>[2]</td>\n      <td>True</td>\n      <td>From losing to leading</td>\n    </tr>\n    <tr>\n      <th>40</th>\n      <td>0022300280</td>\n      <td>1610612744</td>\n      <td>GSW</td>\n      <td>Golden State</td>\n      <td>201939</td>\n      <td>Stephen Curry</td>\n      <td>Stephen</td>\n      <td>G</td>\n      <td></td>\n      <td>36.000000:36</td>\n      <td>7.0</td>\n      <td>18.0</td>\n      <td>0.389</td>\n      <td>4.0</td>\n      <td>9.0</td>\n      <td>0.444</td>\n      <td>4.0</td>\n      <td>4.0</td>\n      <td>1.000</td>\n      <td>1.0</td>\n      <td>3.0</td>\n      <td>4.0</td>\n      <td>11.0</td>\n      <td>0.0</td>\n      <td>0.0</td>\n      <td>2.0</td>\n      <td>0.0</td>\n      <td>22.0</td>\n      <td>2.0</td>\n      <td>[2]</td>\n      <td>False</td>\n      <td>Continued losing</td>\n    </tr>\n    <tr>\n      <th>41</th>\n      <td>0022300339</td>\n      <td>1610612744</td>\n      <td>GSW</td>\n      <td>Golden State</td>\n      <td>201939</td>\n      <td>Stephen Curry</td>\n      <td>Stephen</td>\n      <td>G</td>\n      <td></td>\n      <td>35.000000:02</td>\n      <td>14.0</td>\n      <td>22.0</td>\n      <td>0.636</td>\n      <td>6.0</td>\n      <td>8.0</td>\n      <td>0.750</td>\n      <td>3.0</td>\n      <td>3.0</td>\n      <td>1.000</td>\n      <td>0.0</td>\n      <td>3.0</td>\n      <td>3.0</td>\n      <td>1.0</td>\n      <td>0.0</td>\n      <td>3.0</td>\n      <td>3.0</td>\n      <td>1.0</td>\n      <td>37.0</td>\n      <td>7.0</td>\n      <td>[2]</td>\n      <td>True</td>\n      <td>Continued leading</td>\n    </tr>\n    <tr>\n      <th>42</th>\n      <td>0022300386</td>\n      <td>1610612744</td>\n      <td>GSW</td>\n      <td>Golden State</td>\n      <td>201939</td>\n      <td>Stephen Curry</td>\n      <td>Stephen</td>\n      <td>G</td>\n      <td></td>\n      <td>26.000000:54</td>\n      <td>9.0</td>\n      <td>18.0</td>\n      <td>0.500</td>\n      <td>8.0</td>\n      <td>13.0</td>\n      <td>0.615</td>\n      <td>4.0</td>\n      <td>5.0</td>\n      <td>0.800</td>\n      <td>0.0</td>\n      <td>4.0</td>\n      <td>4.0</td>\n      <td>7.0</td>\n      <td>0.0</td>\n      <td>1.0</td>\n      <td>2.0</td>\n      <td>0.0</td>\n      <td>30.0</td>\n      <td>-1.0</td>\n      <td>[3, 2]</td>\n      <td>True</td>\n      <td>Continued leading</td>\n    </tr>\n    <tr>\n      <th>45</th>\n      <td>0022300589</td>\n      <td>1610612744</td>\n      <td>GSW</td>\n      <td>Golden State</td>\n      <td>201939</td>\n      <td>Stephen Curry</td>\n      <td>Stephen</td>\n      <td>G</td>\n      <td></td>\n      <td>31.000000:35</td>\n      <td>5.0</td>\n      <td>18.0</td>\n      <td>0.278</td>\n      <td>3.0</td>\n      <td>5.0</td>\n      <td>0.600</td>\n      <td>0.0</td>\n      <td>0.0</td>\n      <td>0.000</td>\n      <td>0.0</td>\n      <td>7.0</td>\n      <td>7.0</td>\n      <td>7.0</td>\n      <td>1.0</td>\n      <td>2.0</td>\n      <td>4.0</td>\n      <td>1.0</td>\n      <td>13.0</td>\n      <td>-4.0</td>\n      <td>[2]</td>\n      <td>True</td>\n      <td>Continued leading</td>\n    </tr>\n    <tr>\n      <th>47</th>\n      <td>0022300650</td>\n      <td>1610612744</td>\n      <td>GSW</td>\n      <td>Golden State</td>\n      <td>201939</td>\n      <td>Stephen Curry</td>\n      <td>Stephen</td>\n      <td>G</td>\n      <td></td>\n      <td>43.000000:24</td>\n      <td>17.0</td>\n      <td>35.0</td>\n      <td>0.486</td>\n      <td>9.0</td>\n      <td>21.0</td>\n      <td>0.429</td>\n      <td>3.0</td>\n      <td>3.0</td>\n      <td>1.000</td>\n      <td>0.0</td>\n      <td>3.0</td>\n      <td>3.0</td>\n      <td>7.0</td>\n      <td>1.0</td>\n      <td>0.0</td>\n      <td>4.0</td>\n      <td>4.0</td>\n      <td>46.0</td>\n      <td>-2.0</td>\n      <td>[2, 2]</td>\n      <td>False</td>\n      <td>Continued leading</td>\n    </tr>\n    <tr>\n      <th>48</th>\n      <td>0022300673</td>\n      <td>1610612744</td>\n      <td>GSW</td>\n      <td>Golden State</td>\n      <td>201939</td>\n      <td>Stephen Curry</td>\n      <td>Stephen</td>\n      <td>G</td>\n      <td></td>\n      <td>35.000000:13</td>\n      <td>12.0</td>\n      <td>17.0</td>\n      <td>0.706</td>\n      <td>8.0</td>\n      <td>13.0</td>\n      <td>0.615</td>\n      <td>5.0</td>\n      <td>5.0</td>\n      <td>1.000</td>\n      <td>1.0</td>\n      <td>7.0</td>\n      <td>8.0</td>\n      <td>7.0</td>\n      <td>0.0</td>\n      <td>1.0</td>\n      <td>5.0</td>\n      <td>2.0</td>\n      <td>37.0</td>\n      <td>26.0</td>\n      <td>[2, 2]</td>\n      <td>True</td>\n      <td>Continued leading</td>\n    </tr>\n    <tr>\n      <th>50</th>\n      <td>0022300733</td>\n      <td>1610612744</td>\n      <td>GSW</td>\n      <td>Golden State</td>\n      <td>201939</td>\n      <td>Stephen Curry</td>\n      <td>Stephen</td>\n      <td>G</td>\n      <td></td>\n      <td>30.000000:06</td>\n      <td>15.0</td>\n      <td>22.0</td>\n      <td>0.682</td>\n      <td>11.0</td>\n      <td>16.0</td>\n      <td>0.688</td>\n      <td>1.0</td>\n      <td>2.0</td>\n      <td>0.500</td>\n      <td>0.0</td>\n      <td>2.0</td>\n      <td>2.0</td>\n      <td>2.0</td>\n      <td>0.0</td>\n      <td>1.0</td>\n      <td>2.0</td>\n      <td>2.0</td>\n      <td>42.0</td>\n      <td>13.0</td>\n      <td>[2]</td>\n      <td>True</td>\n      <td>Continued losing</td>\n    </tr>\n    <tr>\n      <th>51</th>\n      <td>0022300757</td>\n      <td>1610612744</td>\n      <td>GSW</td>\n      <td>Golden State</td>\n      <td>201939</td>\n      <td>Stephen Curry</td>\n      <td>Stephen</td>\n      <td>G</td>\n      <td></td>\n      <td>33.000000:51</td>\n      <td>10.0</td>\n      <td>22.0</td>\n      <td>0.455</td>\n      <td>9.0</td>\n      <td>16.0</td>\n      <td>0.563</td>\n      <td>1.0</td>\n      <td>2.0</td>\n      <td>0.500</td>\n      <td>1.0</td>\n      <td>8.0</td>\n      <td>9.0</td>\n      <td>6.0</td>\n      <td>1.0</td>\n      <td>0.0</td>\n      <td>3.0</td>\n      <td>0.0</td>\n      <td>30.0</td>\n      <td>10.0</td>\n      <td>[2]</td>\n      <td>True</td>\n      <td>From leading to losing</td>\n    </tr>\n    <tr>\n      <th>52</th>\n      <td>0022300769</td>\n      <td>1610612744</td>\n      <td>GSW</td>\n      <td>Golden State</td>\n      <td>201939</td>\n      <td>Stephen Curry</td>\n      <td>Stephen</td>\n      <td>G</td>\n      <td></td>\n      <td>32.000000:05</td>\n      <td>9.0</td>\n      <td>19.0</td>\n      <td>0.474</td>\n      <td>7.0</td>\n      <td>16.0</td>\n      <td>0.438</td>\n      <td>0.0</td>\n      <td>0.0</td>\n      <td>0.000</td>\n      <td>0.0</td>\n      <td>6.0</td>\n      <td>6.0</td>\n      <td>10.0</td>\n      <td>3.0</td>\n      <td>1.0</td>\n      <td>1.0</td>\n      <td>1.0</td>\n      <td>25.0</td>\n      <td>30.0</td>\n      <td>[2, 2]</td>\n      <td>True</td>\n      <td>Continued losing</td>\n    </tr>\n    <tr>\n      <th>53</th>\n      <td>0022300802</td>\n      <td>1610612744</td>\n      <td>GSW</td>\n      <td>Golden State</td>\n      <td>201939</td>\n      <td>Stephen Curry</td>\n      <td>Stephen</td>\n      <td>G</td>\n      <td></td>\n      <td>31.000000:48</td>\n      <td>12.0</td>\n      <td>24.0</td>\n      <td>0.500</td>\n      <td>6.0</td>\n      <td>13.0</td>\n      <td>0.462</td>\n      <td>2.0</td>\n      <td>2.0</td>\n      <td>1.000</td>\n      <td>0.0</td>\n      <td>1.0</td>\n      <td>1.0</td>\n      <td>8.0</td>\n      <td>3.0</td>\n      <td>0.0</td>\n      <td>1.0</td>\n      <td>1.0</td>\n      <td>32.0</td>\n      <td>25.0</td>\n      <td>[2]</td>\n      <td>True</td>\n      <td>Continued leading</td>\n    </tr>\n    <tr>\n      <th>54</th>\n      <td>0022300852</td>\n      <td>1610612744</td>\n      <td>GSW</td>\n      <td>Golden State</td>\n      <td>201939</td>\n      <td>Stephen Curry</td>\n      <td>Stephen</td>\n      <td>G</td>\n      <td></td>\n      <td>31.000000:35</td>\n      <td>11.0</td>\n      <td>26.0</td>\n      <td>0.423</td>\n      <td>8.0</td>\n      <td>18.0</td>\n      <td>0.444</td>\n      <td>1.0</td>\n      <td>1.0</td>\n      <td>1.000</td>\n      <td>2.0</td>\n      <td>9.0</td>\n      <td>11.0</td>\n      <td>1.0</td>\n      <td>1.0</td>\n      <td>0.0</td>\n      <td>3.0</td>\n      <td>0.0</td>\n      <td>31.0</td>\n      <td>20.0</td>\n      <td>[2, 2]</td>\n      <td>True</td>\n      <td>Continued losing</td>\n    </tr>\n    <tr>\n      <th>55</th>\n      <td>0022300860</td>\n      <td>1610612744</td>\n      <td>GSW</td>\n      <td>Golden State</td>\n      <td>201939</td>\n      <td>Stephen Curry</td>\n      <td>Stephen</td>\n      <td>G</td>\n      <td></td>\n      <td>30.000000:06</td>\n      <td>9.0</td>\n      <td>22.0</td>\n      <td>0.409</td>\n      <td>7.0</td>\n      <td>15.0</td>\n      <td>0.467</td>\n      <td>0.0</td>\n      <td>0.0</td>\n      <td>0.000</td>\n      <td>2.0</td>\n      <td>4.0</td>\n      <td>6.0</td>\n      <td>6.0</td>\n      <td>0.0</td>\n      <td>0.0</td>\n      <td>4.0</td>\n      <td>2.0</td>\n      <td>25.0</td>\n      <td>12.0</td>\n      <td>[2, 2]</td>\n      <td>True</td>\n      <td>Continued leading</td>\n    </tr>\n    <tr>\n      <th>56</th>\n      <td>0022300899</td>\n      <td>1610612744</td>\n      <td>GSW</td>\n      <td>Golden State</td>\n      <td>201939</td>\n      <td>Stephen Curry</td>\n      <td>Stephen</td>\n      <td>G</td>\n      <td></td>\n      <td>30.000000:45</td>\n      <td>10.0</td>\n      <td>18.0</td>\n      <td>0.556</td>\n      <td>6.0</td>\n      <td>10.0</td>\n      <td>0.600</td>\n      <td>3.0</td>\n      <td>4.0</td>\n      <td>0.750</td>\n      <td>2.0</td>\n      <td>6.0</td>\n      <td>8.0</td>\n      <td>5.0</td>\n      <td>0.0</td>\n      <td>0.0</td>\n      <td>2.0</td>\n      <td>1.0</td>\n      <td>29.0</td>\n      <td>15.0</td>\n      <td>[2, 2, 2]</td>\n      <td>True</td>\n      <td>Continued leading</td>\n    </tr>\n    <tr>\n      <th>57</th>\n      <td>0022300907</td>\n      <td>1610612744</td>\n      <td>GSW</td>\n      <td>Golden State</td>\n      <td>201939</td>\n      <td>Stephen Curry</td>\n      <td>Stephen</td>\n      <td>G</td>\n      <td></td>\n      <td>28.000000:42</td>\n      <td>5.0</td>\n      <td>18.0</td>\n      <td>0.278</td>\n      <td>3.0</td>\n      <td>12.0</td>\n      <td>0.250</td>\n      <td>2.0</td>\n      <td>2.0</td>\n      <td>1.000</td>\n      <td>0.0</td>\n      <td>3.0</td>\n      <td>3.0</td>\n      <td>1.0</td>\n      <td>0.0</td>\n      <td>0.0</td>\n      <td>2.0</td>\n      <td>1.0</td>\n      <td>15.0</td>\n      <td>9.0</td>\n      <td>[2]</td>\n      <td>False</td>\n      <td>Narrowed lead</td>\n    </tr>\n    <tr>\n      <th>58</th>\n      <td>0022300973</td>\n      <td>1610612744</td>\n      <td>GSW</td>\n      <td>Golden State</td>\n      <td>201939</td>\n      <td>Stephen Curry</td>\n      <td>Stephen</td>\n      <td>G</td>\n      <td></td>\n      <td>33.000000:52</td>\n      <td>12.0</td>\n      <td>24.0</td>\n      <td>0.500</td>\n      <td>3.0</td>\n      <td>10.0</td>\n      <td>0.300</td>\n      <td>4.0</td>\n      <td>5.0</td>\n      <td>0.800</td>\n      <td>1.0</td>\n      <td>5.0</td>\n      <td>6.0</td>\n      <td>5.0</td>\n      <td>2.0</td>\n      <td>0.0</td>\n      <td>1.0</td>\n      <td>0.0</td>\n      <td>31.0</td>\n      <td>4.0</td>\n      <td>[2]</td>\n      <td>True</td>\n      <td>Continued losing</td>\n    </tr>\n    <tr>\n      <th>59</th>\n      <td>0022300988</td>\n      <td>1610612744</td>\n      <td>GSW</td>\n      <td>Golden State</td>\n      <td>201939</td>\n      <td>Stephen Curry</td>\n      <td>Stephen</td>\n      <td>G</td>\n      <td></td>\n      <td>33.000000:19</td>\n      <td>8.0</td>\n      <td>20.0</td>\n      <td>0.400</td>\n      <td>4.0</td>\n      <td>13.0</td>\n      <td>0.308</td>\n      <td>7.0</td>\n      <td>7.0</td>\n      <td>1.000</td>\n      <td>0.0</td>\n      <td>5.0</td>\n      <td>5.0</td>\n      <td>5.0</td>\n      <td>0.0</td>\n      <td>0.0</td>\n      <td>2.0</td>\n      <td>1.0</td>\n      <td>27.0</td>\n      <td>-9.0</td>\n      <td>[2]</td>\n      <td>False</td>\n      <td>Continued losing</td>\n    </tr>\n    <tr>\n      <th>61</th>\n      <td>0022301031</td>\n      <td>1610612744</td>\n      <td>GSW</td>\n      <td>Golden State</td>\n      <td>201939</td>\n      <td>Stephen Curry</td>\n      <td>Stephen</td>\n      <td>G</td>\n      <td></td>\n      <td>29.000000:50</td>\n      <td>9.0</td>\n      <td>21.0</td>\n      <td>0.429</td>\n      <td>5.0</td>\n      <td>11.0</td>\n      <td>0.455</td>\n      <td>8.0</td>\n      <td>8.0</td>\n      <td>1.000</td>\n      <td>0.0</td>\n      <td>4.0</td>\n      <td>4.0</td>\n      <td>3.0</td>\n      <td>0.0</td>\n      <td>0.0</td>\n      <td>2.0</td>\n      <td>1.0</td>\n      <td>31.0</td>\n      <td>6.0</td>\n      <td>[2, 2]</td>\n      <td>False</td>\n      <td>Narrowed deficit</td>\n    </tr>\n    <tr>\n      <th>62</th>\n      <td>0022301044</td>\n      <td>1610612744</td>\n      <td>GSW</td>\n      <td>Golden State</td>\n      <td>201939</td>\n      <td>Stephen Curry</td>\n      <td>Stephen</td>\n      <td>G</td>\n      <td></td>\n      <td>31.000000:01</td>\n      <td>7.0</td>\n      <td>15.0</td>\n      <td>0.467</td>\n      <td>3.0</td>\n      <td>10.0</td>\n      <td>0.300</td>\n      <td>0.0</td>\n      <td>0.0</td>\n      <td>0.000</td>\n      <td>1.0</td>\n      <td>1.0</td>\n      <td>2.0</td>\n      <td>6.0</td>\n      <td>0.0</td>\n      <td>0.0</td>\n      <td>1.0</td>\n      <td>1.0</td>\n      <td>17.0</td>\n      <td>19.0</td>\n      <td>[2]</td>\n      <td>True</td>\n      <td>Stayed tied</td>\n    </tr>\n    <tr>\n      <th>63</th>\n      <td>0022301085</td>\n      <td>1610612744</td>\n      <td>GSW</td>\n      <td>Golden State</td>\n      <td>201939</td>\n      <td>Stephen Curry</td>\n      <td>Stephen</td>\n      <td>G</td>\n      <td></td>\n      <td>32.000000:32</td>\n      <td>12.0</td>\n      <td>23.0</td>\n      <td>0.522</td>\n      <td>7.0</td>\n      <td>15.0</td>\n      <td>0.467</td>\n      <td>2.0</td>\n      <td>2.0</td>\n      <td>1.000</td>\n      <td>0.0</td>\n      <td>1.0</td>\n      <td>1.0</td>\n      <td>8.0</td>\n      <td>0.0</td>\n      <td>0.0</td>\n      <td>4.0</td>\n      <td>1.0</td>\n      <td>33.0</td>\n      <td>12.0</td>\n      <td>[2]</td>\n      <td>True</td>\n      <td>Continued losing</td>\n    </tr>\n    <tr>\n      <th>64</th>\n      <td>0022301097</td>\n      <td>1610612744</td>\n      <td>GSW</td>\n      <td>Golden State</td>\n      <td>201939</td>\n      <td>Stephen Curry</td>\n      <td>Stephen</td>\n      <td>G</td>\n      <td></td>\n      <td>35.000000:26</td>\n      <td>9.0</td>\n      <td>23.0</td>\n      <td>0.391</td>\n      <td>5.0</td>\n      <td>14.0</td>\n      <td>0.357</td>\n      <td>5.0</td>\n      <td>6.0</td>\n      <td>0.833</td>\n      <td>1.0</td>\n      <td>5.0</td>\n      <td>6.0</td>\n      <td>5.0</td>\n      <td>1.0</td>\n      <td>0.0</td>\n      <td>2.0</td>\n      <td>2.0</td>\n      <td>28.0</td>\n      <td>-5.0</td>\n      <td>[2]</td>\n      <td>False</td>\n      <td>From losing to leading</td>\n    </tr>\n    <tr>\n      <th>65</th>\n      <td>0022301155</td>\n      <td>1610612744</td>\n      <td>GSW</td>\n      <td>Golden State</td>\n      <td>201939</td>\n      <td>Stephen Curry</td>\n      <td>Stephen</td>\n      <td>G</td>\n      <td></td>\n      <td>32.000000:19</td>\n      <td>7.0</td>\n      <td>9.0</td>\n      <td>0.778</td>\n      <td>6.0</td>\n      <td>6.0</td>\n      <td>1.000</td>\n      <td>3.0</td>\n      <td>4.0</td>\n      <td>0.750</td>\n      <td>0.0</td>\n      <td>7.0</td>\n      <td>7.0</td>\n      <td>8.0</td>\n      <td>1.0</td>\n      <td>2.0</td>\n      <td>1.0</td>\n      <td>2.0</td>\n      <td>23.0</td>\n      <td>13.0</td>\n      <td>[2]</td>\n      <td>True</td>\n      <td>Narrowed deficit</td>\n    </tr>\n    <tr>\n      <th>67</th>\n      <td>0022301214</td>\n      <td>1610612744</td>\n      <td>GSW</td>\n      <td>Golden State</td>\n      <td>201939</td>\n      <td>Stephen Curry</td>\n      <td>Stephen</td>\n      <td>G</td>\n      <td></td>\n      <td>34.000000:29</td>\n      <td>8.0</td>\n      <td>18.0</td>\n      <td>0.444</td>\n      <td>5.0</td>\n      <td>13.0</td>\n      <td>0.385</td>\n      <td>10.0</td>\n      <td>11.0</td>\n      <td>0.909</td>\n      <td>0.0</td>\n      <td>5.0</td>\n      <td>5.0</td>\n      <td>1.0</td>\n      <td>0.0</td>\n      <td>0.0</td>\n      <td>4.0</td>\n      <td>2.0</td>\n      <td>31.0</td>\n      <td>4.0</td>\n      <td>[2]</td>\n      <td>True</td>\n      <td>Narrowed deficit</td>\n    </tr>\n    <tr>\n      <th>68</th>\n      <td>0022301222</td>\n      <td>1610612744</td>\n      <td>GSW</td>\n      <td>Golden State</td>\n      <td>201939</td>\n      <td>Stephen Curry</td>\n      <td>Stephen</td>\n      <td>G</td>\n      <td></td>\n      <td>40.000000:22</td>\n      <td>10.0</td>\n      <td>20.0</td>\n      <td>0.500</td>\n      <td>6.0</td>\n      <td>12.0</td>\n      <td>0.500</td>\n      <td>8.0</td>\n      <td>8.0</td>\n      <td>1.000</td>\n      <td>0.0</td>\n      <td>6.0</td>\n      <td>6.0</td>\n      <td>3.0</td>\n      <td>1.0</td>\n      <td>0.0</td>\n      <td>3.0</td>\n      <td>0.0</td>\n      <td>34.0</td>\n      <td>-5.0</td>\n      <td>[2]</td>\n      <td>False</td>\n      <td>From losing to leading</td>\n    </tr>\n    <tr>\n      <th>69</th>\n      <td>0022400007</td>\n      <td>1610612744</td>\n      <td>GSW</td>\n      <td>Golden State</td>\n      <td>201939</td>\n      <td>Stephen Curry</td>\n      <td>Stephen</td>\n      <td>G</td>\n      <td></td>\n      <td>34.000000:52</td>\n      <td>14.0</td>\n      <td>27.0</td>\n      <td>0.519</td>\n      <td>5.0</td>\n      <td>12.0</td>\n      <td>0.417</td>\n      <td>4.0</td>\n      <td>5.0</td>\n      <td>0.800</td>\n      <td>0.0</td>\n      <td>6.0</td>\n      <td>6.0</td>\n      <td>9.0</td>\n      <td>1.0</td>\n      <td>2.0</td>\n      <td>4.0</td>\n      <td>2.0</td>\n      <td>37.0</td>\n      <td>24.0</td>\n      <td>[2]</td>\n      <td>True</td>\n      <td>From losing to leading</td>\n    </tr>\n    <tr>\n      <th>70</th>\n      <td>0022400019</td>\n      <td>1610612744</td>\n      <td>GSW</td>\n      <td>Golden State</td>\n      <td>201939</td>\n      <td>Stephen Curry</td>\n      <td>Stephen</td>\n      <td>G</td>\n      <td></td>\n      <td>26.000000:01</td>\n      <td>4.0</td>\n      <td>9.0</td>\n      <td>0.444</td>\n      <td>3.0</td>\n      <td>7.0</td>\n      <td>0.429</td>\n      <td>2.0</td>\n      <td>2.0</td>\n      <td>1.000</td>\n      <td>1.0</td>\n      <td>7.0</td>\n      <td>8.0</td>\n      <td>5.0</td>\n      <td>4.0</td>\n      <td>0.0</td>\n      <td>3.0</td>\n      <td>2.0</td>\n      <td>13.0</td>\n      <td>9.0</td>\n      <td>[2]</td>\n      <td>True</td>\n      <td>Continued leading</td>\n    </tr>\n    <tr>\n      <th>71</th>\n      <td>0022400207</td>\n      <td>1610612744</td>\n      <td>GSW</td>\n      <td>Golden State</td>\n      <td>201939</td>\n      <td>Stephen Curry</td>\n      <td>Stephen</td>\n      <td>G</td>\n      <td></td>\n      <td>36.000000:30</td>\n      <td>13.0</td>\n      <td>23.0</td>\n      <td>0.565</td>\n      <td>7.0</td>\n      <td>13.0</td>\n      <td>0.538</td>\n      <td>3.0</td>\n      <td>4.0</td>\n      <td>0.750</td>\n      <td>1.0</td>\n      <td>4.0</td>\n      <td>5.0</td>\n      <td>7.0</td>\n      <td>1.0</td>\n      <td>1.0</td>\n      <td>3.0</td>\n      <td>2.0</td>\n      <td>36.0</td>\n      <td>21.0</td>\n      <td>[2]</td>\n      <td>True</td>\n      <td>Narrowed deficit</td>\n    </tr>\n  </tbody>\n</table>\n</div>"
     },
     "execution_count": 25,
     "metadata": {},
     "output_type": "execute_result"
    }
   ],
   "source": [
    "num_rows_with_streak_2 = steph_stats['LENGTH_OF_STREAK'].apply(lambda x: 2 in x)\n",
    "\n",
    "steph_stats[num_rows_with_streak_2]\n"
   ],
   "metadata": {
    "collapsed": false,
    "ExecuteTime": {
     "end_time": "2024-11-17T15:17:34.557282Z",
     "start_time": "2024-11-17T15:17:34.552966Z"
    }
   },
   "id": "363a3f1e90fd5802"
  },
  {
   "cell_type": "code",
   "execution_count": 80,
   "outputs": [
    {
     "data": {
      "text/plain": "[1, 2, 3, 4, 5, 6]"
     },
     "execution_count": 80,
     "metadata": {},
     "output_type": "execute_result"
    }
   ],
   "source": [
    "np.unique(df[df.PLAYER1_ID == player_id].PERIOD).tolist()"
   ],
   "metadata": {
    "collapsed": false,
    "ExecuteTime": {
     "end_time": "2024-11-18T12:15:30.719154Z",
     "start_time": "2024-11-18T12:15:30.696338Z"
    }
   },
   "id": "424537ca2a5fbd98"
  },
  {
   "cell_type": "code",
   "execution_count": 107,
   "outputs": [
    {
     "name": "stderr",
     "output_type": "stream",
     "text": [
      "100%|██████████| 139/139 [54:35<00:00, 23.56s/it]\n"
     ]
    }
   ],
   "source": [
    "steph_games = np.unique(df[df.PLAYER1_ID == player_id].GAME_ID)\n",
    "periods = np.unique(df[df.PLAYER1_ID == player_id].PERIOD).tolist()\n",
    "steph_stats_quarters = pd.DataFrame()\n",
    "\n",
    "whole_game_steph_stats = pd.DataFrame()\n",
    "\n",
    "for game_id in tqdm(steph_games, total=len(steph_games)):\n",
    "    game_id = f\"{int(game_id):010}\"\n",
    "\n",
    "    whole_game_boxscore = BoxScoreTraditionalV2(game_id=game_id, timeout=60).get_data_frames()\n",
    "    time.sleep(0.5)\n",
    "    \n",
    "    player_boxscore = whole_game_boxscore[0]\n",
    "    team_boxscore = whole_game_boxscore[1]\n",
    "    \n",
    "    whole_player_boxscore = player_boxscore[player_boxscore['PLAYER_ID'] == player_id].copy()  # Make a copy\n",
    "\n",
    "    gsw_points = team_boxscore[team_boxscore.TEAM_ABBREVIATION == 'GSW'].PTS.values[0]\n",
    "    opponent_points = team_boxscore[team_boxscore.TEAM_ABBREVIATION != 'GSW'].PTS.values[0]\n",
    "    gsw_win = gsw_points > opponent_points\n",
    "    \n",
    "    whole_player_boxscore['GAME_WON'] = gsw_win\n",
    "    \n",
    "    whole_game_steph_stats = pd.concat([whole_game_steph_stats, whole_player_boxscore])\n",
    "    \n",
    "    for period in periods:\n",
    "        start, end = get_quarter_times(period)\n",
    "    \n",
    "        quarter_boxscore = BoxScoreTraditionalV2(game_id=game_id,\n",
    "                                         start_range=start,\n",
    "                                         end_range=end,\n",
    "                                         range_type=2,\n",
    "                                         timeout=60\n",
    "                                         ).get_data_frames()\n",
    "        \n",
    "        time.sleep(0.5)\n",
    "\n",
    "        # Extract the detailed box score for all players\n",
    "        basic_boxscore = quarter_boxscore[0]\n",
    "\n",
    "        # Filter for the player of interest (Steph Curry)\n",
    "        quarter_player_boxscore = basic_boxscore[basic_boxscore['PLAYER_ID'] == player_id].copy()  # Make a copy\n",
    "        \n",
    "        quarter_player_boxscore['PERIOD'] = period\n",
    "        quarter_player_boxscore['GAME_WON'] = gsw_win\n",
    "        \n",
    "        steph_stats_quarters = pd.concat([steph_stats_quarters, quarter_player_boxscore], ignore_index=True)\n",
    "    \n",
    "    time.sleep(0.5)"
   ],
   "metadata": {
    "collapsed": false,
    "ExecuteTime": {
     "end_time": "2024-11-18T13:46:05.025110Z",
     "start_time": "2024-11-18T12:51:29.537713Z"
    }
   },
   "id": "cb7f0b8576966e"
  },
  {
   "cell_type": "code",
   "execution_count": 109,
   "outputs": [
    {
     "data": {
      "text/plain": "        GAME_ID     TEAM_ID TEAM_ABBREVIATION     TEAM_CITY PLAYER_ID  \\\n0    0022200002  1610612744               GSW  Golden State    201939   \n1    0022200002  1610612744               GSW  Golden State    201939   \n2    0022200002  1610612744               GSW  Golden State    201939   \n3    0022200002  1610612744               GSW  Golden State    201939   \n4    0022200026  1610612744               GSW  Golden State    201939   \n..          ...         ...               ...           ...       ...   \n545  0022400188  1610612744               GSW  Golden State    201939   \n546  0022400207  1610612744               GSW  Golden State    201939   \n547  0022400207  1610612744               GSW  Golden State    201939   \n548  0022400207  1610612744               GSW  Golden State    201939   \n549  0022400207  1610612744               GSW  Golden State    201939   \n\n       PLAYER_NAME NICKNAME START_POSITION COMMENT           MIN FGM FGA  \\\n0    Stephen Curry  Stephen              G           9.000000:20   1   7   \n1    Stephen Curry  Stephen              G           8.000000:18   4   6   \n2    Stephen Curry  Stephen              G          10.000000:27   2   4   \n3    Stephen Curry  Stephen              G           4.000000:43   3   5   \n4    Stephen Curry  Stephen              G           9.000000:29   2   4   \n..             ...      ...            ...     ...           ...  ..  ..   \n545  Stephen Curry  Stephen              G           7.000000:58   2   4   \n546  Stephen Curry  Stephen              G           9.000000:21   2   5   \n547  Stephen Curry  Stephen              G           7.000000:53   2   4   \n548  Stephen Curry  Stephen              G          10.000000:42   7  10   \n549  Stephen Curry  Stephen              G           8.000000:34   2   4   \n\n     FG_PCT FG3M FG3A  FG3_PCT FTM FTA  FT_PCT OREB DREB REB AST STL BLK TO  \\\n0     0.143    0    4    0.000   2   2     1.0    1    4   5   2   2   0  2   \n1     0.667    0    1    0.000   4   4     1.0    0    0   0   2   0   0  0   \n2     0.500    2    4    0.500   2   2     1.0    0    1   1   1   2   1  1   \n3     0.600    2    4    0.500   1   1     1.0    0    0   0   2   0   0  1   \n4     0.500    1    3    0.333   4   4     1.0    0    1   1   2   0   0  0   \n..      ...  ...  ...      ...  ..  ..     ...  ...  ...  ..  ..  ..  .. ..   \n545   0.500    0    1    0.000   1   1     1.0    0    1   1   2   0   0  2   \n546   0.400    1    3    0.333   0   0     0.0    1    1   2   2   0   0  1   \n547   0.500    2    2    1.000   0   1     0.0    0    0   0   2   1   0  0   \n548   0.700    2    4    0.500   1   1     1.0    0    3   3   2   0   0  1   \n549   0.500    2    4    0.500   2   2     1.0    0    0   0   1   0   1  1   \n\n    PF PTS  PLUS_MINUS  PERIOD  GAME_WON  \n0    1   4         0.0       1      True  \n1    0  12         2.0       2      True  \n2    0   8        18.0       3      True  \n3    0   9         0.0       4      True  \n4    0   9         1.0       1     False  \n..  ..  ..         ...     ...       ...  \n545  0   5         4.0       3     False  \n546  1   5        -2.0       1      True  \n547  1   6         8.0       2      True  \n548  0  17        21.0       3      True  \n549  0   8        -6.0       4      True  \n\n[550 rows x 31 columns]",
      "text/html": "<div>\n<style scoped>\n    .dataframe tbody tr th:only-of-type {\n        vertical-align: middle;\n    }\n\n    .dataframe tbody tr th {\n        vertical-align: top;\n    }\n\n    .dataframe thead th {\n        text-align: right;\n    }\n</style>\n<table border=\"1\" class=\"dataframe\">\n  <thead>\n    <tr style=\"text-align: right;\">\n      <th></th>\n      <th>GAME_ID</th>\n      <th>TEAM_ID</th>\n      <th>TEAM_ABBREVIATION</th>\n      <th>TEAM_CITY</th>\n      <th>PLAYER_ID</th>\n      <th>PLAYER_NAME</th>\n      <th>NICKNAME</th>\n      <th>START_POSITION</th>\n      <th>COMMENT</th>\n      <th>MIN</th>\n      <th>FGM</th>\n      <th>FGA</th>\n      <th>FG_PCT</th>\n      <th>FG3M</th>\n      <th>FG3A</th>\n      <th>FG3_PCT</th>\n      <th>FTM</th>\n      <th>FTA</th>\n      <th>FT_PCT</th>\n      <th>OREB</th>\n      <th>DREB</th>\n      <th>REB</th>\n      <th>AST</th>\n      <th>STL</th>\n      <th>BLK</th>\n      <th>TO</th>\n      <th>PF</th>\n      <th>PTS</th>\n      <th>PLUS_MINUS</th>\n      <th>PERIOD</th>\n      <th>GAME_WON</th>\n    </tr>\n  </thead>\n  <tbody>\n    <tr>\n      <th>0</th>\n      <td>0022200002</td>\n      <td>1610612744</td>\n      <td>GSW</td>\n      <td>Golden State</td>\n      <td>201939</td>\n      <td>Stephen Curry</td>\n      <td>Stephen</td>\n      <td>G</td>\n      <td></td>\n      <td>9.000000:20</td>\n      <td>1</td>\n      <td>7</td>\n      <td>0.143</td>\n      <td>0</td>\n      <td>4</td>\n      <td>0.000</td>\n      <td>2</td>\n      <td>2</td>\n      <td>1.0</td>\n      <td>1</td>\n      <td>4</td>\n      <td>5</td>\n      <td>2</td>\n      <td>2</td>\n      <td>0</td>\n      <td>2</td>\n      <td>1</td>\n      <td>4</td>\n      <td>0.0</td>\n      <td>1</td>\n      <td>True</td>\n    </tr>\n    <tr>\n      <th>1</th>\n      <td>0022200002</td>\n      <td>1610612744</td>\n      <td>GSW</td>\n      <td>Golden State</td>\n      <td>201939</td>\n      <td>Stephen Curry</td>\n      <td>Stephen</td>\n      <td>G</td>\n      <td></td>\n      <td>8.000000:18</td>\n      <td>4</td>\n      <td>6</td>\n      <td>0.667</td>\n      <td>0</td>\n      <td>1</td>\n      <td>0.000</td>\n      <td>4</td>\n      <td>4</td>\n      <td>1.0</td>\n      <td>0</td>\n      <td>0</td>\n      <td>0</td>\n      <td>2</td>\n      <td>0</td>\n      <td>0</td>\n      <td>0</td>\n      <td>0</td>\n      <td>12</td>\n      <td>2.0</td>\n      <td>2</td>\n      <td>True</td>\n    </tr>\n    <tr>\n      <th>2</th>\n      <td>0022200002</td>\n      <td>1610612744</td>\n      <td>GSW</td>\n      <td>Golden State</td>\n      <td>201939</td>\n      <td>Stephen Curry</td>\n      <td>Stephen</td>\n      <td>G</td>\n      <td></td>\n      <td>10.000000:27</td>\n      <td>2</td>\n      <td>4</td>\n      <td>0.500</td>\n      <td>2</td>\n      <td>4</td>\n      <td>0.500</td>\n      <td>2</td>\n      <td>2</td>\n      <td>1.0</td>\n      <td>0</td>\n      <td>1</td>\n      <td>1</td>\n      <td>1</td>\n      <td>2</td>\n      <td>1</td>\n      <td>1</td>\n      <td>0</td>\n      <td>8</td>\n      <td>18.0</td>\n      <td>3</td>\n      <td>True</td>\n    </tr>\n    <tr>\n      <th>3</th>\n      <td>0022200002</td>\n      <td>1610612744</td>\n      <td>GSW</td>\n      <td>Golden State</td>\n      <td>201939</td>\n      <td>Stephen Curry</td>\n      <td>Stephen</td>\n      <td>G</td>\n      <td></td>\n      <td>4.000000:43</td>\n      <td>3</td>\n      <td>5</td>\n      <td>0.600</td>\n      <td>2</td>\n      <td>4</td>\n      <td>0.500</td>\n      <td>1</td>\n      <td>1</td>\n      <td>1.0</td>\n      <td>0</td>\n      <td>0</td>\n      <td>0</td>\n      <td>2</td>\n      <td>0</td>\n      <td>0</td>\n      <td>1</td>\n      <td>0</td>\n      <td>9</td>\n      <td>0.0</td>\n      <td>4</td>\n      <td>True</td>\n    </tr>\n    <tr>\n      <th>4</th>\n      <td>0022200026</td>\n      <td>1610612744</td>\n      <td>GSW</td>\n      <td>Golden State</td>\n      <td>201939</td>\n      <td>Stephen Curry</td>\n      <td>Stephen</td>\n      <td>G</td>\n      <td></td>\n      <td>9.000000:29</td>\n      <td>2</td>\n      <td>4</td>\n      <td>0.500</td>\n      <td>1</td>\n      <td>3</td>\n      <td>0.333</td>\n      <td>4</td>\n      <td>4</td>\n      <td>1.0</td>\n      <td>0</td>\n      <td>1</td>\n      <td>1</td>\n      <td>2</td>\n      <td>0</td>\n      <td>0</td>\n      <td>0</td>\n      <td>0</td>\n      <td>9</td>\n      <td>1.0</td>\n      <td>1</td>\n      <td>False</td>\n    </tr>\n    <tr>\n      <th>...</th>\n      <td>...</td>\n      <td>...</td>\n      <td>...</td>\n      <td>...</td>\n      <td>...</td>\n      <td>...</td>\n      <td>...</td>\n      <td>...</td>\n      <td>...</td>\n      <td>...</td>\n      <td>...</td>\n      <td>...</td>\n      <td>...</td>\n      <td>...</td>\n      <td>...</td>\n      <td>...</td>\n      <td>...</td>\n      <td>...</td>\n      <td>...</td>\n      <td>...</td>\n      <td>...</td>\n      <td>...</td>\n      <td>...</td>\n      <td>...</td>\n      <td>...</td>\n      <td>...</td>\n      <td>...</td>\n      <td>...</td>\n      <td>...</td>\n      <td>...</td>\n      <td>...</td>\n    </tr>\n    <tr>\n      <th>545</th>\n      <td>0022400188</td>\n      <td>1610612744</td>\n      <td>GSW</td>\n      <td>Golden State</td>\n      <td>201939</td>\n      <td>Stephen Curry</td>\n      <td>Stephen</td>\n      <td>G</td>\n      <td></td>\n      <td>7.000000:58</td>\n      <td>2</td>\n      <td>4</td>\n      <td>0.500</td>\n      <td>0</td>\n      <td>1</td>\n      <td>0.000</td>\n      <td>1</td>\n      <td>1</td>\n      <td>1.0</td>\n      <td>0</td>\n      <td>1</td>\n      <td>1</td>\n      <td>2</td>\n      <td>0</td>\n      <td>0</td>\n      <td>2</td>\n      <td>0</td>\n      <td>5</td>\n      <td>4.0</td>\n      <td>3</td>\n      <td>False</td>\n    </tr>\n    <tr>\n      <th>546</th>\n      <td>0022400207</td>\n      <td>1610612744</td>\n      <td>GSW</td>\n      <td>Golden State</td>\n      <td>201939</td>\n      <td>Stephen Curry</td>\n      <td>Stephen</td>\n      <td>G</td>\n      <td></td>\n      <td>9.000000:21</td>\n      <td>2</td>\n      <td>5</td>\n      <td>0.400</td>\n      <td>1</td>\n      <td>3</td>\n      <td>0.333</td>\n      <td>0</td>\n      <td>0</td>\n      <td>0.0</td>\n      <td>1</td>\n      <td>1</td>\n      <td>2</td>\n      <td>2</td>\n      <td>0</td>\n      <td>0</td>\n      <td>1</td>\n      <td>1</td>\n      <td>5</td>\n      <td>-2.0</td>\n      <td>1</td>\n      <td>True</td>\n    </tr>\n    <tr>\n      <th>547</th>\n      <td>0022400207</td>\n      <td>1610612744</td>\n      <td>GSW</td>\n      <td>Golden State</td>\n      <td>201939</td>\n      <td>Stephen Curry</td>\n      <td>Stephen</td>\n      <td>G</td>\n      <td></td>\n      <td>7.000000:53</td>\n      <td>2</td>\n      <td>4</td>\n      <td>0.500</td>\n      <td>2</td>\n      <td>2</td>\n      <td>1.000</td>\n      <td>0</td>\n      <td>1</td>\n      <td>0.0</td>\n      <td>0</td>\n      <td>0</td>\n      <td>0</td>\n      <td>2</td>\n      <td>1</td>\n      <td>0</td>\n      <td>0</td>\n      <td>1</td>\n      <td>6</td>\n      <td>8.0</td>\n      <td>2</td>\n      <td>True</td>\n    </tr>\n    <tr>\n      <th>548</th>\n      <td>0022400207</td>\n      <td>1610612744</td>\n      <td>GSW</td>\n      <td>Golden State</td>\n      <td>201939</td>\n      <td>Stephen Curry</td>\n      <td>Stephen</td>\n      <td>G</td>\n      <td></td>\n      <td>10.000000:42</td>\n      <td>7</td>\n      <td>10</td>\n      <td>0.700</td>\n      <td>2</td>\n      <td>4</td>\n      <td>0.500</td>\n      <td>1</td>\n      <td>1</td>\n      <td>1.0</td>\n      <td>0</td>\n      <td>3</td>\n      <td>3</td>\n      <td>2</td>\n      <td>0</td>\n      <td>0</td>\n      <td>1</td>\n      <td>0</td>\n      <td>17</td>\n      <td>21.0</td>\n      <td>3</td>\n      <td>True</td>\n    </tr>\n    <tr>\n      <th>549</th>\n      <td>0022400207</td>\n      <td>1610612744</td>\n      <td>GSW</td>\n      <td>Golden State</td>\n      <td>201939</td>\n      <td>Stephen Curry</td>\n      <td>Stephen</td>\n      <td>G</td>\n      <td></td>\n      <td>8.000000:34</td>\n      <td>2</td>\n      <td>4</td>\n      <td>0.500</td>\n      <td>2</td>\n      <td>4</td>\n      <td>0.500</td>\n      <td>2</td>\n      <td>2</td>\n      <td>1.0</td>\n      <td>0</td>\n      <td>0</td>\n      <td>0</td>\n      <td>1</td>\n      <td>0</td>\n      <td>1</td>\n      <td>1</td>\n      <td>0</td>\n      <td>8</td>\n      <td>-6.0</td>\n      <td>4</td>\n      <td>True</td>\n    </tr>\n  </tbody>\n</table>\n<p>550 rows × 31 columns</p>\n</div>"
     },
     "execution_count": 109,
     "metadata": {},
     "output_type": "execute_result"
    }
   ],
   "source": [
    "steph_stats_quarters"
   ],
   "metadata": {
    "collapsed": false,
    "ExecuteTime": {
     "end_time": "2024-11-18T13:52:16.167722Z",
     "start_time": "2024-11-18T13:52:16.160854Z"
    }
   },
   "id": "a7b6a76254faea3f"
  },
  {
   "cell_type": "code",
   "execution_count": 121,
   "outputs": [
    {
     "name": "stdout",
     "output_type": "stream",
     "text": [
      "Steph hits 2 threes in a quarter\n",
      "Q1\n",
      "    PTS: 8.0\n",
      "    REB: 2.2\n",
      "    AST: 1.8\n",
      "    FG%: 58.1%\n",
      "    3P%: 63.2%\n",
      "    PM: 6.7\n",
      "    Win%: 83.3%\n",
      "\n",
      "Q2\n",
      "    PTS: 8.8\n",
      "    REB: 1.6\n",
      "    AST: 1.5\n",
      "    FG%: 58.8%\n",
      "    3P%: 64.5%\n",
      "    PM: 1.4\n",
      "    Win%: 40.0%\n",
      "\n",
      "Q3\n",
      "    PTS: 9.6\n",
      "    REB: 1.7\n",
      "    AST: 1.0\n",
      "    FG%: 48.0%\n",
      "    3P%: 44.0%\n",
      "    PM: 1.8\n",
      "    Win%: 54.5%\n",
      "\n",
      "Q4\n",
      "    PTS: 9.8\n",
      "    REB: 0.5\n",
      "    AST: 0.9\n",
      "    FG%: 68.6%\n",
      "    3P%: 61.1%\n",
      "    PM: 1.3\n",
      "    Win%: 90.9%\n",
      "\n",
      "Q5\n",
      "    PTS: 9.0\n",
      "    REB: 0.5\n",
      "    AST: 0.0\n",
      "    FG%: 75.0%\n",
      "    3P%: 66.7%\n",
      "    PM: -4.5\n",
      "    Win%: 0.0%\n",
      "\n",
      "Q6\n",
      "    PTS: 10.0\n",
      "    REB: 0.0\n",
      "    AST: 0.0\n",
      "    FG%: 60.0%\n",
      "    3P%: 66.7%\n",
      "    PM: -1.0\n",
      "    Win%: 0.0%\n",
      "\n",
      "Steph hits 3 threes in a quarter\n",
      "Q1\n",
      "    PTS: 12.2\n",
      "    REB: 2.7\n",
      "    AST: 2.2\n",
      "    FG%: 68.5%\n",
      "    3P%: 69.2%\n",
      "    PM: 8.6\n",
      "    Win%: 66.7%\n",
      "\n",
      "Q2\n",
      "    PTS: 12.6\n",
      "    REB: 1.4\n",
      "    AST: 0.2\n",
      "    FG%: 72.4%\n",
      "    3P%: 75.0%\n",
      "    PM: -1.8\n",
      "    Win%: 60.0%\n",
      "\n",
      "Q3\n",
      "    PTS: 14.6\n",
      "    REB: 1.5\n",
      "    AST: 1.9\n",
      "    FG%: 65.6%\n",
      "    3P%: 63.5%\n",
      "    PM: 1.3\n",
      "    Win%: 63.6%\n",
      "\n",
      "Q4\n",
      "    PTS: 13.2\n",
      "    REB: 0.6\n",
      "    AST: 0.4\n",
      "    FG%: 54.1%\n",
      "    3P%: 51.9%\n",
      "    PM: 0.2\n",
      "    Win%: 55.6%\n",
      "\n",
      "Q5\n",
      "Q6\n",
      "Steph hits 4 threes in a quarter\n",
      "Q1\n",
      "    PTS: 16.0\n",
      "    REB: 0.0\n",
      "    AST: 0.7\n",
      "    FG%: 69.2%\n",
      "    3P%: 80.0%\n",
      "    PM: 5.7\n",
      "    Win%: 100.0%\n",
      "\n",
      "Q2\n",
      "Q3\n",
      "    PTS: 13.2\n",
      "    REB: 2.5\n",
      "    AST: 1.5\n",
      "    FG%: 60.7%\n",
      "    3P%: 66.7%\n",
      "    PM: 8.5\n",
      "    Win%: 100.0%\n",
      "\n",
      "Q4\n",
      "    PTS: 15.0\n",
      "    REB: 2.5\n",
      "    AST: 1.0\n",
      "    FG%: 62.5%\n",
      "    3P%: 61.5%\n",
      "    PM: 4.5\n",
      "    Win%: 50.0%\n",
      "\n",
      "Q5\n",
      "Q6\n",
      "Steph hits 5 threes in a quarter\n",
      "Q1\n",
      "    PTS: 18.0\n",
      "    REB: 5.0\n",
      "    AST: 0.0\n",
      "    FG%: 66.7%\n",
      "    3P%: 71.4%\n",
      "    PM: -8.0\n",
      "    Win%: 0.0%\n",
      "\n",
      "Q2\n",
      "    PTS: 21.0\n",
      "    REB: 0.0\n",
      "    AST: 0.0\n",
      "    FG%: 75.0%\n",
      "    3P%: 83.3%\n",
      "    PM: 16.0\n",
      "    Win%: 100.0%\n",
      "\n",
      "Q3\n",
      "Q4\n",
      "    PTS: 15.0\n",
      "    REB: 1.0\n",
      "    AST: 2.0\n",
      "    FG%: 71.4%\n",
      "    3P%: 71.4%\n",
      "    PM: 11.0\n",
      "    Win%: 100.0%\n",
      "\n",
      "Q5\n",
      "Q6\n"
     ]
    }
   ],
   "source": [
    "# Iterate over the number of 3-pointers made\n",
    "for num_threes in range(2, quarterly_stats['FG3M'].max() + 1):\n",
    "    num_threes_data = quarterly_stats[quarterly_stats['FG3M'] == num_threes]\n",
    "    print(f'Steph hits {num_threes} threes in a quarter')\n",
    "    if not num_threes_data.empty:\n",
    "        for period in range(1, 7):\n",
    "            print(f'Q{period}')\n",
    "            period_data = num_threes_data[num_threes_data['PERIOD'] == period]\n",
    "                        \n",
    "            if not period_data.empty:\n",
    "                avg_points = np.mean(period_data.PTS)\n",
    "                avg_reb = np.mean(period_data.REB)\n",
    "                avg_ast = np.mean(period_data.AST)\n",
    "                \n",
    "                avg_fg_perc = np.sum(period_data.FGM) / np.sum(period_data.FGA) if np.sum(period_data.FGA) > 0 else 0\n",
    "                avg_3p_perc = np.sum(period_data.FG3M) / np.sum(period_data.FG3A) if np.sum(period_data.FG3A) > 0 else 0\n",
    "\n",
    "                avg_pm = np.mean(period_data.PLUS_MINUS)\n",
    "                win_percentage = (np.sum(period_data.GAME_WON) / len(period_data.GAME_WON)) * 100\n",
    "\n",
    "                print(f'    PTS: {avg_points:.1f}')\n",
    "                print(f'    REB: {avg_reb:.1f}')\n",
    "                print(f'    AST: {avg_ast:.1f}')\n",
    "                print(f'    FG%: {avg_fg_perc*100:.1f}%')\n",
    "                print(f'    3P%: {avg_3p_perc*100:.1f}%')\n",
    "                print(f'    PM: {avg_pm:.1f}')\n",
    "                print(f'    Win%: {win_percentage:.1f}%')\n",
    "                print()"
   ],
   "metadata": {
    "collapsed": false,
    "ExecuteTime": {
     "end_time": "2024-11-18T14:32:17.267839Z",
     "start_time": "2024-11-18T14:32:17.231815Z"
    }
   },
   "id": "2034d9c2ab271a81"
  },
  {
   "cell_type": "code",
   "execution_count": 119,
   "outputs": [
    {
     "name": "stdout",
     "output_type": "stream",
     "text": [
      "Steph hits 2 threes in a quarter\n",
      "    NUMBER OF GAMES: 39\n",
      "    PTS: 31.2\n",
      "    REB: 5.5\n",
      "    AST: 5.9\n",
      "    FG%: 51.4%\n",
      "    3P%: 46.4%\n",
      "    PM: 6.5\n",
      "    Win%: 59.0%\n",
      "\n",
      "Steph hits 3 threes in a quarter\n",
      "    NUMBER OF GAMES: 28\n",
      "    PTS: 33.4\n",
      "    REB: 5.2\n",
      "    AST: 5.9\n",
      "    FG%: 51.1%\n",
      "    3P%: 48.7%\n",
      "    PM: 5.5\n",
      "    Win%: 67.9%\n",
      "\n",
      "Steph hits 4 threes in a quarter\n",
      "    NUMBER OF GAMES: 8\n",
      "    PTS: 32.4\n",
      "    REB: 5.4\n",
      "    AST: 6.4\n",
      "    FG%: 50.9%\n",
      "    3P%: 51.8%\n",
      "    PM: 9.9\n",
      "    Win%: 87.5%\n",
      "\n",
      "Steph hits 5 threes in a quarter\n",
      "    NUMBER OF GAMES: 3\n",
      "    PTS: 30.3\n",
      "    REB: 5.7\n",
      "    AST: 4.7\n",
      "    FG%: 49.3%\n",
      "    3P%: 47.6%\n",
      "    PM: 13.7\n",
      "    Win%: 66.7%\n"
     ]
    }
   ],
   "source": [
    "for num_threes in range(2, quarterly_stats['FG3M'].max() + 1):\n",
    "    games_with_threes = quarterly_stats[quarterly_stats['FG3M'] == num_threes]\n",
    "    game_ids_game_with_threes = games_with_threes.GAME_ID\n",
    "    game_ids_game_with_threes = np.unique(game_ids_game_with_threes)\n",
    "    \n",
    "    data = whole_game_steph_stats[whole_game_steph_stats.GAME_ID.isin(game_ids_game_with_threes)]\n",
    "    \n",
    "    if not data.empty:\n",
    "        avg_points = np.mean(data.PTS)\n",
    "        avg_reb = np.mean(data.REB)\n",
    "        avg_ast = np.mean(data.AST)\n",
    "        \n",
    "        avg_fg_perc = np.sum(data.FGM) / np.sum(data.FGA) if np.sum(data.FGA) > 0 else 0\n",
    "        avg_3p_perc = np.sum(data.FG3M) / np.sum(data.FG3A) if np.sum(data.FG3A) > 0 else 0\n",
    "\n",
    "        avg_pm = np.mean(data.PLUS_MINUS)\n",
    "        win_percentage = (np.sum(data.GAME_WON) / len(data.GAME_WON)) * 100\n",
    "        \n",
    "        print(f'Steph hits {num_threes} threes in a quarter')\n",
    "        print(f'    NUMBER OF GAMES: {len(game_ids_game_with_threes)}')\n",
    "        print(f'    PTS: {avg_points:.1f}')\n",
    "        print(f'    REB: {avg_reb:.1f}')\n",
    "        print(f'    AST: {avg_ast:.1f}')\n",
    "        print(f'    FG%: {avg_fg_perc*100:.1f}%')\n",
    "        print(f'    3P%: {avg_3p_perc*100:.1f}%')\n",
    "        print(f'    PM: {avg_pm:.1f}')\n",
    "        print(f'    Win%: {win_percentage:.1f}%')\n",
    "        print()"
   ],
   "metadata": {
    "collapsed": false,
    "ExecuteTime": {
     "end_time": "2024-11-18T14:07:04.324644Z",
     "start_time": "2024-11-18T14:07:04.297571Z"
    }
   },
   "id": "2693981cd81c5665"
  },
  {
   "cell_type": "code",
   "execution_count": 118,
   "outputs": [],
   "source": [
    "steph_stats_quarters.to_csv('steph_stats_per_quarter_2022-2024.csv')"
   ],
   "metadata": {
    "collapsed": false,
    "ExecuteTime": {
     "end_time": "2024-11-18T14:05:11.718857Z",
     "start_time": "2024-11-18T14:05:11.702200Z"
    }
   },
   "id": "59256414d2d8469e"
  },
  {
   "cell_type": "code",
   "execution_count": 120,
   "outputs": [],
   "source": [
    "whole_game_steph_stats.to_csv('steph_stats_game_2022-2024.csv')"
   ],
   "metadata": {
    "collapsed": false,
    "ExecuteTime": {
     "end_time": "2024-11-18T14:07:55.987413Z",
     "start_time": "2024-11-18T14:07:55.977688Z"
    }
   },
   "id": "e5a7ea1f9558be35"
  },
  {
   "cell_type": "code",
   "execution_count": null,
   "outputs": [],
   "source": [],
   "metadata": {
    "collapsed": false
   },
   "id": "21b4d9015b15b4f1"
  }
 ],
 "metadata": {
  "kernelspec": {
   "display_name": "Python 3",
   "language": "python",
   "name": "python3"
  },
  "language_info": {
   "codemirror_mode": {
    "name": "ipython",
    "version": 2
   },
   "file_extension": ".py",
   "mimetype": "text/x-python",
   "name": "python",
   "nbconvert_exporter": "python",
   "pygments_lexer": "ipython2",
   "version": "2.7.6"
  }
 },
 "nbformat": 4,
 "nbformat_minor": 5
}
