{
 "cells": [
  {
   "cell_type": "code",
   "execution_count": 1,
   "id": "af0bb654-9ae1-4460-84f8-de4933b28e99",
   "metadata": {
    "tags": []
   },
   "outputs": [],
   "source": [
    "# https://cdn.nba.com/logos/nba/1610612759/global/L/logo.svg\n",
    "\n",
    "import numpy as np\n",
    "import matplotlib.pyplot as plt\n",
    "import pandas as pd\n",
    "import seaborn as sns\n",
    "from pathlib import Path\n",
    "\n",
    "from nba_api.stats.endpoints.shotchartdetail import ShotChartDetail\n",
    "import requests\n",
    "from nba_api.stats.static.players import find_players_by_full_name\n",
    "from adjustText import adjust_text\n",
    "from io import BytesIO\n",
    "import time\n",
    "import tqdm\n",
    "\n",
    "from PIL import Image\n",
    "\n",
    "from nba_api.stats.static.players import get_active_players\n",
    "from nba_api.stats.endpoints.leaguedashplayerstats import LeagueDashPlayerStats"
   ]
  },
  {
   "cell_type": "code",
   "execution_count": 2,
   "id": "ed0e4677-9210-4519-9dc9-5f97eff9b7f9",
   "metadata": {
    "tags": []
   },
   "outputs": [],
   "source": [
    "player_stats = LeagueDashPlayerStats(season='2022-23')\n",
    "stats_df = player_stats.get_data_frames()[0]\n",
    "\n",
    "newsize = (260, 190)"
   ]
  },
  {
   "cell_type": "code",
   "execution_count": 3,
   "id": "7d159e5f-0e24-4815-a0ff-bf4be59b6df2",
   "metadata": {
    "tags": []
   },
   "outputs": [
    {
     "name": "stderr",
     "output_type": "stream",
     "text": [
      "  0%|                                                                                                                             | 0/539 [00:00<?, ?it/s]\n"
     ]
    },
    {
     "ename": "UnidentifiedImageError",
     "evalue": "cannot identify image file <_io.BytesIO object at 0x7fe163164220>",
     "output_type": "error",
     "traceback": [
      "\u001b[0;31m---------------------------------------------------------------------------\u001b[0m",
      "\u001b[0;31mUnidentifiedImageError\u001b[0m                    Traceback (most recent call last)",
      "Cell \u001b[0;32mIn[3], line 23\u001b[0m\n\u001b[1;32m     21\u001b[0m \u001b[38;5;28;01mif\u001b[39;00m response\u001b[38;5;241m.\u001b[39mstatus_code \u001b[38;5;241m!=\u001b[39m \u001b[38;5;241m200\u001b[39m:\n\u001b[1;32m     22\u001b[0m     \u001b[38;5;28;01mcontinue\u001b[39;00m\n\u001b[0;32m---> 23\u001b[0m img \u001b[38;5;241m=\u001b[39m \u001b[43mImage\u001b[49m\u001b[38;5;241;43m.\u001b[39;49m\u001b[43mopen\u001b[49m\u001b[43m(\u001b[49m\u001b[43mBytesIO\u001b[49m\u001b[43m(\u001b[49m\u001b[43mresponse\u001b[49m\u001b[38;5;241;43m.\u001b[39;49m\u001b[43mcontent\u001b[49m\u001b[43m)\u001b[49m\u001b[43m)\u001b[49m\n\u001b[1;32m     24\u001b[0m im1 \u001b[38;5;241m=\u001b[39m im1\u001b[38;5;241m.\u001b[39mresize(newsize)\n\u001b[1;32m     25\u001b[0m \u001b[38;5;28;01mwith\u001b[39;00m \u001b[38;5;28mopen\u001b[39m(\u001b[38;5;124mf\u001b[39m\u001b[38;5;124m'\u001b[39m\u001b[38;5;124mteam_imgs/\u001b[39m\u001b[38;5;132;01m{\u001b[39;00mteam_id\u001b[38;5;132;01m}\u001b[39;00m\u001b[38;5;124m.png\u001b[39m\u001b[38;5;124m'\u001b[39m, \u001b[38;5;124m'\u001b[39m\u001b[38;5;124mwb\u001b[39m\u001b[38;5;124m'\u001b[39m) \u001b[38;5;28;01mas\u001b[39;00m f:\n",
      "File \u001b[0;32m~/Documents/NBA/random/venv/lib/python3.8/site-packages/PIL/Image.py:3298\u001b[0m, in \u001b[0;36mopen\u001b[0;34m(fp, mode, formats)\u001b[0m\n\u001b[1;32m   3296\u001b[0m     warnings\u001b[38;5;241m.\u001b[39mwarn(message)\n\u001b[1;32m   3297\u001b[0m msg \u001b[38;5;241m=\u001b[39m \u001b[38;5;124m\"\u001b[39m\u001b[38;5;124mcannot identify image file \u001b[39m\u001b[38;5;132;01m%r\u001b[39;00m\u001b[38;5;124m\"\u001b[39m \u001b[38;5;241m%\u001b[39m (filename \u001b[38;5;28;01mif\u001b[39;00m filename \u001b[38;5;28;01melse\u001b[39;00m fp)\n\u001b[0;32m-> 3298\u001b[0m \u001b[38;5;28;01mraise\u001b[39;00m UnidentifiedImageError(msg)\n",
      "\u001b[0;31mUnidentifiedImageError\u001b[0m: cannot identify image file <_io.BytesIO object at 0x7fe163164220>"
     ]
    }
   ],
   "source": [
    "for index in tqdm.tqdm(range(len(stats_df))):\n",
    "    item = stats_df.iloc[index]\n",
    "    team_id = item.TEAM_ID\n",
    "    player_id = item.PLAYER_ID\n",
    "    \n",
    "    path = Path(f'team_imgs/{team_id}.png').absolute()\n",
    "    #print(f\"Working on {player_id}\")\n",
    "    if path.exists():\n",
    "        continue\n",
    "    #img = Image.open(str(path))\n",
    "    #if img.size[0] < 400:\n",
    "    #    continue\n",
    "    \n",
    "    # url = f\"https://cdn.nba.com/headshots/nba/latest/260x190/{player_id}.png\"\n",
    "    url = f'https://cdn.nba.com/logos/nba/{team_id}/global/L/logo.svg'\n",
    "    response = requests.get(url)\n",
    "    if response.status_code != 200:\n",
    "        # url = f\"https://cdn.nba.com/headshots/nba/latest/260x190/{player_id}.png\"\n",
    "        url = f'https://cdn.nba.com/logos/nba/{team_id}/global/L/logo.svg'\n",
    "        response = requests.get(url)\n",
    "    if response.status_code != 200:\n",
    "        continue\n",
    "    img = Image.open(BytesIO(response.content))\n",
    "    im1 = im1.resize(newsize)\n",
    "    with open(f'team_imgs/{team_id}.png', 'wb') as f:\n",
    "        f.write(response.content)\n",
    "    time.sleep(0.7)"
   ]
  }
 ],
 "metadata": {
  "kernelspec": {
   "display_name": "Python 3 (ipykernel)",
   "language": "python",
   "name": "python3"
  },
  "language_info": {
   "codemirror_mode": {
    "name": "ipython",
    "version": 3
   },
   "file_extension": ".py",
   "mimetype": "text/x-python",
   "name": "python",
   "nbconvert_exporter": "python",
   "pygments_lexer": "ipython3",
   "version": "3.8.7"
  }
 },
 "nbformat": 4,
 "nbformat_minor": 5
}
