{
 "cells": [
  {
   "cell_type": "code",
   "execution_count": 1,
   "id": "d3fc83ad-9628-49c0-8cf3-011d805f2cf8",
   "metadata": {
    "tags": []
   },
   "outputs": [
    {
     "name": "stderr",
     "output_type": "stream",
     "text": [
      "/var/folders/wg/8c_xwvyn2tl18ply9w25rmgm0000gn/T/ipykernel_21312/226605754.py:30: DeprecationWarning: Importing display from IPython.core.display is deprecated since IPython 7.14, please import from IPython display\n",
      "  from IPython.core.display import display, HTML\n"
     ]
    },
    {
     "data": {
      "text/html": [
       "<style>.container { width:100% !important; }</style>"
      ],
      "text/plain": [
       "<IPython.core.display.HTML object>"
      ]
     },
     "metadata": {},
     "output_type": "display_data"
    }
   ],
   "source": [
    "from nba_api.stats.endpoints import leagueleaders\n",
    "import pandas as pd\n",
    "import matplotlib.pyplot as plt\n",
    "import plotly.express as px\n",
    "from nba_api.stats.endpoints import leaguedashplayerstats, synergyplaytypes, leaguedashteamstats\n",
    "from nba_api.stats.endpoints import teamyearbyyearstats, playercareerstats, teamplayeronoffdetails\n",
    "from nba_api.stats.static.players import find_players_by_full_name, find_player_by_id\n",
    "\n",
    "from matplotlib.offsetbox import OffsetImage, AnnotationBbox, DrawingArea, TextArea\n",
    "from matplotlib.patches import Circle, FancyArrowPatch, FancyArrow, ArrowStyle, Arrow, Rectangle\n",
    "import matplotlib.ticker as mtick\n",
    "import time\n",
    "from tqdm import tqdm\n",
    "from sklearn.cluster import KMeans\n",
    "import numpy as np\n",
    "import functools\n",
    "import seaborn as sns\n",
    "import glob\n",
    "from sklearn import preprocessing\n",
    "from scipy import stats\n",
    "from fitter import Fitter, get_common_distributions, get_distributions\n",
    "import sklearn\n",
    "from sklearn.mixture import GaussianMixture, BayesianGaussianMixture\n",
    "from sklearn.metrics import mean_squared_error\n",
    "from sklearn.model_selection import GridSearchCV\n",
    "from scipy.stats import gamma, exponpow, lognorm, cauchy, genhyperbolic\n",
    "from datetime import date\n",
    "from PIL import Image\n",
    "\n",
    "from IPython.core.display import display, HTML\n",
    "display(HTML(\"<style>.container { width:100% !important; }</style>\"))\n",
    "\n",
    "plt.style.use('fivethirtyeight')\n",
    "\n",
    "import warnings\n",
    "warnings.filterwarnings('ignore')"
   ]
  },
  {
   "cell_type": "code",
   "execution_count": 2,
   "id": "a077036d-1bb4-4883-8a12-c250e8056f02",
   "metadata": {
    "tags": []
   },
   "outputs": [],
   "source": [
    "nopa_on = teamplayeronoffdetails.TeamPlayerOnOffDetails(measure_type_detailed_defense='Advanced',\n",
    "                                                           per_mode_detailed='PerGame',\n",
    "                                                           season='2023-24',\n",
    "                                                           team_id=1610612740).get_data_frames()[1]\n",
    "\n",
    "time.sleep(1)\n",
    "\n",
    "nopa_off = teamplayeronoffdetails.TeamPlayerOnOffDetails(measure_type_detailed_defense='Advanced',\n",
    "                                                           per_mode_detailed='PerGame',\n",
    "                                                           season='2023-24',\n",
    "                                                           team_id=1610612740).get_data_frames()[2]"
   ]
  },
  {
   "cell_type": "code",
   "execution_count": 4,
   "id": "0f70bd74-8b43-4575-9b28-aeba209e7e31",
   "metadata": {
    "tags": []
   },
   "outputs": [
    {
     "data": {
      "text/plain": [
       "0     10.3\n",
       "1      0.8\n",
       "2     -7.0\n",
       "3     -7.2\n",
       "4      1.9\n",
       "5      3.1\n",
       "6      0.8\n",
       "7    -29.0\n",
       "8      5.5\n",
       "9      0.2\n",
       "10    29.8\n",
       "11    -9.0\n",
       "12   -13.0\n",
       "13     4.8\n",
       "14    26.6\n",
       "15     4.8\n",
       "16     2.2\n",
       "17     4.6\n",
       "Name: NET_RATING, dtype: float64"
      ]
     },
     "execution_count": 4,
     "metadata": {},
     "output_type": "execute_result"
    }
   ],
   "source": [
    "nop = pd.co"
   ]
  }
 ],
 "metadata": {
  "kernelspec": {
   "display_name": "Python 3 (ipykernel)",
   "language": "python",
   "name": "python3"
  },
  "language_info": {
   "codemirror_mode": {
    "name": "ipython",
    "version": 3
   },
   "file_extension": ".py",
   "mimetype": "text/x-python",
   "name": "python",
   "nbconvert_exporter": "python",
   "pygments_lexer": "ipython3",
   "version": "3.8.7"
  }
 },
 "nbformat": 4,
 "nbformat_minor": 5
}
