{
 "cells": [
  {
   "cell_type": "code",
   "execution_count": 35,
   "id": "74ec9983-f75f-4d1d-a5da-b8f187844f8f",
   "metadata": {
    "tags": []
   },
   "outputs": [
    {
     "data": {
      "text/plain": [
       "True"
      ]
     },
     "execution_count": 35,
     "metadata": {},
     "output_type": "execute_result"
    }
   ],
   "source": [
    "import os\n",
    "from llama_index.core import SimpleDirectoryReader\n",
    "from llama_index.core import VectorStoreIndex\n",
    "from dotenv import load_dotenv\n",
    "import numpy as np\n",
    "from openai import OpenAI\n",
    "from llama_index.readers.wikipedia import WikipediaReader\n",
    "from llama_index.core import Settings\n",
    "from llama_index.core.node_parser import SentenceWindowNodeParser\n",
    "from llama_index.core.node_parser import SentenceSplitter\n",
    "from llama_index.llms.openai import OpenAI\n",
    "from llama_index.core.postprocessor import SimilarityPostprocessor\n",
    "from llama_index.core.postprocessor import MetadataReplacementPostProcessor\n",
    "\n",
    "\n",
    "load_dotenv()"
   ]
  },
  {
   "cell_type": "code",
   "execution_count": 54,
   "id": "1e30d2ff-9cd7-4c93-9255-7ad46e575c22",
   "metadata": {
    "tags": []
   },
   "outputs": [],
   "source": [
    "reader = SimpleDirectoryReader(input_dir=\"Data/\")\n",
    "\n",
    "wikireader = WikipediaReader()\n",
    "wiki_docs = wikireader.load_data(pages=['Rules of basketball', 'Basketball'])\n",
    "docs = reader.load_data()\n",
    "\n",
    "docs.extend(wiki_docs)\n",
    "\n",
    "node_parser = SentenceWindowNodeParser.from_defaults(\n",
    "    window_size=3,\n",
    "    window_metadata_key=\"window\",\n",
    "    original_text_metadata_key=\"original_text\",\n",
    ")\n",
    "\n",
    "# base node parser is a sentence splitter\n",
    "text_splitter = SentenceSplitter()\n",
    "\n",
    "llm = OpenAI(model=\"gpt-3.5-turbo\", temperature=0.1)\n",
    "\n",
    "\n",
    "Settings.llm = llm\n",
    "Settings.text_splitter = text_splitter\n",
    "\n",
    "nodes = node_parser.get_nodes_from_documents(docs)\n",
    "\n",
    "# index = VectorStoreIndex.from_documents(docs)\n",
    "index = VectorStoreIndex(nodes)"
   ]
  },
  {
   "cell_type": "code",
   "execution_count": 40,
   "id": "d83594ba-384c-4b24-93ea-c19935e757c2",
   "metadata": {
    "tags": []
   },
   "outputs": [],
   "source": [
    "# print(f\"Loaded {len(docs)} docs\")\n",
    "\n",
    "\n",
    "query_engine = index.as_query_engine(similarity_top_k=5, \n",
    "                                     node_postprocessors=[SimilarityPostprocessor(similarity_cutoff=0.75),\n",
    "                                                         MetadataReplacementPostProcessor(target_metadata_key=\"window\")])"
   ]
  },
  {
   "cell_type": "code",
   "execution_count": 55,
   "id": "c5c6ee74-0ba2-4f6b-a111-4d7d5656bbfd",
   "metadata": {
    "tags": []
   },
   "outputs": [],
   "source": [
    "query = 'How old do you have to be to play in the NBA?'\n",
    "\n",
    "response = query_engine.query(query)"
   ]
  },
  {
   "cell_type": "code",
   "execution_count": 56,
   "id": "4070a78b-d770-4047-b9bf-5b83509477b8",
   "metadata": {
    "tags": []
   },
   "outputs": [
    {
     "name": "stdout",
     "output_type": "stream",
     "text": [
      "To play in the NBA, a player must be at least 19 years old during the calendar year of the draft and at least one NBA season has passed since the player's graduation from high school.\n",
      "\n",
      "Node ID: 31602817-21ec-40c9-b0d3-37976e021014\n",
      "Text: Coaching was originally prohibited during the game, but from\n",
      "1949, coaches were allowed to address players during a time-out.\n",
      "Originally a player was disqualified on his second foul.  This limit\n",
      "became four fouls in 1911 and five fouls in 1945, still the case in\n",
      "most forms of basketball where the normal length of the game (before\n",
      "any overtime p...\n",
      "Score:  0.824\n",
      "\n",
      "Node ID: 64d56f5a-7b77-474c-8fde-869b80bbfc3e\n",
      "Text: The rules of basketball are the rules and regulations that\n",
      "govern the play, officiating, equipment and procedures of basketball.\n",
      "While many of the basic rules are uniform throughout the world,\n",
      "variations do exist.  Most leagues or governing bodies in North\n",
      "America, the most important of which are the National Basketball\n",
      "Association and NCAA, fo...\n",
      "Score:  0.821\n",
      "\n",
      "Node ID: a72f9192-1616-43cc-af67-24c135abae7c\n",
      "Text: This limit became four fouls in 1911 and five fouls in 1945,\n",
      "still the case in most forms of basketball where the normal length of\n",
      "the game (before any overtime periods) is 40 minutes.  When the normal\n",
      "length is 48 minutes (this is the case with the National Basketball\n",
      "Association in the United States and Canada) a player is accordingly\n",
      "disquali...\n",
      "Score:  0.814\n",
      "\n",
      "Node ID: e1d76464-1cef-412a-939f-a5e239adb678\n",
      "Text: Today, both classes of officials have equal rights to control\n",
      "all aspects of the game.  The NBA added a third official in 1988, and\n",
      "FIBA did so afterward, using it for the first time in international\n",
      "competition in 2006.  The use of video evidence to inform referee's\n",
      "decisions has always been banned, except in the case of determining\n",
      "whether or ...\n",
      "Score:  0.811\n",
      "\n",
      "Node ID: 833ec9b2-569c-434f-b917-3bea54cdd212\n",
      "Text: Today a hoop with an open-bottom hanging net is used instead.\n",
      "== Officiating and procedures ==  Originally, there was one umpire to\n",
      "judge fouls and one referee to judge the ball; the tradition of\n",
      "calling one official the \"referee\" and the other one or two the\n",
      "\"umpires\" has remained (the NBA, however, uses different terminology,\n",
      "referring to t...\n",
      "Score:  0.811\n",
      "\n"
     ]
    }
   ],
   "source": [
    "print(response.response)\n",
    "print()\n",
    "for node in response.source_nodes:\n",
    "    print(node)"
   ]
  }
 ],
 "metadata": {
  "kernelspec": {
   "display_name": "Python 3 (ipykernel)",
   "language": "python",
   "name": "python3"
  },
  "language_info": {
   "codemirror_mode": {
    "name": "ipython",
    "version": 3
   },
   "file_extension": ".py",
   "mimetype": "text/x-python",
   "name": "python",
   "nbconvert_exporter": "python",
   "pygments_lexer": "ipython3",
   "version": "3.11.6"
  }
 },
 "nbformat": 4,
 "nbformat_minor": 5
}
