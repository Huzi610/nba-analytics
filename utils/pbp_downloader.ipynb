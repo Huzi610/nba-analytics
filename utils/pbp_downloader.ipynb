{
 "cells": [
  {
   "cell_type": "code",
   "execution_count": 10,
   "metadata": {
    "tags": [],
    "ExecuteTime": {
     "end_time": "2024-11-17T10:03:04.475470Z",
     "start_time": "2024-11-17T10:03:04.470248Z"
    }
   },
   "outputs": [],
   "source": [
    "import requests\n",
    "import pandas as pd\n",
    "import tqdm\n",
    "import bs4\n",
    "import json\n",
    "import matplotlib.pyplot as plt\n",
    "from adjustText import adjust_text\n",
    "from pathlib import Path\n",
    "import time"
   ]
  },
  {
   "cell_type": "code",
   "execution_count": 11,
   "metadata": {
    "tags": [],
    "ExecuteTime": {
     "end_time": "2024-11-17T10:03:05.284415Z",
     "start_time": "2024-11-17T10:03:05.278998Z"
    }
   },
   "outputs": [],
   "source": [
    "from nba_api.stats.endpoints.playbyplayv2 import PlayByPlayV2"
   ]
  },
  {
   "cell_type": "code",
   "execution_count": 12,
   "metadata": {
    "tags": [],
    "ExecuteTime": {
     "end_time": "2024-11-17T10:03:05.992192Z",
     "start_time": "2024-11-17T10:03:05.987622Z"
    }
   },
   "outputs": [],
   "source": [
    "from nba_api.stats.endpoints.playbyplay import PlayByPlay\n",
    "from nba_api.stats.endpoints.leaguegamefinder import LeagueGameFinder\n",
    "from nba_api.stats.static.players import find_players_by_full_name\n",
    "from nba_api.stats.static.teams import find_teams_by_full_name\n",
    "from nba_api.stats.endpoints.playergamelogs import PlayerGameLogs\n",
    "from nba_api.stats.endpoints.boxscoretraditionalv2 import BoxScoreTraditionalV2\n"
   ]
  },
  {
   "cell_type": "code",
   "execution_count": 13,
   "metadata": {
    "tags": [],
    "ExecuteTime": {
     "end_time": "2024-11-17T10:03:08.536185Z",
     "start_time": "2024-11-17T10:03:08.530188Z"
    }
   },
   "outputs": [],
   "source": [
    "path = Path('pbp_data/2022-23.csv')\n",
    "data_frame = None\n",
    "if path.exists():\n",
    "    data_frame = pd.read_csv(str(path))\n",
    "    data_frame.loc[:, 'GAME_ID'] = [f\"00{item}\" for item in data_frame.GAME_ID.astype(str)]"
   ]
  },
  {
   "cell_type": "markdown",
   "metadata": {},
   "source": [
    "## Downloading cur Season"
   ]
  },
  {
   "cell_type": "code",
   "execution_count": 14,
   "metadata": {
    "tags": [],
    "ExecuteTime": {
     "end_time": "2024-11-17T10:51:40.300804Z",
     "start_time": "2024-11-17T10:03:10.690373Z"
    }
   },
   "outputs": [
    {
     "name": "stdout",
     "output_type": "stream",
     "text": [
      "Processing 2022-23\n"
     ]
    },
    {
     "name": "stderr",
     "output_type": "stream",
     "text": [
      " 10%|▉         | 118/1230 [03:49<20:55,  1.13s/it] "
     ]
    },
    {
     "name": "stdout",
     "output_type": "stream",
     "text": [
      "Error occured: HTTPSConnectionPool(host='stats.nba.com', port=443): Read timed out., Game ID: 0022201108, retrying\n"
     ]
    },
    {
     "name": "stderr",
     "output_type": "stream",
     "text": [
      " 13%|█▎        | 154/1230 [05:36<31:42,  1.77s/it]  "
     ]
    },
    {
     "name": "stdout",
     "output_type": "stream",
     "text": [
      "Error occured: ('Connection aborted.', RemoteDisconnected('Remote end closed connection without response')), Game ID: 0022201073, retrying\n"
     ]
    },
    {
     "name": "stderr",
     "output_type": "stream",
     "text": [
      " 13%|█▎        | 156/1230 [06:01<1:51:32,  6.23s/it]"
     ]
    },
    {
     "name": "stdout",
     "output_type": "stream",
     "text": [
      "Error occured: HTTPSConnectionPool(host='stats.nba.com', port=443): Read timed out., Game ID: 0022201072, retrying\n"
     ]
    },
    {
     "name": "stderr",
     "output_type": "stream",
     "text": [
      " 16%|█▌        | 191/1230 [07:53<31:33,  1.82s/it]  "
     ]
    },
    {
     "name": "stdout",
     "output_type": "stream",
     "text": [
      "Error occured: HTTPSConnectionPool(host='stats.nba.com', port=443): Read timed out. (read timeout=30), Game ID: 0022201038, retrying\n"
     ]
    },
    {
     "name": "stderr",
     "output_type": "stream",
     "text": [
      " 18%|█▊        | 218/1230 [09:12<25:25,  1.51s/it]  "
     ]
    },
    {
     "name": "stdout",
     "output_type": "stream",
     "text": [
      "Error occured: HTTPSConnectionPool(host='stats.nba.com', port=443): Read timed out., Game ID: 0022201009, retrying\n"
     ]
    },
    {
     "name": "stderr",
     "output_type": "stream",
     "text": [
      " 20%|██        | 248/1230 [10:38<28:19,  1.73s/it]  "
     ]
    },
    {
     "name": "stdout",
     "output_type": "stream",
     "text": [
      "Error occured: HTTPSConnectionPool(host='stats.nba.com', port=443): Read timed out., Game ID: 0022200983, retrying\n"
     ]
    },
    {
     "name": "stderr",
     "output_type": "stream",
     "text": [
      " 29%|██▊       | 351/1230 [14:23<23:28,  1.60s/it]  "
     ]
    },
    {
     "name": "stdout",
     "output_type": "stream",
     "text": [
      "Error occured: HTTPSConnectionPool(host='stats.nba.com', port=443): Read timed out. (read timeout=30), Game ID: 0022200877, retrying\n"
     ]
    },
    {
     "name": "stderr",
     "output_type": "stream",
     "text": [
      " 33%|███▎      | 405/1230 [16:57<20:22,  1.48s/it]  "
     ]
    },
    {
     "name": "stdout",
     "output_type": "stream",
     "text": [
      "Error occured: HTTPSConnectionPool(host='stats.nba.com', port=443): Read timed out. (read timeout=30), Game ID: 0022200829, retrying\n"
     ]
    },
    {
     "name": "stderr",
     "output_type": "stream",
     "text": [
      " 46%|████▌     | 565/1230 [21:45<24:02,  2.17s/it]  "
     ]
    },
    {
     "name": "stdout",
     "output_type": "stream",
     "text": [
      "Error occured: ('Connection aborted.', RemoteDisconnected('Remote end closed connection without response')), Game ID: 0022200668, retrying\n"
     ]
    },
    {
     "name": "stderr",
     "output_type": "stream",
     "text": [
      " 62%|██████▏   | 759/1230 [28:09<22:28,  2.86s/it]  "
     ]
    },
    {
     "name": "stdout",
     "output_type": "stream",
     "text": [
      "Error occured: HTTPSConnectionPool(host='stats.nba.com', port=443): Read timed out., Game ID: 0022200470, retrying\n"
     ]
    },
    {
     "name": "stderr",
     "output_type": "stream",
     "text": [
      " 66%|██████▌   | 807/1230 [30:08<41:49,  5.93s/it]  "
     ]
    },
    {
     "name": "stdout",
     "output_type": "stream",
     "text": [
      "Error occured: HTTPSConnectionPool(host='stats.nba.com', port=443): Read timed out., Game ID: 0022200419, retrying\n"
     ]
    },
    {
     "name": "stderr",
     "output_type": "stream",
     "text": [
      " 69%|██████▊   | 844/1230 [31:49<33:50,  5.26s/it]  "
     ]
    },
    {
     "name": "stdout",
     "output_type": "stream",
     "text": [
      "Error occured: ('Connection aborted.', RemoteDisconnected('Remote end closed connection without response')), Game ID: 0022200383, retrying\n"
     ]
    },
    {
     "name": "stderr",
     "output_type": "stream",
     "text": [
      " 72%|███████▏  | 884/1230 [33:02<06:51,  1.19s/it]  "
     ]
    },
    {
     "name": "stdout",
     "output_type": "stream",
     "text": [
      "Error occured: HTTPSConnectionPool(host='stats.nba.com', port=443): Read timed out. (read timeout=30), Game ID: 0022200350, retrying\n"
     ]
    },
    {
     "name": "stderr",
     "output_type": "stream",
     "text": [
      " 81%|████████  | 995/1230 [38:14<30:40,  7.83s/it]  "
     ]
    },
    {
     "name": "stdout",
     "output_type": "stream",
     "text": [
      "Error occured: ('Connection aborted.', RemoteDisconnected('Remote end closed connection without response')), Game ID: 0022200238, retrying\n"
     ]
    },
    {
     "name": "stderr",
     "output_type": "stream",
     "text": [
      " 87%|████████▋ | 1076/1230 [41:40<04:44,  1.85s/it]"
     ]
    },
    {
     "name": "stdout",
     "output_type": "stream",
     "text": [
      "Error occured: ('Connection aborted.', RemoteDisconnected('Remote end closed connection without response')), Game ID: 0022200157, retrying\n"
     ]
    },
    {
     "name": "stderr",
     "output_type": "stream",
     "text": [
      " 94%|█████████▍| 1156/1230 [44:31<01:54,  1.55s/it]"
     ]
    },
    {
     "name": "stdout",
     "output_type": "stream",
     "text": [
      "Error occured: HTTPSConnectionPool(host='stats.nba.com', port=443): Read timed out. (read timeout=30), Game ID: 0022200071, retrying\n"
     ]
    },
    {
     "name": "stderr",
     "output_type": "stream",
     "text": [
      " 99%|█████████▉| 1223/1230 [47:41<00:09,  1.30s/it]"
     ]
    },
    {
     "name": "stdout",
     "output_type": "stream",
     "text": [
      "Error occured: HTTPSConnectionPool(host='stats.nba.com', port=443): Read timed out., Game ID: 0022200006, retrying\n"
     ]
    },
    {
     "name": "stderr",
     "output_type": "stream",
     "text": [
      "100%|██████████| 1230/1230 [48:26<00:00,  2.36s/it]\n"
     ]
    }
   ],
   "source": [
    "season = '2022-23'\n",
    "\n",
    "print(f\"Processing {season}\")\n",
    "pbp_dfs = []\n",
    "game_finder = LeagueGameFinder(season_nullable=season, league_id_nullable='00', season_type_nullable='Regular Season')\n",
    "df = game_finder.get_data_frames()[0]\n",
    "game_ids = df.GAME_ID.unique()\n",
    "for game_id in tqdm.tqdm(game_ids):\n",
    "    if data_frame is not None and game_id in data_frame.GAME_ID.tolist():\n",
    "        continue\n",
    "    while True:\n",
    "        try:\n",
    "            pbp_df = PlayByPlayV2(game_id=game_id).get_data_frames()[0]\n",
    "            break\n",
    "        except Exception as e:\n",
    "            print(f\"Error occured: {e}, Game ID: {game_id}, retrying\")\n",
    "            time.sleep(1)\n",
    "    pbp_dfs.append(pbp_df)\n",
    "    time.sleep(0.5)\n",
    "full_df = pd.concat([data_frame] + pbp_dfs)\n",
    "\n",
    "full_df = pd.concat([data_frame] + pbp_dfs)\n",
    "\n",
    "full_df.loc[:, \"PCTIMESECONDS\"] = [720 - (int(item.split(\":\")[0]) * 60 + int(item.split(\":\")[1])) for item in full_df.PCTIMESTRING.tolist()]\n",
    "\n",
    "full_df = full_df.fillna({\n",
    "    \"HOMEDESCRIPTION\": \"\",\n",
    "    \"NEUTRALDESCRIPTION\": \"\",\n",
    "    \"VISITORDESCRIPTION\": \"\"\n",
    "})"
   ]
  },
  {
   "cell_type": "code",
   "execution_count": 15,
   "metadata": {
    "tags": [],
    "ExecuteTime": {
     "end_time": "2024-11-17T10:52:44.123361Z",
     "start_time": "2024-11-17T10:52:41.634381Z"
    }
   },
   "outputs": [],
   "source": [
    "full_df.to_csv(f'pbp_data/{season}.csv', index=False)"
   ]
  },
  {
   "cell_type": "code",
   "execution_count": 16,
   "metadata": {
    "tags": [],
    "ExecuteTime": {
     "end_time": "2024-11-17T10:52:46.817271Z",
     "start_time": "2024-11-17T10:52:46.147803Z"
    }
   },
   "outputs": [],
   "source": [
    "full_df = pd.concat([data_frame] + pbp_dfs)"
   ]
  },
  {
   "cell_type": "code",
   "execution_count": 17,
   "metadata": {
    "tags": [],
    "ExecuteTime": {
     "end_time": "2024-11-17T10:52:49.819645Z",
     "start_time": "2024-11-17T10:52:49.109063Z"
    }
   },
   "outputs": [],
   "source": [
    "full_df.loc[:, \"PCTIMESECONDS\"] = [720 - (int(item.split(\":\")[0]) * 60 + int(item.split(\":\")[1])) for item in full_df.PCTIMESTRING.tolist()]\n",
    "\n",
    "full_df = full_df.fillna({\n",
    "    \"HOMEDESCRIPTION\": \"\",\n",
    "    \"NEUTRALDESCRIPTION\": \"\",\n",
    "    \"VISITORDESCRIPTION\": \"\"\n",
    "})"
   ]
  },
  {
   "cell_type": "code",
   "execution_count": 18,
   "metadata": {
    "tags": [],
    "ExecuteTime": {
     "end_time": "2024-11-17T10:52:54.372591Z",
     "start_time": "2024-11-17T10:52:51.948200Z"
    }
   },
   "outputs": [],
   "source": [
    "full_df.to_csv(f'pbp_data/{season}.csv', index=False)"
   ]
  },
  {
   "cell_type": "code",
   "execution_count": 19,
   "metadata": {
    "tags": [],
    "ExecuteTime": {
     "end_time": "2024-11-17T10:52:57.846102Z",
     "start_time": "2024-11-17T10:52:56.251661Z"
    }
   },
   "outputs": [],
   "source": [
    "full_df = pd.read_csv(f'pbp_data/{season}.csv')\n",
    "\n",
    "full_df = full_df.fillna({\n",
    "    \"HOMEDESCRIPTION\": \"\",\n",
    "    \"NEUTRALDESCRIPTION\": \"\",\n",
    "    \"VISITORDESCRIPTION\": \"\"\n",
    "})\n",
    "full_df.loc[:, 'GAME_ID'] = [f\"00{item}\" for item in full_df.GAME_ID.astype(str)]"
   ]
  },
  {
   "cell_type": "code",
   "execution_count": 20,
   "metadata": {
    "tags": [],
    "ExecuteTime": {
     "end_time": "2024-11-17T10:52:59.092270Z",
     "start_time": "2024-11-17T10:52:59.081683Z"
    }
   },
   "outputs": [
    {
     "data": {
      "text/plain": "1230"
     },
     "execution_count": 20,
     "metadata": {},
     "output_type": "execute_result"
    }
   ],
   "source": [
    "len(full_df.GAME_ID.unique())"
   ]
  },
  {
   "cell_type": "code",
   "execution_count": 21,
   "outputs": [
    {
     "data": {
      "text/plain": "           GAME_ID  EVENTNUM  EVENTMSGTYPE  EVENTMSGACTIONTYPE  PERIOD  \\\n0       0022201221         2            12                   0       1   \n1       0022201221         4            10                   0       1   \n2       0022201221         7             1                  73       1   \n3       0022201221         8             1                  75       1   \n4       0022201221         9             5                  12       1   \n...            ...       ...           ...                 ...     ...   \n574413  0022200001       637             5                   2       4   \n574414  0022200001       639             1                  50       4   \n574415  0022200001       640             2                   1       4   \n574416  0022200001       641             4                   0       4   \n574417  0022200001       642            13                   0       4   \n\n       WCTIMESTRING PCTIMESTRING  \\\n0           1:11 PM        12:00   \n1           1:11 PM        12:00   \n2           1:12 PM        11:42   \n3           1:12 PM        11:16   \n4           1:12 PM        11:14   \n...             ...          ...   \n574413     10:07 PM         0:32   \n574414     10:07 PM         0:29   \n574415     10:07 PM         0:06   \n574416     10:07 PM         0:04   \n574417     10:07 PM         0:00   \n\n                                     HOMEDESCRIPTION  \\\n0                                                      \n1       Jump Ball Poeltl vs. Leonard: Tip to Crowder   \n2                                                      \n3       Achiuwa 6' Driving Finger Roll Layup (2 PTS)   \n4                                                      \n...                                              ...   \n574413             Brown Lost Ball Turnover (P4.T11)   \n574414                                                 \n574415                MISS Horford 25' 3PT Jump Shot   \n574416                                                 \n574417                                                 \n\n                       NEUTRALDESCRIPTION  \\\n0       Start of 1st Period (1:11 PM EST)   \n1                                           \n2                                           \n3                                           \n4                                           \n...                                   ...   \n574413                                      \n574414                                      \n574415                                      \n574416                                      \n574417   End of 4th Period (10:07 PM EST)   \n\n                                VISITORDESCRIPTION  ...  \\\n0                                                   ...   \n1                                                   ...   \n2       Beauchamp 1' Driving Reverse Layup (2 PTS)  ...   \n3                                                   ...   \n4                  Portis Inbound Turnover (P1.T1)  ...   \n...                                            ...  ...   \n574413                        Harris STEAL (3 STL)  ...   \n574414             Harris 1' Running Dunk (18 PTS)  ...   \n574415                                              ...   \n574416                Harden REBOUND (Off:0 Def:8)  ...   \n574417                                              ...   \n\n       PLAYER2_TEAM_ABBREVIATION PERSON3TYPE  PLAYER3_ID  PLAYER3_NAME  \\\n0                            NaN           0           0           NaN   \n1                            MIL           5      203109   Jae Crowder   \n2                            NaN           0           0           NaN   \n3                            NaN           0           0           NaN   \n4                            NaN           1           0           NaN   \n...                          ...         ...         ...           ...   \n574413                       PHI           0           0           NaN   \n574414                       NaN           0           0           NaN   \n574415                       NaN           0           0           NaN   \n574416                       NaN           0           0           NaN   \n574417                       NaN           0           0           NaN   \n\n       PLAYER3_TEAM_ID  PLAYER3_TEAM_CITY PLAYER3_TEAM_NICKNAME  \\\n0                  NaN                NaN                   NaN   \n1         1.610613e+09          Milwaukee                 Bucks   \n2                  NaN                NaN                   NaN   \n3                  NaN                NaN                   NaN   \n4                  NaN                NaN                   NaN   \n...                ...                ...                   ...   \n574413             NaN                NaN                   NaN   \n574414             NaN                NaN                   NaN   \n574415             NaN                NaN                   NaN   \n574416             NaN                NaN                   NaN   \n574417             NaN                NaN                   NaN   \n\n       PLAYER3_TEAM_ABBREVIATION VIDEO_AVAILABLE_FLAG  PCTIMESECONDS  \n0                            NaN                    0              0  \n1                            MIL                    1              0  \n2                            NaN                    1             18  \n3                            NaN                    1             44  \n4                            NaN                    0             46  \n...                          ...                  ...            ...  \n574413                       NaN                    1            688  \n574414                       NaN                    1            691  \n574415                       NaN                    1            714  \n574416                       NaN                    1            716  \n574417                       NaN                    1            720  \n\n[574418 rows x 35 columns]",
      "text/html": "<div>\n<style scoped>\n    .dataframe tbody tr th:only-of-type {\n        vertical-align: middle;\n    }\n\n    .dataframe tbody tr th {\n        vertical-align: top;\n    }\n\n    .dataframe thead th {\n        text-align: right;\n    }\n</style>\n<table border=\"1\" class=\"dataframe\">\n  <thead>\n    <tr style=\"text-align: right;\">\n      <th></th>\n      <th>GAME_ID</th>\n      <th>EVENTNUM</th>\n      <th>EVENTMSGTYPE</th>\n      <th>EVENTMSGACTIONTYPE</th>\n      <th>PERIOD</th>\n      <th>WCTIMESTRING</th>\n      <th>PCTIMESTRING</th>\n      <th>HOMEDESCRIPTION</th>\n      <th>NEUTRALDESCRIPTION</th>\n      <th>VISITORDESCRIPTION</th>\n      <th>...</th>\n      <th>PLAYER2_TEAM_ABBREVIATION</th>\n      <th>PERSON3TYPE</th>\n      <th>PLAYER3_ID</th>\n      <th>PLAYER3_NAME</th>\n      <th>PLAYER3_TEAM_ID</th>\n      <th>PLAYER3_TEAM_CITY</th>\n      <th>PLAYER3_TEAM_NICKNAME</th>\n      <th>PLAYER3_TEAM_ABBREVIATION</th>\n      <th>VIDEO_AVAILABLE_FLAG</th>\n      <th>PCTIMESECONDS</th>\n    </tr>\n  </thead>\n  <tbody>\n    <tr>\n      <th>0</th>\n      <td>0022201221</td>\n      <td>2</td>\n      <td>12</td>\n      <td>0</td>\n      <td>1</td>\n      <td>1:11 PM</td>\n      <td>12:00</td>\n      <td></td>\n      <td>Start of 1st Period (1:11 PM EST)</td>\n      <td></td>\n      <td>...</td>\n      <td>NaN</td>\n      <td>0</td>\n      <td>0</td>\n      <td>NaN</td>\n      <td>NaN</td>\n      <td>NaN</td>\n      <td>NaN</td>\n      <td>NaN</td>\n      <td>0</td>\n      <td>0</td>\n    </tr>\n    <tr>\n      <th>1</th>\n      <td>0022201221</td>\n      <td>4</td>\n      <td>10</td>\n      <td>0</td>\n      <td>1</td>\n      <td>1:11 PM</td>\n      <td>12:00</td>\n      <td>Jump Ball Poeltl vs. Leonard: Tip to Crowder</td>\n      <td></td>\n      <td></td>\n      <td>...</td>\n      <td>MIL</td>\n      <td>5</td>\n      <td>203109</td>\n      <td>Jae Crowder</td>\n      <td>1.610613e+09</td>\n      <td>Milwaukee</td>\n      <td>Bucks</td>\n      <td>MIL</td>\n      <td>1</td>\n      <td>0</td>\n    </tr>\n    <tr>\n      <th>2</th>\n      <td>0022201221</td>\n      <td>7</td>\n      <td>1</td>\n      <td>73</td>\n      <td>1</td>\n      <td>1:12 PM</td>\n      <td>11:42</td>\n      <td></td>\n      <td></td>\n      <td>Beauchamp 1' Driving Reverse Layup (2 PTS)</td>\n      <td>...</td>\n      <td>NaN</td>\n      <td>0</td>\n      <td>0</td>\n      <td>NaN</td>\n      <td>NaN</td>\n      <td>NaN</td>\n      <td>NaN</td>\n      <td>NaN</td>\n      <td>1</td>\n      <td>18</td>\n    </tr>\n    <tr>\n      <th>3</th>\n      <td>0022201221</td>\n      <td>8</td>\n      <td>1</td>\n      <td>75</td>\n      <td>1</td>\n      <td>1:12 PM</td>\n      <td>11:16</td>\n      <td>Achiuwa 6' Driving Finger Roll Layup (2 PTS)</td>\n      <td></td>\n      <td></td>\n      <td>...</td>\n      <td>NaN</td>\n      <td>0</td>\n      <td>0</td>\n      <td>NaN</td>\n      <td>NaN</td>\n      <td>NaN</td>\n      <td>NaN</td>\n      <td>NaN</td>\n      <td>1</td>\n      <td>44</td>\n    </tr>\n    <tr>\n      <th>4</th>\n      <td>0022201221</td>\n      <td>9</td>\n      <td>5</td>\n      <td>12</td>\n      <td>1</td>\n      <td>1:12 PM</td>\n      <td>11:14</td>\n      <td></td>\n      <td></td>\n      <td>Portis Inbound Turnover (P1.T1)</td>\n      <td>...</td>\n      <td>NaN</td>\n      <td>1</td>\n      <td>0</td>\n      <td>NaN</td>\n      <td>NaN</td>\n      <td>NaN</td>\n      <td>NaN</td>\n      <td>NaN</td>\n      <td>0</td>\n      <td>46</td>\n    </tr>\n    <tr>\n      <th>...</th>\n      <td>...</td>\n      <td>...</td>\n      <td>...</td>\n      <td>...</td>\n      <td>...</td>\n      <td>...</td>\n      <td>...</td>\n      <td>...</td>\n      <td>...</td>\n      <td>...</td>\n      <td>...</td>\n      <td>...</td>\n      <td>...</td>\n      <td>...</td>\n      <td>...</td>\n      <td>...</td>\n      <td>...</td>\n      <td>...</td>\n      <td>...</td>\n      <td>...</td>\n      <td>...</td>\n    </tr>\n    <tr>\n      <th>574413</th>\n      <td>0022200001</td>\n      <td>637</td>\n      <td>5</td>\n      <td>2</td>\n      <td>4</td>\n      <td>10:07 PM</td>\n      <td>0:32</td>\n      <td>Brown Lost Ball Turnover (P4.T11)</td>\n      <td></td>\n      <td>Harris STEAL (3 STL)</td>\n      <td>...</td>\n      <td>PHI</td>\n      <td>0</td>\n      <td>0</td>\n      <td>NaN</td>\n      <td>NaN</td>\n      <td>NaN</td>\n      <td>NaN</td>\n      <td>NaN</td>\n      <td>1</td>\n      <td>688</td>\n    </tr>\n    <tr>\n      <th>574414</th>\n      <td>0022200001</td>\n      <td>639</td>\n      <td>1</td>\n      <td>50</td>\n      <td>4</td>\n      <td>10:07 PM</td>\n      <td>0:29</td>\n      <td></td>\n      <td></td>\n      <td>Harris 1' Running Dunk (18 PTS)</td>\n      <td>...</td>\n      <td>NaN</td>\n      <td>0</td>\n      <td>0</td>\n      <td>NaN</td>\n      <td>NaN</td>\n      <td>NaN</td>\n      <td>NaN</td>\n      <td>NaN</td>\n      <td>1</td>\n      <td>691</td>\n    </tr>\n    <tr>\n      <th>574415</th>\n      <td>0022200001</td>\n      <td>640</td>\n      <td>2</td>\n      <td>1</td>\n      <td>4</td>\n      <td>10:07 PM</td>\n      <td>0:06</td>\n      <td>MISS Horford 25' 3PT Jump Shot</td>\n      <td></td>\n      <td></td>\n      <td>...</td>\n      <td>NaN</td>\n      <td>0</td>\n      <td>0</td>\n      <td>NaN</td>\n      <td>NaN</td>\n      <td>NaN</td>\n      <td>NaN</td>\n      <td>NaN</td>\n      <td>1</td>\n      <td>714</td>\n    </tr>\n    <tr>\n      <th>574416</th>\n      <td>0022200001</td>\n      <td>641</td>\n      <td>4</td>\n      <td>0</td>\n      <td>4</td>\n      <td>10:07 PM</td>\n      <td>0:04</td>\n      <td></td>\n      <td></td>\n      <td>Harden REBOUND (Off:0 Def:8)</td>\n      <td>...</td>\n      <td>NaN</td>\n      <td>0</td>\n      <td>0</td>\n      <td>NaN</td>\n      <td>NaN</td>\n      <td>NaN</td>\n      <td>NaN</td>\n      <td>NaN</td>\n      <td>1</td>\n      <td>716</td>\n    </tr>\n    <tr>\n      <th>574417</th>\n      <td>0022200001</td>\n      <td>642</td>\n      <td>13</td>\n      <td>0</td>\n      <td>4</td>\n      <td>10:07 PM</td>\n      <td>0:00</td>\n      <td></td>\n      <td>End of 4th Period (10:07 PM EST)</td>\n      <td></td>\n      <td>...</td>\n      <td>NaN</td>\n      <td>0</td>\n      <td>0</td>\n      <td>NaN</td>\n      <td>NaN</td>\n      <td>NaN</td>\n      <td>NaN</td>\n      <td>NaN</td>\n      <td>1</td>\n      <td>720</td>\n    </tr>\n  </tbody>\n</table>\n<p>574418 rows × 35 columns</p>\n</div>"
     },
     "execution_count": 21,
     "metadata": {},
     "output_type": "execute_result"
    }
   ],
   "source": [
    "full_df"
   ],
   "metadata": {
    "collapsed": false,
    "ExecuteTime": {
     "end_time": "2024-11-17T10:54:05.336664Z",
     "start_time": "2024-11-17T10:54:05.099458Z"
    }
   }
  },
  {
   "cell_type": "markdown",
   "metadata": {},
   "source": [
    "## Finding when players are On/Off"
   ]
  },
  {
   "cell_type": "code",
   "execution_count": 13,
   "metadata": {},
   "outputs": [],
   "source": [
    "full_df = pd.read_csv(f'pbp_data/{season}.csv')\n",
    "\n",
    "full_df = full_df.fillna({\n",
    "    \"HOMEDESCRIPTION\": \"\",\n",
    "    \"NEUTRALDESCRIPTION\": \"\",\n",
    "    \"VISITORDESCRIPTION\": \"\"\n",
    "})\n",
    "full_df.loc[:, 'GAME_ID'] = [f\"00{item}\" for item in full_df.GAME_ID.astype(str)]"
   ]
  },
  {
   "cell_type": "code",
   "execution_count": 14,
   "metadata": {
    "scrolled": true
   },
   "outputs": [],
   "source": [
    "def find_starters_in_period(found_players, period_pbp):\n",
    "    #period_start = single_game.loc[single_game.PERIOD == 2] -> period_pbp\n",
    "    num_subs = len(found_players) - 5\n",
    "    sub_count = 0\n",
    "    subbed_in = []\n",
    "    for i in range(len(period_pbp)):\n",
    "        item = period_pbp.iloc[i]\n",
    "        if item.EVENTMSGTYPE == 8:\n",
    "            player_in = item.PLAYER2_ID\n",
    "            subbed_in.append(player_in)\n",
    "            sub_count += 1\n",
    "        if sub_count == num_subs:\n",
    "            break\n",
    "\n",
    "    return found_players.loc[~found_players.PLAYER_ID.isin(subbed_in)].PLAYER_ID.tolist()\n",
    "\n",
    "\n",
    "def do_work(team_1_players, team_2_players, team_1_id, team_2_id, single_game, item):\n",
    "    #item = single_game.iloc[index]\n",
    "    if (item.EVENTMSGTYPE == 12):\n",
    "        period = item.PERIOD\n",
    "        if period > 4:\n",
    "            start_period = ((4 * 12) + (period-5) * 5) * 600 + 0\n",
    "            end_period = ((4 * 12) + (period-5) * 5) * 600 + 480\n",
    "        else:\n",
    "            start_period = ((period-1) * 12 ) * 600 + 15\n",
    "            end_period = ((period-1) * 12 ) * 600 + 480\n",
    "\n",
    "        # Fetch players at the start of quarter\n",
    "        box_score = BoxScoreTraditionalV2(game_id=item.GAME_ID, start_range=str(start_period), end_range=str(end_period), range_type='2')\n",
    "        players_on = box_score.get_data_frames()[0]\n",
    "        players_on.loc[:, \"SECONDS\"] = [(int(item.split(\":\")[0]) * 60 + int(item.split(\":\")[1])) for item in players_on.MIN.tolist()]\n",
    "\n",
    "        # Split by team\n",
    "        team_1_on = players_on.loc[players_on.TEAM_ID == team_1_id]\n",
    "        team_2_on = players_on.loc[players_on.TEAM_ID == team_2_id]\n",
    "        period_pbp = single_game.loc[single_game.PERIOD == item.PERIOD]\n",
    "\n",
    "        # Check if more than 5 players are found\n",
    "        if len(team_1_on) > 5:\n",
    "            team_1_players.append(find_starters_in_period(team_1_on, period_pbp))\n",
    "        else:\n",
    "            team_1_players.append(team_1_on.PLAYER_ID.tolist())\n",
    "        if len(team_1_on) > 5:\n",
    "            team_2_players.append(find_starters_in_period(team_2_on, period_pbp))\n",
    "        else:\n",
    "            team_2_players.append(team_2_on.PLAYER_ID.tolist())\n",
    "        time.sleep(0.25)\n",
    "        return\n",
    "    cur_team_1 = team_1_players[-1][:]\n",
    "    cur_team_2 = team_2_players[-1][:]\n",
    "    if (item.EVENTMSGTYPE == 8):\n",
    "        player_in = item.PLAYER2_ID\n",
    "        player_out = item.PLAYER1_ID\n",
    "        is_team_1 = item.PLAYER1_TEAM_ID == team_1_id\n",
    "        if is_team_1:\n",
    "            if player_out in cur_team_1:\n",
    "                cur_team_1[cur_team_1.index(player_out)] = player_in\n",
    "        else:\n",
    "            if player_out in cur_team_2:\n",
    "                cur_team_2[cur_team_2.index(player_out)] = player_in\n",
    "    team_1_players.append(cur_team_1)\n",
    "    team_2_players.append(cur_team_2)\n"
   ]
  },
  {
   "cell_type": "code",
   "execution_count": 15,
   "metadata": {},
   "outputs": [],
   "source": [
    "cur_pbp_players = pd.read_csv(f'pbp_data/{season}.csv')\n",
    "cur_pbp_players.loc[:, 'GAME_ID'] = [f\"00{item}\" for item in cur_pbp_players.GAME_ID.astype(str)]"
   ]
  },
  {
   "cell_type": "code",
   "execution_count": null,
   "metadata": {},
   "outputs": [],
   "source": []
  },
  {
   "cell_type": "code",
   "execution_count": 16,
   "metadata": {},
   "outputs": [
    {
     "name": "stdout",
     "output_type": "stream",
     "text": [
      "0/306: 0022301208\n"
     ]
    },
    {
     "ename": "ValueError",
     "evalue": "invalid literal for int() with base 10: '0.000000'",
     "output_type": "error",
     "traceback": [
      "\u001B[0;31m---------------------------------------------------------------------------\u001B[0m",
      "\u001B[0;31mValueError\u001B[0m                                Traceback (most recent call last)",
      "Cell \u001B[0;32mIn[16], line 31\u001B[0m\n\u001B[1;32m     29\u001B[0m \u001B[38;5;66;03m#\"\"\"\u001B[39;00m\n\u001B[1;32m     30\u001B[0m \u001B[38;5;28;01mfor\u001B[39;00m index, item \u001B[38;5;129;01min\u001B[39;00m single_game\u001B[38;5;241m.\u001B[39miterrows():\n\u001B[0;32m---> 31\u001B[0m     \u001B[43mdo_work\u001B[49m\u001B[43m(\u001B[49m\u001B[43mteam_1_players\u001B[49m\u001B[38;5;241;43m=\u001B[39;49m\u001B[43mteam_1_players\u001B[49m\u001B[43m,\u001B[49m\u001B[43m \u001B[49m\u001B[43mteam_2_players\u001B[49m\u001B[38;5;241;43m=\u001B[39;49m\u001B[43mteam_2_players\u001B[49m\u001B[43m,\u001B[49m\u001B[43m \u001B[49m\u001B[43mteam_1_id\u001B[49m\u001B[38;5;241;43m=\u001B[39;49m\u001B[43mteam_1_id\u001B[49m\u001B[43m,\u001B[49m\u001B[43m \u001B[49m\u001B[43mteam_2_id\u001B[49m\u001B[38;5;241;43m=\u001B[39;49m\u001B[43mteam_2_id\u001B[49m\u001B[43m,\u001B[49m\u001B[43m \u001B[49m\u001B[43msingle_game\u001B[49m\u001B[38;5;241;43m=\u001B[39;49m\u001B[43msingle_game\u001B[49m\u001B[43m,\u001B[49m\u001B[43m \u001B[49m\u001B[43mitem\u001B[49m\u001B[38;5;241;43m=\u001B[39;49m\u001B[43mitem\u001B[49m\u001B[43m)\u001B[49m\n\u001B[1;32m     32\u001B[0m \u001B[38;5;66;03m#\"\"\"\u001B[39;00m\n\u001B[1;32m     33\u001B[0m \n\u001B[1;32m     34\u001B[0m \u001B[38;5;66;03m#single_game.apply(lambda item: do_work(team_1_players=team_1_players, team_2_players=team_2_players, team_1_id=team_1_id, team_2_id=team_2_id, single_game=single_game, item=item), axis=1)\u001B[39;00m\n\u001B[1;32m     36\u001B[0m \u001B[38;5;28;01mfor\u001B[39;00m i \u001B[38;5;129;01min\u001B[39;00m \u001B[38;5;28mrange\u001B[39m(\u001B[38;5;28mlen\u001B[39m(team_1_players[\u001B[38;5;241m0\u001B[39m])):\n\u001B[1;32m     37\u001B[0m     \u001B[38;5;66;03m#team_1_dict[f'TEAM_1_PLAYER_{i+1}'] = [item[i] for item in team_1_players]\u001B[39;00m\n",
      "Cell \u001B[0;32mIn[14], line 32\u001B[0m, in \u001B[0;36mdo_work\u001B[0;34m(team_1_players, team_2_players, team_1_id, team_2_id, single_game, item)\u001B[0m\n\u001B[1;32m     30\u001B[0m box_score \u001B[38;5;241m=\u001B[39m BoxScoreTraditionalV2(game_id\u001B[38;5;241m=\u001B[39mitem\u001B[38;5;241m.\u001B[39mGAME_ID, start_range\u001B[38;5;241m=\u001B[39m\u001B[38;5;28mstr\u001B[39m(start_period), end_range\u001B[38;5;241m=\u001B[39m\u001B[38;5;28mstr\u001B[39m(end_period), range_type\u001B[38;5;241m=\u001B[39m\u001B[38;5;124m'\u001B[39m\u001B[38;5;124m2\u001B[39m\u001B[38;5;124m'\u001B[39m)\n\u001B[1;32m     31\u001B[0m players_on \u001B[38;5;241m=\u001B[39m box_score\u001B[38;5;241m.\u001B[39mget_data_frames()[\u001B[38;5;241m0\u001B[39m]\n\u001B[0;32m---> 32\u001B[0m players_on\u001B[38;5;241m.\u001B[39mloc[:, \u001B[38;5;124m\"\u001B[39m\u001B[38;5;124mSECONDS\u001B[39m\u001B[38;5;124m\"\u001B[39m] \u001B[38;5;241m=\u001B[39m [(\u001B[38;5;28mint\u001B[39m(item\u001B[38;5;241m.\u001B[39msplit(\u001B[38;5;124m\"\u001B[39m\u001B[38;5;124m:\u001B[39m\u001B[38;5;124m\"\u001B[39m)[\u001B[38;5;241m0\u001B[39m]) \u001B[38;5;241m*\u001B[39m \u001B[38;5;241m60\u001B[39m \u001B[38;5;241m+\u001B[39m \u001B[38;5;28mint\u001B[39m(item\u001B[38;5;241m.\u001B[39msplit(\u001B[38;5;124m\"\u001B[39m\u001B[38;5;124m:\u001B[39m\u001B[38;5;124m\"\u001B[39m)[\u001B[38;5;241m1\u001B[39m])) \u001B[38;5;28;01mfor\u001B[39;00m item \u001B[38;5;129;01min\u001B[39;00m players_on\u001B[38;5;241m.\u001B[39mMIN\u001B[38;5;241m.\u001B[39mtolist()]\n\u001B[1;32m     34\u001B[0m \u001B[38;5;66;03m# Split by team\u001B[39;00m\n\u001B[1;32m     35\u001B[0m team_1_on \u001B[38;5;241m=\u001B[39m players_on\u001B[38;5;241m.\u001B[39mloc[players_on\u001B[38;5;241m.\u001B[39mTEAM_ID \u001B[38;5;241m==\u001B[39m team_1_id]\n",
      "Cell \u001B[0;32mIn[14], line 32\u001B[0m, in \u001B[0;36m<listcomp>\u001B[0;34m(.0)\u001B[0m\n\u001B[1;32m     30\u001B[0m box_score \u001B[38;5;241m=\u001B[39m BoxScoreTraditionalV2(game_id\u001B[38;5;241m=\u001B[39mitem\u001B[38;5;241m.\u001B[39mGAME_ID, start_range\u001B[38;5;241m=\u001B[39m\u001B[38;5;28mstr\u001B[39m(start_period), end_range\u001B[38;5;241m=\u001B[39m\u001B[38;5;28mstr\u001B[39m(end_period), range_type\u001B[38;5;241m=\u001B[39m\u001B[38;5;124m'\u001B[39m\u001B[38;5;124m2\u001B[39m\u001B[38;5;124m'\u001B[39m)\n\u001B[1;32m     31\u001B[0m players_on \u001B[38;5;241m=\u001B[39m box_score\u001B[38;5;241m.\u001B[39mget_data_frames()[\u001B[38;5;241m0\u001B[39m]\n\u001B[0;32m---> 32\u001B[0m players_on\u001B[38;5;241m.\u001B[39mloc[:, \u001B[38;5;124m\"\u001B[39m\u001B[38;5;124mSECONDS\u001B[39m\u001B[38;5;124m\"\u001B[39m] \u001B[38;5;241m=\u001B[39m [(\u001B[38;5;28;43mint\u001B[39;49m\u001B[43m(\u001B[49m\u001B[43mitem\u001B[49m\u001B[38;5;241;43m.\u001B[39;49m\u001B[43msplit\u001B[49m\u001B[43m(\u001B[49m\u001B[38;5;124;43m\"\u001B[39;49m\u001B[38;5;124;43m:\u001B[39;49m\u001B[38;5;124;43m\"\u001B[39;49m\u001B[43m)\u001B[49m\u001B[43m[\u001B[49m\u001B[38;5;241;43m0\u001B[39;49m\u001B[43m]\u001B[49m\u001B[43m)\u001B[49m \u001B[38;5;241m*\u001B[39m \u001B[38;5;241m60\u001B[39m \u001B[38;5;241m+\u001B[39m \u001B[38;5;28mint\u001B[39m(item\u001B[38;5;241m.\u001B[39msplit(\u001B[38;5;124m\"\u001B[39m\u001B[38;5;124m:\u001B[39m\u001B[38;5;124m\"\u001B[39m)[\u001B[38;5;241m1\u001B[39m])) \u001B[38;5;28;01mfor\u001B[39;00m item \u001B[38;5;129;01min\u001B[39;00m players_on\u001B[38;5;241m.\u001B[39mMIN\u001B[38;5;241m.\u001B[39mtolist()]\n\u001B[1;32m     34\u001B[0m \u001B[38;5;66;03m# Split by team\u001B[39;00m\n\u001B[1;32m     35\u001B[0m team_1_on \u001B[38;5;241m=\u001B[39m players_on\u001B[38;5;241m.\u001B[39mloc[players_on\u001B[38;5;241m.\u001B[39mTEAM_ID \u001B[38;5;241m==\u001B[39m team_1_id]\n",
      "\u001B[0;31mValueError\u001B[0m: invalid literal for int() with base 10: '0.000000'"
     ]
    }
   ],
   "source": [
    "game_finder = LeagueGameFinder(season_nullable='2023-24', league_id_nullable='00', season_type_nullable='Regular Season')\n",
    "game_finder_df = game_finder.get_data_frames()[0]\n",
    "modified_dfs = []\n",
    "#start = time.time()\n",
    "count = 0\n",
    "for index, game_id in enumerate(full_df.GAME_ID.unique()):\n",
    "    print(f\"{index}/{len(full_df.GAME_ID.unique())}: {game_id}\")\n",
    "    #if game_id in cur_pbp_players.GAME_ID.tolist():\n",
    "    #        continue\n",
    "    #if game_id in formatted_df.GAME_ID.unique():\n",
    "    #continue\n",
    "    single_game = full_df.loc[full_df.GAME_ID == game_id]\n",
    "    team_1_players = []\n",
    "\n",
    "    team_2_players = []\n",
    "\n",
    "    teams_playing = game_finder_df.loc[game_finder_df.GAME_ID == single_game.GAME_ID.iloc[0]]\n",
    "\n",
    "    team_1_id = teams_playing.iloc[0].TEAM_ID\n",
    "    team_2_id = teams_playing.iloc[1].TEAM_ID\n",
    "\n",
    "    #for index in range(len(single_game)):\n",
    "    \"\"\"\n",
    "    for index in range(len(single_game)):\n",
    "        item = single_game.iloc[index]\n",
    "        do_work(team_1_players=team_1_players, team_2_players=team_2_players, team_1_id=team_1_id, team_2_id=team_2_id, single_game=single_game, item=item)\n",
    "    \"\"\"\n",
    "    \n",
    "    #\"\"\"\n",
    "    for index, item in single_game.iterrows():\n",
    "        do_work(team_1_players=team_1_players, team_2_players=team_2_players, team_1_id=team_1_id, team_2_id=team_2_id, single_game=single_game, item=item)\n",
    "    #\"\"\"\n",
    "    \n",
    "    #single_game.apply(lambda item: do_work(team_1_players=team_1_players, team_2_players=team_2_players, team_1_id=team_1_id, team_2_id=team_2_id, single_game=single_game, item=item), axis=1)\n",
    "    \n",
    "    for i in range(len(team_1_players[0])):\n",
    "        #team_1_dict[f'TEAM_1_PLAYER_{i+1}'] = [item[i] for item in team_1_players]\n",
    "        single_game.loc[:, f'TEAM_1_PLAYER_{i+1}'] = [item[i] for item in team_1_players]\n",
    "        \n",
    "    for i in range(len(team_1_players[0])):\n",
    "        #team_2_dict[f'TEAM_2_PLAYER_{i+1}'] = [item[i] for item in team_2_players]\n",
    "        single_game.loc[:, f'TEAM_2_PLAYER_{i+1}'] = [item[i] for item in team_2_players]\n",
    "        \n",
    "    modified_dfs.append(single_game)\n",
    "    count += 1\n",
    "#end = time.time()\n",
    "#print(f\"End-Start: {end-start}\")"
   ]
  },
  {
   "cell_type": "code",
   "execution_count": null,
   "metadata": {},
   "outputs": [],
   "source": []
  }
 ],
 "metadata": {
  "kernelspec": {
   "display_name": "Python 3 (ipykernel)",
   "language": "python",
   "name": "python3"
  },
  "language_info": {
   "codemirror_mode": {
    "name": "ipython",
    "version": 3
   },
   "file_extension": ".py",
   "mimetype": "text/x-python",
   "name": "python",
   "nbconvert_exporter": "python",
   "pygments_lexer": "ipython3",
   "version": "3.11.6"
  }
 },
 "nbformat": 4,
 "nbformat_minor": 4
}
