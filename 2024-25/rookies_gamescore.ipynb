{
 "cells": [
  {
   "cell_type": "code",
   "execution_count": 29,
   "id": "initial_id",
   "metadata": {
    "collapsed": true,
    "ExecuteTime": {
     "end_time": "2025-03-27T17:11:18.533571Z",
     "start_time": "2025-03-27T17:11:18.525737Z"
    }
   },
   "outputs": [],
   "source": [
    "from nba_api.stats.static import players\n",
    "from nba_api.stats.endpoints import playergamelog, commonplayerinfo\n",
    "import pandas as pd\n",
    "import time\n",
    "from tqdm import tqdm"
   ]
  },
  {
   "cell_type": "code",
   "execution_count": 25,
   "outputs": [],
   "source": [
    "def calculate_game_score(row):\n",
    "    return (row['PTS'] +\n",
    "            0.4 * row['FGM'] -\n",
    "            0.7 * row['FGA'] -\n",
    "            0.4 * (row['FTA'] - row['FTM']) +\n",
    "            0.7 * row['OREB'] +\n",
    "            0.3 * row['DREB'] +\n",
    "            row['STL'] +\n",
    "            0.7 * row['AST'] +\n",
    "            0.7 * row['BLK'] -\n",
    "            0.4 * row['PF'] -\n",
    "            row['TOV'])\n",
    "\n",
    "def is_rookie(player_id, rookie_from_year=2024):\n",
    "    \"\"\"\n",
    "    Returns True if the player's first season (FROM_YEAR) equals rookie_from_year.\n",
    "    \"\"\"\n",
    "    try:\n",
    "        info = commonplayerinfo.CommonPlayerInfo(player_id=player_id).get_data_frames()[0]\n",
    "        # 'FROM_YEAR' represents the first season the player appeared in the league.\n",
    "        # Sometimes this field may be in string format; convert to int for comparison.\n",
    "        from_year = int(info.loc[0, 'FROM_YEAR'])\n",
    "        return from_year == rookie_from_year\n",
    "    except Exception as e:\n",
    "        print(f\"Error checking rookie status for player {player_id}: {e}\")\n",
    "        return False"
   ],
   "metadata": {
    "collapsed": false,
    "ExecuteTime": {
     "end_time": "2025-03-27T17:08:49.022920Z",
     "start_time": "2025-03-27T17:08:49.020200Z"
    }
   },
   "id": "7c3cf03a06e8f8a2"
  },
  {
   "cell_type": "code",
   "execution_count": 31,
   "outputs": [
    {
     "name": "stderr",
     "output_type": "stream",
     "text": [
      "  1%|          | 5/615 [00:06<12:32,  1.23s/it]"
     ]
    },
    {
     "name": "stdout",
     "output_type": "stream",
     "text": [
      "Error checking rookie status for player 1631231: int() argument must be a string, a bytes-like object or a real number, not 'NoneType'\n"
     ]
    },
    {
     "name": "stderr",
     "output_type": "stream",
     "text": [
      "  3%|▎         | 16/615 [00:20<13:36,  1.36s/it]"
     ]
    },
    {
     "name": "stdout",
     "output_type": "stream",
     "text": [
      "Error checking rookie status for player 1631317: int() argument must be a string, a bytes-like object or a real number, not 'NoneType'\n"
     ]
    },
    {
     "name": "stderr",
     "output_type": "stream",
     "text": [
      "  3%|▎         | 17/615 [00:21<13:26,  1.35s/it]"
     ]
    },
    {
     "name": "stdout",
     "output_type": "stream",
     "text": [
      "Error checking rookie status for player 1642378: int() argument must be a string, a bytes-like object or a real number, not 'NoneType'\n"
     ]
    },
    {
     "name": "stderr",
     "output_type": "stream",
     "text": [
      "  3%|▎         | 20/615 [00:25<13:04,  1.32s/it]"
     ]
    },
    {
     "name": "stdout",
     "output_type": "stream",
     "text": [
      "Error checking rookie status for player 1630654: int() argument must be a string, a bytes-like object or a real number, not 'NoneType'\n"
     ]
    },
    {
     "name": "stderr",
     "output_type": "stream",
     "text": [
      "  7%|▋         | 42/615 [00:55<16:36,  1.74s/it]"
     ]
    },
    {
     "name": "stdout",
     "output_type": "stream",
     "text": [
      "Error checking rookie status for player 1641777: int() argument must be a string, a bytes-like object or a real number, not 'NoneType'\n"
     ]
    },
    {
     "name": "stderr",
     "output_type": "stream",
     "text": [
      " 20%|█▉        | 120/615 [02:36<10:27,  1.27s/it]"
     ]
    },
    {
     "name": "stdout",
     "output_type": "stream",
     "text": [
      "Error checking rookie status for player 1641915: int() argument must be a string, a bytes-like object or a real number, not 'NoneType'\n"
     ]
    },
    {
     "name": "stderr",
     "output_type": "stream",
     "text": [
      " 25%|██▌       | 155/615 [03:21<09:46,  1.28s/it]"
     ]
    },
    {
     "name": "stdout",
     "output_type": "stream",
     "text": [
      "Error checking rookie status for player 1642407: int() argument must be a string, a bytes-like object or a real number, not 'NoneType'\n"
     ]
    },
    {
     "name": "stderr",
     "output_type": "stream",
     "text": [
      " 26%|██▌       | 158/615 [03:25<10:23,  1.36s/it]"
     ]
    },
    {
     "name": "stdout",
     "output_type": "stream",
     "text": [
      "Error checking rookie status for player 1642401: int() argument must be a string, a bytes-like object or a real number, not 'NoneType'\n"
     ]
    },
    {
     "name": "stderr",
     "output_type": "stream",
     "text": [
      " 27%|██▋       | 163/615 [03:32<10:33,  1.40s/it]"
     ]
    },
    {
     "name": "stdout",
     "output_type": "stream",
     "text": [
      "Error checking rookie status for player 1642499: int() argument must be a string, a bytes-like object or a real number, not 'NoneType'\n"
     ]
    },
    {
     "name": "stderr",
     "output_type": "stream",
     "text": [
      " 37%|███▋      | 225/615 [04:53<08:54,  1.37s/it]"
     ]
    },
    {
     "name": "stdout",
     "output_type": "stream",
     "text": [
      "Error checking rookie status for player 1642396: int() argument must be a string, a bytes-like object or a real number, not 'NoneType'\n"
     ]
    },
    {
     "name": "stderr",
     "output_type": "stream",
     "text": [
      " 49%|████▉     | 301/615 [06:31<06:56,  1.32s/it]"
     ]
    },
    {
     "name": "stdout",
     "output_type": "stream",
     "text": [
      "Error checking rookie status for player 1642046: int() argument must be a string, a bytes-like object or a real number, not 'NoneType'\n"
     ]
    },
    {
     "name": "stderr",
     "output_type": "stream",
     "text": [
      " 57%|█████▋    | 351/615 [07:39<05:59,  1.36s/it]"
     ]
    },
    {
     "name": "stdout",
     "output_type": "stream",
     "text": [
      "Error checking rookie status for player 1631322: int() argument must be a string, a bytes-like object or a real number, not 'NoneType'\n"
     ]
    },
    {
     "name": "stderr",
     "output_type": "stream",
     "text": [
      " 60%|██████    | 372/615 [08:59<10:17,  2.54s/it]"
     ]
    },
    {
     "name": "stdout",
     "output_type": "stream",
     "text": [
      "Error checking rookie status for player 1641758: int() argument must be a string, a bytes-like object or a real number, not 'NoneType'\n"
     ]
    },
    {
     "name": "stderr",
     "output_type": "stream",
     "text": [
      " 74%|███████▍  | 458/615 [10:53<03:40,  1.40s/it]"
     ]
    },
    {
     "name": "stdout",
     "output_type": "stream",
     "text": [
      "Error checking rookie status for player 1642019: int() argument must be a string, a bytes-like object or a real number, not 'NoneType'\n"
     ]
    },
    {
     "name": "stderr",
     "output_type": "stream",
     "text": [
      " 77%|███████▋  | 471/615 [11:11<03:17,  1.37s/it]"
     ]
    },
    {
     "name": "stdout",
     "output_type": "stream",
     "text": [
      "Error checking rookie status for player 1642504: int() argument must be a string, a bytes-like object or a real number, not 'NoneType'\n"
     ]
    },
    {
     "name": "stderr",
     "output_type": "stream",
     "text": [
      " 80%|███████▉  | 489/615 [11:34<02:41,  1.28s/it]"
     ]
    },
    {
     "name": "stdout",
     "output_type": "stream",
     "text": [
      "Error checking rookie status for player 1642481: int() argument must be a string, a bytes-like object or a real number, not 'NoneType'\n"
     ]
    },
    {
     "name": "stderr",
     "output_type": "stream",
     "text": [
      " 84%|████████▍ | 517/615 [12:12<02:12,  1.36s/it]"
     ]
    },
    {
     "name": "stdout",
     "output_type": "stream",
     "text": [
      "Error checking rookie status for player 1641907: int() argument must be a string, a bytes-like object or a real number, not 'NoneType'\n"
     ]
    },
    {
     "name": "stderr",
     "output_type": "stream",
     "text": [
      " 84%|████████▍ | 518/615 [12:14<02:19,  1.44s/it]"
     ]
    },
    {
     "name": "stdout",
     "output_type": "stream",
     "text": [
      "Error checking rookie status for player 1630569: int() argument must be a string, a bytes-like object or a real number, not 'NoneType'\n"
     ]
    },
    {
     "name": "stderr",
     "output_type": "stream",
     "text": [
      " 89%|████████▉ | 548/615 [12:54<01:27,  1.30s/it]"
     ]
    },
    {
     "name": "stdout",
     "output_type": "stream",
     "text": [
      "Error checking rookie status for player 1630733: int() argument must be a string, a bytes-like object or a real number, not 'NoneType'\n"
     ]
    },
    {
     "name": "stderr",
     "output_type": "stream",
     "text": [
      " 99%|█████████▊| 606/615 [14:12<00:12,  1.37s/it]"
     ]
    },
    {
     "name": "stdout",
     "output_type": "stream",
     "text": [
      "Error checking rookie status for player 1642473: int() argument must be a string, a bytes-like object or a real number, not 'NoneType'\n"
     ]
    },
    {
     "name": "stderr",
     "output_type": "stream",
     "text": [
      "100%|██████████| 615/615 [14:25<00:00,  1.41s/it]"
     ]
    },
    {
     "name": "stdout",
     "output_type": "stream",
     "text": [
      "Found 91 rookies.\n"
     ]
    },
    {
     "name": "stderr",
     "output_type": "stream",
     "text": [
      "\n"
     ]
    }
   ],
   "source": [
    "# Retrieve all players\n",
    "all_players = players.get_players()\n",
    "\n",
    "# Filter for rookies in the 2024-25 season\n",
    "# Note: Ensure the player list is updated; manual verification might be necessary\n",
    "active_players = [player for player in all_players if player['is_active']]\n",
    "\n",
    "rookies = []\n",
    "for player in tqdm(active_players):\n",
    "    # Add a delay to avoid hitting API rate limits\n",
    "    time.sleep(1)\n",
    "    if is_rookie(player['id'], rookie_from_year=2024):\n",
    "        rookies.append(player)\n",
    "\n",
    "print(f\"Found {len(rookies)} rookies.\")"
   ],
   "metadata": {
    "collapsed": false,
    "ExecuteTime": {
     "end_time": "2025-03-27T17:26:34.181006Z",
     "start_time": "2025-03-27T17:12:09.009482Z"
    }
   },
   "id": "fb898761d5f2817d"
  },
  {
   "cell_type": "code",
   "execution_count": 45,
   "outputs": [],
   "source": [
    "from nba_api.stats.endpoints import leaguedashplayerstats\n",
    "\n",
    "player_stats = leaguedashplayerstats.LeagueDashPlayerStats(season='2024-25',\n",
    "                                                           season_type_all_star='Regular Season',\n",
    "                                                           player_experience_nullable='Rookie'\n",
    "                                                           ).get_data_frames()[0]"
   ],
   "metadata": {
    "collapsed": false,
    "ExecuteTime": {
     "end_time": "2025-03-27T17:44:56.784054Z",
     "start_time": "2025-03-27T17:44:56.606571Z"
    }
   },
   "id": "c2a962c6f6d9ea08"
  },
  {
   "cell_type": "code",
   "execution_count": 46,
   "outputs": [
    {
     "data": {
      "text/plain": "    PLAYER_ID         PLAYER_NAME   NICKNAME     TEAM_ID TEAM_ABBREVIATION  \\\n0     1642358          AJ Johnson         AJ  1610612764               WAS   \n1     1641737           Adem Bona       Adem  1610612755               PHI   \n2     1642349       Ajay Mitchell       Ajay  1610612760               OKC   \n3     1642505          Alex Ducas       Alex  1610612760               OKC   \n4     1642024          Alex Reese       Alex  1610612755               PHI   \n..        ...                 ...        ...         ...               ...   \n94    1641879        Yuri Collins       Yuri  1610612744               GSW   \n95    1642274          Yves Missi       Yves  1610612740               NOP   \n96    1642258  Zaccharie Risacher  Zaccharie  1610612737               ATL   \n97    1641744           Zach Edey       Zach  1610612763               MEM   \n98    1642389         Zyon Pullin       Zyon  1610612763               MEM   \n\n     AGE  GP   W   L  W_PCT  ...  BLK_RANK  BLKA_RANK  PF_RANK  PFD_RANK  \\\n0   20.0  19   6  13  0.316  ...        60         58       48        42   \n1   21.0  49  11  38  0.224  ...         8         65       83        16   \n2   22.0  34  29   5  0.853  ...        41         67       70        22   \n3   24.0  19  18   1  0.947  ...        72         29       35        88   \n4   25.0  11   3   8  0.273  ...        28         29       48        55   \n..   ...  ..  ..  ..    ...  ...       ...        ...      ...       ...   \n94  24.0   2   2   0  1.000  ...        72          1       29        75   \n95  20.0  67  18  49  0.269  ...         2         99       90         2   \n96  19.0  65  33  32  0.508  ...        11         96       86        10   \n97  22.0  57  32  25  0.561  ...         4         92       96         8   \n98  24.0   3   1   2  0.333  ...        72          1        1        88   \n\n    PTS_RANK  PLUS_MINUS_RANK  NBA_FANTASY_PTS_RANK  DD2_RANK  TD3_RANK  \\\n0         42                9                    42        26         1   \n1         30               66                    26        11         1   \n2         28                2                    30        11         1   \n3         58               64                    58        26         1   \n4         51                6                    52        26         1   \n..       ...              ...                   ...       ...       ...   \n94        88               42                    80        26         1   \n95         7               97                     2         1         1   \n96         2               83                     8        11         1   \n97        11                3                     7         3         1   \n98        92               29                    97        26         1   \n\n    WNBA_FANTASY_PTS_RANK  \n0                      42  \n1                      28  \n2                      31  \n3                      57  \n4                      52  \n..                    ...  \n94                     81  \n95                      4  \n96                      5  \n97                      9  \n98                     97  \n\n[99 rows x 66 columns]",
      "text/html": "<div>\n<style scoped>\n    .dataframe tbody tr th:only-of-type {\n        vertical-align: middle;\n    }\n\n    .dataframe tbody tr th {\n        vertical-align: top;\n    }\n\n    .dataframe thead th {\n        text-align: right;\n    }\n</style>\n<table border=\"1\" class=\"dataframe\">\n  <thead>\n    <tr style=\"text-align: right;\">\n      <th></th>\n      <th>PLAYER_ID</th>\n      <th>PLAYER_NAME</th>\n      <th>NICKNAME</th>\n      <th>TEAM_ID</th>\n      <th>TEAM_ABBREVIATION</th>\n      <th>AGE</th>\n      <th>GP</th>\n      <th>W</th>\n      <th>L</th>\n      <th>W_PCT</th>\n      <th>...</th>\n      <th>BLK_RANK</th>\n      <th>BLKA_RANK</th>\n      <th>PF_RANK</th>\n      <th>PFD_RANK</th>\n      <th>PTS_RANK</th>\n      <th>PLUS_MINUS_RANK</th>\n      <th>NBA_FANTASY_PTS_RANK</th>\n      <th>DD2_RANK</th>\n      <th>TD3_RANK</th>\n      <th>WNBA_FANTASY_PTS_RANK</th>\n    </tr>\n  </thead>\n  <tbody>\n    <tr>\n      <th>0</th>\n      <td>1642358</td>\n      <td>AJ Johnson</td>\n      <td>AJ</td>\n      <td>1610612764</td>\n      <td>WAS</td>\n      <td>20.0</td>\n      <td>19</td>\n      <td>6</td>\n      <td>13</td>\n      <td>0.316</td>\n      <td>...</td>\n      <td>60</td>\n      <td>58</td>\n      <td>48</td>\n      <td>42</td>\n      <td>42</td>\n      <td>9</td>\n      <td>42</td>\n      <td>26</td>\n      <td>1</td>\n      <td>42</td>\n    </tr>\n    <tr>\n      <th>1</th>\n      <td>1641737</td>\n      <td>Adem Bona</td>\n      <td>Adem</td>\n      <td>1610612755</td>\n      <td>PHI</td>\n      <td>21.0</td>\n      <td>49</td>\n      <td>11</td>\n      <td>38</td>\n      <td>0.224</td>\n      <td>...</td>\n      <td>8</td>\n      <td>65</td>\n      <td>83</td>\n      <td>16</td>\n      <td>30</td>\n      <td>66</td>\n      <td>26</td>\n      <td>11</td>\n      <td>1</td>\n      <td>28</td>\n    </tr>\n    <tr>\n      <th>2</th>\n      <td>1642349</td>\n      <td>Ajay Mitchell</td>\n      <td>Ajay</td>\n      <td>1610612760</td>\n      <td>OKC</td>\n      <td>22.0</td>\n      <td>34</td>\n      <td>29</td>\n      <td>5</td>\n      <td>0.853</td>\n      <td>...</td>\n      <td>41</td>\n      <td>67</td>\n      <td>70</td>\n      <td>22</td>\n      <td>28</td>\n      <td>2</td>\n      <td>30</td>\n      <td>11</td>\n      <td>1</td>\n      <td>31</td>\n    </tr>\n    <tr>\n      <th>3</th>\n      <td>1642505</td>\n      <td>Alex Ducas</td>\n      <td>Alex</td>\n      <td>1610612760</td>\n      <td>OKC</td>\n      <td>24.0</td>\n      <td>19</td>\n      <td>18</td>\n      <td>1</td>\n      <td>0.947</td>\n      <td>...</td>\n      <td>72</td>\n      <td>29</td>\n      <td>35</td>\n      <td>88</td>\n      <td>58</td>\n      <td>64</td>\n      <td>58</td>\n      <td>26</td>\n      <td>1</td>\n      <td>57</td>\n    </tr>\n    <tr>\n      <th>4</th>\n      <td>1642024</td>\n      <td>Alex Reese</td>\n      <td>Alex</td>\n      <td>1610612755</td>\n      <td>PHI</td>\n      <td>25.0</td>\n      <td>11</td>\n      <td>3</td>\n      <td>8</td>\n      <td>0.273</td>\n      <td>...</td>\n      <td>28</td>\n      <td>29</td>\n      <td>48</td>\n      <td>55</td>\n      <td>51</td>\n      <td>6</td>\n      <td>52</td>\n      <td>26</td>\n      <td>1</td>\n      <td>52</td>\n    </tr>\n    <tr>\n      <th>...</th>\n      <td>...</td>\n      <td>...</td>\n      <td>...</td>\n      <td>...</td>\n      <td>...</td>\n      <td>...</td>\n      <td>...</td>\n      <td>...</td>\n      <td>...</td>\n      <td>...</td>\n      <td>...</td>\n      <td>...</td>\n      <td>...</td>\n      <td>...</td>\n      <td>...</td>\n      <td>...</td>\n      <td>...</td>\n      <td>...</td>\n      <td>...</td>\n      <td>...</td>\n      <td>...</td>\n    </tr>\n    <tr>\n      <th>94</th>\n      <td>1641879</td>\n      <td>Yuri Collins</td>\n      <td>Yuri</td>\n      <td>1610612744</td>\n      <td>GSW</td>\n      <td>24.0</td>\n      <td>2</td>\n      <td>2</td>\n      <td>0</td>\n      <td>1.000</td>\n      <td>...</td>\n      <td>72</td>\n      <td>1</td>\n      <td>29</td>\n      <td>75</td>\n      <td>88</td>\n      <td>42</td>\n      <td>80</td>\n      <td>26</td>\n      <td>1</td>\n      <td>81</td>\n    </tr>\n    <tr>\n      <th>95</th>\n      <td>1642274</td>\n      <td>Yves Missi</td>\n      <td>Yves</td>\n      <td>1610612740</td>\n      <td>NOP</td>\n      <td>20.0</td>\n      <td>67</td>\n      <td>18</td>\n      <td>49</td>\n      <td>0.269</td>\n      <td>...</td>\n      <td>2</td>\n      <td>99</td>\n      <td>90</td>\n      <td>2</td>\n      <td>7</td>\n      <td>97</td>\n      <td>2</td>\n      <td>1</td>\n      <td>1</td>\n      <td>4</td>\n    </tr>\n    <tr>\n      <th>96</th>\n      <td>1642258</td>\n      <td>Zaccharie Risacher</td>\n      <td>Zaccharie</td>\n      <td>1610612737</td>\n      <td>ATL</td>\n      <td>19.0</td>\n      <td>65</td>\n      <td>33</td>\n      <td>32</td>\n      <td>0.508</td>\n      <td>...</td>\n      <td>11</td>\n      <td>96</td>\n      <td>86</td>\n      <td>10</td>\n      <td>2</td>\n      <td>83</td>\n      <td>8</td>\n      <td>11</td>\n      <td>1</td>\n      <td>5</td>\n    </tr>\n    <tr>\n      <th>97</th>\n      <td>1641744</td>\n      <td>Zach Edey</td>\n      <td>Zach</td>\n      <td>1610612763</td>\n      <td>MEM</td>\n      <td>22.0</td>\n      <td>57</td>\n      <td>32</td>\n      <td>25</td>\n      <td>0.561</td>\n      <td>...</td>\n      <td>4</td>\n      <td>92</td>\n      <td>96</td>\n      <td>8</td>\n      <td>11</td>\n      <td>3</td>\n      <td>7</td>\n      <td>3</td>\n      <td>1</td>\n      <td>9</td>\n    </tr>\n    <tr>\n      <th>98</th>\n      <td>1642389</td>\n      <td>Zyon Pullin</td>\n      <td>Zyon</td>\n      <td>1610612763</td>\n      <td>MEM</td>\n      <td>24.0</td>\n      <td>3</td>\n      <td>1</td>\n      <td>2</td>\n      <td>0.333</td>\n      <td>...</td>\n      <td>72</td>\n      <td>1</td>\n      <td>1</td>\n      <td>88</td>\n      <td>92</td>\n      <td>29</td>\n      <td>97</td>\n      <td>26</td>\n      <td>1</td>\n      <td>97</td>\n    </tr>\n  </tbody>\n</table>\n<p>99 rows × 66 columns</p>\n</div>"
     },
     "execution_count": 46,
     "metadata": {},
     "output_type": "execute_result"
    }
   ],
   "source": [
    "player_stats"
   ],
   "metadata": {
    "collapsed": false,
    "ExecuteTime": {
     "end_time": "2025-03-27T17:45:04.333925Z",
     "start_time": "2025-03-27T17:45:04.331508Z"
    }
   },
   "id": "8e0e837528414baf"
  },
  {
   "cell_type": "code",
   "execution_count": 56,
   "outputs": [
    {
     "name": "stderr",
     "output_type": "stream",
     "text": [
      "100%|██████████| 99/99 [02:06<00:00,  1.28s/it]\n"
     ]
    }
   ],
   "source": [
    "rookie_game_scores = []\n",
    "\n",
    "for i in tqdm(range(len(player_stats))):\n",
    "    rookie = player_stats.iloc[i]\n",
    "    player_id = rookie['PLAYER_ID']\n",
    "    player_name = rookie['PLAYER_NAME']\n",
    "    \n",
    "    # Retrieve game logs\n",
    "    gamelog = playergamelog.PlayerGameLog(player_id=player_id, season='2024-25', season_type_all_star='Regular Season')\n",
    "    games_df = gamelog.get_data_frames()[0]\n",
    "    \n",
    "    # Introduce a delay to prevent hitting API rate limits\n",
    "    time.sleep(1)\n",
    "    \n",
    "    if games_df.empty:\n",
    "        continue\n",
    "    \n",
    "    # Calculate Game Score for each game\n",
    "    games_df['GAME_SCORE'] = games_df.apply(calculate_game_score, axis=1)\n",
    "    \n",
    "    for _, row in games_df.iterrows():\n",
    "        rookie_game_scores.append({\n",
    "            'Player': player_name,\n",
    "            'Game_Score': row['GAME_SCORE'],\n",
    "            'Game_Date': row['GAME_DATE']\n",
    "        })\n",
    "\n",
    "# Convert to DataFrame\n",
    "rookie_game_scores_df = pd.DataFrame(rookie_game_scores)"
   ],
   "metadata": {
    "collapsed": false,
    "ExecuteTime": {
     "end_time": "2025-03-27T17:52:27.605852Z",
     "start_time": "2025-03-27T17:50:21.339973Z"
    }
   },
   "id": "c2d0e219bb291830"
  },
  {
   "cell_type": "code",
   "execution_count": 57,
   "outputs": [
    {
     "data": {
      "text/plain": "           Player  Game_Score     Game_Date\n0      AJ Johnson         5.8  MAR 26, 2025\n1      AJ Johnson        15.8  MAR 24, 2025\n2      AJ Johnson         5.9  MAR 22, 2025\n3      AJ Johnson        11.8  MAR 21, 2025\n4      AJ Johnson        11.3  MAR 19, 2025\n...           ...         ...           ...\n2741    Zach Edey        12.7  OCT 25, 2024\n2742    Zach Edey         1.1  OCT 23, 2024\n2743  Zyon Pullin        -0.7  FEB 12, 2025\n2744  Zyon Pullin         0.0  FEB 08, 2025\n2745  Zyon Pullin         0.0  FEB 03, 2025\n\n[2746 rows x 3 columns]",
      "text/html": "<div>\n<style scoped>\n    .dataframe tbody tr th:only-of-type {\n        vertical-align: middle;\n    }\n\n    .dataframe tbody tr th {\n        vertical-align: top;\n    }\n\n    .dataframe thead th {\n        text-align: right;\n    }\n</style>\n<table border=\"1\" class=\"dataframe\">\n  <thead>\n    <tr style=\"text-align: right;\">\n      <th></th>\n      <th>Player</th>\n      <th>Game_Score</th>\n      <th>Game_Date</th>\n    </tr>\n  </thead>\n  <tbody>\n    <tr>\n      <th>0</th>\n      <td>AJ Johnson</td>\n      <td>5.8</td>\n      <td>MAR 26, 2025</td>\n    </tr>\n    <tr>\n      <th>1</th>\n      <td>AJ Johnson</td>\n      <td>15.8</td>\n      <td>MAR 24, 2025</td>\n    </tr>\n    <tr>\n      <th>2</th>\n      <td>AJ Johnson</td>\n      <td>5.9</td>\n      <td>MAR 22, 2025</td>\n    </tr>\n    <tr>\n      <th>3</th>\n      <td>AJ Johnson</td>\n      <td>11.8</td>\n      <td>MAR 21, 2025</td>\n    </tr>\n    <tr>\n      <th>4</th>\n      <td>AJ Johnson</td>\n      <td>11.3</td>\n      <td>MAR 19, 2025</td>\n    </tr>\n    <tr>\n      <th>...</th>\n      <td>...</td>\n      <td>...</td>\n      <td>...</td>\n    </tr>\n    <tr>\n      <th>2741</th>\n      <td>Zach Edey</td>\n      <td>12.7</td>\n      <td>OCT 25, 2024</td>\n    </tr>\n    <tr>\n      <th>2742</th>\n      <td>Zach Edey</td>\n      <td>1.1</td>\n      <td>OCT 23, 2024</td>\n    </tr>\n    <tr>\n      <th>2743</th>\n      <td>Zyon Pullin</td>\n      <td>-0.7</td>\n      <td>FEB 12, 2025</td>\n    </tr>\n    <tr>\n      <th>2744</th>\n      <td>Zyon Pullin</td>\n      <td>0.0</td>\n      <td>FEB 08, 2025</td>\n    </tr>\n    <tr>\n      <th>2745</th>\n      <td>Zyon Pullin</td>\n      <td>0.0</td>\n      <td>FEB 03, 2025</td>\n    </tr>\n  </tbody>\n</table>\n<p>2746 rows × 3 columns</p>\n</div>"
     },
     "execution_count": 57,
     "metadata": {},
     "output_type": "execute_result"
    }
   ],
   "source": [
    "rookie_game_scores_df"
   ],
   "metadata": {
    "collapsed": false,
    "ExecuteTime": {
     "end_time": "2025-03-27T17:52:29.688406Z",
     "start_time": "2025-03-27T17:52:29.682980Z"
    }
   },
   "id": "9eea554e16c54557"
  },
  {
   "cell_type": "code",
   "execution_count": 58,
   "outputs": [
    {
     "data": {
      "text/plain": "                  Player  Avg_Game_Score  Games_Played  Top_Game_Score  \\\n37        Stephon Castle        9.620000            70            24.3   \n43    Zaccharie Risacher        8.118462            65            31.8   \n2              Alex Sarr        9.721053            57            24.2   \n44             Zach Edey        9.317544            57            26.9   \n42            Yves Missi        9.588060            67            22.9   \n7          Dalton Knecht        6.598551            69            31.9   \n25           Kel'el Ware        8.742593            54            22.5   \n17          Jaylen Wells        7.411111            72            26.9   \n10       Donovan Clingan        7.265517            58            22.5   \n26       Kyle Filipowski        7.417460            63            21.6   \n5         Bub Carrington        6.908333            72            22.2   \n12        Isaiah Collier        6.536923            65            20.5   \n21        Justin Edwards        7.546154            39            21.4   \n28         Matas Buzelis        5.470000            70            21.9   \n40      Tristan da Silva        5.539706            68            23.9   \n27        Kyshawn George        6.298437            64            19.8   \n23        Karlo Matković        6.311429            35            18.1   \n14           Jamal Shead        4.967164            67            15.8   \n31          Quinten Post        6.652941            34            17.6   \n36             Ryan Dunn        4.766154            65            16.5   \n35     Ronald Holland II        4.610959            73            23.3   \n13        Ja'Kobe Walter        5.278261            46            17.7   \n20        Jonathan Mogbo        5.450000            54            17.1   \n0              Adem Bona        4.226531            49            17.4   \n1          Ajay Mitchell        5.138235            34            18.2   \n15        Jamison Battle        4.460000            50            24.0   \n39        Tidjane Salaün        4.010000            50            15.6   \n29          Oso Ighodaro        3.940385            52            13.7   \n3         Antonio Reeves        3.422857            35            25.7   \n16          Jaylen Clark        4.377419            31            15.4   \n22            KJ Simpson        4.784615            26            12.5   \n34        Rob Dillingham        3.334091            44            16.3   \n38  Terrence Shannon Jr.        3.351613            31            17.2   \n24        Keaton Wallace        4.250000            28            26.6   \n18          Jaylon Tyson        2.480952            42            20.0   \n33         Reed Sheppard        2.631111            45            20.5   \n6          Cody Williams        2.435417            48            11.9   \n30         Pelle Larsson        2.712500            48            12.6   \n8           Devin Carter        3.507143            28            15.9   \n9           Dillon Jones        1.947727            44            12.5   \n11           Isaac Jones        2.930303            33            13.0   \n41           Tyler Kolek        1.711111            36             9.7   \n19         Johnny Furphy        1.388095            42             8.7   \n32         Reece Beekman        1.563333            30             6.9   \n4         Ariel Hukporti        1.528000            25             8.4   \n\n   Top_Game_Date  Top10_Avg_Game_Score  \n37  FEB 07, 2025                 19.68  \n43  NOV 06, 2024                 19.65  \n2   MAR 15, 2025                 19.51  \n44  NOV 04, 2024                 19.37  \n42  DEC 22, 2024                 19.15  \n7   NOV 19, 2024                 18.79  \n25  JAN 02, 2025                 17.96  \n17  JAN 03, 2025                 17.45  \n10  NOV 13, 2024                 17.27  \n26  MAR 09, 2025                 17.16  \n5   FEB 08, 2025                 16.63  \n12  FEB 05, 2025                 15.97  \n21  MAR 26, 2025                 15.85  \n28  MAR 22, 2025                 15.46  \n40  JAN 03, 2025                 15.31  \n27  JAN 16, 2025                 15.18  \n23  MAR 24, 2025                 13.59  \n14  DEC 22, 2024                 13.28  \n31  FEB 27, 2025                 12.87  \n36  JAN 16, 2025                 12.56  \n35  MAR 23, 2025                 12.46  \n13  DEC 22, 2024                 12.13  \n20  MAR 26, 2025                 12.09  \n0   MAR 09, 2025                 12.01  \n1   DEC 23, 2024                 11.98  \n15  NOV 27, 2024                 10.55  \n39  NOV 27, 2024                 10.53  \n29  NOV 18, 2024                 10.04  \n3   NOV 20, 2024                 10.02  \n16  FEB 23, 2025                  9.89  \n22  MAR 21, 2025                  9.56  \n34  JAN 30, 2025                  9.52  \n38  FEB 27, 2025                  9.32  \n24  JAN 15, 2025                  9.04  \n18  NOV 20, 2024                  8.78  \n33  MAR 03, 2025                  8.72  \n6   NOV 04, 2024                  8.56  \n30  NOV 04, 2024                  8.51  \n8   MAR 19, 2025                  8.18  \n9   NOV 17, 2024                  7.20  \n11  MAR 10, 2025                  7.19  \n41  MAR 22, 2025                  5.08  \n19  DEC 04, 2024                  5.02  \n32  JAN 15, 2025                  4.42  \n4   DEC 07, 2024                  4.26  ",
      "text/html": "<div>\n<style scoped>\n    .dataframe tbody tr th:only-of-type {\n        vertical-align: middle;\n    }\n\n    .dataframe tbody tr th {\n        vertical-align: top;\n    }\n\n    .dataframe thead th {\n        text-align: right;\n    }\n</style>\n<table border=\"1\" class=\"dataframe\">\n  <thead>\n    <tr style=\"text-align: right;\">\n      <th></th>\n      <th>Player</th>\n      <th>Avg_Game_Score</th>\n      <th>Games_Played</th>\n      <th>Top_Game_Score</th>\n      <th>Top_Game_Date</th>\n      <th>Top10_Avg_Game_Score</th>\n    </tr>\n  </thead>\n  <tbody>\n    <tr>\n      <th>37</th>\n      <td>Stephon Castle</td>\n      <td>9.620000</td>\n      <td>70</td>\n      <td>24.3</td>\n      <td>FEB 07, 2025</td>\n      <td>19.68</td>\n    </tr>\n    <tr>\n      <th>43</th>\n      <td>Zaccharie Risacher</td>\n      <td>8.118462</td>\n      <td>65</td>\n      <td>31.8</td>\n      <td>NOV 06, 2024</td>\n      <td>19.65</td>\n    </tr>\n    <tr>\n      <th>2</th>\n      <td>Alex Sarr</td>\n      <td>9.721053</td>\n      <td>57</td>\n      <td>24.2</td>\n      <td>MAR 15, 2025</td>\n      <td>19.51</td>\n    </tr>\n    <tr>\n      <th>44</th>\n      <td>Zach Edey</td>\n      <td>9.317544</td>\n      <td>57</td>\n      <td>26.9</td>\n      <td>NOV 04, 2024</td>\n      <td>19.37</td>\n    </tr>\n    <tr>\n      <th>42</th>\n      <td>Yves Missi</td>\n      <td>9.588060</td>\n      <td>67</td>\n      <td>22.9</td>\n      <td>DEC 22, 2024</td>\n      <td>19.15</td>\n    </tr>\n    <tr>\n      <th>7</th>\n      <td>Dalton Knecht</td>\n      <td>6.598551</td>\n      <td>69</td>\n      <td>31.9</td>\n      <td>NOV 19, 2024</td>\n      <td>18.79</td>\n    </tr>\n    <tr>\n      <th>25</th>\n      <td>Kel'el Ware</td>\n      <td>8.742593</td>\n      <td>54</td>\n      <td>22.5</td>\n      <td>JAN 02, 2025</td>\n      <td>17.96</td>\n    </tr>\n    <tr>\n      <th>17</th>\n      <td>Jaylen Wells</td>\n      <td>7.411111</td>\n      <td>72</td>\n      <td>26.9</td>\n      <td>JAN 03, 2025</td>\n      <td>17.45</td>\n    </tr>\n    <tr>\n      <th>10</th>\n      <td>Donovan Clingan</td>\n      <td>7.265517</td>\n      <td>58</td>\n      <td>22.5</td>\n      <td>NOV 13, 2024</td>\n      <td>17.27</td>\n    </tr>\n    <tr>\n      <th>26</th>\n      <td>Kyle Filipowski</td>\n      <td>7.417460</td>\n      <td>63</td>\n      <td>21.6</td>\n      <td>MAR 09, 2025</td>\n      <td>17.16</td>\n    </tr>\n    <tr>\n      <th>5</th>\n      <td>Bub Carrington</td>\n      <td>6.908333</td>\n      <td>72</td>\n      <td>22.2</td>\n      <td>FEB 08, 2025</td>\n      <td>16.63</td>\n    </tr>\n    <tr>\n      <th>12</th>\n      <td>Isaiah Collier</td>\n      <td>6.536923</td>\n      <td>65</td>\n      <td>20.5</td>\n      <td>FEB 05, 2025</td>\n      <td>15.97</td>\n    </tr>\n    <tr>\n      <th>21</th>\n      <td>Justin Edwards</td>\n      <td>7.546154</td>\n      <td>39</td>\n      <td>21.4</td>\n      <td>MAR 26, 2025</td>\n      <td>15.85</td>\n    </tr>\n    <tr>\n      <th>28</th>\n      <td>Matas Buzelis</td>\n      <td>5.470000</td>\n      <td>70</td>\n      <td>21.9</td>\n      <td>MAR 22, 2025</td>\n      <td>15.46</td>\n    </tr>\n    <tr>\n      <th>40</th>\n      <td>Tristan da Silva</td>\n      <td>5.539706</td>\n      <td>68</td>\n      <td>23.9</td>\n      <td>JAN 03, 2025</td>\n      <td>15.31</td>\n    </tr>\n    <tr>\n      <th>27</th>\n      <td>Kyshawn George</td>\n      <td>6.298437</td>\n      <td>64</td>\n      <td>19.8</td>\n      <td>JAN 16, 2025</td>\n      <td>15.18</td>\n    </tr>\n    <tr>\n      <th>23</th>\n      <td>Karlo Matković</td>\n      <td>6.311429</td>\n      <td>35</td>\n      <td>18.1</td>\n      <td>MAR 24, 2025</td>\n      <td>13.59</td>\n    </tr>\n    <tr>\n      <th>14</th>\n      <td>Jamal Shead</td>\n      <td>4.967164</td>\n      <td>67</td>\n      <td>15.8</td>\n      <td>DEC 22, 2024</td>\n      <td>13.28</td>\n    </tr>\n    <tr>\n      <th>31</th>\n      <td>Quinten Post</td>\n      <td>6.652941</td>\n      <td>34</td>\n      <td>17.6</td>\n      <td>FEB 27, 2025</td>\n      <td>12.87</td>\n    </tr>\n    <tr>\n      <th>36</th>\n      <td>Ryan Dunn</td>\n      <td>4.766154</td>\n      <td>65</td>\n      <td>16.5</td>\n      <td>JAN 16, 2025</td>\n      <td>12.56</td>\n    </tr>\n    <tr>\n      <th>35</th>\n      <td>Ronald Holland II</td>\n      <td>4.610959</td>\n      <td>73</td>\n      <td>23.3</td>\n      <td>MAR 23, 2025</td>\n      <td>12.46</td>\n    </tr>\n    <tr>\n      <th>13</th>\n      <td>Ja'Kobe Walter</td>\n      <td>5.278261</td>\n      <td>46</td>\n      <td>17.7</td>\n      <td>DEC 22, 2024</td>\n      <td>12.13</td>\n    </tr>\n    <tr>\n      <th>20</th>\n      <td>Jonathan Mogbo</td>\n      <td>5.450000</td>\n      <td>54</td>\n      <td>17.1</td>\n      <td>MAR 26, 2025</td>\n      <td>12.09</td>\n    </tr>\n    <tr>\n      <th>0</th>\n      <td>Adem Bona</td>\n      <td>4.226531</td>\n      <td>49</td>\n      <td>17.4</td>\n      <td>MAR 09, 2025</td>\n      <td>12.01</td>\n    </tr>\n    <tr>\n      <th>1</th>\n      <td>Ajay Mitchell</td>\n      <td>5.138235</td>\n      <td>34</td>\n      <td>18.2</td>\n      <td>DEC 23, 2024</td>\n      <td>11.98</td>\n    </tr>\n    <tr>\n      <th>15</th>\n      <td>Jamison Battle</td>\n      <td>4.460000</td>\n      <td>50</td>\n      <td>24.0</td>\n      <td>NOV 27, 2024</td>\n      <td>10.55</td>\n    </tr>\n    <tr>\n      <th>39</th>\n      <td>Tidjane Salaün</td>\n      <td>4.010000</td>\n      <td>50</td>\n      <td>15.6</td>\n      <td>NOV 27, 2024</td>\n      <td>10.53</td>\n    </tr>\n    <tr>\n      <th>29</th>\n      <td>Oso Ighodaro</td>\n      <td>3.940385</td>\n      <td>52</td>\n      <td>13.7</td>\n      <td>NOV 18, 2024</td>\n      <td>10.04</td>\n    </tr>\n    <tr>\n      <th>3</th>\n      <td>Antonio Reeves</td>\n      <td>3.422857</td>\n      <td>35</td>\n      <td>25.7</td>\n      <td>NOV 20, 2024</td>\n      <td>10.02</td>\n    </tr>\n    <tr>\n      <th>16</th>\n      <td>Jaylen Clark</td>\n      <td>4.377419</td>\n      <td>31</td>\n      <td>15.4</td>\n      <td>FEB 23, 2025</td>\n      <td>9.89</td>\n    </tr>\n    <tr>\n      <th>22</th>\n      <td>KJ Simpson</td>\n      <td>4.784615</td>\n      <td>26</td>\n      <td>12.5</td>\n      <td>MAR 21, 2025</td>\n      <td>9.56</td>\n    </tr>\n    <tr>\n      <th>34</th>\n      <td>Rob Dillingham</td>\n      <td>3.334091</td>\n      <td>44</td>\n      <td>16.3</td>\n      <td>JAN 30, 2025</td>\n      <td>9.52</td>\n    </tr>\n    <tr>\n      <th>38</th>\n      <td>Terrence Shannon Jr.</td>\n      <td>3.351613</td>\n      <td>31</td>\n      <td>17.2</td>\n      <td>FEB 27, 2025</td>\n      <td>9.32</td>\n    </tr>\n    <tr>\n      <th>24</th>\n      <td>Keaton Wallace</td>\n      <td>4.250000</td>\n      <td>28</td>\n      <td>26.6</td>\n      <td>JAN 15, 2025</td>\n      <td>9.04</td>\n    </tr>\n    <tr>\n      <th>18</th>\n      <td>Jaylon Tyson</td>\n      <td>2.480952</td>\n      <td>42</td>\n      <td>20.0</td>\n      <td>NOV 20, 2024</td>\n      <td>8.78</td>\n    </tr>\n    <tr>\n      <th>33</th>\n      <td>Reed Sheppard</td>\n      <td>2.631111</td>\n      <td>45</td>\n      <td>20.5</td>\n      <td>MAR 03, 2025</td>\n      <td>8.72</td>\n    </tr>\n    <tr>\n      <th>6</th>\n      <td>Cody Williams</td>\n      <td>2.435417</td>\n      <td>48</td>\n      <td>11.9</td>\n      <td>NOV 04, 2024</td>\n      <td>8.56</td>\n    </tr>\n    <tr>\n      <th>30</th>\n      <td>Pelle Larsson</td>\n      <td>2.712500</td>\n      <td>48</td>\n      <td>12.6</td>\n      <td>NOV 04, 2024</td>\n      <td>8.51</td>\n    </tr>\n    <tr>\n      <th>8</th>\n      <td>Devin Carter</td>\n      <td>3.507143</td>\n      <td>28</td>\n      <td>15.9</td>\n      <td>MAR 19, 2025</td>\n      <td>8.18</td>\n    </tr>\n    <tr>\n      <th>9</th>\n      <td>Dillon Jones</td>\n      <td>1.947727</td>\n      <td>44</td>\n      <td>12.5</td>\n      <td>NOV 17, 2024</td>\n      <td>7.20</td>\n    </tr>\n    <tr>\n      <th>11</th>\n      <td>Isaac Jones</td>\n      <td>2.930303</td>\n      <td>33</td>\n      <td>13.0</td>\n      <td>MAR 10, 2025</td>\n      <td>7.19</td>\n    </tr>\n    <tr>\n      <th>41</th>\n      <td>Tyler Kolek</td>\n      <td>1.711111</td>\n      <td>36</td>\n      <td>9.7</td>\n      <td>MAR 22, 2025</td>\n      <td>5.08</td>\n    </tr>\n    <tr>\n      <th>19</th>\n      <td>Johnny Furphy</td>\n      <td>1.388095</td>\n      <td>42</td>\n      <td>8.7</td>\n      <td>DEC 04, 2024</td>\n      <td>5.02</td>\n    </tr>\n    <tr>\n      <th>32</th>\n      <td>Reece Beekman</td>\n      <td>1.563333</td>\n      <td>30</td>\n      <td>6.9</td>\n      <td>JAN 15, 2025</td>\n      <td>4.42</td>\n    </tr>\n    <tr>\n      <th>4</th>\n      <td>Ariel Hukporti</td>\n      <td>1.528000</td>\n      <td>25</td>\n      <td>8.4</td>\n      <td>DEC 07, 2024</td>\n      <td>4.26</td>\n    </tr>\n  </tbody>\n</table>\n</div>"
     },
     "execution_count": 58,
     "metadata": {},
     "output_type": "execute_result"
    }
   ],
   "source": [
    "# Calculate overall average Game Score and games played for each rookie\n",
    "average_game_scores = rookie_game_scores_df.groupby('Player').agg(\n",
    "    Avg_Game_Score=('Game_Score', 'mean'),\n",
    "    Games_Played=('Game_Score', 'count')\n",
    ").reset_index()\n",
    "\n",
    "# Filter for rookies with at least 25 games played\n",
    "qualified_rookies = average_game_scores[average_game_scores['Games_Played'] >= 25]\n",
    "\n",
    "# Get top 10 rookies by overall average Game Score\n",
    "# top_10_rookies = qualified_rookies.nlargest(10, 'Avg_Game_Score')\n",
    "\n",
    "# For each of the top 10 rookies, find their best single-game performance\n",
    "top_performances = []\n",
    "for player in qualified_rookies['Player']:\n",
    "    player_games = rookie_game_scores_df[rookie_game_scores_df['Player'] == player]\n",
    "    top_game = player_games.nlargest(1, 'Game_Score')\n",
    "    top_performances.append({\n",
    "        'Player': player,\n",
    "        'Top_Game_Score': top_game['Game_Score'].values[0],\n",
    "        'Top_Game_Date': top_game['Game_Date'].values[0]\n",
    "    })\n",
    "\n",
    "top_performances_df = pd.DataFrame(top_performances)\n",
    "\n",
    "# Calculate the average of the top 10 Game Scores for each rookie\n",
    "def average_top10(group):\n",
    "    top10_games = group.sort_values(by='Game_Score', ascending=False).head(10)\n",
    "    return top10_games['Game_Score'].mean()\n",
    "\n",
    "top10_avg = rookie_game_scores_df.groupby('Player').apply(average_top10).reset_index(name='Top10_Avg_Game_Score')\n",
    "\n",
    "# Merge the average overall scores, top single-game performance, and top10 averages\n",
    "results = qualified_rookies.merge(top_performances_df, on='Player', how='left')\n",
    "final_results = results.merge(top10_avg, on='Player', how='left')\n",
    "\n",
    "# Display the final results\n",
    "final_results_sorted = final_results.sort_values(by='Top10_Avg_Game_Score', ascending=False)\n",
    "\n",
    "final_results_sorted"
   ],
   "metadata": {
    "collapsed": false,
    "ExecuteTime": {
     "end_time": "2025-03-27T17:52:33.929790Z",
     "start_time": "2025-03-27T17:52:33.881024Z"
    }
   },
   "id": "ee593cc11c57d4f2"
  },
  {
   "cell_type": "code",
   "execution_count": 61,
   "outputs": [],
   "source": [
    "final_results_sorted.to_excel('rookies_gamescore.xlsx')"
   ],
   "metadata": {
    "collapsed": false,
    "ExecuteTime": {
     "end_time": "2025-03-27T17:54:01.971833Z",
     "start_time": "2025-03-27T17:54:01.945209Z"
    }
   },
   "id": "8c6a29f0ef307b70"
  },
  {
   "cell_type": "code",
   "execution_count": 44,
   "outputs": [
    {
     "data": {
      "text/plain": "    PLAYER_ID         PLAYER_NAME   NICKNAME     TEAM_ID TEAM_ABBREVIATION  \\\n0     1642358          AJ Johnson         AJ  1610612764               WAS   \n1     1641737           Adem Bona       Adem  1610612755               PHI   \n2     1642349       Ajay Mitchell       Ajay  1610612760               OKC   \n3     1642505          Alex Ducas       Alex  1610612760               OKC   \n4     1642024          Alex Reese       Alex  1610612755               PHI   \n..        ...                 ...        ...         ...               ...   \n94    1641879        Yuri Collins       Yuri  1610612744               GSW   \n95    1642274          Yves Missi       Yves  1610612740               NOP   \n96    1642258  Zaccharie Risacher  Zaccharie  1610612737               ATL   \n97    1641744           Zach Edey       Zach  1610612763               MEM   \n98    1642389         Zyon Pullin       Zyon  1610612763               MEM   \n\n     AGE  GP   W   L  W_PCT  ...  BLK_RANK  BLKA_RANK  PF_RANK  PFD_RANK  \\\n0   20.0  19   6  13  0.316  ...        60         58       48        42   \n1   21.0  49  11  38  0.224  ...         8         65       83        16   \n2   22.0  34  29   5  0.853  ...        41         67       70        22   \n3   24.0  19  18   1  0.947  ...        72         29       35        88   \n4   25.0  11   3   8  0.273  ...        28         29       48        55   \n..   ...  ..  ..  ..    ...  ...       ...        ...      ...       ...   \n94  24.0   2   2   0  1.000  ...        72          1       29        75   \n95  20.0  67  18  49  0.269  ...         2         99       90         2   \n96  19.0  65  33  32  0.508  ...        11         96       86        10   \n97  22.0  57  32  25  0.561  ...         4         92       96         8   \n98  24.0   3   1   2  0.333  ...        72          1        1        88   \n\n    PTS_RANK  PLUS_MINUS_RANK  NBA_FANTASY_PTS_RANK  DD2_RANK  TD3_RANK  \\\n0         42                9                    42        26         1   \n1         30               66                    26        11         1   \n2         28                2                    30        11         1   \n3         58               64                    58        26         1   \n4         51                6                    52        26         1   \n..       ...              ...                   ...       ...       ...   \n94        88               42                    80        26         1   \n95         7               97                     2         1         1   \n96         2               83                     8        11         1   \n97        11                3                     7         3         1   \n98        92               29                    97        26         1   \n\n    WNBA_FANTASY_PTS_RANK  \n0                      42  \n1                      28  \n2                      31  \n3                      57  \n4                      52  \n..                    ...  \n94                     81  \n95                      4  \n96                      5  \n97                      9  \n98                     97  \n\n[99 rows x 66 columns]",
      "text/html": "<div>\n<style scoped>\n    .dataframe tbody tr th:only-of-type {\n        vertical-align: middle;\n    }\n\n    .dataframe tbody tr th {\n        vertical-align: top;\n    }\n\n    .dataframe thead th {\n        text-align: right;\n    }\n</style>\n<table border=\"1\" class=\"dataframe\">\n  <thead>\n    <tr style=\"text-align: right;\">\n      <th></th>\n      <th>PLAYER_ID</th>\n      <th>PLAYER_NAME</th>\n      <th>NICKNAME</th>\n      <th>TEAM_ID</th>\n      <th>TEAM_ABBREVIATION</th>\n      <th>AGE</th>\n      <th>GP</th>\n      <th>W</th>\n      <th>L</th>\n      <th>W_PCT</th>\n      <th>...</th>\n      <th>BLK_RANK</th>\n      <th>BLKA_RANK</th>\n      <th>PF_RANK</th>\n      <th>PFD_RANK</th>\n      <th>PTS_RANK</th>\n      <th>PLUS_MINUS_RANK</th>\n      <th>NBA_FANTASY_PTS_RANK</th>\n      <th>DD2_RANK</th>\n      <th>TD3_RANK</th>\n      <th>WNBA_FANTASY_PTS_RANK</th>\n    </tr>\n  </thead>\n  <tbody>\n    <tr>\n      <th>0</th>\n      <td>1642358</td>\n      <td>AJ Johnson</td>\n      <td>AJ</td>\n      <td>1610612764</td>\n      <td>WAS</td>\n      <td>20.0</td>\n      <td>19</td>\n      <td>6</td>\n      <td>13</td>\n      <td>0.316</td>\n      <td>...</td>\n      <td>60</td>\n      <td>58</td>\n      <td>48</td>\n      <td>42</td>\n      <td>42</td>\n      <td>9</td>\n      <td>42</td>\n      <td>26</td>\n      <td>1</td>\n      <td>42</td>\n    </tr>\n    <tr>\n      <th>1</th>\n      <td>1641737</td>\n      <td>Adem Bona</td>\n      <td>Adem</td>\n      <td>1610612755</td>\n      <td>PHI</td>\n      <td>21.0</td>\n      <td>49</td>\n      <td>11</td>\n      <td>38</td>\n      <td>0.224</td>\n      <td>...</td>\n      <td>8</td>\n      <td>65</td>\n      <td>83</td>\n      <td>16</td>\n      <td>30</td>\n      <td>66</td>\n      <td>26</td>\n      <td>11</td>\n      <td>1</td>\n      <td>28</td>\n    </tr>\n    <tr>\n      <th>2</th>\n      <td>1642349</td>\n      <td>Ajay Mitchell</td>\n      <td>Ajay</td>\n      <td>1610612760</td>\n      <td>OKC</td>\n      <td>22.0</td>\n      <td>34</td>\n      <td>29</td>\n      <td>5</td>\n      <td>0.853</td>\n      <td>...</td>\n      <td>41</td>\n      <td>67</td>\n      <td>70</td>\n      <td>22</td>\n      <td>28</td>\n      <td>2</td>\n      <td>30</td>\n      <td>11</td>\n      <td>1</td>\n      <td>31</td>\n    </tr>\n    <tr>\n      <th>3</th>\n      <td>1642505</td>\n      <td>Alex Ducas</td>\n      <td>Alex</td>\n      <td>1610612760</td>\n      <td>OKC</td>\n      <td>24.0</td>\n      <td>19</td>\n      <td>18</td>\n      <td>1</td>\n      <td>0.947</td>\n      <td>...</td>\n      <td>72</td>\n      <td>29</td>\n      <td>35</td>\n      <td>88</td>\n      <td>58</td>\n      <td>64</td>\n      <td>58</td>\n      <td>26</td>\n      <td>1</td>\n      <td>57</td>\n    </tr>\n    <tr>\n      <th>4</th>\n      <td>1642024</td>\n      <td>Alex Reese</td>\n      <td>Alex</td>\n      <td>1610612755</td>\n      <td>PHI</td>\n      <td>25.0</td>\n      <td>11</td>\n      <td>3</td>\n      <td>8</td>\n      <td>0.273</td>\n      <td>...</td>\n      <td>28</td>\n      <td>29</td>\n      <td>48</td>\n      <td>55</td>\n      <td>51</td>\n      <td>6</td>\n      <td>52</td>\n      <td>26</td>\n      <td>1</td>\n      <td>52</td>\n    </tr>\n    <tr>\n      <th>...</th>\n      <td>...</td>\n      <td>...</td>\n      <td>...</td>\n      <td>...</td>\n      <td>...</td>\n      <td>...</td>\n      <td>...</td>\n      <td>...</td>\n      <td>...</td>\n      <td>...</td>\n      <td>...</td>\n      <td>...</td>\n      <td>...</td>\n      <td>...</td>\n      <td>...</td>\n      <td>...</td>\n      <td>...</td>\n      <td>...</td>\n      <td>...</td>\n      <td>...</td>\n      <td>...</td>\n    </tr>\n    <tr>\n      <th>94</th>\n      <td>1641879</td>\n      <td>Yuri Collins</td>\n      <td>Yuri</td>\n      <td>1610612744</td>\n      <td>GSW</td>\n      <td>24.0</td>\n      <td>2</td>\n      <td>2</td>\n      <td>0</td>\n      <td>1.000</td>\n      <td>...</td>\n      <td>72</td>\n      <td>1</td>\n      <td>29</td>\n      <td>75</td>\n      <td>88</td>\n      <td>42</td>\n      <td>80</td>\n      <td>26</td>\n      <td>1</td>\n      <td>81</td>\n    </tr>\n    <tr>\n      <th>95</th>\n      <td>1642274</td>\n      <td>Yves Missi</td>\n      <td>Yves</td>\n      <td>1610612740</td>\n      <td>NOP</td>\n      <td>20.0</td>\n      <td>67</td>\n      <td>18</td>\n      <td>49</td>\n      <td>0.269</td>\n      <td>...</td>\n      <td>2</td>\n      <td>99</td>\n      <td>90</td>\n      <td>2</td>\n      <td>7</td>\n      <td>97</td>\n      <td>2</td>\n      <td>1</td>\n      <td>1</td>\n      <td>4</td>\n    </tr>\n    <tr>\n      <th>96</th>\n      <td>1642258</td>\n      <td>Zaccharie Risacher</td>\n      <td>Zaccharie</td>\n      <td>1610612737</td>\n      <td>ATL</td>\n      <td>19.0</td>\n      <td>65</td>\n      <td>33</td>\n      <td>32</td>\n      <td>0.508</td>\n      <td>...</td>\n      <td>11</td>\n      <td>96</td>\n      <td>86</td>\n      <td>10</td>\n      <td>2</td>\n      <td>83</td>\n      <td>8</td>\n      <td>11</td>\n      <td>1</td>\n      <td>5</td>\n    </tr>\n    <tr>\n      <th>97</th>\n      <td>1641744</td>\n      <td>Zach Edey</td>\n      <td>Zach</td>\n      <td>1610612763</td>\n      <td>MEM</td>\n      <td>22.0</td>\n      <td>57</td>\n      <td>32</td>\n      <td>25</td>\n      <td>0.561</td>\n      <td>...</td>\n      <td>4</td>\n      <td>92</td>\n      <td>96</td>\n      <td>8</td>\n      <td>11</td>\n      <td>3</td>\n      <td>7</td>\n      <td>3</td>\n      <td>1</td>\n      <td>9</td>\n    </tr>\n    <tr>\n      <th>98</th>\n      <td>1642389</td>\n      <td>Zyon Pullin</td>\n      <td>Zyon</td>\n      <td>1610612763</td>\n      <td>MEM</td>\n      <td>24.0</td>\n      <td>3</td>\n      <td>1</td>\n      <td>2</td>\n      <td>0.333</td>\n      <td>...</td>\n      <td>72</td>\n      <td>1</td>\n      <td>1</td>\n      <td>88</td>\n      <td>92</td>\n      <td>29</td>\n      <td>97</td>\n      <td>26</td>\n      <td>1</td>\n      <td>97</td>\n    </tr>\n  </tbody>\n</table>\n<p>99 rows × 66 columns</p>\n</div>"
     },
     "execution_count": 44,
     "metadata": {},
     "output_type": "execute_result"
    }
   ],
   "source": [],
   "metadata": {
    "collapsed": false,
    "ExecuteTime": {
     "end_time": "2025-03-27T17:44:15.976803Z",
     "start_time": "2025-03-27T17:44:14.975789Z"
    }
   },
   "id": "352cb5b90ae89542"
  }
 ],
 "metadata": {
  "kernelspec": {
   "display_name": "Python 3",
   "language": "python",
   "name": "python3"
  },
  "language_info": {
   "codemirror_mode": {
    "name": "ipython",
    "version": 2
   },
   "file_extension": ".py",
   "mimetype": "text/x-python",
   "name": "python",
   "nbconvert_exporter": "python",
   "pygments_lexer": "ipython2",
   "version": "2.7.6"
  }
 },
 "nbformat": 4,
 "nbformat_minor": 5
}
