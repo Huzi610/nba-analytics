{
 "cells": [
  {
   "cell_type": "code",
   "execution_count": 2,
   "metadata": {
    "tags": []
   },
   "outputs": [],
   "source": [
    "import requests\n",
    "import pandas as pd\n",
    "import tqdm\n",
    "import bs4\n",
    "import json\n",
    "import matplotlib.pyplot as plt\n",
    "from adjustText import adjust_text\n",
    "from pathlib import Path\n",
    "import time"
   ]
  },
  {
   "cell_type": "code",
   "execution_count": 3,
   "metadata": {},
   "outputs": [],
   "source": [
    "from nba_api.stats.endpoints.playbyplayv2 import PlayByPlayV2"
   ]
  },
  {
   "cell_type": "code",
   "execution_count": 4,
   "metadata": {},
   "outputs": [],
   "source": [
    "from nba_api.stats.endpoints.playbyplay import PlayByPlay\n",
    "from nba_api.stats.endpoints.leaguegamefinder import LeagueGameFinder\n",
    "from nba_api.stats.static.players import find_players_by_full_name\n",
    "from nba_api.stats.static.teams import find_teams_by_full_name\n",
    "from nba_api.stats.endpoints.playergamelogs import PlayerGameLogs\n",
    "from nba_api.stats.endpoints.boxscoretraditionalv2 import BoxScoreTraditionalV2\n"
   ]
  },
  {
   "cell_type": "code",
   "execution_count": 5,
   "metadata": {},
   "outputs": [],
   "source": [
    "path = Path('pbp_data/2023-24.csv')\n",
    "data_frame = None\n",
    "if path.exists():\n",
    "    data_frame = pd.read_csv(str(path))\n",
    "    data_frame.loc[:, 'GAME_ID'] = [f\"00{item}\" for item in data_frame.GAME_ID.astype(str)]"
   ]
  },
  {
   "cell_type": "markdown",
   "metadata": {},
   "source": [
    "## Downloading cur Season"
   ]
  },
  {
   "cell_type": "code",
   "execution_count": 17,
   "metadata": {},
   "outputs": [
    {
     "name": "stdout",
     "output_type": "stream",
     "text": [
      "Processing 2022-23\n"
     ]
    },
    {
     "name": "stderr",
     "output_type": "stream",
     "text": [
      "100%|███████████████████████████████████████| 1230/1230 [19:39<00:00,  1.04it/s]\n"
     ]
    }
   ],
   "source": [
    "season = '2022-23'\n",
    "\n",
    "print(f\"Processing {season}\")\n",
    "pbp_dfs = []\n",
    "game_finder = LeagueGameFinder(season_nullable=season, league_id_nullable='00', season_type_nullable='Regular Season')\n",
    "df = game_finder.get_data_frames()[0]\n",
    "game_ids = df.GAME_ID.unique()\n",
    "for game_id in tqdm.tqdm(game_ids):\n",
    "    if data_frame is not None and game_id in data_frame.GAME_ID.tolist():\n",
    "        continue\n",
    "    while True:\n",
    "        try:\n",
    "            pbp_df = PlayByPlayV2(game_id=game_id).get_data_frames()[0]\n",
    "            break\n",
    "        except Exception as e:\n",
    "            print(f\"Error occured: {e}, Game ID: {game_id}, retrying\")\n",
    "            time.sleep(0.1)\n",
    "    pbp_dfs.append(pbp_df)\n",
    "    time.sleep(0.25)\n",
    "full_df = pd.concat([data_frame] + pbp_dfs)\n",
    "\n",
    "full_df = pd.concat([data_frame] + pbp_dfs)\n",
    "\n",
    "full_df.loc[:, \"PCTIMESECONDS\"] = [720 - (int(item.split(\":\")[0]) * 60 + int(item.split(\":\")[1])) for item in full_df.PCTIMESTRING.tolist()]\n",
    "\n",
    "full_df = full_df.fillna({\n",
    "    \"HOMEDESCRIPTION\": \"\",\n",
    "    \"NEUTRALDESCRIPTION\": \"\",\n",
    "    \"VISITORDESCRIPTION\": \"\"\n",
    "})\n",
    "\n",
    "full_df.to_csv(f'pbp_data/{season}.csv', index=False)"
   ]
  },
  {
   "cell_type": "code",
   "execution_count": 7,
   "metadata": {},
   "outputs": [],
   "source": [
    "full_df = pd.concat([data_frame] + pbp_dfs)"
   ]
  },
  {
   "cell_type": "code",
   "execution_count": 8,
   "metadata": {},
   "outputs": [],
   "source": [
    "full_df.loc[:, \"PCTIMESECONDS\"] = [720 - (int(item.split(\":\")[0]) * 60 + int(item.split(\":\")[1])) for item in full_df.PCTIMESTRING.tolist()]\n",
    "\n",
    "full_df = full_df.fillna({\n",
    "    \"HOMEDESCRIPTION\": \"\",\n",
    "    \"NEUTRALDESCRIPTION\": \"\",\n",
    "    \"VISITORDESCRIPTION\": \"\"\n",
    "})"
   ]
  },
  {
   "cell_type": "code",
   "execution_count": 10,
   "metadata": {},
   "outputs": [],
   "source": [
    "full_df.to_csv(f'pbp_data/{season}.csv', index=False)"
   ]
  },
  {
   "cell_type": "code",
   "execution_count": 11,
   "metadata": {},
   "outputs": [],
   "source": [
    "full_df = pd.read_csv(f'pbp_data/{season}.csv')\n",
    "\n",
    "full_df = full_df.fillna({\n",
    "    \"HOMEDESCRIPTION\": \"\",\n",
    "    \"NEUTRALDESCRIPTION\": \"\",\n",
    "    \"VISITORDESCRIPTION\": \"\"\n",
    "})\n",
    "full_df.loc[:, 'GAME_ID'] = [f\"00{item}\" for item in full_df.GAME_ID.astype(str)]"
   ]
  },
  {
   "cell_type": "code",
   "execution_count": 12,
   "metadata": {},
   "outputs": [
    {
     "data": {
      "text/plain": [
       "306"
      ]
     },
     "execution_count": 12,
     "metadata": {},
     "output_type": "execute_result"
    }
   ],
   "source": [
    "len(full_df.GAME_ID.unique())"
   ]
  },
  {
   "cell_type": "markdown",
   "metadata": {},
   "source": [
    "## Finding when players are On/Off"
   ]
  },
  {
   "cell_type": "code",
   "execution_count": 13,
   "metadata": {},
   "outputs": [],
   "source": [
    "full_df = pd.read_csv(f'pbp_data/{season}.csv')\n",
    "\n",
    "full_df = full_df.fillna({\n",
    "    \"HOMEDESCRIPTION\": \"\",\n",
    "    \"NEUTRALDESCRIPTION\": \"\",\n",
    "    \"VISITORDESCRIPTION\": \"\"\n",
    "})\n",
    "full_df.loc[:, 'GAME_ID'] = [f\"00{item}\" for item in full_df.GAME_ID.astype(str)]"
   ]
  },
  {
   "cell_type": "code",
   "execution_count": 14,
   "metadata": {
    "scrolled": true
   },
   "outputs": [],
   "source": [
    "def find_starters_in_period(found_players, period_pbp):\n",
    "    #period_start = single_game.loc[single_game.PERIOD == 2] -> period_pbp\n",
    "    num_subs = len(found_players) - 5\n",
    "    sub_count = 0\n",
    "    subbed_in = []\n",
    "    for i in range(len(period_pbp)):\n",
    "        item = period_pbp.iloc[i]\n",
    "        if item.EVENTMSGTYPE == 8:\n",
    "            player_in = item.PLAYER2_ID\n",
    "            subbed_in.append(player_in)\n",
    "            sub_count += 1\n",
    "        if sub_count == num_subs:\n",
    "            break\n",
    "\n",
    "    return found_players.loc[~found_players.PLAYER_ID.isin(subbed_in)].PLAYER_ID.tolist()\n",
    "\n",
    "\n",
    "def do_work(team_1_players, team_2_players, team_1_id, team_2_id, single_game, item):\n",
    "    #item = single_game.iloc[index]\n",
    "    if (item.EVENTMSGTYPE == 12):\n",
    "        period = item.PERIOD\n",
    "        if period > 4:\n",
    "            start_period = ((4 * 12) + (period-5) * 5) * 600 + 0\n",
    "            end_period = ((4 * 12) + (period-5) * 5) * 600 + 480\n",
    "        else:\n",
    "            start_period = ((period-1) * 12 ) * 600 + 15\n",
    "            end_period = ((period-1) * 12 ) * 600 + 480\n",
    "\n",
    "        # Fetch players at the start of quarter\n",
    "        box_score = BoxScoreTraditionalV2(game_id=item.GAME_ID, start_range=str(start_period), end_range=str(end_period), range_type='2')\n",
    "        players_on = box_score.get_data_frames()[0]\n",
    "        players_on.loc[:, \"SECONDS\"] = [(int(item.split(\":\")[0]) * 60 + int(item.split(\":\")[1])) for item in players_on.MIN.tolist()]\n",
    "\n",
    "        # Split by team\n",
    "        team_1_on = players_on.loc[players_on.TEAM_ID == team_1_id]\n",
    "        team_2_on = players_on.loc[players_on.TEAM_ID == team_2_id]\n",
    "        period_pbp = single_game.loc[single_game.PERIOD == item.PERIOD]\n",
    "\n",
    "        # Check if more than 5 players are found\n",
    "        if len(team_1_on) > 5:\n",
    "            team_1_players.append(find_starters_in_period(team_1_on, period_pbp))\n",
    "        else:\n",
    "            team_1_players.append(team_1_on.PLAYER_ID.tolist())\n",
    "        if len(team_1_on) > 5:\n",
    "            team_2_players.append(find_starters_in_period(team_2_on, period_pbp))\n",
    "        else:\n",
    "            team_2_players.append(team_2_on.PLAYER_ID.tolist())\n",
    "        time.sleep(0.25)\n",
    "        return\n",
    "    cur_team_1 = team_1_players[-1][:]\n",
    "    cur_team_2 = team_2_players[-1][:]\n",
    "    if (item.EVENTMSGTYPE == 8):\n",
    "        player_in = item.PLAYER2_ID\n",
    "        player_out = item.PLAYER1_ID\n",
    "        is_team_1 = item.PLAYER1_TEAM_ID == team_1_id\n",
    "        if is_team_1:\n",
    "            if player_out in cur_team_1:\n",
    "                cur_team_1[cur_team_1.index(player_out)] = player_in\n",
    "        else:\n",
    "            if player_out in cur_team_2:\n",
    "                cur_team_2[cur_team_2.index(player_out)] = player_in\n",
    "    team_1_players.append(cur_team_1)\n",
    "    team_2_players.append(cur_team_2)\n"
   ]
  },
  {
   "cell_type": "code",
   "execution_count": 15,
   "metadata": {},
   "outputs": [],
   "source": [
    "cur_pbp_players = pd.read_csv(f'pbp_data/{season}.csv')\n",
    "cur_pbp_players.loc[:, 'GAME_ID'] = [f\"00{item}\" for item in cur_pbp_players.GAME_ID.astype(str)]"
   ]
  },
  {
   "cell_type": "code",
   "execution_count": null,
   "metadata": {},
   "outputs": [],
   "source": []
  },
  {
   "cell_type": "code",
   "execution_count": 16,
   "metadata": {},
   "outputs": [
    {
     "name": "stdout",
     "output_type": "stream",
     "text": [
      "0/306: 0022301208\n"
     ]
    },
    {
     "ename": "ValueError",
     "evalue": "invalid literal for int() with base 10: '0.000000'",
     "output_type": "error",
     "traceback": [
      "\u001b[0;31m---------------------------------------------------------------------------\u001b[0m",
      "\u001b[0;31mValueError\u001b[0m                                Traceback (most recent call last)",
      "Cell \u001b[0;32mIn[16], line 31\u001b[0m\n\u001b[1;32m     29\u001b[0m \u001b[38;5;66;03m#\"\"\"\u001b[39;00m\n\u001b[1;32m     30\u001b[0m \u001b[38;5;28;01mfor\u001b[39;00m index, item \u001b[38;5;129;01min\u001b[39;00m single_game\u001b[38;5;241m.\u001b[39miterrows():\n\u001b[0;32m---> 31\u001b[0m     \u001b[43mdo_work\u001b[49m\u001b[43m(\u001b[49m\u001b[43mteam_1_players\u001b[49m\u001b[38;5;241;43m=\u001b[39;49m\u001b[43mteam_1_players\u001b[49m\u001b[43m,\u001b[49m\u001b[43m \u001b[49m\u001b[43mteam_2_players\u001b[49m\u001b[38;5;241;43m=\u001b[39;49m\u001b[43mteam_2_players\u001b[49m\u001b[43m,\u001b[49m\u001b[43m \u001b[49m\u001b[43mteam_1_id\u001b[49m\u001b[38;5;241;43m=\u001b[39;49m\u001b[43mteam_1_id\u001b[49m\u001b[43m,\u001b[49m\u001b[43m \u001b[49m\u001b[43mteam_2_id\u001b[49m\u001b[38;5;241;43m=\u001b[39;49m\u001b[43mteam_2_id\u001b[49m\u001b[43m,\u001b[49m\u001b[43m \u001b[49m\u001b[43msingle_game\u001b[49m\u001b[38;5;241;43m=\u001b[39;49m\u001b[43msingle_game\u001b[49m\u001b[43m,\u001b[49m\u001b[43m \u001b[49m\u001b[43mitem\u001b[49m\u001b[38;5;241;43m=\u001b[39;49m\u001b[43mitem\u001b[49m\u001b[43m)\u001b[49m\n\u001b[1;32m     32\u001b[0m \u001b[38;5;66;03m#\"\"\"\u001b[39;00m\n\u001b[1;32m     33\u001b[0m \n\u001b[1;32m     34\u001b[0m \u001b[38;5;66;03m#single_game.apply(lambda item: do_work(team_1_players=team_1_players, team_2_players=team_2_players, team_1_id=team_1_id, team_2_id=team_2_id, single_game=single_game, item=item), axis=1)\u001b[39;00m\n\u001b[1;32m     36\u001b[0m \u001b[38;5;28;01mfor\u001b[39;00m i \u001b[38;5;129;01min\u001b[39;00m \u001b[38;5;28mrange\u001b[39m(\u001b[38;5;28mlen\u001b[39m(team_1_players[\u001b[38;5;241m0\u001b[39m])):\n\u001b[1;32m     37\u001b[0m     \u001b[38;5;66;03m#team_1_dict[f'TEAM_1_PLAYER_{i+1}'] = [item[i] for item in team_1_players]\u001b[39;00m\n",
      "Cell \u001b[0;32mIn[14], line 32\u001b[0m, in \u001b[0;36mdo_work\u001b[0;34m(team_1_players, team_2_players, team_1_id, team_2_id, single_game, item)\u001b[0m\n\u001b[1;32m     30\u001b[0m box_score \u001b[38;5;241m=\u001b[39m BoxScoreTraditionalV2(game_id\u001b[38;5;241m=\u001b[39mitem\u001b[38;5;241m.\u001b[39mGAME_ID, start_range\u001b[38;5;241m=\u001b[39m\u001b[38;5;28mstr\u001b[39m(start_period), end_range\u001b[38;5;241m=\u001b[39m\u001b[38;5;28mstr\u001b[39m(end_period), range_type\u001b[38;5;241m=\u001b[39m\u001b[38;5;124m'\u001b[39m\u001b[38;5;124m2\u001b[39m\u001b[38;5;124m'\u001b[39m)\n\u001b[1;32m     31\u001b[0m players_on \u001b[38;5;241m=\u001b[39m box_score\u001b[38;5;241m.\u001b[39mget_data_frames()[\u001b[38;5;241m0\u001b[39m]\n\u001b[0;32m---> 32\u001b[0m players_on\u001b[38;5;241m.\u001b[39mloc[:, \u001b[38;5;124m\"\u001b[39m\u001b[38;5;124mSECONDS\u001b[39m\u001b[38;5;124m\"\u001b[39m] \u001b[38;5;241m=\u001b[39m [(\u001b[38;5;28mint\u001b[39m(item\u001b[38;5;241m.\u001b[39msplit(\u001b[38;5;124m\"\u001b[39m\u001b[38;5;124m:\u001b[39m\u001b[38;5;124m\"\u001b[39m)[\u001b[38;5;241m0\u001b[39m]) \u001b[38;5;241m*\u001b[39m \u001b[38;5;241m60\u001b[39m \u001b[38;5;241m+\u001b[39m \u001b[38;5;28mint\u001b[39m(item\u001b[38;5;241m.\u001b[39msplit(\u001b[38;5;124m\"\u001b[39m\u001b[38;5;124m:\u001b[39m\u001b[38;5;124m\"\u001b[39m)[\u001b[38;5;241m1\u001b[39m])) \u001b[38;5;28;01mfor\u001b[39;00m item \u001b[38;5;129;01min\u001b[39;00m players_on\u001b[38;5;241m.\u001b[39mMIN\u001b[38;5;241m.\u001b[39mtolist()]\n\u001b[1;32m     34\u001b[0m \u001b[38;5;66;03m# Split by team\u001b[39;00m\n\u001b[1;32m     35\u001b[0m team_1_on \u001b[38;5;241m=\u001b[39m players_on\u001b[38;5;241m.\u001b[39mloc[players_on\u001b[38;5;241m.\u001b[39mTEAM_ID \u001b[38;5;241m==\u001b[39m team_1_id]\n",
      "Cell \u001b[0;32mIn[14], line 32\u001b[0m, in \u001b[0;36m<listcomp>\u001b[0;34m(.0)\u001b[0m\n\u001b[1;32m     30\u001b[0m box_score \u001b[38;5;241m=\u001b[39m BoxScoreTraditionalV2(game_id\u001b[38;5;241m=\u001b[39mitem\u001b[38;5;241m.\u001b[39mGAME_ID, start_range\u001b[38;5;241m=\u001b[39m\u001b[38;5;28mstr\u001b[39m(start_period), end_range\u001b[38;5;241m=\u001b[39m\u001b[38;5;28mstr\u001b[39m(end_period), range_type\u001b[38;5;241m=\u001b[39m\u001b[38;5;124m'\u001b[39m\u001b[38;5;124m2\u001b[39m\u001b[38;5;124m'\u001b[39m)\n\u001b[1;32m     31\u001b[0m players_on \u001b[38;5;241m=\u001b[39m box_score\u001b[38;5;241m.\u001b[39mget_data_frames()[\u001b[38;5;241m0\u001b[39m]\n\u001b[0;32m---> 32\u001b[0m players_on\u001b[38;5;241m.\u001b[39mloc[:, \u001b[38;5;124m\"\u001b[39m\u001b[38;5;124mSECONDS\u001b[39m\u001b[38;5;124m\"\u001b[39m] \u001b[38;5;241m=\u001b[39m [(\u001b[38;5;28;43mint\u001b[39;49m\u001b[43m(\u001b[49m\u001b[43mitem\u001b[49m\u001b[38;5;241;43m.\u001b[39;49m\u001b[43msplit\u001b[49m\u001b[43m(\u001b[49m\u001b[38;5;124;43m\"\u001b[39;49m\u001b[38;5;124;43m:\u001b[39;49m\u001b[38;5;124;43m\"\u001b[39;49m\u001b[43m)\u001b[49m\u001b[43m[\u001b[49m\u001b[38;5;241;43m0\u001b[39;49m\u001b[43m]\u001b[49m\u001b[43m)\u001b[49m \u001b[38;5;241m*\u001b[39m \u001b[38;5;241m60\u001b[39m \u001b[38;5;241m+\u001b[39m \u001b[38;5;28mint\u001b[39m(item\u001b[38;5;241m.\u001b[39msplit(\u001b[38;5;124m\"\u001b[39m\u001b[38;5;124m:\u001b[39m\u001b[38;5;124m\"\u001b[39m)[\u001b[38;5;241m1\u001b[39m])) \u001b[38;5;28;01mfor\u001b[39;00m item \u001b[38;5;129;01min\u001b[39;00m players_on\u001b[38;5;241m.\u001b[39mMIN\u001b[38;5;241m.\u001b[39mtolist()]\n\u001b[1;32m     34\u001b[0m \u001b[38;5;66;03m# Split by team\u001b[39;00m\n\u001b[1;32m     35\u001b[0m team_1_on \u001b[38;5;241m=\u001b[39m players_on\u001b[38;5;241m.\u001b[39mloc[players_on\u001b[38;5;241m.\u001b[39mTEAM_ID \u001b[38;5;241m==\u001b[39m team_1_id]\n",
      "\u001b[0;31mValueError\u001b[0m: invalid literal for int() with base 10: '0.000000'"
     ]
    }
   ],
   "source": [
    "game_finder = LeagueGameFinder(season_nullable='2023-24', league_id_nullable='00', season_type_nullable='Regular Season')\n",
    "game_finder_df = game_finder.get_data_frames()[0]\n",
    "modified_dfs = []\n",
    "#start = time.time()\n",
    "count = 0\n",
    "for index, game_id in enumerate(full_df.GAME_ID.unique()):\n",
    "    print(f\"{index}/{len(full_df.GAME_ID.unique())}: {game_id}\")\n",
    "    #if game_id in cur_pbp_players.GAME_ID.tolist():\n",
    "    #        continue\n",
    "    #if game_id in formatted_df.GAME_ID.unique():\n",
    "    #continue\n",
    "    single_game = full_df.loc[full_df.GAME_ID == game_id]\n",
    "    team_1_players = []\n",
    "\n",
    "    team_2_players = []\n",
    "\n",
    "    teams_playing = game_finder_df.loc[game_finder_df.GAME_ID == single_game.GAME_ID.iloc[0]]\n",
    "\n",
    "    team_1_id = teams_playing.iloc[0].TEAM_ID\n",
    "    team_2_id = teams_playing.iloc[1].TEAM_ID\n",
    "\n",
    "    #for index in range(len(single_game)):\n",
    "    \"\"\"\n",
    "    for index in range(len(single_game)):\n",
    "        item = single_game.iloc[index]\n",
    "        do_work(team_1_players=team_1_players, team_2_players=team_2_players, team_1_id=team_1_id, team_2_id=team_2_id, single_game=single_game, item=item)\n",
    "    \"\"\"\n",
    "    \n",
    "    #\"\"\"\n",
    "    for index, item in single_game.iterrows():\n",
    "        do_work(team_1_players=team_1_players, team_2_players=team_2_players, team_1_id=team_1_id, team_2_id=team_2_id, single_game=single_game, item=item)\n",
    "    #\"\"\"\n",
    "    \n",
    "    #single_game.apply(lambda item: do_work(team_1_players=team_1_players, team_2_players=team_2_players, team_1_id=team_1_id, team_2_id=team_2_id, single_game=single_game, item=item), axis=1)\n",
    "    \n",
    "    for i in range(len(team_1_players[0])):\n",
    "        #team_1_dict[f'TEAM_1_PLAYER_{i+1}'] = [item[i] for item in team_1_players]\n",
    "        single_game.loc[:, f'TEAM_1_PLAYER_{i+1}'] = [item[i] for item in team_1_players]\n",
    "        \n",
    "    for i in range(len(team_1_players[0])):\n",
    "        #team_2_dict[f'TEAM_2_PLAYER_{i+1}'] = [item[i] for item in team_2_players]\n",
    "        single_game.loc[:, f'TEAM_2_PLAYER_{i+1}'] = [item[i] for item in team_2_players]\n",
    "        \n",
    "    modified_dfs.append(single_game)\n",
    "    count += 1\n",
    "#end = time.time()\n",
    "#print(f\"End-Start: {end-start}\")"
   ]
  },
  {
   "cell_type": "code",
   "execution_count": null,
   "metadata": {},
   "outputs": [],
   "source": []
  }
 ],
 "metadata": {
  "kernelspec": {
   "display_name": "Python 3 (ipykernel)",
   "language": "python",
   "name": "python3"
  },
  "language_info": {
   "codemirror_mode": {
    "name": "ipython",
    "version": 3
   },
   "file_extension": ".py",
   "mimetype": "text/x-python",
   "name": "python",
   "nbconvert_exporter": "python",
   "pygments_lexer": "ipython3",
   "version": "3.8.7"
  }
 },
 "nbformat": 4,
 "nbformat_minor": 4
}
